{
 "cells": [
  {
   "cell_type": "code",
   "execution_count": 4,
   "metadata": {},
   "outputs": [],
   "source": [
    "import numpy as np\n",
    "import os\n",
    "import sys\n",
    "import random\n",
    "from scipy.io import wavfile\n",
    "import matplotlib.pyplot as plt\n",
    "\n",
    "from enfify.preprocessing import downsample_ffmpeg, list_files_in_directory, cut_audio \n"
   ]
  },
  {
   "cell_type": "code",
   "execution_count": null,
   "metadata": {},
   "outputs": [],
   "source": [
    "def ffmpeg_filenames_cut(input_dir, output_dir):\n",
    "    try:\n",
    "        # List all files in the directory\n",
    "        files = os.listdir(input_dir)\n",
    "        # Filter out directories, only keep files\n",
    "        raw_files = [f for f in files if os.path.isfile(os.path.join(input_dir, f))]\n",
    "        cut_files = []\n",
    "        files = []\n",
    "\n",
    "        for raw in raw_files:\n",
    "            cut_file = output_dir + '/cut_'+raw\n",
    "            cut_files.append(cut_file)\n",
    "        \n",
    "        for raw in raw_files:\n",
    "            files.append(input_dir + '/' + raw)\n",
    "\n",
    "        return files, cut_files\n",
    "\n",
    "    except FileNotFoundError:\n",
    "        return f\"The directory {input_dir} does not exist.\"\n",
    "    except PermissionError:\n",
    "        return f\"Permission denied to access {input_dir}.\"\n",
    "\n",
    "def cut_audio(input_file, output_file, cut_begin, cut_end):\n",
    "    os.system(f'. /home/$USER/miniforge3/etc/profile.d/conda.sh; conda activate enfify; ffmpeg -i {input_file} -filter_complex \"[0]atrim=end={cut_begin},asetpts=PTS-STARTPTS[a1]; \\\n",
    " [0]atrim=start={cut_end},asetpts=PTS-STARTPTS[a2]; \\\n",
    " [a1][a2]concat=n=2:v=0:a=1[out]\" -map \"[out]\" {output_file}')\n",
    "    \n",
    "\n",
    "def mult_cut_audio(input_file, output_file, cut_begin_1, cut_end_1, cut_begin_2, cut_end_2, cut_begin_3, cut_end_3):\n",
    "    os.system(f'. /home/$USER/miniforge3/etc/profile.d/conda.sh; conda activate enfify; ffmpeg -i {input_file} -filter_complex \"[0]atrim=end={cut_begin_1},asetpts=PTS-STARTPTS[a1]; \\\n",
    " [0]atrim=start={cut_end_1}:end={cut_begin_2},asetpts=PTS-STARTPTS[a2]; \\\n",
    " [0]atrim=start={cut_end_2}:end={cut_begin_3},asetpts=PTS-STARTPTS[a3]; \\\n",
    " [0]atrim=start={cut_end_3},asetpts=PTS-STARTPTS[a4]; \\\n",
    " [a1][a2][a3][a4]concat=n=4:v=0:a=1[out]\" -map \"[out]\" {output_file}')"
   ]
  },
  {
   "cell_type": "code",
   "execution_count": null,
   "metadata": {},
   "outputs": [],
   "source": [
    "input_dir = '/home/leo_dacasi/Dokumente/summerofcode/ENFify/notebooks/Talkbank_data'\n",
    "output_dir = '/home/leo_dacasi/Dokumente/summerofcode/ENFify/notebooks/Talkbank_cut_data'\n",
    "cut_begin = 60\n",
    "cut_end = 120\n",
    "\n",
    "files, cut_files = ffmpeg_filenames_cut(input_dir, output_dir)\n",
    "\n",
    "for i in range(len(files)):\n",
    "\n",
    "    cut_audio(files[i], cut_files[i], cut_begin, cut_end)"
   ]
  },
  {
   "cell_type": "code",
   "execution_count": null,
   "metadata": {},
   "outputs": [],
   "source": [
    "input_dir = '/home/leo_dacasi/Dokumente/summerofcode/ENFify/notebooks/Talkbank_data'\n",
    "output_dir = '/home/leo_dacasi/Dokumente/summerofcode/ENFify/notebooks/Talkbank_cut_data'\n",
    "cut_begin_1 = 60\n",
    "cut_end_1 = 120\n",
    "cut_begin_2 = 240\n",
    "cut_end_2 = 300\n",
    "cut_begin_3 = 420\n",
    "cut_end_3 = 480\n",
    "\n",
    "files, cut_files = ffmpeg_filenames_cut(input_dir, output_dir)\n",
    "\n",
    "for i in range(len(files)):\n",
    "    mult_cut_audio(files[i], cut_files[i], cut_begin_1, cut_end_1, cut_begin_2, cut_end_2, cut_begin_3, cut_end_3)"
   ]
  },
  {
   "cell_type": "code",
   "execution_count": null,
   "metadata": {},
   "outputs": [],
   "source": [
    "input_dir = '/home/leo_dacasi/Dokumente/summerofcode/Enfify_Data_Synced/raw/ENF-WHU-Dataset/reference_enf'\n",
    "output_dir = '/home/leo_dacasi/Dokumente/summerofcode/Enfify_Data_Synced/interim/ENF-WHU-Dataset/one_cut_ref_enf'\n",
    "\n",
    "max_cut = 120\n",
    "max_coord = 360\n",
    "cut_len = [np.random.randint(0, max_cut) for i in range(130)]\n",
    "i_cut = [np.random.randint(150, 360) for i in range(130)]\n",
    "\n",
    "files, cut_files = ffmpeg_filenames_cut(input_dir, output_dir)\n",
    "\n",
    "for i in range(len(files)):\n",
    "    cut_audio(files[i], cut_files[i], i_cut[i], (i_cut[i]+cut_len[i]))"
   ]
  },
  {
   "cell_type": "code",
   "execution_count": null,
   "metadata": {},
   "outputs": [],
   "source": [
    "def cut_out(input_file, output_file, start, end):\n",
    "    os.system(f'. /home/$USER/miniforge3/etc/profile.d/conda.sh; conda activate enfify; ffmpeg -ss {start} -i {input_file} -t {end} -c copy {output_file}')\n",
    "\n",
    "def minute_list_files_in_directory(input_dir, output_dir):\n",
    "    try:\n",
    "        # List all files in the directory\n",
    "        files = os.listdir(input_dir)\n",
    "        # Filter out directories, only keep files\n",
    "        raw_files = [f for f in files if os.path.isfile(os.path.join(input_dir, f))]\n",
    "        down_files = []\n",
    "        files = []\n",
    "\n",
    "        for raw in raw_files:\n",
    "            down_file = output_dir + '/min_'+raw\n",
    "            down_files.append(down_file)\n",
    "        \n",
    "        for raw in raw_files:\n",
    "            files.append(input_dir + '/' + raw)\n",
    "\n",
    "        return files, down_files\n",
    "\n",
    "    except FileNotFoundError:\n",
    "        return f\"The directory {input_dir} does not exist.\"\n",
    "    except PermissionError:\n",
    "        return f\"Permission denied to access {input_dir}.\""
   ]
  },
  {
   "cell_type": "code",
   "execution_count": null,
   "metadata": {},
   "outputs": [],
   "source": [
    "input_dir = '/home/leo_dacasi/Dokumente/summerofcode/Enfify_Data_Synced/raw/ENF-WHU-Dataset/enf_real_world_recordings'\n",
    "output_dir = '/home/leo_dacasi/Dokumente/summerofcode/Enfify_Data_Synced/interim/ENF-WHU-Dataset/1min_noise/1min_noisy'\n",
    "\n",
    "files, min_files =   minute_list_files_in_directory(input_dir, output_dir)\n",
    "\n",
    "for i in range(len(files)):\n",
    "    cut_out(files[i], min_files[i], 10, 60)"
   ]
  },
  {
   "cell_type": "code",
   "execution_count": null,
   "metadata": {},
   "outputs": [],
   "source": [
    "input_dir = '/home/leo_dacasi/Dokumente/summerofcode/Enfify_Data_Synced/interim/ENF-WHU-Dataset/10s_ref/10s_enf_ref'\n",
    "output_dir = '/home/leo_dacasi/Dokumente/summerofcode/Enfify_Data_Synced/interim/ENF-WHU-Dataset/10s_ref/cut_10s_enf_ref'\n",
    "\n",
    "files, cut_files = ffmpeg_filenames_cut(input_dir, output_dir)\n",
    "cut_len = [np.random.randint(1, 3) for i in range(130)]\n",
    "i_cut = [np.random.randint(3, 8) for i in range(130)]\n",
    "\n",
    "for i in range(len(files)):\n",
    "    cut_audio(files[i], cut_files[i], i_cut[i], (i_cut[i]+cut_len[i]))"
   ]
  },
  {
   "cell_type": "code",
   "execution_count": null,
   "metadata": {},
   "outputs": [],
   "source": [
    "input_dir = '/home/leo_dacasi/Dokumente/summerofcode/Enfify_Data_Synced/interim/ENF-WHU-Dataset/1min_ref/1min_enf_ref_data'\n",
    "output_dir = '/home/leo_dacasi/Dokumente/summerofcode/Enfify_Data_Synced/interim/ENF-WHU-Dataset/1min_ref/cut_1min_enf_ref_data'\n",
    "\n",
    "files, cut_files = minute_list_files_in_directory(input_dir, output_dir)\n",
    "cut_len = [np.random.randint(1, 19) for i in range(130)]\n",
    "i_cut = [np.random.randint(20, 41) for i in range(130)]\n",
    "\n",
    "for i in range(len(files)):\n",
    "    cut_audio(files[i], cut_files[i], i_cut[i], (i_cut[i]+cut_len[i]))"
   ]
  },
  {
   "cell_type": "code",
   "execution_count": null,
   "metadata": {},
   "outputs": [],
   "source": [
    "for i in range(len(cut_len)):\n",
    "    print(f'cut coord {i_cut[i]} | cut len {cut_len[i]}')"
   ]
  },
  {
   "cell_type": "code",
   "execution_count": null,
   "metadata": {},
   "outputs": [],
   "source": [
    "input_dir = '/home/leo_dacasi/Dokumente/summerofcode/Enfify_Data_Synced/interim/ENF-WHU-Dataset/1min_noise/1min_noisy'\n",
    "output_dir = '/home/leo_dacasi/Dokumente/summerofcode/Enfify_Data_Synced/interim/ENF-WHU-Dataset/1min_noise/1min_noisy_cut'\n",
    "\n",
    "files, cut_files = ffmpeg_filenames_cut(input_dir, output_dir)\n",
    "cut_len = [np.random.randint(1, 19) for i in range(130)]\n",
    "i_cut = [np.random.randint(20, 41) for i in range(130)]\n",
    "\n",
    "for i in range(len(files)):\n",
    "    cut_audio(files[i], cut_files[i], i_cut[i], (i_cut[i]+cut_len[i]))"
   ]
  },
  {
   "cell_type": "code",
   "execution_count": null,
   "metadata": {},
   "outputs": [],
   "source": [
    "input_dir = '/home/leo_dacasi/Dokumente/summerofcode/Enfify_Data_Synced/interim/ENF-WHU-Dataset/1min_noise/1min_noisy_cut'\n",
    "output_dir = '/home/leo_dacasi/Dokumente/summerofcode/Enfify_Data_Synced/interim/ENF-WHU-Dataset/1min_noise/1min_noisy_down_cut'\n",
    "\n",
    "\n",
    "rawFile_name, downFile_name = list_files_in_directory(input_dir, output_dir)\n",
    "\n",
    "\n",
    "for i in range(len(rawFile_name)):\n",
    "    downsampling(rawFile_name[i], downFile_name[i], fs_down = 1000)"
   ]
  }
 ],
 "metadata": {
  "kernelspec": {
   "display_name": "enfify",
   "language": "python",
   "name": "python3"
  },
  "language_info": {
   "codemirror_mode": {
    "name": "ipython",
    "version": 3
   },
   "file_extension": ".py",
   "mimetype": "text/x-python",
   "name": "python",
   "nbconvert_exporter": "python",
   "pygments_lexer": "ipython3",
   "version": "3.10.14"
  }
 },
 "nbformat": 4,
 "nbformat_minor": 2
}
