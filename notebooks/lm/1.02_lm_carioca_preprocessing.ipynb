{
 "cells": [
  {
   "cell_type": "code",
   "execution_count": 9,
   "metadata": {},
   "outputs": [
    {
     "name": "stdout",
     "output_type": "stream",
     "text": [
      "The autoreload extension is already loaded. To reload it, use:\n",
      "  %reload_ext autoreload\n"
     ]
    }
   ],
   "source": [
    "%load_ext autoreload\n",
    "%autoreload 2"
   ]
  },
  {
   "cell_type": "code",
   "execution_count": 10,
   "metadata": {},
   "outputs": [],
   "source": [
    "import os\n",
    "import re\n",
    "import sys\n",
    "from glob import glob\n",
    "\n",
    "import matplotlib.pyplot as plt\n",
    "import numpy as np\n",
    "import yaml\n",
    "from loguru import logger\n",
    "from scipy.io import wavfile\n",
    "from scipy.signal import get_window\n",
    "from tqdm import tqdm\n",
    "\n",
    "from enfify.config import ENFIFY_DIR, INTERIM_DATA_DIR\n",
    "from enfify.preprocessing import bandpass_filter, downsample_scipy, downsample_ffmpeg"
   ]
  },
  {
   "cell_type": "code",
   "execution_count": 11,
   "metadata": {},
   "outputs": [],
   "source": [
    "# logger.remove()\n",
    "# logger.add(sys.stderr, level=\"ERROR\")"
   ]
  },
  {
   "cell_type": "code",
   "execution_count": 14,
   "metadata": {},
   "outputs": [],
   "source": [
    "def frame_split(sig, window_type, frame_len, frame_shift):\n",
    "    \"\"\"Split the signal into frames.\"\"\"\n",
    "    num_frames = (len(sig) - frame_len + frame_shift) // frame_shift\n",
    "    frames = np.zeros((num_frames, frame_len))\n",
    "\n",
    "    window = get_window(window_type, frame_len)\n",
    "    for i in range(num_frames):\n",
    "        start = i * frame_shift\n",
    "        end = start + frame_len\n",
    "        frames[i] = sig[start:end] * window\n",
    "\n",
    "    return frames\n",
    "\n",
    "def freq_feature_pipeline(sig, sample_freq, config):\n",
    "    # Downsampling\n",
    "    downsample_freq = config[\"downsampling_frequency_per_nominal_enf\"] * config[\"nominal_enf\"]\n",
    "    sig, sample_freq = downsample_ffmpeg(sig, sample_freq, downsample_freq)\n",
    "\n",
    "    # Frame Splitting and Windowing\n",
    "    window_type = config[\"window_type\"]\n",
    "    frame_len = int(config[\"frame_len\"] / 1000 * sample_freq)\n",
    "    frame_shift = int(frame_len * config[\"frame_overlap\"])\n",
    "\n",
    "    frames = frame_split(sig, window_type, frame_len, frame_shift)\n",
    "\n",
    "    # Bandpass Filter\n",
    "    bandpass_config = config[\"bandpass_filter\"]\n",
    "    lowcut = bandpass_config[\"lowcut\"]\n",
    "    highcut = bandpass_config[\"highcut\"]\n",
    "    order = bandpass_config[\"order\"]\n",
    "    frames = bandpass_filter(frames, lowcut, highcut, sample_freq, order)\n",
    "\n",
    "    # Variational Mode Decomposition\n",
    "    # frames = VMD(frames, sample_freq, config)\n",
    "\n",
    "    # Robust Filtering Algorithm\n",
    "    # frames = RFA(frames, sample_freq, config)\n",
    "\n",
    "    # STFT\n",
    "    _amplitudes = np.abs(np.fft.rfft(frames, axis=-1))\n",
    "    _frequencies = np.fft.rfftfreq(frame_len, d=1 / sample_freq)\n",
    "    feature_freqs = _frequencies[np.argmax(_amplitudes, axis=-1)]\n",
    "\n",
    "    return feature_freqs"
   ]
  },
  {
   "cell_type": "code",
   "execution_count": 16,
   "metadata": {},
   "outputs": [
    {
     "data": {
      "image/png": "[encoded data removed]",
      "text/plain": [
       "<Figure size 640x480 with 1 Axes>"
      ]
     },
     "metadata": {},
     "output_type": "display_data"
    }
   ],
   "source": [
    "with open(ENFIFY_DIR/\"config_nature.yml\", \"r\") as f:\n",
    "    config = yaml.safe_load(f)\n",
    "file = INTERIM_DATA_DIR / \"Carioca1/HC01-00-tamp.wav\"\n",
    "\n",
    "sample_freq, sig = wavfile.read(file)\n",
    "features = freq_feature_pipeline(sig, sample_freq, config)\n",
    "\n",
    "# plot frequency time series\n",
    "time = np.arange(len(features)) * config[\"frame_overlap\"] * config[\"frame_len\"] / 1000\n",
    "plt.plot(features)\n",
    "plt.xlabel(\"Frame\")\n",
    "plt.ylabel(\"Frequency (Hz)\")\n",
    "plt.show()"
   ]
  }
 ],
 "metadata": {
  "kernelspec": {
   "display_name": "enfify",
   "language": "python",
   "name": "python3"
  },
  "language_info": {
   "codemirror_mode": {
    "name": "ipython",
    "version": 3
   },
   "file_extension": ".py",
   "mimetype": "text/x-python",
   "name": "python",
   "nbconvert_exporter": "python",
   "pygments_lexer": "ipython3",
   "version": "3.10.14"
  }
 },
 "nbformat": 4,
 "nbformat_minor": 2
}
