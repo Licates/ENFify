{
 "cells": [
  {
   "cell_type": "code",
   "execution_count": 16,
   "metadata": {},
   "outputs": [
    {
     "name": "stdout",
     "output_type": "stream",
     "text": [
      "The autoreload extension is already loaded. To reload it, use:\n",
      "  %reload_ext autoreload\n"
     ]
    }
   ],
   "source": [
    "%load_ext autoreload\n",
    "%autoreload 2"
   ]
  },
  {
   "cell_type": "code",
   "execution_count": 17,
   "metadata": {},
   "outputs": [],
   "source": [
    "import os\n",
    "import re\n",
    "import sys\n",
    "from glob import glob\n",
    "\n",
    "import matplotlib.pyplot as plt\n",
    "import numpy as np\n",
    "import yaml\n",
    "from loguru import logger\n",
    "from scipy.io import wavfile\n",
    "from tqdm import tqdm\n",
    "\n",
    "from enfify.config import ENFIFY_DIR, INTERIM_DATA_DIR, PROCESSED_DATA_DIR\n",
    "from enfify.pipeline import freq_feature_pipeline"
   ]
  },
  {
   "cell_type": "code",
   "execution_count": null,
   "metadata": {},
   "outputs": [],
   "source": [
    "logger.remove()\n",
    "logger.add(sys.stderr, level=\"ERROR\")"
   ]
  },
  {
   "cell_type": "code",
   "execution_count": 18,
   "metadata": {},
   "outputs": [
    {
     "name": "stderr",
     "output_type": "stream",
     "text": [
      "  0%|          | 0/1000 [00:00<?, ?it/s]"
     ]
    },
    {
     "name": "stdout",
     "output_type": "stream",
     "text": [
      "\u001b[32m2024-08-26 00:45:36.591\u001b[0m | \u001b[33m\u001b[1mWARNING \u001b[0m | \u001b[36menfify.preprocessing\u001b[0m:\u001b[36mdownsample_scipy\u001b[0m:\u001b[36m47\u001b[0m - \u001b[33m\u001b[1mThe target sampling rate is not an integer multiple of the current sampling rate. Resampling is used, which does not have an integrated antialiasing filter. Applying a lowpass filter.\u001b[0m\n"
     ]
    },
    {
     "name": "stderr",
     "output_type": "stream",
     "text": [
      "  0%|          | 2/1000 [00:00<01:23, 11.96it/s]"
     ]
    },
    {
     "name": "stdout",
     "output_type": "stream",
     "text": [
      "\u001b[32m2024-08-26 00:45:36.677\u001b[0m | \u001b[33m\u001b[1mWARNING \u001b[0m | \u001b[36menfify.preprocessing\u001b[0m:\u001b[36mdownsample_scipy\u001b[0m:\u001b[36m47\u001b[0m - \u001b[33m\u001b[1mThe target sampling rate is not an integer multiple of the current sampling rate. Resampling is used, which does not have an integrated antialiasing filter. Applying a lowpass filter.\u001b[0m\n",
      "\u001b[32m2024-08-26 00:45:36.763\u001b[0m | \u001b[33m\u001b[1mWARNING \u001b[0m | \u001b[36menfify.preprocessing\u001b[0m:\u001b[36mdownsample_scipy\u001b[0m:\u001b[36m47\u001b[0m - \u001b[33m\u001b[1mThe target sampling rate is not an integer multiple of the current sampling rate. Resampling is used, which does not have an integrated antialiasing filter. Applying a lowpass filter.\u001b[0m\n"
     ]
    },
    {
     "name": "stderr",
     "output_type": "stream",
     "text": [
      "  0%|          | 4/1000 [00:00<01:18, 12.77it/s]"
     ]
    },
    {
     "name": "stdout",
     "output_type": "stream",
     "text": [
      "\u001b[32m2024-08-26 00:45:36.830\u001b[0m | \u001b[33m\u001b[1mWARNING \u001b[0m | \u001b[36menfify.preprocessing\u001b[0m:\u001b[36mdownsample_scipy\u001b[0m:\u001b[36m47\u001b[0m - \u001b[33m\u001b[1mThe target sampling rate is not an integer multiple of the current sampling rate. Resampling is used, which does not have an integrated antialiasing filter. Applying a lowpass filter.\u001b[0m\n"
     ]
    },
    {
     "name": "stderr",
     "output_type": "stream",
     "text": [
      "  1%|          | 6/1000 [00:00<01:16, 12.98it/s]"
     ]
    },
    {
     "name": "stdout",
     "output_type": "stream",
     "text": [
      "\u001b[32m2024-08-26 00:45:36.911\u001b[0m | \u001b[33m\u001b[1mWARNING \u001b[0m | \u001b[36menfify.preprocessing\u001b[0m:\u001b[36mdownsample_scipy\u001b[0m:\u001b[36m47\u001b[0m - \u001b[33m\u001b[1mThe target sampling rate is not an integer multiple of the current sampling rate. Resampling is used, which does not have an integrated antialiasing filter. Applying a lowpass filter.\u001b[0m\n",
      "\u001b[32m2024-08-26 00:45:36.995\u001b[0m | \u001b[33m\u001b[1mWARNING \u001b[0m | \u001b[36menfify.preprocessing\u001b[0m:\u001b[36mdownsample_scipy\u001b[0m:\u001b[36m47\u001b[0m - \u001b[33m\u001b[1mThe target sampling rate is not an integer multiple of the current sampling rate. Resampling is used, which does not have an integrated antialiasing filter. Applying a lowpass filter.\u001b[0m\n"
     ]
    },
    {
     "name": "stderr",
     "output_type": "stream",
     "text": [
      "  1%|          | 6/1000 [00:00<01:16, 12.98it/s]"
     ]
    },
    {
     "name": "stdout",
     "output_type": "stream",
     "text": [
      "\u001b[32m2024-08-26 00:45:37.064\u001b[0m | \u001b[33m\u001b[1mWARNING \u001b[0m | \u001b[36menfify.preprocessing\u001b[0m:\u001b[36mdownsample_scipy\u001b[0m:\u001b[36m47\u001b[0m - \u001b[33m\u001b[1mThe target sampling rate is not an integer multiple of the current sampling rate. Resampling is used, which does not have an integrated antialiasing filter. Applying a lowpass filter.\u001b[0m\n"
     ]
    },
    {
     "name": "stderr",
     "output_type": "stream",
     "text": [
      "  1%|          | 8/1000 [00:00<01:18, 12.57it/s]"
     ]
    },
    {
     "name": "stdout",
     "output_type": "stream",
     "text": [
      "\u001b[32m2024-08-26 00:45:37.147\u001b[0m | \u001b[33m\u001b[1mWARNING \u001b[0m | \u001b[36menfify.preprocessing\u001b[0m:\u001b[36mdownsample_scipy\u001b[0m:\u001b[36m47\u001b[0m - \u001b[33m\u001b[1mThe target sampling rate is not an integer multiple of the current sampling rate. Resampling is used, which does not have an integrated antialiasing filter. Applying a lowpass filter.\u001b[0m\n",
      "\u001b[32m2024-08-26 00:45:37.232\u001b[0m | \u001b[33m\u001b[1mWARNING \u001b[0m | \u001b[36menfify.preprocessing\u001b[0m:\u001b[36mdownsample_scipy\u001b[0m:\u001b[36m47\u001b[0m - \u001b[33m\u001b[1mThe target sampling rate is not an integer multiple of the current sampling rate. Resampling is used, which does not have an integrated antialiasing filter. Applying a lowpass filter.\u001b[0m\n"
     ]
    },
    {
     "name": "stderr",
     "output_type": "stream",
     "text": [
      "  1%|          | 8/1000 [00:00<01:18, 12.57it/s]"
     ]
    },
    {
     "name": "stdout",
     "output_type": "stream",
     "text": [
      "\u001b[32m2024-08-26 00:45:37.310\u001b[0m | \u001b[33m\u001b[1mWARNING \u001b[0m | \u001b[36menfify.preprocessing\u001b[0m:\u001b[36mdownsample_scipy\u001b[0m:\u001b[36m47\u001b[0m - \u001b[33m\u001b[1mThe target sampling rate is not an integer multiple of the current sampling rate. Resampling is used, which does not have an integrated antialiasing filter. Applying a lowpass filter.\u001b[0m\n"
     ]
    },
    {
     "name": "stderr",
     "output_type": "stream",
     "text": [
      "  1%|          | 12/1000 [00:00<01:17, 12.70it/s]"
     ]
    },
    {
     "name": "stdout",
     "output_type": "stream",
     "text": [
      "\u001b[32m2024-08-26 00:45:37.398\u001b[0m | \u001b[33m\u001b[1mWARNING \u001b[0m | \u001b[36menfify.preprocessing\u001b[0m:\u001b[36mdownsample_scipy\u001b[0m:\u001b[36m47\u001b[0m - \u001b[33m\u001b[1mThe target sampling rate is not an integer multiple of the current sampling rate. Resampling is used, which does not have an integrated antialiasing filter. Applying a lowpass filter.\u001b[0m\n",
      "\u001b[32m2024-08-26 00:45:37.476\u001b[0m | \u001b[33m\u001b[1mWARNING \u001b[0m | \u001b[36menfify.preprocessing\u001b[0m:\u001b[36mdownsample_scipy\u001b[0m:\u001b[36m47\u001b[0m - \u001b[33m\u001b[1mThe target sampling rate is not an integer multiple of the current sampling rate. Resampling is used, which does not have an integrated antialiasing filter. Applying a lowpass filter.\u001b[0m\n"
     ]
    },
    {
     "name": "stderr",
     "output_type": "stream",
     "text": [
      "  1%|          | 12/1000 [00:00<01:17, 12.70it/s]"
     ]
    },
    {
     "name": "stdout",
     "output_type": "stream",
     "text": [
      "\u001b[32m2024-08-26 00:45:37.547\u001b[0m | \u001b[33m\u001b[1mWARNING \u001b[0m | \u001b[36menfify.preprocessing\u001b[0m:\u001b[36mdownsample_scipy\u001b[0m:\u001b[36m47\u001b[0m - \u001b[33m\u001b[1mThe target sampling rate is not an integer multiple of the current sampling rate. Resampling is used, which does not have an integrated antialiasing filter. Applying a lowpass filter.\u001b[0m\n"
     ]
    },
    {
     "name": "stderr",
     "output_type": "stream",
     "text": [
      "  1%|▏         | 14/1000 [00:01<01:15, 13.04it/s]"
     ]
    },
    {
     "name": "stdout",
     "output_type": "stream",
     "text": [
      "\u001b[32m2024-08-26 00:45:37.626\u001b[0m | \u001b[33m\u001b[1mWARNING \u001b[0m | \u001b[36menfify.preprocessing\u001b[0m:\u001b[36mdownsample_scipy\u001b[0m:\u001b[36m47\u001b[0m - \u001b[33m\u001b[1mThe target sampling rate is not an integer multiple of the current sampling rate. Resampling is used, which does not have an integrated antialiasing filter. Applying a lowpass filter.\u001b[0m\n",
      "\u001b[32m2024-08-26 00:45:37.688\u001b[0m | \u001b[33m\u001b[1mWARNING \u001b[0m | \u001b[36menfify.preprocessing\u001b[0m:\u001b[36mdownsample_scipy\u001b[0m:\u001b[36m47\u001b[0m - \u001b[33m\u001b[1mThe target sampling rate is not an integer multiple of the current sampling rate. Resampling is used, which does not have an integrated antialiasing filter. Applying a lowpass filter.\u001b[0m\n"
     ]
    },
    {
     "name": "stderr",
     "output_type": "stream",
     "text": [
      "  2%|▏         | 16/1000 [00:01<01:10, 13.96it/s]"
     ]
    },
    {
     "name": "stdout",
     "output_type": "stream",
     "text": [
      "\u001b[32m2024-08-26 00:45:37.764\u001b[0m | \u001b[33m\u001b[1mWARNING \u001b[0m | \u001b[36menfify.preprocessing\u001b[0m:\u001b[36mdownsample_scipy\u001b[0m:\u001b[36m47\u001b[0m - \u001b[33m\u001b[1mThe target sampling rate is not an integer multiple of the current sampling rate. Resampling is used, which does not have an integrated antialiasing filter. Applying a lowpass filter.\u001b[0m\n",
      "\u001b[32m2024-08-26 00:45:37.804\u001b[0m | \u001b[33m\u001b[1mWARNING \u001b[0m | \u001b[36menfify.preprocessing\u001b[0m:\u001b[36mdownsample_scipy\u001b[0m:\u001b[36m47\u001b[0m - \u001b[33m\u001b[1mThe target sampling rate is not an integer multiple of the current sampling rate. Resampling is used, which does not have an integrated antialiasing filter. Applying a lowpass filter.\u001b[0m\n"
     ]
    },
    {
     "name": "stderr",
     "output_type": "stream",
     "text": [
      "  2%|▏         | 18/1000 [00:01<01:04, 15.28it/s]"
     ]
    },
    {
     "name": "stdout",
     "output_type": "stream",
     "text": [
      "\u001b[32m2024-08-26 00:45:37.845\u001b[0m | \u001b[33m\u001b[1mWARNING \u001b[0m | \u001b[36menfify.preprocessing\u001b[0m:\u001b[36mdownsample_scipy\u001b[0m:\u001b[36m47\u001b[0m - \u001b[33m\u001b[1mThe target sampling rate is not an integer multiple of the current sampling rate. Resampling is used, which does not have an integrated antialiasing filter. Applying a lowpass filter.\u001b[0m\n",
      "\u001b[32m2024-08-26 00:45:37.922\u001b[0m | \u001b[33m\u001b[1mWARNING \u001b[0m | \u001b[36menfify.preprocessing\u001b[0m:\u001b[36mdownsample_scipy\u001b[0m:\u001b[36m47\u001b[0m - \u001b[33m\u001b[1mThe target sampling rate is not an integer multiple of the current sampling rate. Resampling is used, which does not have an integrated antialiasing filter. Applying a lowpass filter.\u001b[0m\n"
     ]
    },
    {
     "name": "stderr",
     "output_type": "stream",
     "text": [
      "  2%|▏         | 20/1000 [00:01<01:08, 14.38it/s]"
     ]
    },
    {
     "name": "stdout",
     "output_type": "stream",
     "text": [
      "\u001b[32m2024-08-26 00:45:38.000\u001b[0m | \u001b[33m\u001b[1mWARNING \u001b[0m | \u001b[36menfify.preprocessing\u001b[0m:\u001b[36mdownsample_scipy\u001b[0m:\u001b[36m47\u001b[0m - \u001b[33m\u001b[1mThe target sampling rate is not an integer multiple of the current sampling rate. Resampling is used, which does not have an integrated antialiasing filter. Applying a lowpass filter.\u001b[0m\n"
     ]
    },
    {
     "name": "stderr",
     "output_type": "stream",
     "text": [
      "  2%|▏         | 20/1000 [00:01<01:08, 14.38it/s]"
     ]
    },
    {
     "name": "stdout",
     "output_type": "stream",
     "text": [
      "\u001b[32m2024-08-26 00:45:38.076\u001b[0m | \u001b[33m\u001b[1mWARNING \u001b[0m | \u001b[36menfify.preprocessing\u001b[0m:\u001b[36mdownsample_scipy\u001b[0m:\u001b[36m47\u001b[0m - \u001b[33m\u001b[1mThe target sampling rate is not an integer multiple of the current sampling rate. Resampling is used, which does not have an integrated antialiasing filter. Applying a lowpass filter.\u001b[0m\n",
      "\u001b[32m2024-08-26 00:45:38.166\u001b[0m | \u001b[33m\u001b[1mWARNING \u001b[0m | \u001b[36menfify.preprocessing\u001b[0m:\u001b[36mdownsample_scipy\u001b[0m:\u001b[36m47\u001b[0m - \u001b[33m\u001b[1mThe target sampling rate is not an integer multiple of the current sampling rate. Resampling is used, which does not have an integrated antialiasing filter. Applying a lowpass filter.\u001b[0m\n"
     ]
    },
    {
     "name": "stderr",
     "output_type": "stream",
     "text": [
      "  2%|▏         | 22/1000 [00:01<01:13, 13.28it/s]"
     ]
    },
    {
     "name": "stdout",
     "output_type": "stream",
     "text": [
      "\u001b[32m2024-08-26 00:45:38.248\u001b[0m | \u001b[33m\u001b[1mWARNING \u001b[0m | \u001b[36menfify.preprocessing\u001b[0m:\u001b[36mdownsample_scipy\u001b[0m:\u001b[36m47\u001b[0m - \u001b[33m\u001b[1mThe target sampling rate is not an integer multiple of the current sampling rate. Resampling is used, which does not have an integrated antialiasing filter. Applying a lowpass filter.\u001b[0m\n"
     ]
    },
    {
     "name": "stderr",
     "output_type": "stream",
     "text": [
      "  3%|▎         | 26/1000 [00:01<01:03, 15.29it/s]"
     ]
    },
    {
     "name": "stdout",
     "output_type": "stream",
     "text": [
      "\u001b[32m2024-08-26 00:45:38.302\u001b[0m | \u001b[33m\u001b[1mWARNING \u001b[0m | \u001b[36menfify.preprocessing\u001b[0m:\u001b[36mdownsample_scipy\u001b[0m:\u001b[36m47\u001b[0m - \u001b[33m\u001b[1mThe target sampling rate is not an integer multiple of the current sampling rate. Resampling is used, which does not have an integrated antialiasing filter. Applying a lowpass filter.\u001b[0m\n",
      "\u001b[32m2024-08-26 00:45:38.358\u001b[0m | \u001b[33m\u001b[1mWARNING \u001b[0m | \u001b[36menfify.preprocessing\u001b[0m:\u001b[36mdownsample_scipy\u001b[0m:\u001b[36m47\u001b[0m - \u001b[33m\u001b[1mThe target sampling rate is not an integer multiple of the current sampling rate. Resampling is used, which does not have an integrated antialiasing filter. Applying a lowpass filter.\u001b[0m\n",
      "\u001b[32m2024-08-26 00:45:38.408\u001b[0m | \u001b[33m\u001b[1mWARNING \u001b[0m | \u001b[36menfify.preprocessing\u001b[0m:\u001b[36mdownsample_scipy\u001b[0m:\u001b[36m47\u001b[0m - \u001b[33m\u001b[1mThe target sampling rate is not an integer multiple of the current sampling rate. Resampling is used, which does not have an integrated antialiasing filter. Applying a lowpass filter.\u001b[0m\n"
     ]
    },
    {
     "name": "stderr",
     "output_type": "stream",
     "text": [
      "  3%|▎         | 26/1000 [00:01<01:03, 15.29it/s]"
     ]
    },
    {
     "name": "stdout",
     "output_type": "stream",
     "text": [
      "\u001b[32m2024-08-26 00:45:38.475\u001b[0m | \u001b[33m\u001b[1mWARNING \u001b[0m | \u001b[36menfify.preprocessing\u001b[0m:\u001b[36mdownsample_scipy\u001b[0m:\u001b[36m47\u001b[0m - \u001b[33m\u001b[1mThe target sampling rate is not an integer multiple of the current sampling rate. Resampling is used, which does not have an integrated antialiasing filter. Applying a lowpass filter.\u001b[0m\n"
     ]
    },
    {
     "name": "stderr",
     "output_type": "stream",
     "text": [
      "  3%|▎         | 28/1000 [00:02<01:10, 13.77it/s]"
     ]
    },
    {
     "name": "stdout",
     "output_type": "stream",
     "text": [
      "\u001b[32m2024-08-26 00:45:38.571\u001b[0m | \u001b[33m\u001b[1mWARNING \u001b[0m | \u001b[36menfify.preprocessing\u001b[0m:\u001b[36mdownsample_scipy\u001b[0m:\u001b[36m47\u001b[0m - \u001b[33m\u001b[1mThe target sampling rate is not an integer multiple of the current sampling rate. Resampling is used, which does not have an integrated antialiasing filter. Applying a lowpass filter.\u001b[0m\n",
      "\u001b[32m2024-08-26 00:45:38.654\u001b[0m | \u001b[33m\u001b[1mWARNING \u001b[0m | \u001b[36menfify.preprocessing\u001b[0m:\u001b[36mdownsample_scipy\u001b[0m:\u001b[36m47\u001b[0m - \u001b[33m\u001b[1mThe target sampling rate is not an integer multiple of the current sampling rate. Resampling is used, which does not have an integrated antialiasing filter. Applying a lowpass filter.\u001b[0m\n"
     ]
    },
    {
     "name": "stderr",
     "output_type": "stream",
     "text": [
      "  3%|▎         | 28/1000 [00:02<01:10, 13.77it/s]"
     ]
    },
    {
     "name": "stdout",
     "output_type": "stream",
     "text": [
      "\u001b[32m2024-08-26 00:45:38.734\u001b[0m | \u001b[33m\u001b[1mWARNING \u001b[0m | \u001b[36menfify.preprocessing\u001b[0m:\u001b[36mdownsample_scipy\u001b[0m:\u001b[36m47\u001b[0m - \u001b[33m\u001b[1mThe target sampling rate is not an integer multiple of the current sampling rate. Resampling is used, which does not have an integrated antialiasing filter. Applying a lowpass filter.\u001b[0m\n"
     ]
    },
    {
     "name": "stderr",
     "output_type": "stream",
     "text": [
      "  3%|▎         | 32/1000 [00:02<01:09, 13.99it/s]"
     ]
    },
    {
     "name": "stdout",
     "output_type": "stream",
     "text": [
      "\u001b[32m2024-08-26 00:45:38.827\u001b[0m | \u001b[33m\u001b[1mWARNING \u001b[0m | \u001b[36menfify.preprocessing\u001b[0m:\u001b[36mdownsample_scipy\u001b[0m:\u001b[36m47\u001b[0m - \u001b[33m\u001b[1mThe target sampling rate is not an integer multiple of the current sampling rate. Resampling is used, which does not have an integrated antialiasing filter. Applying a lowpass filter.\u001b[0m\n",
      "\u001b[32m2024-08-26 00:45:38.891\u001b[0m | \u001b[33m\u001b[1mWARNING \u001b[0m | \u001b[36menfify.preprocessing\u001b[0m:\u001b[36mdownsample_scipy\u001b[0m:\u001b[36m47\u001b[0m - \u001b[33m\u001b[1mThe target sampling rate is not an integer multiple of the current sampling rate. Resampling is used, which does not have an integrated antialiasing filter. Applying a lowpass filter.\u001b[0m\n",
      "\u001b[32m2024-08-26 00:45:38.936\u001b[0m | \u001b[33m\u001b[1mWARNING \u001b[0m | \u001b[36menfify.preprocessing\u001b[0m:\u001b[36mdownsample_scipy\u001b[0m:\u001b[36m47\u001b[0m - \u001b[33m\u001b[1mThe target sampling rate is not an integer multiple of the current sampling rate. Resampling is used, which does not have an integrated antialiasing filter. Applying a lowpass filter.\u001b[0m\n"
     ]
    },
    {
     "name": "stderr",
     "output_type": "stream",
     "text": [
      "  3%|▎         | 34/1000 [00:02<01:06, 14.62it/s]"
     ]
    },
    {
     "name": "stdout",
     "output_type": "stream",
     "text": [
      "\u001b[32m2024-08-26 00:45:38.988\u001b[0m | \u001b[33m\u001b[1mWARNING \u001b[0m | \u001b[36menfify.preprocessing\u001b[0m:\u001b[36mdownsample_scipy\u001b[0m:\u001b[36m47\u001b[0m - \u001b[33m\u001b[1mThe target sampling rate is not an integer multiple of the current sampling rate. Resampling is used, which does not have an integrated antialiasing filter. Applying a lowpass filter.\u001b[0m\n"
     ]
    },
    {
     "name": "stderr",
     "output_type": "stream",
     "text": [
      "  4%|▎         | 36/1000 [00:02<01:09, 13.91it/s]"
     ]
    },
    {
     "name": "stdout",
     "output_type": "stream",
     "text": [
      "\u001b[32m2024-08-26 00:45:39.071\u001b[0m | \u001b[33m\u001b[1mWARNING \u001b[0m | \u001b[36menfify.preprocessing\u001b[0m:\u001b[36mdownsample_scipy\u001b[0m:\u001b[36m47\u001b[0m - \u001b[33m\u001b[1mThe target sampling rate is not an integer multiple of the current sampling rate. Resampling is used, which does not have an integrated antialiasing filter. Applying a lowpass filter.\u001b[0m\n",
      "\u001b[32m2024-08-26 00:45:39.154\u001b[0m | \u001b[33m\u001b[1mWARNING \u001b[0m | \u001b[36menfify.preprocessing\u001b[0m:\u001b[36mdownsample_scipy\u001b[0m:\u001b[36m47\u001b[0m - \u001b[33m\u001b[1mThe target sampling rate is not an integer multiple of the current sampling rate. Resampling is used, which does not have an integrated antialiasing filter. Applying a lowpass filter.\u001b[0m\n"
     ]
    },
    {
     "name": "stderr",
     "output_type": "stream",
     "text": [
      "  4%|▎         | 36/1000 [00:02<01:09, 13.91it/s]"
     ]
    },
    {
     "name": "stdout",
     "output_type": "stream",
     "text": [
      "\u001b[32m2024-08-26 00:45:39.227\u001b[0m | \u001b[33m\u001b[1mWARNING \u001b[0m | \u001b[36menfify.preprocessing\u001b[0m:\u001b[36mdownsample_scipy\u001b[0m:\u001b[36m47\u001b[0m - \u001b[33m\u001b[1mThe target sampling rate is not an integer multiple of the current sampling rate. Resampling is used, which does not have an integrated antialiasing filter. Applying a lowpass filter.\u001b[0m\n"
     ]
    },
    {
     "name": "stderr",
     "output_type": "stream",
     "text": [
      "  4%|▍         | 38/1000 [00:02<01:07, 14.30it/s]"
     ]
    },
    {
     "name": "stdout",
     "output_type": "stream",
     "text": [
      "\u001b[32m2024-08-26 00:45:39.306\u001b[0m | \u001b[33m\u001b[1mWARNING \u001b[0m | \u001b[36menfify.preprocessing\u001b[0m:\u001b[36mdownsample_scipy\u001b[0m:\u001b[36m47\u001b[0m - \u001b[33m\u001b[1mThe target sampling rate is not an integer multiple of the current sampling rate. Resampling is used, which does not have an integrated antialiasing filter. Applying a lowpass filter.\u001b[0m\n",
      "\u001b[32m2024-08-26 00:45:39.350\u001b[0m | \u001b[33m\u001b[1mWARNING \u001b[0m | \u001b[36menfify.preprocessing\u001b[0m:\u001b[36mdownsample_scipy\u001b[0m:\u001b[36m47\u001b[0m - \u001b[33m\u001b[1mThe target sampling rate is not an integer multiple of the current sampling rate. Resampling is used, which does not have an integrated antialiasing filter. Applying a lowpass filter.\u001b[0m\n",
      "\u001b[32m2024-08-26 00:45:39.387\u001b[0m | \u001b[33m\u001b[1mWARNING \u001b[0m | \u001b[36menfify.preprocessing\u001b[0m:\u001b[36mdownsample_scipy\u001b[0m:\u001b[36m47\u001b[0m - \u001b[33m\u001b[1mThe target sampling rate is not an integer multiple of the current sampling rate. Resampling is used, which does not have an integrated antialiasing filter. Applying a lowpass filter.\u001b[0m\n"
     ]
    },
    {
     "name": "stderr",
     "output_type": "stream",
     "text": [
      "  4%|▍         | 40/1000 [00:02<01:01, 15.61it/s]"
     ]
    },
    {
     "name": "stdout",
     "output_type": "stream",
     "text": [
      "\u001b[32m2024-08-26 00:45:39.455\u001b[0m | \u001b[33m\u001b[1mWARNING \u001b[0m | \u001b[36menfify.preprocessing\u001b[0m:\u001b[36mdownsample_scipy\u001b[0m:\u001b[36m47\u001b[0m - \u001b[33m\u001b[1mThe target sampling rate is not an integer multiple of the current sampling rate. Resampling is used, which does not have an integrated antialiasing filter. Applying a lowpass filter.\u001b[0m\n"
     ]
    },
    {
     "name": "stderr",
     "output_type": "stream",
     "text": [
      "  4%|▍         | 42/1000 [00:03<01:05, 14.64it/s]"
     ]
    },
    {
     "name": "stdout",
     "output_type": "stream",
     "text": [
      "\u001b[32m2024-08-26 00:45:39.536\u001b[0m | \u001b[33m\u001b[1mWARNING \u001b[0m | \u001b[36menfify.preprocessing\u001b[0m:\u001b[36mdownsample_scipy\u001b[0m:\u001b[36m47\u001b[0m - \u001b[33m\u001b[1mThe target sampling rate is not an integer multiple of the current sampling rate. Resampling is used, which does not have an integrated antialiasing filter. Applying a lowpass filter.\u001b[0m\n",
      "\u001b[32m2024-08-26 00:45:39.613\u001b[0m | \u001b[33m\u001b[1mWARNING \u001b[0m | \u001b[36menfify.preprocessing\u001b[0m:\u001b[36mdownsample_scipy\u001b[0m:\u001b[36m47\u001b[0m - \u001b[33m\u001b[1mThe target sampling rate is not an integer multiple of the current sampling rate. Resampling is used, which does not have an integrated antialiasing filter. Applying a lowpass filter.\u001b[0m\n"
     ]
    },
    {
     "name": "stderr",
     "output_type": "stream",
     "text": [
      "  4%|▍         | 44/1000 [00:03<01:08, 13.95it/s]"
     ]
    },
    {
     "name": "stdout",
     "output_type": "stream",
     "text": [
      "\u001b[32m2024-08-26 00:45:39.691\u001b[0m | \u001b[33m\u001b[1mWARNING \u001b[0m | \u001b[36menfify.preprocessing\u001b[0m:\u001b[36mdownsample_scipy\u001b[0m:\u001b[36m47\u001b[0m - \u001b[33m\u001b[1mThe target sampling rate is not an integer multiple of the current sampling rate. Resampling is used, which does not have an integrated antialiasing filter. Applying a lowpass filter.\u001b[0m\n"
     ]
    },
    {
     "name": "stderr",
     "output_type": "stream",
     "text": [
      "  5%|▍         | 46/1000 [00:03<01:07, 14.08it/s]"
     ]
    },
    {
     "name": "stdout",
     "output_type": "stream",
     "text": [
      "\u001b[32m2024-08-26 00:45:39.771\u001b[0m | \u001b[33m\u001b[1mWARNING \u001b[0m | \u001b[36menfify.preprocessing\u001b[0m:\u001b[36mdownsample_scipy\u001b[0m:\u001b[36m47\u001b[0m - \u001b[33m\u001b[1mThe target sampling rate is not an integer multiple of the current sampling rate. Resampling is used, which does not have an integrated antialiasing filter. Applying a lowpass filter.\u001b[0m\n",
      "\u001b[32m2024-08-26 00:45:39.845\u001b[0m | \u001b[33m\u001b[1mWARNING \u001b[0m | \u001b[36menfify.preprocessing\u001b[0m:\u001b[36mdownsample_scipy\u001b[0m:\u001b[36m47\u001b[0m - \u001b[33m\u001b[1mThe target sampling rate is not an integer multiple of the current sampling rate. Resampling is used, which does not have an integrated antialiasing filter. Applying a lowpass filter.\u001b[0m\n"
     ]
    },
    {
     "name": "stderr",
     "output_type": "stream",
     "text": [
      "  5%|▍         | 46/1000 [00:03<01:07, 14.08it/s]"
     ]
    },
    {
     "name": "stdout",
     "output_type": "stream",
     "text": [
      "\u001b[32m2024-08-26 00:45:39.911\u001b[0m | \u001b[33m\u001b[1mWARNING \u001b[0m | \u001b[36menfify.preprocessing\u001b[0m:\u001b[36mdownsample_scipy\u001b[0m:\u001b[36m47\u001b[0m - \u001b[33m\u001b[1mThe target sampling rate is not an integer multiple of the current sampling rate. Resampling is used, which does not have an integrated antialiasing filter. Applying a lowpass filter.\u001b[0m\n"
     ]
    },
    {
     "name": "stderr",
     "output_type": "stream",
     "text": [
      "  5%|▍         | 48/1000 [00:03<01:11, 13.38it/s]"
     ]
    },
    {
     "name": "stdout",
     "output_type": "stream",
     "text": [
      "\u001b[32m2024-08-26 00:45:39.996\u001b[0m | \u001b[33m\u001b[1mWARNING \u001b[0m | \u001b[36menfify.preprocessing\u001b[0m:\u001b[36mdownsample_scipy\u001b[0m:\u001b[36m47\u001b[0m - \u001b[33m\u001b[1mThe target sampling rate is not an integer multiple of the current sampling rate. Resampling is used, which does not have an integrated antialiasing filter. Applying a lowpass filter.\u001b[0m\n",
      "\u001b[32m2024-08-26 00:45:40.084\u001b[0m | \u001b[33m\u001b[1mWARNING \u001b[0m | \u001b[36menfify.preprocessing\u001b[0m:\u001b[36mdownsample_scipy\u001b[0m:\u001b[36m47\u001b[0m - \u001b[33m\u001b[1mThe target sampling rate is not an integer multiple of the current sampling rate. Resampling is used, which does not have an integrated antialiasing filter. Applying a lowpass filter.\u001b[0m\n"
     ]
    },
    {
     "name": "stderr",
     "output_type": "stream",
     "text": [
      "  5%|▍         | 48/1000 [00:03<01:11, 13.38it/s]"
     ]
    },
    {
     "name": "stdout",
     "output_type": "stream",
     "text": [
      "\u001b[32m2024-08-26 00:45:40.154\u001b[0m | \u001b[33m\u001b[1mWARNING \u001b[0m | \u001b[36menfify.preprocessing\u001b[0m:\u001b[36mdownsample_scipy\u001b[0m:\u001b[36m47\u001b[0m - \u001b[33m\u001b[1mThe target sampling rate is not an integer multiple of the current sampling rate. Resampling is used, which does not have an integrated antialiasing filter. Applying a lowpass filter.\u001b[0m\n"
     ]
    },
    {
     "name": "stderr",
     "output_type": "stream",
     "text": [
      "  5%|▌         | 52/1000 [00:03<01:10, 13.37it/s]"
     ]
    },
    {
     "name": "stdout",
     "output_type": "stream",
     "text": [
      "\u001b[32m2024-08-26 00:45:40.249\u001b[0m | \u001b[33m\u001b[1mWARNING \u001b[0m | \u001b[36menfify.preprocessing\u001b[0m:\u001b[36mdownsample_scipy\u001b[0m:\u001b[36m47\u001b[0m - \u001b[33m\u001b[1mThe target sampling rate is not an integer multiple of the current sampling rate. Resampling is used, which does not have an integrated antialiasing filter. Applying a lowpass filter.\u001b[0m\n",
      "\u001b[32m2024-08-26 00:45:40.323\u001b[0m | \u001b[33m\u001b[1mWARNING \u001b[0m | \u001b[36menfify.preprocessing\u001b[0m:\u001b[36mdownsample_scipy\u001b[0m:\u001b[36m47\u001b[0m - \u001b[33m\u001b[1mThe target sampling rate is not an integer multiple of the current sampling rate. Resampling is used, which does not have an integrated antialiasing filter. Applying a lowpass filter.\u001b[0m\n"
     ]
    },
    {
     "name": "stderr",
     "output_type": "stream",
     "text": [
      "  5%|▌         | 52/1000 [00:03<01:10, 13.37it/s]"
     ]
    },
    {
     "name": "stdout",
     "output_type": "stream",
     "text": [
      "\u001b[32m2024-08-26 00:45:40.379\u001b[0m | \u001b[33m\u001b[1mWARNING \u001b[0m | \u001b[36menfify.preprocessing\u001b[0m:\u001b[36mdownsample_scipy\u001b[0m:\u001b[36m47\u001b[0m - \u001b[33m\u001b[1mThe target sampling rate is not an integer multiple of the current sampling rate. Resampling is used, which does not have an integrated antialiasing filter. Applying a lowpass filter.\u001b[0m\n",
      "\u001b[32m2024-08-26 00:45:40.437\u001b[0m | \u001b[33m\u001b[1mWARNING \u001b[0m | \u001b[36menfify.preprocessing\u001b[0m:\u001b[36mdownsample_scipy\u001b[0m:\u001b[36m47\u001b[0m - \u001b[33m\u001b[1mThe target sampling rate is not an integer multiple of the current sampling rate. Resampling is used, which does not have an integrated antialiasing filter. Applying a lowpass filter.\u001b[0m\n"
     ]
    },
    {
     "name": "stderr",
     "output_type": "stream",
     "text": [
      "  5%|▌         | 54/1000 [00:03<01:08, 13.86it/s]"
     ]
    },
    {
     "name": "stdout",
     "output_type": "stream",
     "text": [
      "\u001b[32m2024-08-26 00:45:40.513\u001b[0m | \u001b[33m\u001b[1mWARNING \u001b[0m | \u001b[36menfify.preprocessing\u001b[0m:\u001b[36mdownsample_scipy\u001b[0m:\u001b[36m47\u001b[0m - \u001b[33m\u001b[1mThe target sampling rate is not an integer multiple of the current sampling rate. Resampling is used, which does not have an integrated antialiasing filter. Applying a lowpass filter.\u001b[0m\n"
     ]
    },
    {
     "name": "stderr",
     "output_type": "stream",
     "text": [
      "  6%|▌         | 56/1000 [00:04<01:11, 13.11it/s]"
     ]
    },
    {
     "name": "stdout",
     "output_type": "stream",
     "text": [
      "\u001b[32m2024-08-26 00:45:40.601\u001b[0m | \u001b[33m\u001b[1mWARNING \u001b[0m | \u001b[36menfify.preprocessing\u001b[0m:\u001b[36mdownsample_scipy\u001b[0m:\u001b[36m47\u001b[0m - \u001b[33m\u001b[1mThe target sampling rate is not an integer multiple of the current sampling rate. Resampling is used, which does not have an integrated antialiasing filter. Applying a lowpass filter.\u001b[0m\n",
      "\u001b[32m2024-08-26 00:45:40.685\u001b[0m | \u001b[33m\u001b[1mWARNING \u001b[0m | \u001b[36menfify.preprocessing\u001b[0m:\u001b[36mdownsample_scipy\u001b[0m:\u001b[36m47\u001b[0m - \u001b[33m\u001b[1mThe target sampling rate is not an integer multiple of the current sampling rate. Resampling is used, which does not have an integrated antialiasing filter. Applying a lowpass filter.\u001b[0m\n"
     ]
    },
    {
     "name": "stderr",
     "output_type": "stream",
     "text": [
      "  6%|▌         | 58/1000 [00:04<01:06, 14.23it/s]"
     ]
    },
    {
     "name": "stdout",
     "output_type": "stream",
     "text": [
      "\u001b[32m2024-08-26 00:45:40.736\u001b[0m | \u001b[33m\u001b[1mWARNING \u001b[0m | \u001b[36menfify.preprocessing\u001b[0m:\u001b[36mdownsample_scipy\u001b[0m:\u001b[36m47\u001b[0m - \u001b[33m\u001b[1mThe target sampling rate is not an integer multiple of the current sampling rate. Resampling is used, which does not have an integrated antialiasing filter. Applying a lowpass filter.\u001b[0m\n",
      "\u001b[32m2024-08-26 00:45:40.793\u001b[0m | \u001b[33m\u001b[1mWARNING \u001b[0m | \u001b[36menfify.preprocessing\u001b[0m:\u001b[36mdownsample_scipy\u001b[0m:\u001b[36m47\u001b[0m - \u001b[33m\u001b[1mThe target sampling rate is not an integer multiple of the current sampling rate. Resampling is used, which does not have an integrated antialiasing filter. Applying a lowpass filter.\u001b[0m\n"
     ]
    },
    {
     "name": "stderr",
     "output_type": "stream",
     "text": [
      "  6%|▌         | 61/1000 [00:04<01:00, 15.44it/s]"
     ]
    },
    {
     "name": "stdout",
     "output_type": "stream",
     "text": [
      "\u001b[32m2024-08-26 00:45:40.837\u001b[0m | \u001b[33m\u001b[1mWARNING \u001b[0m | \u001b[36menfify.preprocessing\u001b[0m:\u001b[36mdownsample_scipy\u001b[0m:\u001b[36m47\u001b[0m - \u001b[33m\u001b[1mThe target sampling rate is not an integer multiple of the current sampling rate. Resampling is used, which does not have an integrated antialiasing filter. Applying a lowpass filter.\u001b[0m\n",
      "\u001b[32m2024-08-26 00:45:40.893\u001b[0m | \u001b[33m\u001b[1mWARNING \u001b[0m | \u001b[36menfify.preprocessing\u001b[0m:\u001b[36mdownsample_scipy\u001b[0m:\u001b[36m47\u001b[0m - \u001b[33m\u001b[1mThe target sampling rate is not an integer multiple of the current sampling rate. Resampling is used, which does not have an integrated antialiasing filter. Applying a lowpass filter.\u001b[0m\n"
     ]
    },
    {
     "name": "stderr",
     "output_type": "stream",
     "text": [
      "  6%|▌         | 61/1000 [00:04<01:00, 15.44it/s]"
     ]
    },
    {
     "name": "stdout",
     "output_type": "stream",
     "text": [
      "\u001b[32m2024-08-26 00:45:40.970\u001b[0m | \u001b[33m\u001b[1mWARNING \u001b[0m | \u001b[36menfify.preprocessing\u001b[0m:\u001b[36mdownsample_scipy\u001b[0m:\u001b[36m47\u001b[0m - \u001b[33m\u001b[1mThe target sampling rate is not an integer multiple of the current sampling rate. Resampling is used, which does not have an integrated antialiasing filter. Applying a lowpass filter.\u001b[0m\n"
     ]
    },
    {
     "name": "stderr",
     "output_type": "stream",
     "text": [
      "  6%|▋         | 63/1000 [00:04<01:04, 14.52it/s]"
     ]
    },
    {
     "name": "stdout",
     "output_type": "stream",
     "text": [
      "\u001b[32m2024-08-26 00:45:41.049\u001b[0m | \u001b[33m\u001b[1mWARNING \u001b[0m | \u001b[36menfify.preprocessing\u001b[0m:\u001b[36mdownsample_scipy\u001b[0m:\u001b[36m47\u001b[0m - \u001b[33m\u001b[1mThe target sampling rate is not an integer multiple of the current sampling rate. Resampling is used, which does not have an integrated antialiasing filter. Applying a lowpass filter.\u001b[0m\n",
      "\u001b[32m2024-08-26 00:45:41.123\u001b[0m | \u001b[33m\u001b[1mWARNING \u001b[0m | \u001b[36menfify.preprocessing\u001b[0m:\u001b[36mdownsample_scipy\u001b[0m:\u001b[36m47\u001b[0m - \u001b[33m\u001b[1mThe target sampling rate is not an integer multiple of the current sampling rate. Resampling is used, which does not have an integrated antialiasing filter. Applying a lowpass filter.\u001b[0m\n"
     ]
    },
    {
     "name": "stderr",
     "output_type": "stream",
     "text": [
      "  6%|▋         | 65/1000 [00:04<01:03, 14.62it/s]"
     ]
    },
    {
     "name": "stdout",
     "output_type": "stream",
     "text": [
      "\u001b[32m2024-08-26 00:45:41.181\u001b[0m | \u001b[33m\u001b[1mWARNING \u001b[0m | \u001b[36menfify.preprocessing\u001b[0m:\u001b[36mdownsample_scipy\u001b[0m:\u001b[36m47\u001b[0m - \u001b[33m\u001b[1mThe target sampling rate is not an integer multiple of the current sampling rate. Resampling is used, which does not have an integrated antialiasing filter. Applying a lowpass filter.\u001b[0m\n"
     ]
    },
    {
     "name": "stderr",
     "output_type": "stream",
     "text": [
      "  6%|▋         | 65/1000 [00:04<01:03, 14.62it/s]"
     ]
    },
    {
     "name": "stdout",
     "output_type": "stream",
     "text": [
      "\u001b[32m2024-08-26 00:45:41.267\u001b[0m | \u001b[33m\u001b[1mWARNING \u001b[0m | \u001b[36menfify.preprocessing\u001b[0m:\u001b[36mdownsample_scipy\u001b[0m:\u001b[36m47\u001b[0m - \u001b[33m\u001b[1mThe target sampling rate is not an integer multiple of the current sampling rate. Resampling is used, which does not have an integrated antialiasing filter. Applying a lowpass filter.\u001b[0m\n",
      "\u001b[32m2024-08-26 00:45:41.357\u001b[0m | \u001b[33m\u001b[1mWARNING \u001b[0m | \u001b[36menfify.preprocessing\u001b[0m:\u001b[36mdownsample_scipy\u001b[0m:\u001b[36m47\u001b[0m - \u001b[33m\u001b[1mThe target sampling rate is not an integer multiple of the current sampling rate. Resampling is used, which does not have an integrated antialiasing filter. Applying a lowpass filter.\u001b[0m\n"
     ]
    },
    {
     "name": "stderr",
     "output_type": "stream",
     "text": [
      "  7%|▋         | 67/1000 [00:04<01:07, 13.73it/s]"
     ]
    },
    {
     "name": "stdout",
     "output_type": "stream",
     "text": [
      "\u001b[32m2024-08-26 00:45:41.430\u001b[0m | \u001b[33m\u001b[1mWARNING \u001b[0m | \u001b[36menfify.preprocessing\u001b[0m:\u001b[36mdownsample_scipy\u001b[0m:\u001b[36m47\u001b[0m - \u001b[33m\u001b[1mThe target sampling rate is not an integer multiple of the current sampling rate. Resampling is used, which does not have an integrated antialiasing filter. Applying a lowpass filter.\u001b[0m\n"
     ]
    },
    {
     "name": "stderr",
     "output_type": "stream",
     "text": [
      "  7%|▋         | 69/1000 [00:05<01:09, 13.44it/s]"
     ]
    },
    {
     "name": "stdout",
     "output_type": "stream",
     "text": [
      "\u001b[32m2024-08-26 00:45:41.506\u001b[0m | \u001b[33m\u001b[1mWARNING \u001b[0m | \u001b[36menfify.preprocessing\u001b[0m:\u001b[36mdownsample_scipy\u001b[0m:\u001b[36m47\u001b[0m - \u001b[33m\u001b[1mThe target sampling rate is not an integer multiple of the current sampling rate. Resampling is used, which does not have an integrated antialiasing filter. Applying a lowpass filter.\u001b[0m\n",
      "\u001b[32m2024-08-26 00:45:41.587\u001b[0m | \u001b[33m\u001b[1mWARNING \u001b[0m | \u001b[36menfify.preprocessing\u001b[0m:\u001b[36mdownsample_scipy\u001b[0m:\u001b[36m47\u001b[0m - \u001b[33m\u001b[1mThe target sampling rate is not an integer multiple of the current sampling rate. Resampling is used, which does not have an integrated antialiasing filter. Applying a lowpass filter.\u001b[0m\n"
     ]
    },
    {
     "name": "stderr",
     "output_type": "stream",
     "text": [
      "  7%|▋         | 71/1000 [00:05<01:03, 14.72it/s]"
     ]
    },
    {
     "name": "stdout",
     "output_type": "stream",
     "text": [
      "\u001b[32m2024-08-26 00:45:41.644\u001b[0m | \u001b[33m\u001b[1mWARNING \u001b[0m | \u001b[36menfify.preprocessing\u001b[0m:\u001b[36mdownsample_scipy\u001b[0m:\u001b[36m47\u001b[0m - \u001b[33m\u001b[1mThe target sampling rate is not an integer multiple of the current sampling rate. Resampling is used, which does not have an integrated antialiasing filter. Applying a lowpass filter.\u001b[0m\n",
      "\u001b[32m2024-08-26 00:45:41.682\u001b[0m | \u001b[33m\u001b[1mWARNING \u001b[0m | \u001b[36menfify.preprocessing\u001b[0m:\u001b[36mdownsample_scipy\u001b[0m:\u001b[36m47\u001b[0m - \u001b[33m\u001b[1mThe target sampling rate is not an integer multiple of the current sampling rate. Resampling is used, which does not have an integrated antialiasing filter. Applying a lowpass filter.\u001b[0m\n"
     ]
    },
    {
     "name": "stderr",
     "output_type": "stream",
     "text": [
      "  7%|▋         | 73/1000 [00:05<01:00, 15.40it/s]"
     ]
    },
    {
     "name": "stdout",
     "output_type": "stream",
     "text": [
      "\u001b[32m2024-08-26 00:45:41.735\u001b[0m | \u001b[33m\u001b[1mWARNING \u001b[0m | \u001b[36menfify.preprocessing\u001b[0m:\u001b[36mdownsample_scipy\u001b[0m:\u001b[36m47\u001b[0m - \u001b[33m\u001b[1mThe target sampling rate is not an integer multiple of the current sampling rate. Resampling is used, which does not have an integrated antialiasing filter. Applying a lowpass filter.\u001b[0m\n",
      "\u001b[32m2024-08-26 00:45:41.806\u001b[0m | \u001b[33m\u001b[1mWARNING \u001b[0m | \u001b[36menfify.preprocessing\u001b[0m:\u001b[36mdownsample_scipy\u001b[0m:\u001b[36m47\u001b[0m - \u001b[33m\u001b[1mThe target sampling rate is not an integer multiple of the current sampling rate. Resampling is used, which does not have an integrated antialiasing filter. Applying a lowpass filter.\u001b[0m\n"
     ]
    },
    {
     "name": "stderr",
     "output_type": "stream",
     "text": [
      "  7%|▋         | 73/1000 [00:05<01:00, 15.40it/s]"
     ]
    },
    {
     "name": "stdout",
     "output_type": "stream",
     "text": [
      "\u001b[32m2024-08-26 00:45:41.877\u001b[0m | \u001b[33m\u001b[1mWARNING \u001b[0m | \u001b[36menfify.preprocessing\u001b[0m:\u001b[36mdownsample_scipy\u001b[0m:\u001b[36m47\u001b[0m - \u001b[33m\u001b[1mThe target sampling rate is not an integer multiple of the current sampling rate. Resampling is used, which does not have an integrated antialiasing filter. Applying a lowpass filter.\u001b[0m\n"
     ]
    },
    {
     "name": "stderr",
     "output_type": "stream",
     "text": [
      "  8%|▊         | 75/1000 [00:05<01:04, 14.42it/s]"
     ]
    },
    {
     "name": "stdout",
     "output_type": "stream",
     "text": [
      "\u001b[32m2024-08-26 00:45:41.965\u001b[0m | \u001b[33m\u001b[1mWARNING \u001b[0m | \u001b[36menfify.preprocessing\u001b[0m:\u001b[36mdownsample_scipy\u001b[0m:\u001b[36m47\u001b[0m - \u001b[33m\u001b[1mThe target sampling rate is not an integer multiple of the current sampling rate. Resampling is used, which does not have an integrated antialiasing filter. Applying a lowpass filter.\u001b[0m\n",
      "\u001b[32m2024-08-26 00:45:42.041\u001b[0m | \u001b[33m\u001b[1mWARNING \u001b[0m | \u001b[36menfify.preprocessing\u001b[0m:\u001b[36mdownsample_scipy\u001b[0m:\u001b[36m47\u001b[0m - \u001b[33m\u001b[1mThe target sampling rate is not an integer multiple of the current sampling rate. Resampling is used, which does not have an integrated antialiasing filter. Applying a lowpass filter.\u001b[0m\n"
     ]
    },
    {
     "name": "stderr",
     "output_type": "stream",
     "text": [
      "  8%|▊         | 77/1000 [00:05<01:06, 13.88it/s]"
     ]
    },
    {
     "name": "stdout",
     "output_type": "stream",
     "text": [
      "\u001b[32m2024-08-26 00:45:42.125\u001b[0m | \u001b[33m\u001b[1mWARNING \u001b[0m | \u001b[36menfify.preprocessing\u001b[0m:\u001b[36mdownsample_scipy\u001b[0m:\u001b[36m47\u001b[0m - \u001b[33m\u001b[1mThe target sampling rate is not an integer multiple of the current sampling rate. Resampling is used, which does not have an integrated antialiasing filter. Applying a lowpass filter.\u001b[0m\n"
     ]
    },
    {
     "name": "stderr",
     "output_type": "stream",
     "text": [
      "  8%|▊         | 79/1000 [00:05<01:08, 13.38it/s]"
     ]
    },
    {
     "name": "stdout",
     "output_type": "stream",
     "text": [
      "\u001b[32m2024-08-26 00:45:42.209\u001b[0m | \u001b[33m\u001b[1mWARNING \u001b[0m | \u001b[36menfify.preprocessing\u001b[0m:\u001b[36mdownsample_scipy\u001b[0m:\u001b[36m47\u001b[0m - \u001b[33m\u001b[1mThe target sampling rate is not an integer multiple of the current sampling rate. Resampling is used, which does not have an integrated antialiasing filter. Applying a lowpass filter.\u001b[0m\n",
      "\u001b[32m2024-08-26 00:45:42.290\u001b[0m | \u001b[33m\u001b[1mWARNING \u001b[0m | \u001b[36menfify.preprocessing\u001b[0m:\u001b[36mdownsample_scipy\u001b[0m:\u001b[36m47\u001b[0m - \u001b[33m\u001b[1mThe target sampling rate is not an integer multiple of the current sampling rate. Resampling is used, which does not have an integrated antialiasing filter. Applying a lowpass filter.\u001b[0m\n"
     ]
    },
    {
     "name": "stderr",
     "output_type": "stream",
     "text": [
      "  8%|▊         | 81/1000 [00:05<01:09, 13.27it/s]"
     ]
    },
    {
     "name": "stdout",
     "output_type": "stream",
     "text": [
      "\u001b[32m2024-08-26 00:45:42.357\u001b[0m | \u001b[33m\u001b[1mWARNING \u001b[0m | \u001b[36menfify.preprocessing\u001b[0m:\u001b[36mdownsample_scipy\u001b[0m:\u001b[36m47\u001b[0m - \u001b[33m\u001b[1mThe target sampling rate is not an integer multiple of the current sampling rate. Resampling is used, which does not have an integrated antialiasing filter. Applying a lowpass filter.\u001b[0m\n"
     ]
    },
    {
     "name": "stderr",
     "output_type": "stream",
     "text": [
      "  8%|▊         | 84/1000 [00:05<00:59, 15.33it/s]"
     ]
    },
    {
     "name": "stdout",
     "output_type": "stream",
     "text": [
      "\u001b[32m2024-08-26 00:45:42.434\u001b[0m | \u001b[33m\u001b[1mWARNING \u001b[0m | \u001b[36menfify.preprocessing\u001b[0m:\u001b[36mdownsample_scipy\u001b[0m:\u001b[36m47\u001b[0m - \u001b[33m\u001b[1mThe target sampling rate is not an integer multiple of the current sampling rate. Resampling is used, which does not have an integrated antialiasing filter. Applying a lowpass filter.\u001b[0m\n",
      "\u001b[32m2024-08-26 00:45:42.481\u001b[0m | \u001b[33m\u001b[1mWARNING \u001b[0m | \u001b[36menfify.preprocessing\u001b[0m:\u001b[36mdownsample_scipy\u001b[0m:\u001b[36m47\u001b[0m - \u001b[33m\u001b[1mThe target sampling rate is not an integer multiple of the current sampling rate. Resampling is used, which does not have an integrated antialiasing filter. Applying a lowpass filter.\u001b[0m\n",
      "\u001b[32m2024-08-26 00:45:42.523\u001b[0m | \u001b[33m\u001b[1mWARNING \u001b[0m | \u001b[36menfify.preprocessing\u001b[0m:\u001b[36mdownsample_scipy\u001b[0m:\u001b[36m47\u001b[0m - \u001b[33m\u001b[1mThe target sampling rate is not an integer multiple of the current sampling rate. Resampling is used, which does not have an integrated antialiasing filter. Applying a lowpass filter.\u001b[0m\n"
     ]
    },
    {
     "name": "stderr",
     "output_type": "stream",
     "text": [
      "  8%|▊         | 84/1000 [00:06<00:59, 15.33it/s]"
     ]
    },
    {
     "name": "stdout",
     "output_type": "stream",
     "text": [
      "\u001b[32m2024-08-26 00:45:42.588\u001b[0m | \u001b[33m\u001b[1mWARNING \u001b[0m | \u001b[36menfify.preprocessing\u001b[0m:\u001b[36mdownsample_scipy\u001b[0m:\u001b[36m47\u001b[0m - \u001b[33m\u001b[1mThe target sampling rate is not an integer multiple of the current sampling rate. Resampling is used, which does not have an integrated antialiasing filter. Applying a lowpass filter.\u001b[0m\n"
     ]
    },
    {
     "name": "stderr",
     "output_type": "stream",
     "text": [
      "  9%|▊         | 86/1000 [00:06<01:00, 15.14it/s]"
     ]
    },
    {
     "name": "stdout",
     "output_type": "stream",
     "text": [
      "\u001b[32m2024-08-26 00:45:42.665\u001b[0m | \u001b[33m\u001b[1mWARNING \u001b[0m | \u001b[36menfify.preprocessing\u001b[0m:\u001b[36mdownsample_scipy\u001b[0m:\u001b[36m47\u001b[0m - \u001b[33m\u001b[1mThe target sampling rate is not an integer multiple of the current sampling rate. Resampling is used, which does not have an integrated antialiasing filter. Applying a lowpass filter.\u001b[0m\n",
      "\u001b[32m2024-08-26 00:45:42.719\u001b[0m | \u001b[33m\u001b[1mWARNING \u001b[0m | \u001b[36menfify.preprocessing\u001b[0m:\u001b[36mdownsample_scipy\u001b[0m:\u001b[36m47\u001b[0m - \u001b[33m\u001b[1mThe target sampling rate is not an integer multiple of the current sampling rate. Resampling is used, which does not have an integrated antialiasing filter. Applying a lowpass filter.\u001b[0m\n"
     ]
    },
    {
     "name": "stderr",
     "output_type": "stream",
     "text": [
      "  9%|▉         | 88/1000 [00:06<01:02, 14.51it/s]"
     ]
    },
    {
     "name": "stdout",
     "output_type": "stream",
     "text": [
      "\u001b[32m2024-08-26 00:45:42.797\u001b[0m | \u001b[33m\u001b[1mWARNING \u001b[0m | \u001b[36menfify.preprocessing\u001b[0m:\u001b[36mdownsample_scipy\u001b[0m:\u001b[36m47\u001b[0m - \u001b[33m\u001b[1mThe target sampling rate is not an integer multiple of the current sampling rate. Resampling is used, which does not have an integrated antialiasing filter. Applying a lowpass filter.\u001b[0m\n"
     ]
    },
    {
     "name": "stderr",
     "output_type": "stream",
     "text": [
      "  9%|▉         | 90/1000 [00:06<01:04, 14.04it/s]"
     ]
    },
    {
     "name": "stdout",
     "output_type": "stream",
     "text": [
      "\u001b[32m2024-08-26 00:45:42.886\u001b[0m | \u001b[33m\u001b[1mWARNING \u001b[0m | \u001b[36menfify.preprocessing\u001b[0m:\u001b[36mdownsample_scipy\u001b[0m:\u001b[36m47\u001b[0m - \u001b[33m\u001b[1mThe target sampling rate is not an integer multiple of the current sampling rate. Resampling is used, which does not have an integrated antialiasing filter. Applying a lowpass filter.\u001b[0m\n",
      "\u001b[32m2024-08-26 00:45:42.964\u001b[0m | \u001b[33m\u001b[1mWARNING \u001b[0m | \u001b[36menfify.preprocessing\u001b[0m:\u001b[36mdownsample_scipy\u001b[0m:\u001b[36m47\u001b[0m - \u001b[33m\u001b[1mThe target sampling rate is not an integer multiple of the current sampling rate. Resampling is used, which does not have an integrated antialiasing filter. Applying a lowpass filter.\u001b[0m\n"
     ]
    },
    {
     "name": "stderr",
     "output_type": "stream",
     "text": [
      "  9%|▉         | 90/1000 [00:06<01:04, 14.04it/s]"
     ]
    },
    {
     "name": "stdout",
     "output_type": "stream",
     "text": [
      "\u001b[32m2024-08-26 00:45:43.031\u001b[0m | \u001b[33m\u001b[1mWARNING \u001b[0m | \u001b[36menfify.preprocessing\u001b[0m:\u001b[36mdownsample_scipy\u001b[0m:\u001b[36m47\u001b[0m - \u001b[33m\u001b[1mThe target sampling rate is not an integer multiple of the current sampling rate. Resampling is used, which does not have an integrated antialiasing filter. Applying a lowpass filter.\u001b[0m\n"
     ]
    },
    {
     "name": "stderr",
     "output_type": "stream",
     "text": [
      "  9%|▉         | 92/1000 [00:06<01:07, 13.45it/s]"
     ]
    },
    {
     "name": "stdout",
     "output_type": "stream",
     "text": [
      "\u001b[32m2024-08-26 00:45:43.117\u001b[0m | \u001b[33m\u001b[1mWARNING \u001b[0m | \u001b[36menfify.preprocessing\u001b[0m:\u001b[36mdownsample_scipy\u001b[0m:\u001b[36m47\u001b[0m - \u001b[33m\u001b[1mThe target sampling rate is not an integer multiple of the current sampling rate. Resampling is used, which does not have an integrated antialiasing filter. Applying a lowpass filter.\u001b[0m\n",
      "\u001b[32m2024-08-26 00:45:43.194\u001b[0m | \u001b[33m\u001b[1mWARNING \u001b[0m | \u001b[36menfify.preprocessing\u001b[0m:\u001b[36mdownsample_scipy\u001b[0m:\u001b[36m47\u001b[0m - \u001b[33m\u001b[1mThe target sampling rate is not an integer multiple of the current sampling rate. Resampling is used, which does not have an integrated antialiasing filter. Applying a lowpass filter.\u001b[0m\n"
     ]
    },
    {
     "name": "stderr",
     "output_type": "stream",
     "text": [
      "  9%|▉         | 92/1000 [00:06<01:07, 13.45it/s]"
     ]
    },
    {
     "name": "stdout",
     "output_type": "stream",
     "text": [
      "\u001b[32m2024-08-26 00:45:43.271\u001b[0m | \u001b[33m\u001b[1mWARNING \u001b[0m | \u001b[36menfify.preprocessing\u001b[0m:\u001b[36mdownsample_scipy\u001b[0m:\u001b[36m47\u001b[0m - \u001b[33m\u001b[1mThe target sampling rate is not an integer multiple of the current sampling rate. Resampling is used, which does not have an integrated antialiasing filter. Applying a lowpass filter.\u001b[0m\n"
     ]
    },
    {
     "name": "stderr",
     "output_type": "stream",
     "text": [
      "  9%|▉         | 94/1000 [00:06<01:08, 13.16it/s]"
     ]
    },
    {
     "name": "stdout",
     "output_type": "stream",
     "text": [
      "\u001b[32m2024-08-26 00:45:43.357\u001b[0m | \u001b[33m\u001b[1mWARNING \u001b[0m | \u001b[36menfify.preprocessing\u001b[0m:\u001b[36mdownsample_scipy\u001b[0m:\u001b[36m47\u001b[0m - \u001b[33m\u001b[1mThe target sampling rate is not an integer multiple of the current sampling rate. Resampling is used, which does not have an integrated antialiasing filter. Applying a lowpass filter.\u001b[0m\n",
      "\u001b[32m2024-08-26 00:45:43.451\u001b[0m | \u001b[33m\u001b[1mWARNING \u001b[0m | \u001b[36menfify.preprocessing\u001b[0m:\u001b[36mdownsample_scipy\u001b[0m:\u001b[36m47\u001b[0m - \u001b[33m\u001b[1mThe target sampling rate is not an integer multiple of the current sampling rate. Resampling is used, which does not have an integrated antialiasing filter. Applying a lowpass filter.\u001b[0m\n"
     ]
    },
    {
     "name": "stderr",
     "output_type": "stream",
     "text": [
      " 10%|▉         | 96/1000 [00:06<01:11, 12.71it/s]"
     ]
    },
    {
     "name": "stdout",
     "output_type": "stream",
     "text": [
      "\u001b[32m2024-08-26 00:45:43.530\u001b[0m | \u001b[33m\u001b[1mWARNING \u001b[0m | \u001b[36menfify.preprocessing\u001b[0m:\u001b[36mdownsample_scipy\u001b[0m:\u001b[36m47\u001b[0m - \u001b[33m\u001b[1mThe target sampling rate is not an integer multiple of the current sampling rate. Resampling is used, which does not have an integrated antialiasing filter. Applying a lowpass filter.\u001b[0m\n"
     ]
    },
    {
     "name": "stderr",
     "output_type": "stream",
     "text": [
      " 10%|▉         | 98/1000 [00:07<01:15, 11.96it/s]"
     ]
    },
    {
     "name": "stdout",
     "output_type": "stream",
     "text": [
      "\u001b[32m2024-08-26 00:45:43.626\u001b[0m | \u001b[33m\u001b[1mWARNING \u001b[0m | \u001b[36menfify.preprocessing\u001b[0m:\u001b[36mdownsample_scipy\u001b[0m:\u001b[36m47\u001b[0m - \u001b[33m\u001b[1mThe target sampling rate is not an integer multiple of the current sampling rate. Resampling is used, which does not have an integrated antialiasing filter. Applying a lowpass filter.\u001b[0m\n",
      "\u001b[32m2024-08-26 00:45:43.715\u001b[0m | \u001b[33m\u001b[1mWARNING \u001b[0m | \u001b[36menfify.preprocessing\u001b[0m:\u001b[36mdownsample_scipy\u001b[0m:\u001b[36m47\u001b[0m - \u001b[33m\u001b[1mThe target sampling rate is not an integer multiple of the current sampling rate. Resampling is used, which does not have an integrated antialiasing filter. Applying a lowpass filter.\u001b[0m\n"
     ]
    },
    {
     "name": "stderr",
     "output_type": "stream",
     "text": [
      " 10%|▉         | 98/1000 [00:07<01:15, 11.96it/s]"
     ]
    },
    {
     "name": "stdout",
     "output_type": "stream",
     "text": [
      "\u001b[32m2024-08-26 00:45:43.799\u001b[0m | \u001b[33m\u001b[1mWARNING \u001b[0m | \u001b[36menfify.preprocessing\u001b[0m:\u001b[36mdownsample_scipy\u001b[0m:\u001b[36m47\u001b[0m - \u001b[33m\u001b[1mThe target sampling rate is not an integer multiple of the current sampling rate. Resampling is used, which does not have an integrated antialiasing filter. Applying a lowpass filter.\u001b[0m\n"
     ]
    },
    {
     "name": "stderr",
     "output_type": "stream",
     "text": [
      " 10%|█         | 102/1000 [00:07<01:13, 12.27it/s]"
     ]
    },
    {
     "name": "stdout",
     "output_type": "stream",
     "text": [
      "\u001b[32m2024-08-26 00:45:43.890\u001b[0m | \u001b[33m\u001b[1mWARNING \u001b[0m | \u001b[36menfify.preprocessing\u001b[0m:\u001b[36mdownsample_scipy\u001b[0m:\u001b[36m47\u001b[0m - \u001b[33m\u001b[1mThe target sampling rate is not an integer multiple of the current sampling rate. Resampling is used, which does not have an integrated antialiasing filter. Applying a lowpass filter.\u001b[0m\n",
      "\u001b[32m2024-08-26 00:45:43.958\u001b[0m | \u001b[33m\u001b[1mWARNING \u001b[0m | \u001b[36menfify.preprocessing\u001b[0m:\u001b[36mdownsample_scipy\u001b[0m:\u001b[36m47\u001b[0m - \u001b[33m\u001b[1mThe target sampling rate is not an integer multiple of the current sampling rate. Resampling is used, which does not have an integrated antialiasing filter. Applying a lowpass filter.\u001b[0m\n"
     ]
    },
    {
     "name": "stderr",
     "output_type": "stream",
     "text": [
      " 10%|█         | 102/1000 [00:07<01:13, 12.27it/s]"
     ]
    },
    {
     "name": "stdout",
     "output_type": "stream",
     "text": [
      "\u001b[32m2024-08-26 00:45:44.037\u001b[0m | \u001b[33m\u001b[1mWARNING \u001b[0m | \u001b[36menfify.preprocessing\u001b[0m:\u001b[36mdownsample_scipy\u001b[0m:\u001b[36m47\u001b[0m - \u001b[33m\u001b[1mThe target sampling rate is not an integer multiple of the current sampling rate. Resampling is used, which does not have an integrated antialiasing filter. Applying a lowpass filter.\u001b[0m\n"
     ]
    },
    {
     "name": "stderr",
     "output_type": "stream",
     "text": [
      " 10%|█         | 104/1000 [00:07<01:15, 11.86it/s]"
     ]
    },
    {
     "name": "stdout",
     "output_type": "stream",
     "text": [
      "\u001b[32m2024-08-26 00:45:44.127\u001b[0m | \u001b[33m\u001b[1mWARNING \u001b[0m | \u001b[36menfify.preprocessing\u001b[0m:\u001b[36mdownsample_scipy\u001b[0m:\u001b[36m47\u001b[0m - \u001b[33m\u001b[1mThe target sampling rate is not an integer multiple of the current sampling rate. Resampling is used, which does not have an integrated antialiasing filter. Applying a lowpass filter.\u001b[0m\n",
      "\u001b[32m2024-08-26 00:45:44.219\u001b[0m | \u001b[33m\u001b[1mWARNING \u001b[0m | \u001b[36menfify.preprocessing\u001b[0m:\u001b[36mdownsample_scipy\u001b[0m:\u001b[36m47\u001b[0m - \u001b[33m\u001b[1mThe target sampling rate is not an integer multiple of the current sampling rate. Resampling is used, which does not have an integrated antialiasing filter. Applying a lowpass filter.\u001b[0m\n"
     ]
    },
    {
     "name": "stderr",
     "output_type": "stream",
     "text": [
      " 10%|█         | 104/1000 [00:07<01:15, 11.86it/s]"
     ]
    },
    {
     "name": "stdout",
     "output_type": "stream",
     "text": [
      "\u001b[32m2024-08-26 00:45:44.299\u001b[0m | \u001b[33m\u001b[1mWARNING \u001b[0m | \u001b[36menfify.preprocessing\u001b[0m:\u001b[36mdownsample_scipy\u001b[0m:\u001b[36m47\u001b[0m - \u001b[33m\u001b[1mThe target sampling rate is not an integer multiple of the current sampling rate. Resampling is used, which does not have an integrated antialiasing filter. Applying a lowpass filter.\u001b[0m\n"
     ]
    },
    {
     "name": "stderr",
     "output_type": "stream",
     "text": [
      " 11%|█         | 108/1000 [00:07<01:13, 12.15it/s]"
     ]
    },
    {
     "name": "stdout",
     "output_type": "stream",
     "text": [
      "\u001b[32m2024-08-26 00:45:44.377\u001b[0m | \u001b[33m\u001b[1mWARNING \u001b[0m | \u001b[36menfify.preprocessing\u001b[0m:\u001b[36mdownsample_scipy\u001b[0m:\u001b[36m47\u001b[0m - \u001b[33m\u001b[1mThe target sampling rate is not an integer multiple of the current sampling rate. Resampling is used, which does not have an integrated antialiasing filter. Applying a lowpass filter.\u001b[0m\n",
      "\u001b[32m2024-08-26 00:45:44.467\u001b[0m | \u001b[33m\u001b[1mWARNING \u001b[0m | \u001b[36menfify.preprocessing\u001b[0m:\u001b[36mdownsample_scipy\u001b[0m:\u001b[36m47\u001b[0m - \u001b[33m\u001b[1mThe target sampling rate is not an integer multiple of the current sampling rate. Resampling is used, which does not have an integrated antialiasing filter. Applying a lowpass filter.\u001b[0m\n"
     ]
    },
    {
     "name": "stderr",
     "output_type": "stream",
     "text": [
      " 11%|█         | 108/1000 [00:07<01:13, 12.15it/s]"
     ]
    },
    {
     "name": "stdout",
     "output_type": "stream",
     "text": [
      "\u001b[32m2024-08-26 00:45:44.536\u001b[0m | \u001b[33m\u001b[1mWARNING \u001b[0m | \u001b[36menfify.preprocessing\u001b[0m:\u001b[36mdownsample_scipy\u001b[0m:\u001b[36m47\u001b[0m - \u001b[33m\u001b[1mThe target sampling rate is not an integer multiple of the current sampling rate. Resampling is used, which does not have an integrated antialiasing filter. Applying a lowpass filter.\u001b[0m\n"
     ]
    },
    {
     "name": "stderr",
     "output_type": "stream",
     "text": [
      " 11%|█         | 110/1000 [00:08<01:13, 12.08it/s]"
     ]
    },
    {
     "name": "stdout",
     "output_type": "stream",
     "text": [
      "\u001b[32m2024-08-26 00:45:44.628\u001b[0m | \u001b[33m\u001b[1mWARNING \u001b[0m | \u001b[36menfify.preprocessing\u001b[0m:\u001b[36mdownsample_scipy\u001b[0m:\u001b[36m47\u001b[0m - \u001b[33m\u001b[1mThe target sampling rate is not an integer multiple of the current sampling rate. Resampling is used, which does not have an integrated antialiasing filter. Applying a lowpass filter.\u001b[0m\n",
      "\u001b[32m2024-08-26 00:45:44.704\u001b[0m | \u001b[33m\u001b[1mWARNING \u001b[0m | \u001b[36menfify.preprocessing\u001b[0m:\u001b[36mdownsample_scipy\u001b[0m:\u001b[36m47\u001b[0m - \u001b[33m\u001b[1mThe target sampling rate is not an integer multiple of the current sampling rate. Resampling is used, which does not have an integrated antialiasing filter. Applying a lowpass filter.\u001b[0m\n"
     ]
    },
    {
     "name": "stderr",
     "output_type": "stream",
     "text": [
      " 11%|█         | 112/1000 [00:08<01:11, 12.36it/s]"
     ]
    },
    {
     "name": "stdout",
     "output_type": "stream",
     "text": [
      "\u001b[32m2024-08-26 00:45:44.775\u001b[0m | \u001b[33m\u001b[1mWARNING \u001b[0m | \u001b[36menfify.preprocessing\u001b[0m:\u001b[36mdownsample_scipy\u001b[0m:\u001b[36m47\u001b[0m - \u001b[33m\u001b[1mThe target sampling rate is not an integer multiple of the current sampling rate. Resampling is used, which does not have an integrated antialiasing filter. Applying a lowpass filter.\u001b[0m\n"
     ]
    },
    {
     "name": "stderr",
     "output_type": "stream",
     "text": [
      " 11%|█         | 112/1000 [00:08<01:11, 12.36it/s]"
     ]
    },
    {
     "name": "stdout",
     "output_type": "stream",
     "text": [
      "\u001b[32m2024-08-26 00:45:44.865\u001b[0m | \u001b[33m\u001b[1mWARNING \u001b[0m | \u001b[36menfify.preprocessing\u001b[0m:\u001b[36mdownsample_scipy\u001b[0m:\u001b[36m47\u001b[0m - \u001b[33m\u001b[1mThe target sampling rate is not an integer multiple of the current sampling rate. Resampling is used, which does not have an integrated antialiasing filter. Applying a lowpass filter.\u001b[0m\n",
      "\u001b[32m2024-08-26 00:45:44.950\u001b[0m | \u001b[33m\u001b[1mWARNING \u001b[0m | \u001b[36menfify.preprocessing\u001b[0m:\u001b[36mdownsample_scipy\u001b[0m:\u001b[36m47\u001b[0m - \u001b[33m\u001b[1mThe target sampling rate is not an integer multiple of the current sampling rate. Resampling is used, which does not have an integrated antialiasing filter. Applying a lowpass filter.\u001b[0m\n"
     ]
    },
    {
     "name": "stderr",
     "output_type": "stream",
     "text": [
      " 11%|█▏        | 114/1000 [00:08<01:13, 12.10it/s]"
     ]
    },
    {
     "name": "stdout",
     "output_type": "stream",
     "text": [
      "\u001b[32m2024-08-26 00:45:45.035\u001b[0m | \u001b[33m\u001b[1mWARNING \u001b[0m | \u001b[36menfify.preprocessing\u001b[0m:\u001b[36mdownsample_scipy\u001b[0m:\u001b[36m47\u001b[0m - \u001b[33m\u001b[1mThe target sampling rate is not an integer multiple of the current sampling rate. Resampling is used, which does not have an integrated antialiasing filter. Applying a lowpass filter.\u001b[0m\n"
     ]
    },
    {
     "name": "stderr",
     "output_type": "stream",
     "text": [
      " 12%|█▏        | 116/1000 [00:08<01:13, 12.05it/s]"
     ]
    },
    {
     "name": "stdout",
     "output_type": "stream",
     "text": [
      "\u001b[32m2024-08-26 00:45:45.145\u001b[0m | \u001b[33m\u001b[1mWARNING \u001b[0m | \u001b[36menfify.preprocessing\u001b[0m:\u001b[36mdownsample_scipy\u001b[0m:\u001b[36m47\u001b[0m - \u001b[33m\u001b[1mThe target sampling rate is not an integer multiple of the current sampling rate. Resampling is used, which does not have an integrated antialiasing filter. Applying a lowpass filter.\u001b[0m\n",
      "\u001b[32m2024-08-26 00:45:45.200\u001b[0m | \u001b[33m\u001b[1mWARNING \u001b[0m | \u001b[36menfify.preprocessing\u001b[0m:\u001b[36mdownsample_scipy\u001b[0m:\u001b[36m47\u001b[0m - \u001b[33m\u001b[1mThe target sampling rate is not an integer multiple of the current sampling rate. Resampling is used, which does not have an integrated antialiasing filter. Applying a lowpass filter.\u001b[0m\n"
     ]
    },
    {
     "name": "stderr",
     "output_type": "stream",
     "text": [
      " 12%|█▏        | 118/1000 [00:08<01:11, 12.27it/s]"
     ]
    },
    {
     "name": "stdout",
     "output_type": "stream",
     "text": [
      "\u001b[32m2024-08-26 00:45:45.272\u001b[0m | \u001b[33m\u001b[1mWARNING \u001b[0m | \u001b[36menfify.preprocessing\u001b[0m:\u001b[36mdownsample_scipy\u001b[0m:\u001b[36m47\u001b[0m - \u001b[33m\u001b[1mThe target sampling rate is not an integer multiple of the current sampling rate. Resampling is used, which does not have an integrated antialiasing filter. Applying a lowpass filter.\u001b[0m\n"
     ]
    },
    {
     "name": "stderr",
     "output_type": "stream",
     "text": [
      " 12%|█▏        | 120/1000 [00:08<01:08, 12.76it/s]"
     ]
    },
    {
     "name": "stdout",
     "output_type": "stream",
     "text": [
      "\u001b[32m2024-08-26 00:45:45.361\u001b[0m | \u001b[33m\u001b[1mWARNING \u001b[0m | \u001b[36menfify.preprocessing\u001b[0m:\u001b[36mdownsample_scipy\u001b[0m:\u001b[36m47\u001b[0m - \u001b[33m\u001b[1mThe target sampling rate is not an integer multiple of the current sampling rate. Resampling is used, which does not have an integrated antialiasing filter. Applying a lowpass filter.\u001b[0m\n",
      "\u001b[32m2024-08-26 00:45:45.435\u001b[0m | \u001b[33m\u001b[1mWARNING \u001b[0m | \u001b[36menfify.preprocessing\u001b[0m:\u001b[36mdownsample_scipy\u001b[0m:\u001b[36m47\u001b[0m - \u001b[33m\u001b[1mThe target sampling rate is not an integer multiple of the current sampling rate. Resampling is used, which does not have an integrated antialiasing filter. Applying a lowpass filter.\u001b[0m\n"
     ]
    },
    {
     "name": "stderr",
     "output_type": "stream",
     "text": [
      " 12%|█▏        | 120/1000 [00:08<01:08, 12.76it/s]"
     ]
    },
    {
     "name": "stdout",
     "output_type": "stream",
     "text": [
      "\u001b[32m2024-08-26 00:45:45.497\u001b[0m | \u001b[33m\u001b[1mWARNING \u001b[0m | \u001b[36menfify.preprocessing\u001b[0m:\u001b[36mdownsample_scipy\u001b[0m:\u001b[36m47\u001b[0m - \u001b[33m\u001b[1mThe target sampling rate is not an integer multiple of the current sampling rate. Resampling is used, which does not have an integrated antialiasing filter. Applying a lowpass filter.\u001b[0m\n"
     ]
    },
    {
     "name": "stderr",
     "output_type": "stream",
     "text": [
      " 12%|█▏        | 122/1000 [00:09<01:08, 12.80it/s]"
     ]
    },
    {
     "name": "stdout",
     "output_type": "stream",
     "text": [
      "\u001b[32m2024-08-26 00:45:45.576\u001b[0m | \u001b[33m\u001b[1mWARNING \u001b[0m | \u001b[36menfify.preprocessing\u001b[0m:\u001b[36mdownsample_scipy\u001b[0m:\u001b[36m47\u001b[0m - \u001b[33m\u001b[1mThe target sampling rate is not an integer multiple of the current sampling rate. Resampling is used, which does not have an integrated antialiasing filter. Applying a lowpass filter.\u001b[0m\n",
      "\u001b[32m2024-08-26 00:45:45.655\u001b[0m | \u001b[33m\u001b[1mWARNING \u001b[0m | \u001b[36menfify.preprocessing\u001b[0m:\u001b[36mdownsample_scipy\u001b[0m:\u001b[36m47\u001b[0m - \u001b[33m\u001b[1mThe target sampling rate is not an integer multiple of the current sampling rate. Resampling is used, which does not have an integrated antialiasing filter. Applying a lowpass filter.\u001b[0m\n"
     ]
    },
    {
     "name": "stderr",
     "output_type": "stream",
     "text": [
      " 12%|█▏        | 124/1000 [00:09<01:05, 13.36it/s]"
     ]
    },
    {
     "name": "stdout",
     "output_type": "stream",
     "text": [
      "\u001b[32m2024-08-26 00:45:45.714\u001b[0m | \u001b[33m\u001b[1mWARNING \u001b[0m | \u001b[36menfify.preprocessing\u001b[0m:\u001b[36mdownsample_scipy\u001b[0m:\u001b[36m47\u001b[0m - \u001b[33m\u001b[1mThe target sampling rate is not an integer multiple of the current sampling rate. Resampling is used, which does not have an integrated antialiasing filter. Applying a lowpass filter.\u001b[0m\n"
     ]
    },
    {
     "name": "stderr",
     "output_type": "stream",
     "text": [
      " 13%|█▎        | 126/1000 [00:09<01:05, 13.31it/s]"
     ]
    },
    {
     "name": "stdout",
     "output_type": "stream",
     "text": [
      "\u001b[32m2024-08-26 00:45:45.789\u001b[0m | \u001b[33m\u001b[1mWARNING \u001b[0m | \u001b[36menfify.preprocessing\u001b[0m:\u001b[36mdownsample_scipy\u001b[0m:\u001b[36m47\u001b[0m - \u001b[33m\u001b[1mThe target sampling rate is not an integer multiple of the current sampling rate. Resampling is used, which does not have an integrated antialiasing filter. Applying a lowpass filter.\u001b[0m\n",
      "\u001b[32m2024-08-26 00:45:45.881\u001b[0m | \u001b[33m\u001b[1mWARNING \u001b[0m | \u001b[36menfify.preprocessing\u001b[0m:\u001b[36mdownsample_scipy\u001b[0m:\u001b[36m47\u001b[0m - \u001b[33m\u001b[1mThe target sampling rate is not an integer multiple of the current sampling rate. Resampling is used, which does not have an integrated antialiasing filter. Applying a lowpass filter.\u001b[0m\n"
     ]
    },
    {
     "name": "stderr",
     "output_type": "stream",
     "text": [
      "                                                  \r"
     ]
    },
    {
     "name": "stdout",
     "output_type": "stream",
     "text": [
      "\u001b[32m2024-08-26 00:45:45.934\u001b[0m | \u001b[33m\u001b[1mWARNING \u001b[0m | \u001b[36menfify.preprocessing\u001b[0m:\u001b[36mdownsample_scipy\u001b[0m:\u001b[36m47\u001b[0m - \u001b[33m\u001b[1mThe target sampling rate is not an integer multiple of the current sampling rate. Resampling is used, which does not have an integrated antialiasing filter. Applying a lowpass filter.\u001b[0m\n",
      "\u001b[32m2024-08-26 00:45:45.993\u001b[0m | \u001b[33m\u001b[1mWARNING \u001b[0m | \u001b[36menfify.preprocessing\u001b[0m:\u001b[36mdownsample_scipy\u001b[0m:\u001b[36m47\u001b[0m - \u001b[33m\u001b[1mThe target sampling rate is not an integer multiple of the current sampling rate. Resampling is used, which does not have an integrated antialiasing filter. Applying a lowpass filter.\u001b[0m\n"
     ]
    },
    {
     "name": "stderr",
     "output_type": "stream",
     "text": [
      " 13%|█▎        | 128/1000 [00:09<00:59, 14.64it/s]"
     ]
    },
    {
     "name": "stdout",
     "output_type": "stream",
     "text": [
      "\u001b[32m2024-08-26 00:45:46.042\u001b[0m | \u001b[33m\u001b[1mWARNING \u001b[0m | \u001b[36menfify.preprocessing\u001b[0m:\u001b[36mdownsample_scipy\u001b[0m:\u001b[36m47\u001b[0m - \u001b[33m\u001b[1mThe target sampling rate is not an integer multiple of the current sampling rate. Resampling is used, which does not have an integrated antialiasing filter. Applying a lowpass filter.\u001b[0m\n",
      "\u001b[32m2024-08-26 00:45:46.123\u001b[0m | \u001b[33m\u001b[1mWARNING \u001b[0m | \u001b[36menfify.preprocessing\u001b[0m:\u001b[36mdownsample_scipy\u001b[0m:\u001b[36m47\u001b[0m - \u001b[33m\u001b[1mThe target sampling rate is not an integer multiple of the current sampling rate. Resampling is used, which does not have an integrated antialiasing filter. Applying a lowpass filter.\u001b[0m\n"
     ]
    },
    {
     "name": "stderr",
     "output_type": "stream",
     "text": [
      " 13%|█▎        | 130/1000 [00:09<01:01, 14.19it/s]"
     ]
    },
    {
     "name": "stdout",
     "output_type": "stream",
     "text": [
      "\u001b[32m2024-08-26 00:45:46.202\u001b[0m | \u001b[33m\u001b[1mWARNING \u001b[0m | \u001b[36menfify.preprocessing\u001b[0m:\u001b[36mdownsample_scipy\u001b[0m:\u001b[36m47\u001b[0m - \u001b[33m\u001b[1mThe target sampling rate is not an integer multiple of the current sampling rate. Resampling is used, which does not have an integrated antialiasing filter. Applying a lowpass filter.\u001b[0m\n"
     ]
    },
    {
     "name": "stderr",
     "output_type": "stream",
     "text": [
      " 13%|█▎        | 132/1000 [00:09<01:08, 12.70it/s]"
     ]
    },
    {
     "name": "stdout",
     "output_type": "stream",
     "text": [
      "\u001b[32m2024-08-26 00:45:46.299\u001b[0m | \u001b[33m\u001b[1mWARNING \u001b[0m | \u001b[36menfify.preprocessing\u001b[0m:\u001b[36mdownsample_scipy\u001b[0m:\u001b[36m47\u001b[0m - \u001b[33m\u001b[1mThe target sampling rate is not an integer multiple of the current sampling rate. Resampling is used, which does not have an integrated antialiasing filter. Applying a lowpass filter.\u001b[0m\n",
      "\u001b[32m2024-08-26 00:45:46.391\u001b[0m | \u001b[33m\u001b[1mWARNING \u001b[0m | \u001b[36menfify.preprocessing\u001b[0m:\u001b[36mdownsample_scipy\u001b[0m:\u001b[36m47\u001b[0m - \u001b[33m\u001b[1mThe target sampling rate is not an integer multiple of the current sampling rate. Resampling is used, which does not have an integrated antialiasing filter. Applying a lowpass filter.\u001b[0m\n"
     ]
    },
    {
     "name": "stderr",
     "output_type": "stream",
     "text": [
      " 13%|█▎        | 132/1000 [00:09<01:08, 12.70it/s]"
     ]
    },
    {
     "name": "stdout",
     "output_type": "stream",
     "text": [
      "\u001b[32m2024-08-26 00:45:46.451\u001b[0m | \u001b[33m\u001b[1mWARNING \u001b[0m | \u001b[36menfify.preprocessing\u001b[0m:\u001b[36mdownsample_scipy\u001b[0m:\u001b[36m47\u001b[0m - \u001b[33m\u001b[1mThe target sampling rate is not an integer multiple of the current sampling rate. Resampling is used, which does not have an integrated antialiasing filter. Applying a lowpass filter.\u001b[0m\n"
     ]
    },
    {
     "name": "stderr",
     "output_type": "stream",
     "text": [
      " 14%|█▎        | 137/1000 [00:10<00:55, 15.66it/s]"
     ]
    },
    {
     "name": "stdout",
     "output_type": "stream",
     "text": [
      "\u001b[32m2024-08-26 00:45:46.547\u001b[0m | \u001b[33m\u001b[1mWARNING \u001b[0m | \u001b[36menfify.preprocessing\u001b[0m:\u001b[36mdownsample_scipy\u001b[0m:\u001b[36m47\u001b[0m - \u001b[33m\u001b[1mThe target sampling rate is not an integer multiple of the current sampling rate. Resampling is used, which does not have an integrated antialiasing filter. Applying a lowpass filter.\u001b[0m\n",
      "\u001b[32m2024-08-26 00:45:46.593\u001b[0m | \u001b[33m\u001b[1mWARNING \u001b[0m | \u001b[36menfify.preprocessing\u001b[0m:\u001b[36mdownsample_scipy\u001b[0m:\u001b[36m47\u001b[0m - \u001b[33m\u001b[1mThe target sampling rate is not an integer multiple of the current sampling rate. Resampling is used, which does not have an integrated antialiasing filter. Applying a lowpass filter.\u001b[0m\n",
      "\u001b[32m2024-08-26 00:45:46.629\u001b[0m | \u001b[33m\u001b[1mWARNING \u001b[0m | \u001b[36menfify.preprocessing\u001b[0m:\u001b[36mdownsample_scipy\u001b[0m:\u001b[36m47\u001b[0m - \u001b[33m\u001b[1mThe target sampling rate is not an integer multiple of the current sampling rate. Resampling is used, which does not have an integrated antialiasing filter. Applying a lowpass filter.\u001b[0m\n"
     ]
    },
    {
     "name": "stderr",
     "output_type": "stream",
     "text": [
      " 14%|█▎        | 137/1000 [00:10<00:55, 15.66it/s]"
     ]
    },
    {
     "name": "stdout",
     "output_type": "stream",
     "text": [
      "\u001b[32m2024-08-26 00:45:46.667\u001b[0m | \u001b[33m\u001b[1mWARNING \u001b[0m | \u001b[36menfify.preprocessing\u001b[0m:\u001b[36mdownsample_scipy\u001b[0m:\u001b[36m47\u001b[0m - \u001b[33m\u001b[1mThe target sampling rate is not an integer multiple of the current sampling rate. Resampling is used, which does not have an integrated antialiasing filter. Applying a lowpass filter.\u001b[0m\n",
      "\u001b[32m2024-08-26 00:45:46.742\u001b[0m | \u001b[33m\u001b[1mWARNING \u001b[0m | \u001b[36menfify.preprocessing\u001b[0m:\u001b[36mdownsample_scipy\u001b[0m:\u001b[36m47\u001b[0m - \u001b[33m\u001b[1mThe target sampling rate is not an integer multiple of the current sampling rate. Resampling is used, which does not have an integrated antialiasing filter. Applying a lowpass filter.\u001b[0m\n"
     ]
    },
    {
     "name": "stderr",
     "output_type": "stream",
     "text": [
      " 14%|█▍        | 139/1000 [00:10<00:54, 15.83it/s]"
     ]
    },
    {
     "name": "stdout",
     "output_type": "stream",
     "text": [
      "\u001b[32m2024-08-26 00:45:46.784\u001b[0m | \u001b[33m\u001b[1mWARNING \u001b[0m | \u001b[36menfify.preprocessing\u001b[0m:\u001b[36mdownsample_scipy\u001b[0m:\u001b[36m47\u001b[0m - \u001b[33m\u001b[1mThe target sampling rate is not an integer multiple of the current sampling rate. Resampling is used, which does not have an integrated antialiasing filter. Applying a lowpass filter.\u001b[0m\n",
      "\u001b[32m2024-08-26 00:45:46.856\u001b[0m | \u001b[33m\u001b[1mWARNING \u001b[0m | \u001b[36menfify.preprocessing\u001b[0m:\u001b[36mdownsample_scipy\u001b[0m:\u001b[36m47\u001b[0m - \u001b[33m\u001b[1mThe target sampling rate is not an integer multiple of the current sampling rate. Resampling is used, which does not have an integrated antialiasing filter. Applying a lowpass filter.\u001b[0m\n"
     ]
    },
    {
     "name": "stderr",
     "output_type": "stream",
     "text": [
      " 14%|█▍        | 143/1000 [00:10<00:50, 17.06it/s]"
     ]
    },
    {
     "name": "stdout",
     "output_type": "stream",
     "text": [
      "\u001b[32m2024-08-26 00:45:46.902\u001b[0m | \u001b[33m\u001b[1mWARNING \u001b[0m | \u001b[36menfify.preprocessing\u001b[0m:\u001b[36mdownsample_scipy\u001b[0m:\u001b[36m47\u001b[0m - \u001b[33m\u001b[1mThe target sampling rate is not an integer multiple of the current sampling rate. Resampling is used, which does not have an integrated antialiasing filter. Applying a lowpass filter.\u001b[0m\n",
      "\u001b[32m2024-08-26 00:45:46.947\u001b[0m | \u001b[33m\u001b[1mWARNING \u001b[0m | \u001b[36menfify.preprocessing\u001b[0m:\u001b[36mdownsample_scipy\u001b[0m:\u001b[36m47\u001b[0m - \u001b[33m\u001b[1mThe target sampling rate is not an integer multiple of the current sampling rate. Resampling is used, which does not have an integrated antialiasing filter. Applying a lowpass filter.\u001b[0m\n"
     ]
    },
    {
     "name": "stderr",
     "output_type": "stream",
     "text": [
      " 14%|█▍        | 143/1000 [00:10<00:50, 17.06it/s]"
     ]
    },
    {
     "name": "stdout",
     "output_type": "stream",
     "text": [
      "\u001b[32m2024-08-26 00:45:47.008\u001b[0m | \u001b[33m\u001b[1mWARNING \u001b[0m | \u001b[36menfify.preprocessing\u001b[0m:\u001b[36mdownsample_scipy\u001b[0m:\u001b[36m47\u001b[0m - \u001b[33m\u001b[1mThe target sampling rate is not an integer multiple of the current sampling rate. Resampling is used, which does not have an integrated antialiasing filter. Applying a lowpass filter.\u001b[0m\n",
      "\u001b[32m2024-08-26 00:45:47.078\u001b[0m | \u001b[33m\u001b[1mWARNING \u001b[0m | \u001b[36menfify.preprocessing\u001b[0m:\u001b[36mdownsample_scipy\u001b[0m:\u001b[36m47\u001b[0m - \u001b[33m\u001b[1mThe target sampling rate is not an integer multiple of the current sampling rate. Resampling is used, which does not have an integrated antialiasing filter. Applying a lowpass filter.\u001b[0m\n"
     ]
    },
    {
     "name": "stderr",
     "output_type": "stream",
     "text": [
      " 14%|█▍        | 145/1000 [00:10<00:51, 16.65it/s]"
     ]
    },
    {
     "name": "stdout",
     "output_type": "stream",
     "text": [
      "\u001b[32m2024-08-26 00:45:47.132\u001b[0m | \u001b[33m\u001b[1mWARNING \u001b[0m | \u001b[36menfify.preprocessing\u001b[0m:\u001b[36mdownsample_scipy\u001b[0m:\u001b[36m47\u001b[0m - \u001b[33m\u001b[1mThe target sampling rate is not an integer multiple of the current sampling rate. Resampling is used, which does not have an integrated antialiasing filter. Applying a lowpass filter.\u001b[0m\n",
      "\u001b[32m2024-08-26 00:45:47.194\u001b[0m | \u001b[33m\u001b[1mWARNING \u001b[0m | \u001b[36menfify.preprocessing\u001b[0m:\u001b[36mdownsample_scipy\u001b[0m:\u001b[36m47\u001b[0m - \u001b[33m\u001b[1mThe target sampling rate is not an integer multiple of the current sampling rate. Resampling is used, which does not have an integrated antialiasing filter. Applying a lowpass filter.\u001b[0m\n"
     ]
    },
    {
     "name": "stderr",
     "output_type": "stream",
     "text": [
      " 15%|█▍        | 149/1000 [00:10<00:49, 17.22it/s]"
     ]
    },
    {
     "name": "stdout",
     "output_type": "stream",
     "text": [
      "\u001b[32m2024-08-26 00:45:47.246\u001b[0m | \u001b[33m\u001b[1mWARNING \u001b[0m | \u001b[36menfify.preprocessing\u001b[0m:\u001b[36mdownsample_scipy\u001b[0m:\u001b[36m47\u001b[0m - \u001b[33m\u001b[1mThe target sampling rate is not an integer multiple of the current sampling rate. Resampling is used, which does not have an integrated antialiasing filter. Applying a lowpass filter.\u001b[0m\n",
      "\u001b[32m2024-08-26 00:45:47.291\u001b[0m | \u001b[33m\u001b[1mWARNING \u001b[0m | \u001b[36menfify.preprocessing\u001b[0m:\u001b[36mdownsample_scipy\u001b[0m:\u001b[36m47\u001b[0m - \u001b[33m\u001b[1mThe target sampling rate is not an integer multiple of the current sampling rate. Resampling is used, which does not have an integrated antialiasing filter. Applying a lowpass filter.\u001b[0m\n"
     ]
    },
    {
     "name": "stderr",
     "output_type": "stream",
     "text": [
      " 15%|█▍        | 149/1000 [00:10<00:49, 17.22it/s]"
     ]
    },
    {
     "name": "stdout",
     "output_type": "stream",
     "text": [
      "\u001b[32m2024-08-26 00:45:47.364\u001b[0m | \u001b[33m\u001b[1mWARNING \u001b[0m | \u001b[36menfify.preprocessing\u001b[0m:\u001b[36mdownsample_scipy\u001b[0m:\u001b[36m47\u001b[0m - \u001b[33m\u001b[1mThe target sampling rate is not an integer multiple of the current sampling rate. Resampling is used, which does not have an integrated antialiasing filter. Applying a lowpass filter.\u001b[0m\n"
     ]
    },
    {
     "name": "stderr",
     "output_type": "stream",
     "text": [
      " 15%|█▌        | 151/1000 [00:10<00:54, 15.57it/s]"
     ]
    },
    {
     "name": "stdout",
     "output_type": "stream",
     "text": [
      "\u001b[32m2024-08-26 00:45:47.453\u001b[0m | \u001b[33m\u001b[1mWARNING \u001b[0m | \u001b[36menfify.preprocessing\u001b[0m:\u001b[36mdownsample_scipy\u001b[0m:\u001b[36m47\u001b[0m - \u001b[33m\u001b[1mThe target sampling rate is not an integer multiple of the current sampling rate. Resampling is used, which does not have an integrated antialiasing filter. Applying a lowpass filter.\u001b[0m\n",
      "\u001b[32m2024-08-26 00:45:47.515\u001b[0m | \u001b[33m\u001b[1mWARNING \u001b[0m | \u001b[36menfify.preprocessing\u001b[0m:\u001b[36mdownsample_scipy\u001b[0m:\u001b[36m47\u001b[0m - \u001b[33m\u001b[1mThe target sampling rate is not an integer multiple of the current sampling rate. Resampling is used, which does not have an integrated antialiasing filter. Applying a lowpass filter.\u001b[0m\n"
     ]
    },
    {
     "name": "stderr",
     "output_type": "stream",
     "text": [
      " 15%|█▌        | 153/1000 [00:11<00:57, 14.66it/s]"
     ]
    },
    {
     "name": "stdout",
     "output_type": "stream",
     "text": [
      "\u001b[32m2024-08-26 00:45:47.598\u001b[0m | \u001b[33m\u001b[1mWARNING \u001b[0m | \u001b[36menfify.preprocessing\u001b[0m:\u001b[36mdownsample_scipy\u001b[0m:\u001b[36m47\u001b[0m - \u001b[33m\u001b[1mThe target sampling rate is not an integer multiple of the current sampling rate. Resampling is used, which does not have an integrated antialiasing filter. Applying a lowpass filter.\u001b[0m\n"
     ]
    },
    {
     "name": "stderr",
     "output_type": "stream",
     "text": [
      " 16%|█▌        | 155/1000 [00:11<00:57, 14.70it/s]"
     ]
    },
    {
     "name": "stdout",
     "output_type": "stream",
     "text": [
      "\u001b[32m2024-08-26 00:45:47.676\u001b[0m | \u001b[33m\u001b[1mWARNING \u001b[0m | \u001b[36menfify.preprocessing\u001b[0m:\u001b[36mdownsample_scipy\u001b[0m:\u001b[36m47\u001b[0m - \u001b[33m\u001b[1mThe target sampling rate is not an integer multiple of the current sampling rate. Resampling is used, which does not have an integrated antialiasing filter. Applying a lowpass filter.\u001b[0m\n",
      "\u001b[32m2024-08-26 00:45:47.750\u001b[0m | \u001b[33m\u001b[1mWARNING \u001b[0m | \u001b[36menfify.preprocessing\u001b[0m:\u001b[36mdownsample_scipy\u001b[0m:\u001b[36m47\u001b[0m - \u001b[33m\u001b[1mThe target sampling rate is not an integer multiple of the current sampling rate. Resampling is used, which does not have an integrated antialiasing filter. Applying a lowpass filter.\u001b[0m\n"
     ]
    },
    {
     "name": "stderr",
     "output_type": "stream",
     "text": [
      " 16%|█▌        | 155/1000 [00:11<00:57, 14.70it/s]"
     ]
    },
    {
     "name": "stdout",
     "output_type": "stream",
     "text": [
      "\u001b[32m2024-08-26 00:45:47.805\u001b[0m | \u001b[33m\u001b[1mWARNING \u001b[0m | \u001b[36menfify.preprocessing\u001b[0m:\u001b[36mdownsample_scipy\u001b[0m:\u001b[36m47\u001b[0m - \u001b[33m\u001b[1mThe target sampling rate is not an integer multiple of the current sampling rate. Resampling is used, which does not have an integrated antialiasing filter. Applying a lowpass filter.\u001b[0m\n",
      "\u001b[32m2024-08-26 00:45:47.869\u001b[0m | \u001b[33m\u001b[1mWARNING \u001b[0m | \u001b[36menfify.preprocessing\u001b[0m:\u001b[36mdownsample_scipy\u001b[0m:\u001b[36m47\u001b[0m - \u001b[33m\u001b[1mThe target sampling rate is not an integer multiple of the current sampling rate. Resampling is used, which does not have an integrated antialiasing filter. Applying a lowpass filter.\u001b[0m\n"
     ]
    },
    {
     "name": "stderr",
     "output_type": "stream",
     "text": [
      " 16%|█▌        | 157/1000 [00:11<00:57, 14.77it/s]"
     ]
    },
    {
     "name": "stdout",
     "output_type": "stream",
     "text": [
      "\u001b[32m2024-08-26 00:45:47.945\u001b[0m | \u001b[33m\u001b[1mWARNING \u001b[0m | \u001b[36menfify.preprocessing\u001b[0m:\u001b[36mdownsample_scipy\u001b[0m:\u001b[36m47\u001b[0m - \u001b[33m\u001b[1mThe target sampling rate is not an integer multiple of the current sampling rate. Resampling is used, which does not have an integrated antialiasing filter. Applying a lowpass filter.\u001b[0m\n"
     ]
    },
    {
     "name": "stderr",
     "output_type": "stream",
     "text": [
      " 16%|█▌        | 159/1000 [00:11<00:56, 14.97it/s]"
     ]
    },
    {
     "name": "stdout",
     "output_type": "stream",
     "text": [
      "\u001b[32m2024-08-26 00:45:48.014\u001b[0m | \u001b[33m\u001b[1mWARNING \u001b[0m | \u001b[36menfify.preprocessing\u001b[0m:\u001b[36mdownsample_scipy\u001b[0m:\u001b[36m47\u001b[0m - \u001b[33m\u001b[1mThe target sampling rate is not an integer multiple of the current sampling rate. Resampling is used, which does not have an integrated antialiasing filter. Applying a lowpass filter.\u001b[0m\n",
      "\u001b[32m2024-08-26 00:45:48.068\u001b[0m | \u001b[33m\u001b[1mWARNING \u001b[0m | \u001b[36menfify.preprocessing\u001b[0m:\u001b[36mdownsample_scipy\u001b[0m:\u001b[36m47\u001b[0m - \u001b[33m\u001b[1mThe target sampling rate is not an integer multiple of the current sampling rate. Resampling is used, which does not have an integrated antialiasing filter. Applying a lowpass filter.\u001b[0m\n",
      "\u001b[32m2024-08-26 00:45:48.107\u001b[0m | \u001b[33m\u001b[1mWARNING \u001b[0m | \u001b[36menfify.preprocessing\u001b[0m:\u001b[36mdownsample_scipy\u001b[0m:\u001b[36m47\u001b[0m - \u001b[33m\u001b[1mThe target sampling rate is not an integer multiple of the current sampling rate. Resampling is used, which does not have an integrated antialiasing filter. Applying a lowpass filter.\u001b[0m\n"
     ]
    },
    {
     "name": "stderr",
     "output_type": "stream",
     "text": [
      " 16%|█▌        | 162/1000 [00:11<00:50, 16.47it/s]"
     ]
    },
    {
     "name": "stdout",
     "output_type": "stream",
     "text": [
      "\u001b[32m2024-08-26 00:45:48.161\u001b[0m | \u001b[33m\u001b[1mWARNING \u001b[0m | \u001b[36menfify.preprocessing\u001b[0m:\u001b[36mdownsample_scipy\u001b[0m:\u001b[36m47\u001b[0m - \u001b[33m\u001b[1mThe target sampling rate is not an integer multiple of the current sampling rate. Resampling is used, which does not have an integrated antialiasing filter. Applying a lowpass filter.\u001b[0m\n"
     ]
    },
    {
     "name": "stderr",
     "output_type": "stream",
     "text": [
      " 16%|█▋        | 164/1000 [00:11<00:56, 14.92it/s]"
     ]
    },
    {
     "name": "stdout",
     "output_type": "stream",
     "text": [
      "\u001b[32m2024-08-26 00:45:48.232\u001b[0m | \u001b[33m\u001b[1mWARNING \u001b[0m | \u001b[36menfify.preprocessing\u001b[0m:\u001b[36mdownsample_scipy\u001b[0m:\u001b[36m47\u001b[0m - \u001b[33m\u001b[1mThe target sampling rate is not an integer multiple of the current sampling rate. Resampling is used, which does not have an integrated antialiasing filter. Applying a lowpass filter.\u001b[0m\n",
      "\u001b[32m2024-08-26 00:45:48.326\u001b[0m | \u001b[33m\u001b[1mWARNING \u001b[0m | \u001b[36menfify.preprocessing\u001b[0m:\u001b[36mdownsample_scipy\u001b[0m:\u001b[36m47\u001b[0m - \u001b[33m\u001b[1mThe target sampling rate is not an integer multiple of the current sampling rate. Resampling is used, which does not have an integrated antialiasing filter. Applying a lowpass filter.\u001b[0m\n"
     ]
    },
    {
     "name": "stderr",
     "output_type": "stream",
     "text": [
      " 16%|█▋        | 164/1000 [00:11<00:56, 14.92it/s]"
     ]
    },
    {
     "name": "stdout",
     "output_type": "stream",
     "text": [
      "\u001b[32m2024-08-26 00:45:48.396\u001b[0m | \u001b[33m\u001b[1mWARNING \u001b[0m | \u001b[36menfify.preprocessing\u001b[0m:\u001b[36mdownsample_scipy\u001b[0m:\u001b[36m47\u001b[0m - \u001b[33m\u001b[1mThe target sampling rate is not an integer multiple of the current sampling rate. Resampling is used, which does not have an integrated antialiasing filter. Applying a lowpass filter.\u001b[0m\n"
     ]
    },
    {
     "name": "stderr",
     "output_type": "stream",
     "text": [
      " 17%|█▋        | 166/1000 [00:11<00:55, 15.08it/s]"
     ]
    },
    {
     "name": "stdout",
     "output_type": "stream",
     "text": [
      "\u001b[32m2024-08-26 00:45:48.451\u001b[0m | \u001b[33m\u001b[1mWARNING \u001b[0m | \u001b[36menfify.preprocessing\u001b[0m:\u001b[36mdownsample_scipy\u001b[0m:\u001b[36m47\u001b[0m - \u001b[33m\u001b[1mThe target sampling rate is not an integer multiple of the current sampling rate. Resampling is used, which does not have an integrated antialiasing filter. Applying a lowpass filter.\u001b[0m\n",
      "\u001b[32m2024-08-26 00:45:48.524\u001b[0m | \u001b[33m\u001b[1mWARNING \u001b[0m | \u001b[36menfify.preprocessing\u001b[0m:\u001b[36mdownsample_scipy\u001b[0m:\u001b[36m47\u001b[0m - \u001b[33m\u001b[1mThe target sampling rate is not an integer multiple of the current sampling rate. Resampling is used, which does not have an integrated antialiasing filter. Applying a lowpass filter.\u001b[0m\n"
     ]
    },
    {
     "name": "stderr",
     "output_type": "stream",
     "text": [
      " 17%|█▋        | 168/1000 [00:12<00:57, 14.49it/s]"
     ]
    },
    {
     "name": "stdout",
     "output_type": "stream",
     "text": [
      "\u001b[32m2024-08-26 00:45:48.601\u001b[0m | \u001b[33m\u001b[1mWARNING \u001b[0m | \u001b[36menfify.preprocessing\u001b[0m:\u001b[36mdownsample_scipy\u001b[0m:\u001b[36m47\u001b[0m - \u001b[33m\u001b[1mThe target sampling rate is not an integer multiple of the current sampling rate. Resampling is used, which does not have an integrated antialiasing filter. Applying a lowpass filter.\u001b[0m\n"
     ]
    },
    {
     "name": "stderr",
     "output_type": "stream",
     "text": [
      " 17%|█▋        | 170/1000 [00:12<00:58, 14.24it/s]"
     ]
    },
    {
     "name": "stdout",
     "output_type": "stream",
     "text": [
      "\u001b[32m2024-08-26 00:45:48.696\u001b[0m | \u001b[33m\u001b[1mWARNING \u001b[0m | \u001b[36menfify.preprocessing\u001b[0m:\u001b[36mdownsample_scipy\u001b[0m:\u001b[36m47\u001b[0m - \u001b[33m\u001b[1mThe target sampling rate is not an integer multiple of the current sampling rate. Resampling is used, which does not have an integrated antialiasing filter. Applying a lowpass filter.\u001b[0m\n",
      "\u001b[32m2024-08-26 00:45:48.759\u001b[0m | \u001b[33m\u001b[1mWARNING \u001b[0m | \u001b[36menfify.preprocessing\u001b[0m:\u001b[36mdownsample_scipy\u001b[0m:\u001b[36m47\u001b[0m - \u001b[33m\u001b[1mThe target sampling rate is not an integer multiple of the current sampling rate. Resampling is used, which does not have an integrated antialiasing filter. Applying a lowpass filter.\u001b[0m\n"
     ]
    },
    {
     "name": "stderr",
     "output_type": "stream",
     "text": [
      " 17%|█▋        | 170/1000 [00:12<00:58, 14.24it/s]"
     ]
    },
    {
     "name": "stdout",
     "output_type": "stream",
     "text": [
      "\u001b[32m2024-08-26 00:45:48.820\u001b[0m | \u001b[33m\u001b[1mWARNING \u001b[0m | \u001b[36menfify.preprocessing\u001b[0m:\u001b[36mdownsample_scipy\u001b[0m:\u001b[36m47\u001b[0m - \u001b[33m\u001b[1mThe target sampling rate is not an integer multiple of the current sampling rate. Resampling is used, which does not have an integrated antialiasing filter. Applying a lowpass filter.\u001b[0m\n",
      "\u001b[32m2024-08-26 00:45:48.894\u001b[0m | \u001b[33m\u001b[1mWARNING \u001b[0m | \u001b[36menfify.preprocessing\u001b[0m:\u001b[36mdownsample_scipy\u001b[0m:\u001b[36m47\u001b[0m - \u001b[33m\u001b[1mThe target sampling rate is not an integer multiple of the current sampling rate. Resampling is used, which does not have an integrated antialiasing filter. Applying a lowpass filter.\u001b[0m\n"
     ]
    },
    {
     "name": "stderr",
     "output_type": "stream",
     "text": [
      " 17%|█▋        | 172/1000 [00:12<00:56, 14.62it/s]"
     ]
    },
    {
     "name": "stdout",
     "output_type": "stream",
     "text": [
      "\u001b[32m2024-08-26 00:45:48.951\u001b[0m | \u001b[33m\u001b[1mWARNING \u001b[0m | \u001b[36menfify.preprocessing\u001b[0m:\u001b[36mdownsample_scipy\u001b[0m:\u001b[36m47\u001b[0m - \u001b[33m\u001b[1mThe target sampling rate is not an integer multiple of the current sampling rate. Resampling is used, which does not have an integrated antialiasing filter. Applying a lowpass filter.\u001b[0m\n"
     ]
    },
    {
     "name": "stderr",
     "output_type": "stream",
     "text": [
      " 17%|█▋        | 174/1000 [00:12<00:59, 13.84it/s]"
     ]
    },
    {
     "name": "stdout",
     "output_type": "stream",
     "text": [
      "\u001b[32m2024-08-26 00:45:49.040\u001b[0m | \u001b[33m\u001b[1mWARNING \u001b[0m | \u001b[36menfify.preprocessing\u001b[0m:\u001b[36mdownsample_scipy\u001b[0m:\u001b[36m47\u001b[0m - \u001b[33m\u001b[1mThe target sampling rate is not an integer multiple of the current sampling rate. Resampling is used, which does not have an integrated antialiasing filter. Applying a lowpass filter.\u001b[0m\n",
      "\u001b[32m2024-08-26 00:45:49.114\u001b[0m | \u001b[33m\u001b[1mWARNING \u001b[0m | \u001b[36menfify.preprocessing\u001b[0m:\u001b[36mdownsample_scipy\u001b[0m:\u001b[36m47\u001b[0m - \u001b[33m\u001b[1mThe target sampling rate is not an integer multiple of the current sampling rate. Resampling is used, which does not have an integrated antialiasing filter. Applying a lowpass filter.\u001b[0m\n"
     ]
    },
    {
     "name": "stderr",
     "output_type": "stream",
     "text": [
      " 18%|█▊        | 176/1000 [00:12<00:59, 13.77it/s]"
     ]
    },
    {
     "name": "stdout",
     "output_type": "stream",
     "text": [
      "\u001b[32m2024-08-26 00:45:49.217\u001b[0m | \u001b[33m\u001b[1mWARNING \u001b[0m | \u001b[36menfify.preprocessing\u001b[0m:\u001b[36mdownsample_scipy\u001b[0m:\u001b[36m47\u001b[0m - \u001b[33m\u001b[1mThe target sampling rate is not an integer multiple of the current sampling rate. Resampling is used, which does not have an integrated antialiasing filter. Applying a lowpass filter.\u001b[0m\n"
     ]
    },
    {
     "name": "stderr",
     "output_type": "stream",
     "text": [
      " 18%|█▊        | 179/1000 [00:12<00:50, 16.12it/s]"
     ]
    },
    {
     "name": "stdout",
     "output_type": "stream",
     "text": [
      "\u001b[32m2024-08-26 00:45:49.252\u001b[0m | \u001b[33m\u001b[1mWARNING \u001b[0m | \u001b[36menfify.preprocessing\u001b[0m:\u001b[36mdownsample_scipy\u001b[0m:\u001b[36m47\u001b[0m - \u001b[33m\u001b[1mThe target sampling rate is not an integer multiple of the current sampling rate. Resampling is used, which does not have an integrated antialiasing filter. Applying a lowpass filter.\u001b[0m\n",
      "\u001b[32m2024-08-26 00:45:49.295\u001b[0m | \u001b[33m\u001b[1mWARNING \u001b[0m | \u001b[36menfify.preprocessing\u001b[0m:\u001b[36mdownsample_scipy\u001b[0m:\u001b[36m47\u001b[0m - \u001b[33m\u001b[1mThe target sampling rate is not an integer multiple of the current sampling rate. Resampling is used, which does not have an integrated antialiasing filter. Applying a lowpass filter.\u001b[0m\n",
      "\u001b[32m2024-08-26 00:45:49.343\u001b[0m | \u001b[33m\u001b[1mWARNING \u001b[0m | \u001b[36menfify.preprocessing\u001b[0m:\u001b[36mdownsample_scipy\u001b[0m:\u001b[36m47\u001b[0m - \u001b[33m\u001b[1mThe target sampling rate is not an integer multiple of the current sampling rate. Resampling is used, which does not have an integrated antialiasing filter. Applying a lowpass filter.\u001b[0m\n",
      "\u001b[32m2024-08-26 00:45:49.393\u001b[0m | \u001b[33m\u001b[1mWARNING \u001b[0m | \u001b[36menfify.preprocessing\u001b[0m:\u001b[36mdownsample_scipy\u001b[0m:\u001b[36m47\u001b[0m - \u001b[33m\u001b[1mThe target sampling rate is not an integer multiple of the current sampling rate. Resampling is used, which does not have an integrated antialiasing filter. Applying a lowpass filter.\u001b[0m\n"
     ]
    },
    {
     "name": "stderr",
     "output_type": "stream",
     "text": [
      " 18%|█▊        | 183/1000 [00:13<00:52, 15.42it/s]"
     ]
    },
    {
     "name": "stdout",
     "output_type": "stream",
     "text": [
      "\u001b[32m2024-08-26 00:45:49.456\u001b[0m | \u001b[33m\u001b[1mWARNING \u001b[0m | \u001b[36menfify.preprocessing\u001b[0m:\u001b[36mdownsample_scipy\u001b[0m:\u001b[36m47\u001b[0m - \u001b[33m\u001b[1mThe target sampling rate is not an integer multiple of the current sampling rate. Resampling is used, which does not have an integrated antialiasing filter. Applying a lowpass filter.\u001b[0m\n",
      "\u001b[32m2024-08-26 00:45:49.518\u001b[0m | \u001b[33m\u001b[1mWARNING \u001b[0m | \u001b[36menfify.preprocessing\u001b[0m:\u001b[36mdownsample_scipy\u001b[0m:\u001b[36m47\u001b[0m - \u001b[33m\u001b[1mThe target sampling rate is not an integer multiple of the current sampling rate. Resampling is used, which does not have an integrated antialiasing filter. Applying a lowpass filter.\u001b[0m\n",
      "\u001b[32m2024-08-26 00:45:49.589\u001b[0m | \u001b[33m\u001b[1mWARNING \u001b[0m | \u001b[36menfify.preprocessing\u001b[0m:\u001b[36mdownsample_scipy\u001b[0m:\u001b[36m47\u001b[0m - \u001b[33m\u001b[1mThe target sampling rate is not an integer multiple of the current sampling rate. Resampling is used, which does not have an integrated antialiasing filter. Applying a lowpass filter.\u001b[0m\n"
     ]
    },
    {
     "name": "stderr",
     "output_type": "stream",
     "text": [
      " 18%|█▊        | 185/1000 [00:13<00:56, 14.36it/s]"
     ]
    },
    {
     "name": "stdout",
     "output_type": "stream",
     "text": [
      "\u001b[32m2024-08-26 00:45:49.667\u001b[0m | \u001b[33m\u001b[1mWARNING \u001b[0m | \u001b[36menfify.preprocessing\u001b[0m:\u001b[36mdownsample_scipy\u001b[0m:\u001b[36m47\u001b[0m - \u001b[33m\u001b[1mThe target sampling rate is not an integer multiple of the current sampling rate. Resampling is used, which does not have an integrated antialiasing filter. Applying a lowpass filter.\u001b[0m\n",
      "\u001b[32m2024-08-26 00:45:49.751\u001b[0m | \u001b[33m\u001b[1mWARNING \u001b[0m | \u001b[36menfify.preprocessing\u001b[0m:\u001b[36mdownsample_scipy\u001b[0m:\u001b[36m47\u001b[0m - \u001b[33m\u001b[1mThe target sampling rate is not an integer multiple of the current sampling rate. Resampling is used, which does not have an integrated antialiasing filter. Applying a lowpass filter.\u001b[0m\n",
      "\u001b[32m2024-08-26 00:45:49.829\u001b[0m | \u001b[33m\u001b[1mWARNING \u001b[0m | \u001b[36menfify.preprocessing\u001b[0m:\u001b[36mdownsample_scipy\u001b[0m:\u001b[36m47\u001b[0m - \u001b[33m\u001b[1mThe target sampling rate is not an integer multiple of the current sampling rate. Resampling is used, which does not have an integrated antialiasing filter. Applying a lowpass filter.\u001b[0m\n"
     ]
    },
    {
     "name": "stderr",
     "output_type": "stream",
     "text": [
      " 19%|█▊        | 187/1000 [00:13<00:59, 13.65it/s]"
     ]
    },
    {
     "name": "stdout",
     "output_type": "stream",
     "text": [
      "\u001b[32m2024-08-26 00:45:49.901\u001b[0m | \u001b[33m\u001b[1mWARNING \u001b[0m | \u001b[36menfify.preprocessing\u001b[0m:\u001b[36mdownsample_scipy\u001b[0m:\u001b[36m47\u001b[0m - \u001b[33m\u001b[1mThe target sampling rate is not an integer multiple of the current sampling rate. Resampling is used, which does not have an integrated antialiasing filter. Applying a lowpass filter.\u001b[0m\n",
      "\u001b[32m2024-08-26 00:45:50.001\u001b[0m | \u001b[33m\u001b[1mWARNING \u001b[0m | \u001b[36menfify.preprocessing\u001b[0m:\u001b[36mdownsample_scipy\u001b[0m:\u001b[36m47\u001b[0m - \u001b[33m\u001b[1mThe target sampling rate is not an integer multiple of the current sampling rate. Resampling is used, which does not have an integrated antialiasing filter. Applying a lowpass filter.\u001b[0m\n",
      "\u001b[32m2024-08-26 00:45:50.083\u001b[0m | \u001b[33m\u001b[1mWARNING \u001b[0m | \u001b[36menfify.preprocessing\u001b[0m:\u001b[36mdownsample_scipy\u001b[0m:\u001b[36m47\u001b[0m - \u001b[33m\u001b[1mThe target sampling rate is not an integer multiple of the current sampling rate. Resampling is used, which does not have an integrated antialiasing filter. Applying a lowpass filter.\u001b[0m\n"
     ]
    },
    {
     "name": "stderr",
     "output_type": "stream",
     "text": [
      " 19%|█▉        | 191/1000 [00:13<01:03, 12.75it/s]"
     ]
    },
    {
     "name": "stdout",
     "output_type": "stream",
     "text": [
      "\u001b[32m2024-08-26 00:45:50.160\u001b[0m | \u001b[33m\u001b[1mWARNING \u001b[0m | \u001b[36menfify.preprocessing\u001b[0m:\u001b[36mdownsample_scipy\u001b[0m:\u001b[36m47\u001b[0m - \u001b[33m\u001b[1mThe target sampling rate is not an integer multiple of the current sampling rate. Resampling is used, which does not have an integrated antialiasing filter. Applying a lowpass filter.\u001b[0m\n",
      "\u001b[32m2024-08-26 00:45:50.248\u001b[0m | \u001b[33m\u001b[1mWARNING \u001b[0m | \u001b[36menfify.preprocessing\u001b[0m:\u001b[36mdownsample_scipy\u001b[0m:\u001b[36m47\u001b[0m - \u001b[33m\u001b[1mThe target sampling rate is not an integer multiple of the current sampling rate. Resampling is used, which does not have an integrated antialiasing filter. Applying a lowpass filter.\u001b[0m\n",
      "\u001b[32m2024-08-26 00:45:50.329\u001b[0m | \u001b[33m\u001b[1mWARNING \u001b[0m | \u001b[36menfify.preprocessing\u001b[0m:\u001b[36mdownsample_scipy\u001b[0m:\u001b[36m47\u001b[0m - \u001b[33m\u001b[1mThe target sampling rate is not an integer multiple of the current sampling rate. Resampling is used, which does not have an integrated antialiasing filter. Applying a lowpass filter.\u001b[0m\n"
     ]
    },
    {
     "name": "stderr",
     "output_type": "stream",
     "text": [
      " 19%|█▉        | 193/1000 [00:14<01:05, 12.27it/s]"
     ]
    },
    {
     "name": "stdout",
     "output_type": "stream",
     "text": [
      "\u001b[32m2024-08-26 00:45:50.414\u001b[0m | \u001b[33m\u001b[1mWARNING \u001b[0m | \u001b[36menfify.preprocessing\u001b[0m:\u001b[36mdownsample_scipy\u001b[0m:\u001b[36m47\u001b[0m - \u001b[33m\u001b[1mThe target sampling rate is not an integer multiple of the current sampling rate. Resampling is used, which does not have an integrated antialiasing filter. Applying a lowpass filter.\u001b[0m\n",
      "\u001b[32m2024-08-26 00:45:50.507\u001b[0m | \u001b[33m\u001b[1mWARNING \u001b[0m | \u001b[36menfify.preprocessing\u001b[0m:\u001b[36mdownsample_scipy\u001b[0m:\u001b[36m47\u001b[0m - \u001b[33m\u001b[1mThe target sampling rate is not an integer multiple of the current sampling rate. Resampling is used, which does not have an integrated antialiasing filter. Applying a lowpass filter.\u001b[0m\n",
      "\u001b[32m2024-08-26 00:45:50.590\u001b[0m | \u001b[33m\u001b[1mWARNING \u001b[0m | \u001b[36menfify.preprocessing\u001b[0m:\u001b[36mdownsample_scipy\u001b[0m:\u001b[36m47\u001b[0m - \u001b[33m\u001b[1mThe target sampling rate is not an integer multiple of the current sampling rate. Resampling is used, which does not have an integrated antialiasing filter. Applying a lowpass filter.\u001b[0m\n"
     ]
    },
    {
     "name": "stderr",
     "output_type": "stream",
     "text": [
      " 20%|█▉        | 197/1000 [00:14<01:03, 12.56it/s]"
     ]
    },
    {
     "name": "stdout",
     "output_type": "stream",
     "text": [
      "\u001b[32m2024-08-26 00:45:50.669\u001b[0m | \u001b[33m\u001b[1mWARNING \u001b[0m | \u001b[36menfify.preprocessing\u001b[0m:\u001b[36mdownsample_scipy\u001b[0m:\u001b[36m47\u001b[0m - \u001b[33m\u001b[1mThe target sampling rate is not an integer multiple of the current sampling rate. Resampling is used, which does not have an integrated antialiasing filter. Applying a lowpass filter.\u001b[0m\n",
      "\u001b[32m2024-08-26 00:45:50.751\u001b[0m | \u001b[33m\u001b[1mWARNING \u001b[0m | \u001b[36menfify.preprocessing\u001b[0m:\u001b[36mdownsample_scipy\u001b[0m:\u001b[36m47\u001b[0m - \u001b[33m\u001b[1mThe target sampling rate is not an integer multiple of the current sampling rate. Resampling is used, which does not have an integrated antialiasing filter. Applying a lowpass filter.\u001b[0m\n",
      "\u001b[32m2024-08-26 00:45:50.817\u001b[0m | \u001b[33m\u001b[1mWARNING \u001b[0m | \u001b[36menfify.preprocessing\u001b[0m:\u001b[36mdownsample_scipy\u001b[0m:\u001b[36m47\u001b[0m - \u001b[33m\u001b[1mThe target sampling rate is not an integer multiple of the current sampling rate. Resampling is used, which does not have an integrated antialiasing filter. Applying a lowpass filter.\u001b[0m\n"
     ]
    },
    {
     "name": "stderr",
     "output_type": "stream",
     "text": [
      " 20%|██        | 201/1000 [00:14<00:56, 14.16it/s]"
     ]
    },
    {
     "name": "stdout",
     "output_type": "stream",
     "text": [
      "\u001b[32m2024-08-26 00:45:50.895\u001b[0m | \u001b[33m\u001b[1mWARNING \u001b[0m | \u001b[36menfify.preprocessing\u001b[0m:\u001b[36mdownsample_scipy\u001b[0m:\u001b[36m47\u001b[0m - \u001b[33m\u001b[1mThe target sampling rate is not an integer multiple of the current sampling rate. Resampling is used, which does not have an integrated antialiasing filter. Applying a lowpass filter.\u001b[0m\n",
      "\u001b[32m2024-08-26 00:45:50.942\u001b[0m | \u001b[33m\u001b[1mWARNING \u001b[0m | \u001b[36menfify.preprocessing\u001b[0m:\u001b[36mdownsample_scipy\u001b[0m:\u001b[36m47\u001b[0m - \u001b[33m\u001b[1mThe target sampling rate is not an integer multiple of the current sampling rate. Resampling is used, which does not have an integrated antialiasing filter. Applying a lowpass filter.\u001b[0m\n",
      "\u001b[32m2024-08-26 00:45:50.996\u001b[0m | \u001b[33m\u001b[1mWARNING \u001b[0m | \u001b[36menfify.preprocessing\u001b[0m:\u001b[36mdownsample_scipy\u001b[0m:\u001b[36m47\u001b[0m - \u001b[33m\u001b[1mThe target sampling rate is not an integer multiple of the current sampling rate. Resampling is used, which does not have an integrated antialiasing filter. Applying a lowpass filter.\u001b[0m\n",
      "\u001b[32m2024-08-26 00:45:51.069\u001b[0m | \u001b[33m\u001b[1mWARNING \u001b[0m | \u001b[36menfify.preprocessing\u001b[0m:\u001b[36mdownsample_scipy\u001b[0m:\u001b[36m47\u001b[0m - \u001b[33m\u001b[1mThe target sampling rate is not an integer multiple of the current sampling rate. Resampling is used, which does not have an integrated antialiasing filter. Applying a lowpass filter.\u001b[0m\n"
     ]
    },
    {
     "name": "stderr",
     "output_type": "stream",
     "text": [
      " 20%|██        | 205/1000 [00:14<00:59, 13.42it/s]"
     ]
    },
    {
     "name": "stdout",
     "output_type": "stream",
     "text": [
      "\u001b[32m2024-08-26 00:45:51.148\u001b[0m | \u001b[33m\u001b[1mWARNING \u001b[0m | \u001b[36menfify.preprocessing\u001b[0m:\u001b[36mdownsample_scipy\u001b[0m:\u001b[36m47\u001b[0m - \u001b[33m\u001b[1mThe target sampling rate is not an integer multiple of the current sampling rate. Resampling is used, which does not have an integrated antialiasing filter. Applying a lowpass filter.\u001b[0m\n",
      "\u001b[32m2024-08-26 00:45:51.225\u001b[0m | \u001b[33m\u001b[1mWARNING \u001b[0m | \u001b[36menfify.preprocessing\u001b[0m:\u001b[36mdownsample_scipy\u001b[0m:\u001b[36m47\u001b[0m - \u001b[33m\u001b[1mThe target sampling rate is not an integer multiple of the current sampling rate. Resampling is used, which does not have an integrated antialiasing filter. Applying a lowpass filter.\u001b[0m\n",
      "\u001b[32m2024-08-26 00:45:51.298\u001b[0m | \u001b[33m\u001b[1mWARNING \u001b[0m | \u001b[36menfify.preprocessing\u001b[0m:\u001b[36mdownsample_scipy\u001b[0m:\u001b[36m47\u001b[0m - \u001b[33m\u001b[1mThe target sampling rate is not an integer multiple of the current sampling rate. Resampling is used, which does not have an integrated antialiasing filter. Applying a lowpass filter.\u001b[0m\n"
     ]
    },
    {
     "name": "stderr",
     "output_type": "stream",
     "text": [
      " 21%|██        | 207/1000 [00:14<01:02, 12.74it/s]"
     ]
    },
    {
     "name": "stdout",
     "output_type": "stream",
     "text": [
      "\u001b[32m2024-08-26 00:45:51.381\u001b[0m | \u001b[33m\u001b[1mWARNING \u001b[0m | \u001b[36menfify.preprocessing\u001b[0m:\u001b[36mdownsample_scipy\u001b[0m:\u001b[36m47\u001b[0m - \u001b[33m\u001b[1mThe target sampling rate is not an integer multiple of the current sampling rate. Resampling is used, which does not have an integrated antialiasing filter. Applying a lowpass filter.\u001b[0m\n",
      "\u001b[32m2024-08-26 00:45:51.478\u001b[0m | \u001b[33m\u001b[1mWARNING \u001b[0m | \u001b[36menfify.preprocessing\u001b[0m:\u001b[36mdownsample_scipy\u001b[0m:\u001b[36m47\u001b[0m - \u001b[33m\u001b[1mThe target sampling rate is not an integer multiple of the current sampling rate. Resampling is used, which does not have an integrated antialiasing filter. Applying a lowpass filter.\u001b[0m\n",
      "\u001b[32m2024-08-26 00:45:51.556\u001b[0m | \u001b[33m\u001b[1mWARNING \u001b[0m | \u001b[36menfify.preprocessing\u001b[0m:\u001b[36mdownsample_scipy\u001b[0m:\u001b[36m47\u001b[0m - \u001b[33m\u001b[1mThe target sampling rate is not an integer multiple of the current sampling rate. Resampling is used, which does not have an integrated antialiasing filter. Applying a lowpass filter.\u001b[0m\n"
     ]
    },
    {
     "name": "stderr",
     "output_type": "stream",
     "text": [
      " 21%|██        | 211/1000 [00:15<01:02, 12.68it/s]"
     ]
    },
    {
     "name": "stdout",
     "output_type": "stream",
     "text": [
      "\u001b[32m2024-08-26 00:45:51.645\u001b[0m | \u001b[33m\u001b[1mWARNING \u001b[0m | \u001b[36menfify.preprocessing\u001b[0m:\u001b[36mdownsample_scipy\u001b[0m:\u001b[36m47\u001b[0m - \u001b[33m\u001b[1mThe target sampling rate is not an integer multiple of the current sampling rate. Resampling is used, which does not have an integrated antialiasing filter. Applying a lowpass filter.\u001b[0m\n",
      "\u001b[32m2024-08-26 00:45:51.739\u001b[0m | \u001b[33m\u001b[1mWARNING \u001b[0m | \u001b[36menfify.preprocessing\u001b[0m:\u001b[36mdownsample_scipy\u001b[0m:\u001b[36m47\u001b[0m - \u001b[33m\u001b[1mThe target sampling rate is not an integer multiple of the current sampling rate. Resampling is used, which does not have an integrated antialiasing filter. Applying a lowpass filter.\u001b[0m\n",
      "\u001b[32m2024-08-26 00:45:51.807\u001b[0m | \u001b[33m\u001b[1mWARNING \u001b[0m | \u001b[36menfify.preprocessing\u001b[0m:\u001b[36mdownsample_scipy\u001b[0m:\u001b[36m47\u001b[0m - \u001b[33m\u001b[1mThe target sampling rate is not an integer multiple of the current sampling rate. Resampling is used, which does not have an integrated antialiasing filter. Applying a lowpass filter.\u001b[0m\n"
     ]
    },
    {
     "name": "stderr",
     "output_type": "stream",
     "text": [
      " 21%|██▏       | 213/1000 [00:15<01:03, 12.40it/s]"
     ]
    },
    {
     "name": "stdout",
     "output_type": "stream",
     "text": [
      "\u001b[32m2024-08-26 00:45:51.879\u001b[0m | \u001b[33m\u001b[1mWARNING \u001b[0m | \u001b[36menfify.preprocessing\u001b[0m:\u001b[36mdownsample_scipy\u001b[0m:\u001b[36m47\u001b[0m - \u001b[33m\u001b[1mThe target sampling rate is not an integer multiple of the current sampling rate. Resampling is used, which does not have an integrated antialiasing filter. Applying a lowpass filter.\u001b[0m\n",
      "\u001b[32m2024-08-26 00:45:51.965\u001b[0m | \u001b[33m\u001b[1mWARNING \u001b[0m | \u001b[36menfify.preprocessing\u001b[0m:\u001b[36mdownsample_scipy\u001b[0m:\u001b[36m47\u001b[0m - \u001b[33m\u001b[1mThe target sampling rate is not an integer multiple of the current sampling rate. Resampling is used, which does not have an integrated antialiasing filter. Applying a lowpass filter.\u001b[0m\n",
      "\u001b[32m2024-08-26 00:45:52.047\u001b[0m | \u001b[33m\u001b[1mWARNING \u001b[0m | \u001b[36menfify.preprocessing\u001b[0m:\u001b[36mdownsample_scipy\u001b[0m:\u001b[36m47\u001b[0m - \u001b[33m\u001b[1mThe target sampling rate is not an integer multiple of the current sampling rate. Resampling is used, which does not have an integrated antialiasing filter. Applying a lowpass filter.\u001b[0m\n"
     ]
    },
    {
     "name": "stderr",
     "output_type": "stream",
     "text": [
      " 22%|██▏       | 217/1000 [00:15<00:57, 13.72it/s]"
     ]
    },
    {
     "name": "stdout",
     "output_type": "stream",
     "text": [
      "\u001b[32m2024-08-26 00:45:52.118\u001b[0m | \u001b[33m\u001b[1mWARNING \u001b[0m | \u001b[36menfify.preprocessing\u001b[0m:\u001b[36mdownsample_scipy\u001b[0m:\u001b[36m47\u001b[0m - \u001b[33m\u001b[1mThe target sampling rate is not an integer multiple of the current sampling rate. Resampling is used, which does not have an integrated antialiasing filter. Applying a lowpass filter.\u001b[0m\n",
      "\u001b[32m2024-08-26 00:45:52.200\u001b[0m | \u001b[33m\u001b[1mWARNING \u001b[0m | \u001b[36menfify.preprocessing\u001b[0m:\u001b[36mdownsample_scipy\u001b[0m:\u001b[36m47\u001b[0m - \u001b[33m\u001b[1mThe target sampling rate is not an integer multiple of the current sampling rate. Resampling is used, which does not have an integrated antialiasing filter. Applying a lowpass filter.\u001b[0m\n",
      "\u001b[32m2024-08-26 00:45:52.259\u001b[0m | \u001b[33m\u001b[1mWARNING \u001b[0m | \u001b[36menfify.preprocessing\u001b[0m:\u001b[36mdownsample_scipy\u001b[0m:\u001b[36m47\u001b[0m - \u001b[33m\u001b[1mThe target sampling rate is not an integer multiple of the current sampling rate. Resampling is used, which does not have an integrated antialiasing filter. Applying a lowpass filter.\u001b[0m\n",
      "\u001b[32m2024-08-26 00:45:52.312\u001b[0m | \u001b[33m\u001b[1mWARNING \u001b[0m | \u001b[36menfify.preprocessing\u001b[0m:\u001b[36mdownsample_scipy\u001b[0m:\u001b[36m47\u001b[0m - \u001b[33m\u001b[1mThe target sampling rate is not an integer multiple of the current sampling rate. Resampling is used, which does not have an integrated antialiasing filter. Applying a lowpass filter.\u001b[0m\n"
     ]
    },
    {
     "name": "stderr",
     "output_type": "stream",
     "text": [
      " 22%|██▏       | 219/1000 [00:15<00:57, 13.47it/s]"
     ]
    },
    {
     "name": "stdout",
     "output_type": "stream",
     "text": [
      "\u001b[32m2024-08-26 00:45:52.392\u001b[0m | \u001b[33m\u001b[1mWARNING \u001b[0m | \u001b[36menfify.preprocessing\u001b[0m:\u001b[36mdownsample_scipy\u001b[0m:\u001b[36m47\u001b[0m - \u001b[33m\u001b[1mThe target sampling rate is not an integer multiple of the current sampling rate. Resampling is used, which does not have an integrated antialiasing filter. Applying a lowpass filter.\u001b[0m\n",
      "\u001b[32m2024-08-26 00:45:52.474\u001b[0m | \u001b[33m\u001b[1mWARNING \u001b[0m | \u001b[36menfify.preprocessing\u001b[0m:\u001b[36mdownsample_scipy\u001b[0m:\u001b[36m47\u001b[0m - \u001b[33m\u001b[1mThe target sampling rate is not an integer multiple of the current sampling rate. Resampling is used, which does not have an integrated antialiasing filter. Applying a lowpass filter.\u001b[0m\n",
      "\u001b[32m2024-08-26 00:45:52.558\u001b[0m | \u001b[33m\u001b[1mWARNING \u001b[0m | \u001b[36menfify.preprocessing\u001b[0m:\u001b[36mdownsample_scipy\u001b[0m:\u001b[36m47\u001b[0m - \u001b[33m\u001b[1mThe target sampling rate is not an integer multiple of the current sampling rate. Resampling is used, which does not have an integrated antialiasing filter. Applying a lowpass filter.\u001b[0m\n"
     ]
    },
    {
     "name": "stderr",
     "output_type": "stream",
     "text": [
      " 22%|██▏       | 223/1000 [00:16<00:57, 13.48it/s]"
     ]
    },
    {
     "name": "stdout",
     "output_type": "stream",
     "text": [
      "\u001b[32m2024-08-26 00:45:52.649\u001b[0m | \u001b[33m\u001b[1mWARNING \u001b[0m | \u001b[36menfify.preprocessing\u001b[0m:\u001b[36mdownsample_scipy\u001b[0m:\u001b[36m47\u001b[0m - \u001b[33m\u001b[1mThe target sampling rate is not an integer multiple of the current sampling rate. Resampling is used, which does not have an integrated antialiasing filter. Applying a lowpass filter.\u001b[0m\n",
      "\u001b[32m2024-08-26 00:45:52.728\u001b[0m | \u001b[33m\u001b[1mWARNING \u001b[0m | \u001b[36menfify.preprocessing\u001b[0m:\u001b[36mdownsample_scipy\u001b[0m:\u001b[36m47\u001b[0m - \u001b[33m\u001b[1mThe target sampling rate is not an integer multiple of the current sampling rate. Resampling is used, which does not have an integrated antialiasing filter. Applying a lowpass filter.\u001b[0m\n",
      "\u001b[32m2024-08-26 00:45:52.772\u001b[0m | \u001b[33m\u001b[1mWARNING \u001b[0m | \u001b[36menfify.preprocessing\u001b[0m:\u001b[36mdownsample_scipy\u001b[0m:\u001b[36m47\u001b[0m - \u001b[33m\u001b[1mThe target sampling rate is not an integer multiple of the current sampling rate. Resampling is used, which does not have an integrated antialiasing filter. Applying a lowpass filter.\u001b[0m\n",
      "\u001b[32m2024-08-26 00:45:52.817\u001b[0m | \u001b[33m\u001b[1mWARNING \u001b[0m | \u001b[36menfify.preprocessing\u001b[0m:\u001b[36mdownsample_scipy\u001b[0m:\u001b[36m47\u001b[0m - \u001b[33m\u001b[1mThe target sampling rate is not an integer multiple of the current sampling rate. Resampling is used, which does not have an integrated antialiasing filter. Applying a lowpass filter.\u001b[0m\n"
     ]
    },
    {
     "name": "stderr",
     "output_type": "stream",
     "text": [
      " 23%|██▎       | 228/1000 [00:16<00:45, 16.92it/s]"
     ]
    },
    {
     "name": "stdout",
     "output_type": "stream",
     "text": [
      "\u001b[32m2024-08-26 00:45:52.859\u001b[0m | \u001b[33m\u001b[1mWARNING \u001b[0m | \u001b[36menfify.preprocessing\u001b[0m:\u001b[36mdownsample_scipy\u001b[0m:\u001b[36m47\u001b[0m - \u001b[33m\u001b[1mThe target sampling rate is not an integer multiple of the current sampling rate. Resampling is used, which does not have an integrated antialiasing filter. Applying a lowpass filter.\u001b[0m\n",
      "\u001b[32m2024-08-26 00:45:52.899\u001b[0m | \u001b[33m\u001b[1mWARNING \u001b[0m | \u001b[36menfify.preprocessing\u001b[0m:\u001b[36mdownsample_scipy\u001b[0m:\u001b[36m47\u001b[0m - \u001b[33m\u001b[1mThe target sampling rate is not an integer multiple of the current sampling rate. Resampling is used, which does not have an integrated antialiasing filter. Applying a lowpass filter.\u001b[0m\n",
      "\u001b[32m2024-08-26 00:45:52.947\u001b[0m | \u001b[33m\u001b[1mWARNING \u001b[0m | \u001b[36menfify.preprocessing\u001b[0m:\u001b[36mdownsample_scipy\u001b[0m:\u001b[36m47\u001b[0m - \u001b[33m\u001b[1mThe target sampling rate is not an integer multiple of the current sampling rate. Resampling is used, which does not have an integrated antialiasing filter. Applying a lowpass filter.\u001b[0m\n",
      "\u001b[32m2024-08-26 00:45:53.010\u001b[0m | \u001b[33m\u001b[1mWARNING \u001b[0m | \u001b[36menfify.preprocessing\u001b[0m:\u001b[36mdownsample_scipy\u001b[0m:\u001b[36m47\u001b[0m - \u001b[33m\u001b[1mThe target sampling rate is not an integer multiple of the current sampling rate. Resampling is used, which does not have an integrated antialiasing filter. Applying a lowpass filter.\u001b[0m\n"
     ]
    },
    {
     "name": "stderr",
     "output_type": "stream",
     "text": [
      " 23%|██▎       | 233/1000 [00:16<00:42, 18.05it/s]"
     ]
    },
    {
     "name": "stdout",
     "output_type": "stream",
     "text": [
      "\u001b[32m2024-08-26 00:45:53.065\u001b[0m | \u001b[33m\u001b[1mWARNING \u001b[0m | \u001b[36menfify.preprocessing\u001b[0m:\u001b[36mdownsample_scipy\u001b[0m:\u001b[36m47\u001b[0m - \u001b[33m\u001b[1mThe target sampling rate is not an integer multiple of the current sampling rate. Resampling is used, which does not have an integrated antialiasing filter. Applying a lowpass filter.\u001b[0m\n",
      "\u001b[32m2024-08-26 00:45:53.123\u001b[0m | \u001b[33m\u001b[1mWARNING \u001b[0m | \u001b[36menfify.preprocessing\u001b[0m:\u001b[36mdownsample_scipy\u001b[0m:\u001b[36m47\u001b[0m - \u001b[33m\u001b[1mThe target sampling rate is not an integer multiple of the current sampling rate. Resampling is used, which does not have an integrated antialiasing filter. Applying a lowpass filter.\u001b[0m\n",
      "\u001b[32m2024-08-26 00:45:53.165\u001b[0m | \u001b[33m\u001b[1mWARNING \u001b[0m | \u001b[36menfify.preprocessing\u001b[0m:\u001b[36mdownsample_scipy\u001b[0m:\u001b[36m47\u001b[0m - \u001b[33m\u001b[1mThe target sampling rate is not an integer multiple of the current sampling rate. Resampling is used, which does not have an integrated antialiasing filter. Applying a lowpass filter.\u001b[0m\n",
      "\u001b[32m2024-08-26 00:45:53.212\u001b[0m | \u001b[33m\u001b[1mWARNING \u001b[0m | \u001b[36menfify.preprocessing\u001b[0m:\u001b[36mdownsample_scipy\u001b[0m:\u001b[36m47\u001b[0m - \u001b[33m\u001b[1mThe target sampling rate is not an integer multiple of the current sampling rate. Resampling is used, which does not have an integrated antialiasing filter. Applying a lowpass filter.\u001b[0m\n"
     ]
    },
    {
     "name": "stderr",
     "output_type": "stream",
     "text": [
      " 24%|██▎       | 235/1000 [00:16<00:45, 16.83it/s]"
     ]
    },
    {
     "name": "stdout",
     "output_type": "stream",
     "text": [
      "\u001b[32m2024-08-26 00:45:53.272\u001b[0m | \u001b[33m\u001b[1mWARNING \u001b[0m | \u001b[36menfify.preprocessing\u001b[0m:\u001b[36mdownsample_scipy\u001b[0m:\u001b[36m47\u001b[0m - \u001b[33m\u001b[1mThe target sampling rate is not an integer multiple of the current sampling rate. Resampling is used, which does not have an integrated antialiasing filter. Applying a lowpass filter.\u001b[0m\n",
      "\u001b[32m2024-08-26 00:45:53.359\u001b[0m | \u001b[33m\u001b[1mWARNING \u001b[0m | \u001b[36menfify.preprocessing\u001b[0m:\u001b[36mdownsample_scipy\u001b[0m:\u001b[36m47\u001b[0m - \u001b[33m\u001b[1mThe target sampling rate is not an integer multiple of the current sampling rate. Resampling is used, which does not have an integrated antialiasing filter. Applying a lowpass filter.\u001b[0m\n",
      "\u001b[32m2024-08-26 00:45:53.411\u001b[0m | \u001b[33m\u001b[1mWARNING \u001b[0m | \u001b[36menfify.preprocessing\u001b[0m:\u001b[36mdownsample_scipy\u001b[0m:\u001b[36m47\u001b[0m - \u001b[33m\u001b[1mThe target sampling rate is not an integer multiple of the current sampling rate. Resampling is used, which does not have an integrated antialiasing filter. Applying a lowpass filter.\u001b[0m\n",
      "\u001b[32m2024-08-26 00:45:53.462\u001b[0m | \u001b[33m\u001b[1mWARNING \u001b[0m | \u001b[36menfify.preprocessing\u001b[0m:\u001b[36mdownsample_scipy\u001b[0m:\u001b[36m47\u001b[0m - \u001b[33m\u001b[1mThe target sampling rate is not an integer multiple of the current sampling rate. Resampling is used, which does not have an integrated antialiasing filter. Applying a lowpass filter.\u001b[0m\n"
     ]
    },
    {
     "name": "stderr",
     "output_type": "stream",
     "text": [
      " 24%|██▍       | 239/1000 [00:17<00:51, 14.85it/s]"
     ]
    },
    {
     "name": "stdout",
     "output_type": "stream",
     "text": [
      "\u001b[32m2024-08-26 00:45:53.558\u001b[0m | \u001b[33m\u001b[1mWARNING \u001b[0m | \u001b[36menfify.preprocessing\u001b[0m:\u001b[36mdownsample_scipy\u001b[0m:\u001b[36m47\u001b[0m - \u001b[33m\u001b[1mThe target sampling rate is not an integer multiple of the current sampling rate. Resampling is used, which does not have an integrated antialiasing filter. Applying a lowpass filter.\u001b[0m\n",
      "\u001b[32m2024-08-26 00:45:53.659\u001b[0m | \u001b[33m\u001b[1mWARNING \u001b[0m | \u001b[36menfify.preprocessing\u001b[0m:\u001b[36mdownsample_scipy\u001b[0m:\u001b[36m47\u001b[0m - \u001b[33m\u001b[1mThe target sampling rate is not an integer multiple of the current sampling rate. Resampling is used, which does not have an integrated antialiasing filter. Applying a lowpass filter.\u001b[0m\n",
      "\u001b[32m2024-08-26 00:45:53.714\u001b[0m | \u001b[33m\u001b[1mWARNING \u001b[0m | \u001b[36menfify.preprocessing\u001b[0m:\u001b[36mdownsample_scipy\u001b[0m:\u001b[36m47\u001b[0m - \u001b[33m\u001b[1mThe target sampling rate is not an integer multiple of the current sampling rate. Resampling is used, which does not have an integrated antialiasing filter. Applying a lowpass filter.\u001b[0m\n"
     ]
    },
    {
     "name": "stderr",
     "output_type": "stream",
     "text": [
      " 24%|██▍       | 243/1000 [00:17<00:50, 14.91it/s]"
     ]
    },
    {
     "name": "stdout",
     "output_type": "stream",
     "text": [
      "\u001b[32m2024-08-26 00:45:53.771\u001b[0m | \u001b[33m\u001b[1mWARNING \u001b[0m | \u001b[36menfify.preprocessing\u001b[0m:\u001b[36mdownsample_scipy\u001b[0m:\u001b[36m47\u001b[0m - \u001b[33m\u001b[1mThe target sampling rate is not an integer multiple of the current sampling rate. Resampling is used, which does not have an integrated antialiasing filter. Applying a lowpass filter.\u001b[0m\n",
      "\u001b[32m2024-08-26 00:45:53.849\u001b[0m | \u001b[33m\u001b[1mWARNING \u001b[0m | \u001b[36menfify.preprocessing\u001b[0m:\u001b[36mdownsample_scipy\u001b[0m:\u001b[36m47\u001b[0m - \u001b[33m\u001b[1mThe target sampling rate is not an integer multiple of the current sampling rate. Resampling is used, which does not have an integrated antialiasing filter. Applying a lowpass filter.\u001b[0m\n",
      "\u001b[32m2024-08-26 00:45:53.927\u001b[0m | \u001b[33m\u001b[1mWARNING \u001b[0m | \u001b[36menfify.preprocessing\u001b[0m:\u001b[36mdownsample_scipy\u001b[0m:\u001b[36m47\u001b[0m - \u001b[33m\u001b[1mThe target sampling rate is not an integer multiple of the current sampling rate. Resampling is used, which does not have an integrated antialiasing filter. Applying a lowpass filter.\u001b[0m\n"
     ]
    },
    {
     "name": "stderr",
     "output_type": "stream",
     "text": [
      " 24%|██▍       | 245/1000 [00:17<00:49, 15.33it/s]"
     ]
    },
    {
     "name": "stdout",
     "output_type": "stream",
     "text": [
      "\u001b[32m2024-08-26 00:45:53.978\u001b[0m | \u001b[33m\u001b[1mWARNING \u001b[0m | \u001b[36menfify.preprocessing\u001b[0m:\u001b[36mdownsample_scipy\u001b[0m:\u001b[36m47\u001b[0m - \u001b[33m\u001b[1mThe target sampling rate is not an integer multiple of the current sampling rate. Resampling is used, which does not have an integrated antialiasing filter. Applying a lowpass filter.\u001b[0m\n",
      "\u001b[32m2024-08-26 00:45:54.048\u001b[0m | \u001b[33m\u001b[1mWARNING \u001b[0m | \u001b[36menfify.preprocessing\u001b[0m:\u001b[36mdownsample_scipy\u001b[0m:\u001b[36m47\u001b[0m - \u001b[33m\u001b[1mThe target sampling rate is not an integer multiple of the current sampling rate. Resampling is used, which does not have an integrated antialiasing filter. Applying a lowpass filter.\u001b[0m\n",
      "\u001b[32m2024-08-26 00:45:54.095\u001b[0m | \u001b[33m\u001b[1mWARNING \u001b[0m | \u001b[36menfify.preprocessing\u001b[0m:\u001b[36mdownsample_scipy\u001b[0m:\u001b[36m47\u001b[0m - \u001b[33m\u001b[1mThe target sampling rate is not an integer multiple of the current sampling rate. Resampling is used, which does not have an integrated antialiasing filter. Applying a lowpass filter.\u001b[0m\n",
      "\u001b[32m2024-08-26 00:45:54.146\u001b[0m | \u001b[33m\u001b[1mWARNING \u001b[0m | \u001b[36menfify.preprocessing\u001b[0m:\u001b[36mdownsample_scipy\u001b[0m:\u001b[36m47\u001b[0m - \u001b[33m\u001b[1mThe target sampling rate is not an integer multiple of the current sampling rate. Resampling is used, which does not have an integrated antialiasing filter. Applying a lowpass filter.\u001b[0m\n"
     ]
    },
    {
     "name": "stderr",
     "output_type": "stream",
     "text": [
      " 25%|██▍       | 249/1000 [00:17<00:47, 15.78it/s]"
     ]
    },
    {
     "name": "stdout",
     "output_type": "stream",
     "text": [
      "\u001b[32m2024-08-26 00:45:54.214\u001b[0m | \u001b[33m\u001b[1mWARNING \u001b[0m | \u001b[36menfify.preprocessing\u001b[0m:\u001b[36mdownsample_scipy\u001b[0m:\u001b[36m47\u001b[0m - \u001b[33m\u001b[1mThe target sampling rate is not an integer multiple of the current sampling rate. Resampling is used, which does not have an integrated antialiasing filter. Applying a lowpass filter.\u001b[0m\n",
      "\u001b[32m2024-08-26 00:45:54.291\u001b[0m | \u001b[33m\u001b[1mWARNING \u001b[0m | \u001b[36menfify.preprocessing\u001b[0m:\u001b[36mdownsample_scipy\u001b[0m:\u001b[36m47\u001b[0m - \u001b[33m\u001b[1mThe target sampling rate is not an integer multiple of the current sampling rate. Resampling is used, which does not have an integrated antialiasing filter. Applying a lowpass filter.\u001b[0m\n",
      "\u001b[32m2024-08-26 00:45:54.345\u001b[0m | \u001b[33m\u001b[1mWARNING \u001b[0m | \u001b[36menfify.preprocessing\u001b[0m:\u001b[36mdownsample_scipy\u001b[0m:\u001b[36m47\u001b[0m - \u001b[33m\u001b[1mThe target sampling rate is not an integer multiple of the current sampling rate. Resampling is used, which does not have an integrated antialiasing filter. Applying a lowpass filter.\u001b[0m\n",
      "\u001b[32m2024-08-26 00:45:54.406\u001b[0m | \u001b[33m\u001b[1mWARNING \u001b[0m | \u001b[36menfify.preprocessing\u001b[0m:\u001b[36mdownsample_scipy\u001b[0m:\u001b[36m47\u001b[0m - \u001b[33m\u001b[1mThe target sampling rate is not an integer multiple of the current sampling rate. Resampling is used, which does not have an integrated antialiasing filter. Applying a lowpass filter.\u001b[0m\n"
     ]
    },
    {
     "name": "stderr",
     "output_type": "stream",
     "text": [
      " 25%|██▌       | 253/1000 [00:18<00:54, 13.81it/s]"
     ]
    },
    {
     "name": "stdout",
     "output_type": "stream",
     "text": [
      "\u001b[32m2024-08-26 00:45:54.513\u001b[0m | \u001b[33m\u001b[1mWARNING \u001b[0m | \u001b[36menfify.preprocessing\u001b[0m:\u001b[36mdownsample_scipy\u001b[0m:\u001b[36m47\u001b[0m - \u001b[33m\u001b[1mThe target sampling rate is not an integer multiple of the current sampling rate. Resampling is used, which does not have an integrated antialiasing filter. Applying a lowpass filter.\u001b[0m\n",
      "\u001b[32m2024-08-26 00:45:54.600\u001b[0m | \u001b[33m\u001b[1mWARNING \u001b[0m | \u001b[36menfify.preprocessing\u001b[0m:\u001b[36mdownsample_scipy\u001b[0m:\u001b[36m47\u001b[0m - \u001b[33m\u001b[1mThe target sampling rate is not an integer multiple of the current sampling rate. Resampling is used, which does not have an integrated antialiasing filter. Applying a lowpass filter.\u001b[0m\n",
      "\u001b[32m2024-08-26 00:45:54.659\u001b[0m | \u001b[33m\u001b[1mWARNING \u001b[0m | \u001b[36menfify.preprocessing\u001b[0m:\u001b[36mdownsample_scipy\u001b[0m:\u001b[36m47\u001b[0m - \u001b[33m\u001b[1mThe target sampling rate is not an integer multiple of the current sampling rate. Resampling is used, which does not have an integrated antialiasing filter. Applying a lowpass filter.\u001b[0m\n"
     ]
    },
    {
     "name": "stderr",
     "output_type": "stream",
     "text": [
      "                                                  \r"
     ]
    },
    {
     "name": "stdout",
     "output_type": "stream",
     "text": [
      "\u001b[32m2024-08-26 00:45:54.740\u001b[0m | \u001b[33m\u001b[1mWARNING \u001b[0m | \u001b[36menfify.preprocessing\u001b[0m:\u001b[36mdownsample_scipy\u001b[0m:\u001b[36m47\u001b[0m - \u001b[33m\u001b[1mThe target sampling rate is not an integer multiple of the current sampling rate. Resampling is used, which does not have an integrated antialiasing filter. Applying a lowpass filter.\u001b[0m\n",
      "\u001b[32m2024-08-26 00:45:54.824\u001b[0m | \u001b[33m\u001b[1mWARNING \u001b[0m | \u001b[36menfify.preprocessing\u001b[0m:\u001b[36mdownsample_scipy\u001b[0m:\u001b[36m47\u001b[0m - \u001b[33m\u001b[1mThe target sampling rate is not an integer multiple of the current sampling rate. Resampling is used, which does not have an integrated antialiasing filter. Applying a lowpass filter.\u001b[0m\n",
      "\u001b[32m2024-08-26 00:45:54.903\u001b[0m | \u001b[33m\u001b[1mWARNING \u001b[0m | \u001b[36menfify.preprocessing\u001b[0m:\u001b[36mdownsample_scipy\u001b[0m:\u001b[36m47\u001b[0m - \u001b[33m\u001b[1mThe target sampling rate is not an integer multiple of the current sampling rate. Resampling is used, which does not have an integrated antialiasing filter. Applying a lowpass filter.\u001b[0m\n",
      "\u001b[32m2024-08-26 00:45:54.945\u001b[0m | \u001b[33m\u001b[1mWARNING \u001b[0m | \u001b[36menfify.preprocessing\u001b[0m:\u001b[36mdownsample_scipy\u001b[0m:\u001b[36m47\u001b[0m - \u001b[33m\u001b[1mThe target sampling rate is not an integer multiple of the current sampling rate. Resampling is used, which does not have an integrated antialiasing filter. Applying a lowpass filter.\u001b[0m\n"
     ]
    },
    {
     "name": "stderr",
     "output_type": "stream",
     "text": [
      " 26%|██▌       | 261/1000 [00:18<00:52, 13.97it/s]"
     ]
    },
    {
     "name": "stdout",
     "output_type": "stream",
     "text": [
      "\u001b[32m2024-08-26 00:45:54.998\u001b[0m | \u001b[33m\u001b[1mWARNING \u001b[0m | \u001b[36menfify.preprocessing\u001b[0m:\u001b[36mdownsample_scipy\u001b[0m:\u001b[36m47\u001b[0m - \u001b[33m\u001b[1mThe target sampling rate is not an integer multiple of the current sampling rate. Resampling is used, which does not have an integrated antialiasing filter. Applying a lowpass filter.\u001b[0m\n",
      "\u001b[32m2024-08-26 00:45:55.090\u001b[0m | \u001b[33m\u001b[1mWARNING \u001b[0m | \u001b[36menfify.preprocessing\u001b[0m:\u001b[36mdownsample_scipy\u001b[0m:\u001b[36m47\u001b[0m - \u001b[33m\u001b[1mThe target sampling rate is not an integer multiple of the current sampling rate. Resampling is used, which does not have an integrated antialiasing filter. Applying a lowpass filter.\u001b[0m\n",
      "\u001b[32m2024-08-26 00:45:55.161\u001b[0m | \u001b[33m\u001b[1mWARNING \u001b[0m | \u001b[36menfify.preprocessing\u001b[0m:\u001b[36mdownsample_scipy\u001b[0m:\u001b[36m47\u001b[0m - \u001b[33m\u001b[1mThe target sampling rate is not an integer multiple of the current sampling rate. Resampling is used, which does not have an integrated antialiasing filter. Applying a lowpass filter.\u001b[0m\n"
     ]
    },
    {
     "name": "stderr",
     "output_type": "stream",
     "text": [
      " 26%|██▋       | 263/1000 [00:18<00:54, 13.42it/s]"
     ]
    },
    {
     "name": "stdout",
     "output_type": "stream",
     "text": [
      "\u001b[32m2024-08-26 00:45:55.241\u001b[0m | \u001b[33m\u001b[1mWARNING \u001b[0m | \u001b[36menfify.preprocessing\u001b[0m:\u001b[36mdownsample_scipy\u001b[0m:\u001b[36m47\u001b[0m - \u001b[33m\u001b[1mThe target sampling rate is not an integer multiple of the current sampling rate. Resampling is used, which does not have an integrated antialiasing filter. Applying a lowpass filter.\u001b[0m\n",
      "\u001b[32m2024-08-26 00:45:55.328\u001b[0m | \u001b[33m\u001b[1mWARNING \u001b[0m | \u001b[36menfify.preprocessing\u001b[0m:\u001b[36mdownsample_scipy\u001b[0m:\u001b[36m47\u001b[0m - \u001b[33m\u001b[1mThe target sampling rate is not an integer multiple of the current sampling rate. Resampling is used, which does not have an integrated antialiasing filter. Applying a lowpass filter.\u001b[0m\n",
      "\u001b[32m2024-08-26 00:45:55.393\u001b[0m | \u001b[33m\u001b[1mWARNING \u001b[0m | \u001b[36menfify.preprocessing\u001b[0m:\u001b[36mdownsample_scipy\u001b[0m:\u001b[36m47\u001b[0m - \u001b[33m\u001b[1mThe target sampling rate is not an integer multiple of the current sampling rate. Resampling is used, which does not have an integrated antialiasing filter. Applying a lowpass filter.\u001b[0m\n"
     ]
    },
    {
     "name": "stderr",
     "output_type": "stream",
     "text": [
      " 26%|██▋       | 265/1000 [00:19<00:54, 13.51it/s]"
     ]
    },
    {
     "name": "stdout",
     "output_type": "stream",
     "text": [
      "\u001b[32m2024-08-26 00:45:55.455\u001b[0m | \u001b[33m\u001b[1mWARNING \u001b[0m | \u001b[36menfify.preprocessing\u001b[0m:\u001b[36mdownsample_scipy\u001b[0m:\u001b[36m47\u001b[0m - \u001b[33m\u001b[1mThe target sampling rate is not an integer multiple of the current sampling rate. Resampling is used, which does not have an integrated antialiasing filter. Applying a lowpass filter.\u001b[0m\n",
      "\u001b[32m2024-08-26 00:45:55.551\u001b[0m | \u001b[33m\u001b[1mWARNING \u001b[0m | \u001b[36menfify.preprocessing\u001b[0m:\u001b[36mdownsample_scipy\u001b[0m:\u001b[36m47\u001b[0m - \u001b[33m\u001b[1mThe target sampling rate is not an integer multiple of the current sampling rate. Resampling is used, which does not have an integrated antialiasing filter. Applying a lowpass filter.\u001b[0m\n",
      "\u001b[32m2024-08-26 00:45:55.640\u001b[0m | \u001b[33m\u001b[1mWARNING \u001b[0m | \u001b[36menfify.preprocessing\u001b[0m:\u001b[36mdownsample_scipy\u001b[0m:\u001b[36m47\u001b[0m - \u001b[33m\u001b[1mThe target sampling rate is not an integer multiple of the current sampling rate. Resampling is used, which does not have an integrated antialiasing filter. Applying a lowpass filter.\u001b[0m\n"
     ]
    },
    {
     "name": "stderr",
     "output_type": "stream",
     "text": [
      " 27%|██▋       | 271/1000 [00:19<00:48, 14.97it/s]"
     ]
    },
    {
     "name": "stdout",
     "output_type": "stream",
     "text": [
      "\u001b[32m2024-08-26 00:45:55.714\u001b[0m | \u001b[33m\u001b[1mWARNING \u001b[0m | \u001b[36menfify.preprocessing\u001b[0m:\u001b[36mdownsample_scipy\u001b[0m:\u001b[36m47\u001b[0m - \u001b[33m\u001b[1mThe target sampling rate is not an integer multiple of the current sampling rate. Resampling is used, which does not have an integrated antialiasing filter. Applying a lowpass filter.\u001b[0m\n",
      "\u001b[32m2024-08-26 00:45:55.760\u001b[0m | \u001b[33m\u001b[1mWARNING \u001b[0m | \u001b[36menfify.preprocessing\u001b[0m:\u001b[36mdownsample_scipy\u001b[0m:\u001b[36m47\u001b[0m - \u001b[33m\u001b[1mThe target sampling rate is not an integer multiple of the current sampling rate. Resampling is used, which does not have an integrated antialiasing filter. Applying a lowpass filter.\u001b[0m\n",
      "\u001b[32m2024-08-26 00:45:55.809\u001b[0m | \u001b[33m\u001b[1mWARNING \u001b[0m | \u001b[36menfify.preprocessing\u001b[0m:\u001b[36mdownsample_scipy\u001b[0m:\u001b[36m47\u001b[0m - \u001b[33m\u001b[1mThe target sampling rate is not an integer multiple of the current sampling rate. Resampling is used, which does not have an integrated antialiasing filter. Applying a lowpass filter.\u001b[0m\n",
      "\u001b[32m2024-08-26 00:45:55.866\u001b[0m | \u001b[33m\u001b[1mWARNING \u001b[0m | \u001b[36menfify.preprocessing\u001b[0m:\u001b[36mdownsample_scipy\u001b[0m:\u001b[36m47\u001b[0m - \u001b[33m\u001b[1mThe target sampling rate is not an integer multiple of the current sampling rate. Resampling is used, which does not have an integrated antialiasing filter. Applying a lowpass filter.\u001b[0m\n"
     ]
    },
    {
     "name": "stderr",
     "output_type": "stream",
     "text": [
      " 27%|██▋       | 273/1000 [00:19<00:54, 13.24it/s]"
     ]
    },
    {
     "name": "stdout",
     "output_type": "stream",
     "text": [
      "\u001b[32m2024-08-26 00:45:55.938\u001b[0m | \u001b[33m\u001b[1mWARNING \u001b[0m | \u001b[36menfify.preprocessing\u001b[0m:\u001b[36mdownsample_scipy\u001b[0m:\u001b[36m47\u001b[0m - \u001b[33m\u001b[1mThe target sampling rate is not an integer multiple of the current sampling rate. Resampling is used, which does not have an integrated antialiasing filter. Applying a lowpass filter.\u001b[0m\n",
      "\u001b[32m2024-08-26 00:45:56.032\u001b[0m | \u001b[33m\u001b[1mWARNING \u001b[0m | \u001b[36menfify.preprocessing\u001b[0m:\u001b[36mdownsample_scipy\u001b[0m:\u001b[36m47\u001b[0m - \u001b[33m\u001b[1mThe target sampling rate is not an integer multiple of the current sampling rate. Resampling is used, which does not have an integrated antialiasing filter. Applying a lowpass filter.\u001b[0m\n",
      "\u001b[32m2024-08-26 00:45:56.131\u001b[0m | \u001b[33m\u001b[1mWARNING \u001b[0m | \u001b[36menfify.preprocessing\u001b[0m:\u001b[36mdownsample_scipy\u001b[0m:\u001b[36m47\u001b[0m - \u001b[33m\u001b[1mThe target sampling rate is not an integer multiple of the current sampling rate. Resampling is used, which does not have an integrated antialiasing filter. Applying a lowpass filter.\u001b[0m\n"
     ]
    },
    {
     "name": "stderr",
     "output_type": "stream",
     "text": [
      " 28%|██▊       | 277/1000 [00:19<00:54, 13.23it/s]"
     ]
    },
    {
     "name": "stdout",
     "output_type": "stream",
     "text": [
      "\u001b[32m2024-08-26 00:45:56.188\u001b[0m | \u001b[33m\u001b[1mWARNING \u001b[0m | \u001b[36menfify.preprocessing\u001b[0m:\u001b[36mdownsample_scipy\u001b[0m:\u001b[36m47\u001b[0m - \u001b[33m\u001b[1mThe target sampling rate is not an integer multiple of the current sampling rate. Resampling is used, which does not have an integrated antialiasing filter. Applying a lowpass filter.\u001b[0m\n",
      "\u001b[32m2024-08-26 00:45:56.270\u001b[0m | \u001b[33m\u001b[1mWARNING \u001b[0m | \u001b[36menfify.preprocessing\u001b[0m:\u001b[36mdownsample_scipy\u001b[0m:\u001b[36m47\u001b[0m - \u001b[33m\u001b[1mThe target sampling rate is not an integer multiple of the current sampling rate. Resampling is used, which does not have an integrated antialiasing filter. Applying a lowpass filter.\u001b[0m\n",
      "\u001b[32m2024-08-26 00:45:56.356\u001b[0m | \u001b[33m\u001b[1mWARNING \u001b[0m | \u001b[36menfify.preprocessing\u001b[0m:\u001b[36mdownsample_scipy\u001b[0m:\u001b[36m47\u001b[0m - \u001b[33m\u001b[1mThe target sampling rate is not an integer multiple of the current sampling rate. Resampling is used, which does not have an integrated antialiasing filter. Applying a lowpass filter.\u001b[0m\n"
     ]
    },
    {
     "name": "stderr",
     "output_type": "stream",
     "text": [
      " 28%|██▊       | 279/1000 [00:19<00:54, 13.29it/s]"
     ]
    },
    {
     "name": "stdout",
     "output_type": "stream",
     "text": [
      "\u001b[32m2024-08-26 00:45:56.427\u001b[0m | \u001b[33m\u001b[1mWARNING \u001b[0m | \u001b[36menfify.preprocessing\u001b[0m:\u001b[36mdownsample_scipy\u001b[0m:\u001b[36m47\u001b[0m - \u001b[33m\u001b[1mThe target sampling rate is not an integer multiple of the current sampling rate. Resampling is used, which does not have an integrated antialiasing filter. Applying a lowpass filter.\u001b[0m\n",
      "\u001b[32m2024-08-26 00:45:56.503\u001b[0m | \u001b[33m\u001b[1mWARNING \u001b[0m | \u001b[36menfify.preprocessing\u001b[0m:\u001b[36mdownsample_scipy\u001b[0m:\u001b[36m47\u001b[0m - \u001b[33m\u001b[1mThe target sampling rate is not an integer multiple of the current sampling rate. Resampling is used, which does not have an integrated antialiasing filter. Applying a lowpass filter.\u001b[0m\n",
      "\u001b[32m2024-08-26 00:45:56.571\u001b[0m | \u001b[33m\u001b[1mWARNING \u001b[0m | \u001b[36menfify.preprocessing\u001b[0m:\u001b[36mdownsample_scipy\u001b[0m:\u001b[36m47\u001b[0m - \u001b[33m\u001b[1mThe target sampling rate is not an integer multiple of the current sampling rate. Resampling is used, which does not have an integrated antialiasing filter. Applying a lowpass filter.\u001b[0m\n"
     ]
    },
    {
     "name": "stderr",
     "output_type": "stream",
     "text": [
      " 28%|██▊       | 283/1000 [00:20<00:48, 14.69it/s]"
     ]
    },
    {
     "name": "stdout",
     "output_type": "stream",
     "text": [
      "\u001b[32m2024-08-26 00:45:56.645\u001b[0m | \u001b[33m\u001b[1mWARNING \u001b[0m | \u001b[36menfify.preprocessing\u001b[0m:\u001b[36mdownsample_scipy\u001b[0m:\u001b[36m47\u001b[0m - \u001b[33m\u001b[1mThe target sampling rate is not an integer multiple of the current sampling rate. Resampling is used, which does not have an integrated antialiasing filter. Applying a lowpass filter.\u001b[0m\n",
      "\u001b[32m2024-08-26 00:45:56.722\u001b[0m | \u001b[33m\u001b[1mWARNING \u001b[0m | \u001b[36menfify.preprocessing\u001b[0m:\u001b[36mdownsample_scipy\u001b[0m:\u001b[36m47\u001b[0m - \u001b[33m\u001b[1mThe target sampling rate is not an integer multiple of the current sampling rate. Resampling is used, which does not have an integrated antialiasing filter. Applying a lowpass filter.\u001b[0m\n",
      "\u001b[32m2024-08-26 00:45:56.782\u001b[0m | \u001b[33m\u001b[1mWARNING \u001b[0m | \u001b[36menfify.preprocessing\u001b[0m:\u001b[36mdownsample_scipy\u001b[0m:\u001b[36m47\u001b[0m - \u001b[33m\u001b[1mThe target sampling rate is not an integer multiple of the current sampling rate. Resampling is used, which does not have an integrated antialiasing filter. Applying a lowpass filter.\u001b[0m\n",
      "\u001b[32m2024-08-26 00:45:56.817\u001b[0m | \u001b[33m\u001b[1mWARNING \u001b[0m | \u001b[36menfify.preprocessing\u001b[0m:\u001b[36mdownsample_scipy\u001b[0m:\u001b[36m47\u001b[0m - \u001b[33m\u001b[1mThe target sampling rate is not an integer multiple of the current sampling rate. Resampling is used, which does not have an integrated antialiasing filter. Applying a lowpass filter.\u001b[0m\n"
     ]
    },
    {
     "name": "stderr",
     "output_type": "stream",
     "text": [
      " 29%|██▊       | 287/1000 [00:20<00:44, 16.10it/s]"
     ]
    },
    {
     "name": "stdout",
     "output_type": "stream",
     "text": [
      "\u001b[32m2024-08-26 00:45:56.863\u001b[0m | \u001b[33m\u001b[1mWARNING \u001b[0m | \u001b[36menfify.preprocessing\u001b[0m:\u001b[36mdownsample_scipy\u001b[0m:\u001b[36m47\u001b[0m - \u001b[33m\u001b[1mThe target sampling rate is not an integer multiple of the current sampling rate. Resampling is used, which does not have an integrated antialiasing filter. Applying a lowpass filter.\u001b[0m\n",
      "\u001b[32m2024-08-26 00:45:56.933\u001b[0m | \u001b[33m\u001b[1mWARNING \u001b[0m | \u001b[36menfify.preprocessing\u001b[0m:\u001b[36mdownsample_scipy\u001b[0m:\u001b[36m47\u001b[0m - \u001b[33m\u001b[1mThe target sampling rate is not an integer multiple of the current sampling rate. Resampling is used, which does not have an integrated antialiasing filter. Applying a lowpass filter.\u001b[0m\n",
      "\u001b[32m2024-08-26 00:45:56.996\u001b[0m | \u001b[33m\u001b[1mWARNING \u001b[0m | \u001b[36menfify.preprocessing\u001b[0m:\u001b[36mdownsample_scipy\u001b[0m:\u001b[36m47\u001b[0m - \u001b[33m\u001b[1mThe target sampling rate is not an integer multiple of the current sampling rate. Resampling is used, which does not have an integrated antialiasing filter. Applying a lowpass filter.\u001b[0m\n",
      "\u001b[32m2024-08-26 00:45:57.049\u001b[0m | \u001b[33m\u001b[1mWARNING \u001b[0m | \u001b[36menfify.preprocessing\u001b[0m:\u001b[36mdownsample_scipy\u001b[0m:\u001b[36m47\u001b[0m - \u001b[33m\u001b[1mThe target sampling rate is not an integer multiple of the current sampling rate. Resampling is used, which does not have an integrated antialiasing filter. Applying a lowpass filter.\u001b[0m\n"
     ]
    },
    {
     "name": "stderr",
     "output_type": "stream",
     "text": [
      " 29%|██▉       | 289/1000 [00:20<00:47, 15.02it/s]"
     ]
    },
    {
     "name": "stdout",
     "output_type": "stream",
     "text": [
      "\u001b[32m2024-08-26 00:45:57.109\u001b[0m | \u001b[33m\u001b[1mWARNING \u001b[0m | \u001b[36menfify.preprocessing\u001b[0m:\u001b[36mdownsample_scipy\u001b[0m:\u001b[36m47\u001b[0m - \u001b[33m\u001b[1mThe target sampling rate is not an integer multiple of the current sampling rate. Resampling is used, which does not have an integrated antialiasing filter. Applying a lowpass filter.\u001b[0m\n",
      "\u001b[32m2024-08-26 00:45:57.205\u001b[0m | \u001b[33m\u001b[1mWARNING \u001b[0m | \u001b[36menfify.preprocessing\u001b[0m:\u001b[36mdownsample_scipy\u001b[0m:\u001b[36m47\u001b[0m - \u001b[33m\u001b[1mThe target sampling rate is not an integer multiple of the current sampling rate. Resampling is used, which does not have an integrated antialiasing filter. Applying a lowpass filter.\u001b[0m\n",
      "\u001b[32m2024-08-26 00:45:57.254\u001b[0m | \u001b[33m\u001b[1mWARNING \u001b[0m | \u001b[36menfify.preprocessing\u001b[0m:\u001b[36mdownsample_scipy\u001b[0m:\u001b[36m47\u001b[0m - \u001b[33m\u001b[1mThe target sampling rate is not an integer multiple of the current sampling rate. Resampling is used, which does not have an integrated antialiasing filter. Applying a lowpass filter.\u001b[0m\n",
      "\u001b[32m2024-08-26 00:45:57.293\u001b[0m | \u001b[33m\u001b[1mWARNING \u001b[0m | \u001b[36menfify.preprocessing\u001b[0m:\u001b[36mdownsample_scipy\u001b[0m:\u001b[36m47\u001b[0m - \u001b[33m\u001b[1mThe target sampling rate is not an integer multiple of the current sampling rate. Resampling is used, which does not have an integrated antialiasing filter. Applying a lowpass filter.\u001b[0m\n"
     ]
    },
    {
     "name": "stderr",
     "output_type": "stream",
     "text": [
      " 29%|██▉       | 294/1000 [00:20<00:49, 14.36it/s]"
     ]
    },
    {
     "name": "stdout",
     "output_type": "stream",
     "text": [
      "\u001b[32m2024-08-26 00:45:57.363\u001b[0m | \u001b[33m\u001b[1mWARNING \u001b[0m | \u001b[36menfify.preprocessing\u001b[0m:\u001b[36mdownsample_scipy\u001b[0m:\u001b[36m47\u001b[0m - \u001b[33m\u001b[1mThe target sampling rate is not an integer multiple of the current sampling rate. Resampling is used, which does not have an integrated antialiasing filter. Applying a lowpass filter.\u001b[0m\n",
      "\u001b[32m2024-08-26 00:45:57.462\u001b[0m | \u001b[33m\u001b[1mWARNING \u001b[0m | \u001b[36menfify.preprocessing\u001b[0m:\u001b[36mdownsample_scipy\u001b[0m:\u001b[36m47\u001b[0m - \u001b[33m\u001b[1mThe target sampling rate is not an integer multiple of the current sampling rate. Resampling is used, which does not have an integrated antialiasing filter. Applying a lowpass filter.\u001b[0m\n",
      "\u001b[32m2024-08-26 00:45:57.551\u001b[0m | \u001b[33m\u001b[1mWARNING \u001b[0m | \u001b[36menfify.preprocessing\u001b[0m:\u001b[36mdownsample_scipy\u001b[0m:\u001b[36m47\u001b[0m - \u001b[33m\u001b[1mThe target sampling rate is not an integer multiple of the current sampling rate. Resampling is used, which does not have an integrated antialiasing filter. Applying a lowpass filter.\u001b[0m\n"
     ]
    },
    {
     "name": "stderr",
     "output_type": "stream",
     "text": [
      " 30%|██▉       | 298/1000 [00:21<00:48, 14.36it/s]"
     ]
    },
    {
     "name": "stdout",
     "output_type": "stream",
     "text": [
      "\u001b[32m2024-08-26 00:45:57.638\u001b[0m | \u001b[33m\u001b[1mWARNING \u001b[0m | \u001b[36menfify.preprocessing\u001b[0m:\u001b[36mdownsample_scipy\u001b[0m:\u001b[36m47\u001b[0m - \u001b[33m\u001b[1mThe target sampling rate is not an integer multiple of the current sampling rate. Resampling is used, which does not have an integrated antialiasing filter. Applying a lowpass filter.\u001b[0m\n",
      "\u001b[32m2024-08-26 00:45:57.704\u001b[0m | \u001b[33m\u001b[1mWARNING \u001b[0m | \u001b[36menfify.preprocessing\u001b[0m:\u001b[36mdownsample_scipy\u001b[0m:\u001b[36m47\u001b[0m - \u001b[33m\u001b[1mThe target sampling rate is not an integer multiple of the current sampling rate. Resampling is used, which does not have an integrated antialiasing filter. Applying a lowpass filter.\u001b[0m\n",
      "\u001b[32m2024-08-26 00:45:57.765\u001b[0m | \u001b[33m\u001b[1mWARNING \u001b[0m | \u001b[36menfify.preprocessing\u001b[0m:\u001b[36mdownsample_scipy\u001b[0m:\u001b[36m47\u001b[0m - \u001b[33m\u001b[1mThe target sampling rate is not an integer multiple of the current sampling rate. Resampling is used, which does not have an integrated antialiasing filter. Applying a lowpass filter.\u001b[0m\n",
      "\u001b[32m2024-08-26 00:45:57.833\u001b[0m | \u001b[33m\u001b[1mWARNING \u001b[0m | \u001b[36menfify.preprocessing\u001b[0m:\u001b[36mdownsample_scipy\u001b[0m:\u001b[36m47\u001b[0m - \u001b[33m\u001b[1mThe target sampling rate is not an integer multiple of the current sampling rate. Resampling is used, which does not have an integrated antialiasing filter. Applying a lowpass filter.\u001b[0m\n"
     ]
    },
    {
     "name": "stderr",
     "output_type": "stream",
     "text": [
      " 30%|███       | 303/1000 [00:21<00:40, 17.01it/s]"
     ]
    },
    {
     "name": "stdout",
     "output_type": "stream",
     "text": [
      "\u001b[32m2024-08-26 00:45:57.901\u001b[0m | \u001b[33m\u001b[1mWARNING \u001b[0m | \u001b[36menfify.preprocessing\u001b[0m:\u001b[36mdownsample_scipy\u001b[0m:\u001b[36m47\u001b[0m - \u001b[33m\u001b[1mThe target sampling rate is not an integer multiple of the current sampling rate. Resampling is used, which does not have an integrated antialiasing filter. Applying a lowpass filter.\u001b[0m\n",
      "\u001b[32m2024-08-26 00:45:57.958\u001b[0m | \u001b[33m\u001b[1mWARNING \u001b[0m | \u001b[36menfify.preprocessing\u001b[0m:\u001b[36mdownsample_scipy\u001b[0m:\u001b[36m47\u001b[0m - \u001b[33m\u001b[1mThe target sampling rate is not an integer multiple of the current sampling rate. Resampling is used, which does not have an integrated antialiasing filter. Applying a lowpass filter.\u001b[0m\n",
      "\u001b[32m2024-08-26 00:45:58.000\u001b[0m | \u001b[33m\u001b[1mWARNING \u001b[0m | \u001b[36menfify.preprocessing\u001b[0m:\u001b[36mdownsample_scipy\u001b[0m:\u001b[36m47\u001b[0m - \u001b[33m\u001b[1mThe target sampling rate is not an integer multiple of the current sampling rate. Resampling is used, which does not have an integrated antialiasing filter. Applying a lowpass filter.\u001b[0m\n",
      "\u001b[32m2024-08-26 00:45:58.036\u001b[0m | \u001b[33m\u001b[1mWARNING \u001b[0m | \u001b[36menfify.preprocessing\u001b[0m:\u001b[36mdownsample_scipy\u001b[0m:\u001b[36m47\u001b[0m - \u001b[33m\u001b[1mThe target sampling rate is not an integer multiple of the current sampling rate. Resampling is used, which does not have an integrated antialiasing filter. Applying a lowpass filter.\u001b[0m\n",
      "\u001b[32m2024-08-26 00:45:58.087\u001b[0m | \u001b[33m\u001b[1mWARNING \u001b[0m | \u001b[36menfify.preprocessing\u001b[0m:\u001b[36mdownsample_scipy\u001b[0m:\u001b[36m47\u001b[0m - \u001b[33m\u001b[1mThe target sampling rate is not an integer multiple of the current sampling rate. Resampling is used, which does not have an integrated antialiasing filter. Applying a lowpass filter.\u001b[0m\n"
     ]
    },
    {
     "name": "stderr",
     "output_type": "stream",
     "text": [
      " 31%|███       | 307/1000 [00:21<00:39, 17.69it/s]"
     ]
    },
    {
     "name": "stdout",
     "output_type": "stream",
     "text": [
      "\u001b[32m2024-08-26 00:45:58.140\u001b[0m | \u001b[33m\u001b[1mWARNING \u001b[0m | \u001b[36menfify.preprocessing\u001b[0m:\u001b[36mdownsample_scipy\u001b[0m:\u001b[36m47\u001b[0m - \u001b[33m\u001b[1mThe target sampling rate is not an integer multiple of the current sampling rate. Resampling is used, which does not have an integrated antialiasing filter. Applying a lowpass filter.\u001b[0m\n",
      "\u001b[32m2024-08-26 00:45:58.204\u001b[0m | \u001b[33m\u001b[1mWARNING \u001b[0m | \u001b[36menfify.preprocessing\u001b[0m:\u001b[36mdownsample_scipy\u001b[0m:\u001b[36m47\u001b[0m - \u001b[33m\u001b[1mThe target sampling rate is not an integer multiple of the current sampling rate. Resampling is used, which does not have an integrated antialiasing filter. Applying a lowpass filter.\u001b[0m\n",
      "\u001b[32m2024-08-26 00:45:58.246\u001b[0m | \u001b[33m\u001b[1mWARNING \u001b[0m | \u001b[36menfify.preprocessing\u001b[0m:\u001b[36mdownsample_scipy\u001b[0m:\u001b[36m47\u001b[0m - \u001b[33m\u001b[1mThe target sampling rate is not an integer multiple of the current sampling rate. Resampling is used, which does not have an integrated antialiasing filter. Applying a lowpass filter.\u001b[0m\n",
      "\u001b[32m2024-08-26 00:45:58.306\u001b[0m | \u001b[33m\u001b[1mWARNING \u001b[0m | \u001b[36menfify.preprocessing\u001b[0m:\u001b[36mdownsample_scipy\u001b[0m:\u001b[36m47\u001b[0m - \u001b[33m\u001b[1mThe target sampling rate is not an integer multiple of the current sampling rate. Resampling is used, which does not have an integrated antialiasing filter. Applying a lowpass filter.\u001b[0m\n"
     ]
    },
    {
     "name": "stderr",
     "output_type": "stream",
     "text": [
      " 31%|███       | 309/1000 [00:21<00:44, 15.52it/s]"
     ]
    },
    {
     "name": "stdout",
     "output_type": "stream",
     "text": [
      "\u001b[32m2024-08-26 00:45:58.364\u001b[0m | \u001b[33m\u001b[1mWARNING \u001b[0m | \u001b[36menfify.preprocessing\u001b[0m:\u001b[36mdownsample_scipy\u001b[0m:\u001b[36m47\u001b[0m - \u001b[33m\u001b[1mThe target sampling rate is not an integer multiple of the current sampling rate. Resampling is used, which does not have an integrated antialiasing filter. Applying a lowpass filter.\u001b[0m\n"
     ]
    },
    {
     "name": "stderr",
     "output_type": "stream",
     "text": [
      " 31%|███       | 311/1000 [00:22<01:02, 11.07it/s]"
     ]
    },
    {
     "name": "stdout",
     "output_type": "stream",
     "text": [
      "\u001b[32m2024-08-26 00:45:58.634\u001b[0m | \u001b[33m\u001b[1mWARNING \u001b[0m | \u001b[36menfify.preprocessing\u001b[0m:\u001b[36mdownsample_scipy\u001b[0m:\u001b[36m47\u001b[0m - \u001b[33m\u001b[1mThe target sampling rate is not an integer multiple of the current sampling rate. Resampling is used, which does not have an integrated antialiasing filter. Applying a lowpass filter.\u001b[0m\n",
      "\u001b[32m2024-08-26 00:45:58.732\u001b[0m | \u001b[33m\u001b[1mWARNING \u001b[0m | \u001b[36menfify.preprocessing\u001b[0m:\u001b[36mdownsample_scipy\u001b[0m:\u001b[36m47\u001b[0m - \u001b[33m\u001b[1mThe target sampling rate is not an integer multiple of the current sampling rate. Resampling is used, which does not have an integrated antialiasing filter. Applying a lowpass filter.\u001b[0m\n",
      "\u001b[32m2024-08-26 00:45:58.779\u001b[0m | \u001b[33m\u001b[1mWARNING \u001b[0m | \u001b[36menfify.preprocessing\u001b[0m:\u001b[36mdownsample_scipy\u001b[0m:\u001b[36m47\u001b[0m - \u001b[33m\u001b[1mThe target sampling rate is not an integer multiple of the current sampling rate. Resampling is used, which does not have an integrated antialiasing filter. Applying a lowpass filter.\u001b[0m\n",
      "\u001b[32m2024-08-26 00:45:58.812\u001b[0m | \u001b[33m\u001b[1mWARNING \u001b[0m | \u001b[36menfify.preprocessing\u001b[0m:\u001b[36mdownsample_scipy\u001b[0m:\u001b[36m47\u001b[0m - \u001b[33m\u001b[1mThe target sampling rate is not an integer multiple of the current sampling rate. Resampling is used, which does not have an integrated antialiasing filter. Applying a lowpass filter.\u001b[0m\n"
     ]
    },
    {
     "name": "stderr",
     "output_type": "stream",
     "text": [
      " 32%|███▏      | 317/1000 [00:22<00:42, 16.05it/s]"
     ]
    },
    {
     "name": "stdout",
     "output_type": "stream",
     "text": [
      "\u001b[32m2024-08-26 00:45:58.860\u001b[0m | \u001b[33m\u001b[1mWARNING \u001b[0m | \u001b[36menfify.preprocessing\u001b[0m:\u001b[36mdownsample_scipy\u001b[0m:\u001b[36m47\u001b[0m - \u001b[33m\u001b[1mThe target sampling rate is not an integer multiple of the current sampling rate. Resampling is used, which does not have an integrated antialiasing filter. Applying a lowpass filter.\u001b[0m\n",
      "\u001b[32m2024-08-26 00:45:58.901\u001b[0m | \u001b[33m\u001b[1mWARNING \u001b[0m | \u001b[36menfify.preprocessing\u001b[0m:\u001b[36mdownsample_scipy\u001b[0m:\u001b[36m47\u001b[0m - \u001b[33m\u001b[1mThe target sampling rate is not an integer multiple of the current sampling rate. Resampling is used, which does not have an integrated antialiasing filter. Applying a lowpass filter.\u001b[0m\n",
      "\u001b[32m2024-08-26 00:45:58.950\u001b[0m | \u001b[33m\u001b[1mWARNING \u001b[0m | \u001b[36menfify.preprocessing\u001b[0m:\u001b[36mdownsample_scipy\u001b[0m:\u001b[36m47\u001b[0m - \u001b[33m\u001b[1mThe target sampling rate is not an integer multiple of the current sampling rate. Resampling is used, which does not have an integrated antialiasing filter. Applying a lowpass filter.\u001b[0m\n",
      "\u001b[32m2024-08-26 00:45:58.993\u001b[0m | \u001b[33m\u001b[1mWARNING \u001b[0m | \u001b[36menfify.preprocessing\u001b[0m:\u001b[36mdownsample_scipy\u001b[0m:\u001b[36m47\u001b[0m - \u001b[33m\u001b[1mThe target sampling rate is not an integer multiple of the current sampling rate. Resampling is used, which does not have an integrated antialiasing filter. Applying a lowpass filter.\u001b[0m\n",
      "\u001b[32m2024-08-26 00:45:59.041\u001b[0m | \u001b[33m\u001b[1mWARNING \u001b[0m | \u001b[36menfify.preprocessing\u001b[0m:\u001b[36mdownsample_scipy\u001b[0m:\u001b[36m47\u001b[0m - \u001b[33m\u001b[1mThe target sampling rate is not an integer multiple of the current sampling rate. Resampling is used, which does not have an integrated antialiasing filter. Applying a lowpass filter.\u001b[0m\n"
     ]
    },
    {
     "name": "stderr",
     "output_type": "stream",
     "text": [
      " 32%|███▏      | 320/1000 [00:22<00:40, 16.97it/s]"
     ]
    },
    {
     "name": "stdout",
     "output_type": "stream",
     "text": [
      "\u001b[32m2024-08-26 00:45:59.088\u001b[0m | \u001b[33m\u001b[1mWARNING \u001b[0m | \u001b[36menfify.preprocessing\u001b[0m:\u001b[36mdownsample_scipy\u001b[0m:\u001b[36m47\u001b[0m - \u001b[33m\u001b[1mThe target sampling rate is not an integer multiple of the current sampling rate. Resampling is used, which does not have an integrated antialiasing filter. Applying a lowpass filter.\u001b[0m\n",
      "\u001b[32m2024-08-26 00:45:59.139\u001b[0m | \u001b[33m\u001b[1mWARNING \u001b[0m | \u001b[36menfify.preprocessing\u001b[0m:\u001b[36mdownsample_scipy\u001b[0m:\u001b[36m47\u001b[0m - \u001b[33m\u001b[1mThe target sampling rate is not an integer multiple of the current sampling rate. Resampling is used, which does not have an integrated antialiasing filter. Applying a lowpass filter.\u001b[0m\n",
      "\u001b[32m2024-08-26 00:45:59.199\u001b[0m | \u001b[33m\u001b[1mWARNING \u001b[0m | \u001b[36menfify.preprocessing\u001b[0m:\u001b[36mdownsample_scipy\u001b[0m:\u001b[36m47\u001b[0m - \u001b[33m\u001b[1mThe target sampling rate is not an integer multiple of the current sampling rate. Resampling is used, which does not have an integrated antialiasing filter. Applying a lowpass filter.\u001b[0m\n",
      "\u001b[32m2024-08-26 00:45:59.242\u001b[0m | \u001b[33m\u001b[1mWARNING \u001b[0m | \u001b[36menfify.preprocessing\u001b[0m:\u001b[36mdownsample_scipy\u001b[0m:\u001b[36m47\u001b[0m - \u001b[33m\u001b[1mThe target sampling rate is not an integer multiple of the current sampling rate. Resampling is used, which does not have an integrated antialiasing filter. Applying a lowpass filter.\u001b[0m\n",
      "\u001b[32m2024-08-26 00:45:59.276\u001b[0m | \u001b[33m\u001b[1mWARNING \u001b[0m | \u001b[36menfify.preprocessing\u001b[0m:\u001b[36mdownsample_scipy\u001b[0m:\u001b[36m47\u001b[0m - \u001b[33m\u001b[1mThe target sampling rate is not an integer multiple of the current sampling rate. Resampling is used, which does not have an integrated antialiasing filter. Applying a lowpass filter.\u001b[0m\n"
     ]
    },
    {
     "name": "stderr",
     "output_type": "stream",
     "text": [
      " 32%|███▎      | 325/1000 [00:22<00:39, 17.20it/s]"
     ]
    },
    {
     "name": "stdout",
     "output_type": "stream",
     "text": [
      "\u001b[32m2024-08-26 00:45:59.341\u001b[0m | \u001b[33m\u001b[1mWARNING \u001b[0m | \u001b[36menfify.preprocessing\u001b[0m:\u001b[36mdownsample_scipy\u001b[0m:\u001b[36m47\u001b[0m - \u001b[33m\u001b[1mThe target sampling rate is not an integer multiple of the current sampling rate. Resampling is used, which does not have an integrated antialiasing filter. Applying a lowpass filter.\u001b[0m\n",
      "\u001b[32m2024-08-26 00:45:59.411\u001b[0m | \u001b[33m\u001b[1mWARNING \u001b[0m | \u001b[36menfify.preprocessing\u001b[0m:\u001b[36mdownsample_scipy\u001b[0m:\u001b[36m47\u001b[0m - \u001b[33m\u001b[1mThe target sampling rate is not an integer multiple of the current sampling rate. Resampling is used, which does not have an integrated antialiasing filter. Applying a lowpass filter.\u001b[0m\n",
      "\u001b[32m2024-08-26 00:45:59.476\u001b[0m | \u001b[33m\u001b[1mWARNING \u001b[0m | \u001b[36menfify.preprocessing\u001b[0m:\u001b[36mdownsample_scipy\u001b[0m:\u001b[36m47\u001b[0m - \u001b[33m\u001b[1mThe target sampling rate is not an integer multiple of the current sampling rate. Resampling is used, which does not have an integrated antialiasing filter. Applying a lowpass filter.\u001b[0m\n"
     ]
    },
    {
     "name": "stderr",
     "output_type": "stream",
     "text": [
      "                                                  \r"
     ]
    },
    {
     "name": "stdout",
     "output_type": "stream",
     "text": [
      "\u001b[32m2024-08-26 00:45:59.549\u001b[0m | \u001b[33m\u001b[1mWARNING \u001b[0m | \u001b[36menfify.preprocessing\u001b[0m:\u001b[36mdownsample_scipy\u001b[0m:\u001b[36m47\u001b[0m - \u001b[33m\u001b[1mThe target sampling rate is not an integer multiple of the current sampling rate. Resampling is used, which does not have an integrated antialiasing filter. Applying a lowpass filter.\u001b[0m\n",
      "\u001b[32m2024-08-26 00:45:59.628\u001b[0m | \u001b[33m\u001b[1mWARNING \u001b[0m | \u001b[36menfify.preprocessing\u001b[0m:\u001b[36mdownsample_scipy\u001b[0m:\u001b[36m47\u001b[0m - \u001b[33m\u001b[1mThe target sampling rate is not an integer multiple of the current sampling rate. Resampling is used, which does not have an integrated antialiasing filter. Applying a lowpass filter.\u001b[0m\n",
      "\u001b[32m2024-08-26 00:45:59.683\u001b[0m | \u001b[33m\u001b[1mWARNING \u001b[0m | \u001b[36menfify.preprocessing\u001b[0m:\u001b[36mdownsample_scipy\u001b[0m:\u001b[36m47\u001b[0m - \u001b[33m\u001b[1mThe target sampling rate is not an integer multiple of the current sampling rate. Resampling is used, which does not have an integrated antialiasing filter. Applying a lowpass filter.\u001b[0m\n",
      "\u001b[32m2024-08-26 00:45:59.754\u001b[0m | \u001b[33m\u001b[1mWARNING \u001b[0m | \u001b[36menfify.preprocessing\u001b[0m:\u001b[36mdownsample_scipy\u001b[0m:\u001b[36m47\u001b[0m - \u001b[33m\u001b[1mThe target sampling rate is not an integer multiple of the current sampling rate. Resampling is used, which does not have an integrated antialiasing filter. Applying a lowpass filter.\u001b[0m\n"
     ]
    },
    {
     "name": "stderr",
     "output_type": "stream",
     "text": [
      " 33%|███▎      | 331/1000 [00:23<00:42, 15.58it/s]"
     ]
    },
    {
     "name": "stdout",
     "output_type": "stream",
     "text": [
      "\u001b[32m2024-08-26 00:45:59.811\u001b[0m | \u001b[33m\u001b[1mWARNING \u001b[0m | \u001b[36menfify.preprocessing\u001b[0m:\u001b[36mdownsample_scipy\u001b[0m:\u001b[36m47\u001b[0m - \u001b[33m\u001b[1mThe target sampling rate is not an integer multiple of the current sampling rate. Resampling is used, which does not have an integrated antialiasing filter. Applying a lowpass filter.\u001b[0m\n",
      "\u001b[32m2024-08-26 00:45:59.889\u001b[0m | \u001b[33m\u001b[1mWARNING \u001b[0m | \u001b[36menfify.preprocessing\u001b[0m:\u001b[36mdownsample_scipy\u001b[0m:\u001b[36m47\u001b[0m - \u001b[33m\u001b[1mThe target sampling rate is not an integer multiple of the current sampling rate. Resampling is used, which does not have an integrated antialiasing filter. Applying a lowpass filter.\u001b[0m\n",
      "\u001b[32m2024-08-26 00:45:59.933\u001b[0m | \u001b[33m\u001b[1mWARNING \u001b[0m | \u001b[36menfify.preprocessing\u001b[0m:\u001b[36mdownsample_scipy\u001b[0m:\u001b[36m47\u001b[0m - \u001b[33m\u001b[1mThe target sampling rate is not an integer multiple of the current sampling rate. Resampling is used, which does not have an integrated antialiasing filter. Applying a lowpass filter.\u001b[0m\n",
      "\u001b[32m2024-08-26 00:45:59.979\u001b[0m | \u001b[33m\u001b[1mWARNING \u001b[0m | \u001b[36menfify.preprocessing\u001b[0m:\u001b[36mdownsample_scipy\u001b[0m:\u001b[36m47\u001b[0m - \u001b[33m\u001b[1mThe target sampling rate is not an integer multiple of the current sampling rate. Resampling is used, which does not have an integrated antialiasing filter. Applying a lowpass filter.\u001b[0m\n"
     ]
    },
    {
     "name": "stderr",
     "output_type": "stream",
     "text": [
      " 34%|███▍      | 338/1000 [00:23<00:39, 16.94it/s]"
     ]
    },
    {
     "name": "stdout",
     "output_type": "stream",
     "text": [
      "\u001b[32m2024-08-26 00:46:00.059\u001b[0m | \u001b[33m\u001b[1mWARNING \u001b[0m | \u001b[36menfify.preprocessing\u001b[0m:\u001b[36mdownsample_scipy\u001b[0m:\u001b[36m47\u001b[0m - \u001b[33m\u001b[1mThe target sampling rate is not an integer multiple of the current sampling rate. Resampling is used, which does not have an integrated antialiasing filter. Applying a lowpass filter.\u001b[0m\n",
      "\u001b[32m2024-08-26 00:46:00.115\u001b[0m | \u001b[33m\u001b[1mWARNING \u001b[0m | \u001b[36menfify.preprocessing\u001b[0m:\u001b[36mdownsample_scipy\u001b[0m:\u001b[36m47\u001b[0m - \u001b[33m\u001b[1mThe target sampling rate is not an integer multiple of the current sampling rate. Resampling is used, which does not have an integrated antialiasing filter. Applying a lowpass filter.\u001b[0m\n",
      "\u001b[32m2024-08-26 00:46:00.164\u001b[0m | \u001b[33m\u001b[1mWARNING \u001b[0m | \u001b[36menfify.preprocessing\u001b[0m:\u001b[36mdownsample_scipy\u001b[0m:\u001b[36m47\u001b[0m - \u001b[33m\u001b[1mThe target sampling rate is not an integer multiple of the current sampling rate. Resampling is used, which does not have an integrated antialiasing filter. Applying a lowpass filter.\u001b[0m\n",
      "\u001b[32m2024-08-26 00:46:00.232\u001b[0m | \u001b[33m\u001b[1mWARNING \u001b[0m | \u001b[36menfify.preprocessing\u001b[0m:\u001b[36mdownsample_scipy\u001b[0m:\u001b[36m47\u001b[0m - \u001b[33m\u001b[1mThe target sampling rate is not an integer multiple of the current sampling rate. Resampling is used, which does not have an integrated antialiasing filter. Applying a lowpass filter.\u001b[0m\n"
     ]
    },
    {
     "name": "stderr",
     "output_type": "stream",
     "text": [
      " 34%|███▍      | 340/1000 [00:23<00:37, 17.40it/s]"
     ]
    },
    {
     "name": "stdout",
     "output_type": "stream",
     "text": [
      "\u001b[32m2024-08-26 00:46:00.280\u001b[0m | \u001b[33m\u001b[1mWARNING \u001b[0m | \u001b[36menfify.preprocessing\u001b[0m:\u001b[36mdownsample_scipy\u001b[0m:\u001b[36m47\u001b[0m - \u001b[33m\u001b[1mThe target sampling rate is not an integer multiple of the current sampling rate. Resampling is used, which does not have an integrated antialiasing filter. Applying a lowpass filter.\u001b[0m\n",
      "\u001b[32m2024-08-26 00:46:00.329\u001b[0m | \u001b[33m\u001b[1mWARNING \u001b[0m | \u001b[36menfify.preprocessing\u001b[0m:\u001b[36mdownsample_scipy\u001b[0m:\u001b[36m47\u001b[0m - \u001b[33m\u001b[1mThe target sampling rate is not an integer multiple of the current sampling rate. Resampling is used, which does not have an integrated antialiasing filter. Applying a lowpass filter.\u001b[0m\n",
      "\u001b[32m2024-08-26 00:46:00.398\u001b[0m | \u001b[33m\u001b[1mWARNING \u001b[0m | \u001b[36menfify.preprocessing\u001b[0m:\u001b[36mdownsample_scipy\u001b[0m:\u001b[36m47\u001b[0m - \u001b[33m\u001b[1mThe target sampling rate is not an integer multiple of the current sampling rate. Resampling is used, which does not have an integrated antialiasing filter. Applying a lowpass filter.\u001b[0m\n",
      "\u001b[32m2024-08-26 00:46:00.462\u001b[0m | \u001b[33m\u001b[1mWARNING \u001b[0m | \u001b[36menfify.preprocessing\u001b[0m:\u001b[36mdownsample_scipy\u001b[0m:\u001b[36m47\u001b[0m - \u001b[33m\u001b[1mThe target sampling rate is not an integer multiple of the current sampling rate. Resampling is used, which does not have an integrated antialiasing filter. Applying a lowpass filter.\u001b[0m\n"
     ]
    },
    {
     "name": "stderr",
     "output_type": "stream",
     "text": [
      " 34%|███▍      | 344/1000 [00:24<00:36, 17.81it/s]"
     ]
    },
    {
     "name": "stdout",
     "output_type": "stream",
     "text": [
      "\u001b[32m2024-08-26 00:46:00.504\u001b[0m | \u001b[33m\u001b[1mWARNING \u001b[0m | \u001b[36menfify.preprocessing\u001b[0m:\u001b[36mdownsample_scipy\u001b[0m:\u001b[36m47\u001b[0m - \u001b[33m\u001b[1mThe target sampling rate is not an integer multiple of the current sampling rate. Resampling is used, which does not have an integrated antialiasing filter. Applying a lowpass filter.\u001b[0m\n",
      "\u001b[32m2024-08-26 00:46:00.555\u001b[0m | \u001b[33m\u001b[1mWARNING \u001b[0m | \u001b[36menfify.preprocessing\u001b[0m:\u001b[36mdownsample_scipy\u001b[0m:\u001b[36m47\u001b[0m - \u001b[33m\u001b[1mThe target sampling rate is not an integer multiple of the current sampling rate. Resampling is used, which does not have an integrated antialiasing filter. Applying a lowpass filter.\u001b[0m\n",
      "\u001b[32m2024-08-26 00:46:00.611\u001b[0m | \u001b[33m\u001b[1mWARNING \u001b[0m | \u001b[36menfify.preprocessing\u001b[0m:\u001b[36mdownsample_scipy\u001b[0m:\u001b[36m47\u001b[0m - \u001b[33m\u001b[1mThe target sampling rate is not an integer multiple of the current sampling rate. Resampling is used, which does not have an integrated antialiasing filter. Applying a lowpass filter.\u001b[0m\n",
      "\u001b[32m2024-08-26 00:46:00.667\u001b[0m | \u001b[33m\u001b[1mWARNING \u001b[0m | \u001b[36menfify.preprocessing\u001b[0m:\u001b[36mdownsample_scipy\u001b[0m:\u001b[36m47\u001b[0m - \u001b[33m\u001b[1mThe target sampling rate is not an integer multiple of the current sampling rate. Resampling is used, which does not have an integrated antialiasing filter. Applying a lowpass filter.\u001b[0m\n"
     ]
    },
    {
     "name": "stderr",
     "output_type": "stream",
     "text": [
      " 35%|███▍      | 348/1000 [00:24<00:42, 15.41it/s]"
     ]
    },
    {
     "name": "stdout",
     "output_type": "stream",
     "text": [
      "\u001b[32m2024-08-26 00:46:00.749\u001b[0m | \u001b[33m\u001b[1mWARNING \u001b[0m | \u001b[36menfify.preprocessing\u001b[0m:\u001b[36mdownsample_scipy\u001b[0m:\u001b[36m47\u001b[0m - \u001b[33m\u001b[1mThe target sampling rate is not an integer multiple of the current sampling rate. Resampling is used, which does not have an integrated antialiasing filter. Applying a lowpass filter.\u001b[0m\n",
      "\u001b[32m2024-08-26 00:46:00.831\u001b[0m | \u001b[33m\u001b[1mWARNING \u001b[0m | \u001b[36menfify.preprocessing\u001b[0m:\u001b[36mdownsample_scipy\u001b[0m:\u001b[36m47\u001b[0m - \u001b[33m\u001b[1mThe target sampling rate is not an integer multiple of the current sampling rate. Resampling is used, which does not have an integrated antialiasing filter. Applying a lowpass filter.\u001b[0m\n",
      "\u001b[32m2024-08-26 00:46:00.907\u001b[0m | \u001b[33m\u001b[1mWARNING \u001b[0m | \u001b[36menfify.preprocessing\u001b[0m:\u001b[36mdownsample_scipy\u001b[0m:\u001b[36m47\u001b[0m - \u001b[33m\u001b[1mThe target sampling rate is not an integer multiple of the current sampling rate. Resampling is used, which does not have an integrated antialiasing filter. Applying a lowpass filter.\u001b[0m\n"
     ]
    },
    {
     "name": "stderr",
     "output_type": "stream",
     "text": [
      " 35%|███▌      | 353/1000 [00:24<00:38, 16.81it/s]"
     ]
    },
    {
     "name": "stdout",
     "output_type": "stream",
     "text": [
      "\u001b[32m2024-08-26 00:46:00.990\u001b[0m | \u001b[33m\u001b[1mWARNING \u001b[0m | \u001b[36menfify.preprocessing\u001b[0m:\u001b[36mdownsample_scipy\u001b[0m:\u001b[36m47\u001b[0m - \u001b[33m\u001b[1mThe target sampling rate is not an integer multiple of the current sampling rate. Resampling is used, which does not have an integrated antialiasing filter. Applying a lowpass filter.\u001b[0m\n",
      "\u001b[32m2024-08-26 00:46:01.073\u001b[0m | \u001b[33m\u001b[1mWARNING \u001b[0m | \u001b[36menfify.preprocessing\u001b[0m:\u001b[36mdownsample_scipy\u001b[0m:\u001b[36m47\u001b[0m - \u001b[33m\u001b[1mThe target sampling rate is not an integer multiple of the current sampling rate. Resampling is used, which does not have an integrated antialiasing filter. Applying a lowpass filter.\u001b[0m\n",
      "\u001b[32m2024-08-26 00:46:01.109\u001b[0m | \u001b[33m\u001b[1mWARNING \u001b[0m | \u001b[36menfify.preprocessing\u001b[0m:\u001b[36mdownsample_scipy\u001b[0m:\u001b[36m47\u001b[0m - \u001b[33m\u001b[1mThe target sampling rate is not an integer multiple of the current sampling rate. Resampling is used, which does not have an integrated antialiasing filter. Applying a lowpass filter.\u001b[0m\n",
      "\u001b[32m2024-08-26 00:46:01.147\u001b[0m | \u001b[33m\u001b[1mWARNING \u001b[0m | \u001b[36menfify.preprocessing\u001b[0m:\u001b[36mdownsample_scipy\u001b[0m:\u001b[36m47\u001b[0m - \u001b[33m\u001b[1mThe target sampling rate is not an integer multiple of the current sampling rate. Resampling is used, which does not have an integrated antialiasing filter. Applying a lowpass filter.\u001b[0m\n"
     ]
    },
    {
     "name": "stderr",
     "output_type": "stream",
     "text": [
      " 36%|███▌      | 355/1000 [00:24<00:40, 15.94it/s]"
     ]
    },
    {
     "name": "stdout",
     "output_type": "stream",
     "text": [
      "\u001b[32m2024-08-26 00:46:01.199\u001b[0m | \u001b[33m\u001b[1mWARNING \u001b[0m | \u001b[36menfify.preprocessing\u001b[0m:\u001b[36mdownsample_scipy\u001b[0m:\u001b[36m47\u001b[0m - \u001b[33m\u001b[1mThe target sampling rate is not an integer multiple of the current sampling rate. Resampling is used, which does not have an integrated antialiasing filter. Applying a lowpass filter.\u001b[0m\n",
      "\u001b[32m2024-08-26 00:46:01.282\u001b[0m | \u001b[33m\u001b[1mWARNING \u001b[0m | \u001b[36menfify.preprocessing\u001b[0m:\u001b[36mdownsample_scipy\u001b[0m:\u001b[36m47\u001b[0m - \u001b[33m\u001b[1mThe target sampling rate is not an integer multiple of the current sampling rate. Resampling is used, which does not have an integrated antialiasing filter. Applying a lowpass filter.\u001b[0m\n",
      "\u001b[32m2024-08-26 00:46:01.339\u001b[0m | \u001b[33m\u001b[1mWARNING \u001b[0m | \u001b[36menfify.preprocessing\u001b[0m:\u001b[36mdownsample_scipy\u001b[0m:\u001b[36m47\u001b[0m - \u001b[33m\u001b[1mThe target sampling rate is not an integer multiple of the current sampling rate. Resampling is used, which does not have an integrated antialiasing filter. Applying a lowpass filter.\u001b[0m\n",
      "\u001b[32m2024-08-26 00:46:01.394\u001b[0m | \u001b[33m\u001b[1mWARNING \u001b[0m | \u001b[36menfify.preprocessing\u001b[0m:\u001b[36mdownsample_scipy\u001b[0m:\u001b[36m47\u001b[0m - \u001b[33m\u001b[1mThe target sampling rate is not an integer multiple of the current sampling rate. Resampling is used, which does not have an integrated antialiasing filter. Applying a lowpass filter.\u001b[0m\n"
     ]
    },
    {
     "name": "stderr",
     "output_type": "stream",
     "text": [
      " 36%|███▌      | 359/1000 [00:25<00:43, 14.86it/s]"
     ]
    },
    {
     "name": "stdout",
     "output_type": "stream",
     "text": [
      "\u001b[32m2024-08-26 00:46:01.475\u001b[0m | \u001b[33m\u001b[1mWARNING \u001b[0m | \u001b[36menfify.preprocessing\u001b[0m:\u001b[36mdownsample_scipy\u001b[0m:\u001b[36m47\u001b[0m - \u001b[33m\u001b[1mThe target sampling rate is not an integer multiple of the current sampling rate. Resampling is used, which does not have an integrated antialiasing filter. Applying a lowpass filter.\u001b[0m\n",
      "\u001b[32m2024-08-26 00:46:01.544\u001b[0m | \u001b[33m\u001b[1mWARNING \u001b[0m | \u001b[36menfify.preprocessing\u001b[0m:\u001b[36mdownsample_scipy\u001b[0m:\u001b[36m47\u001b[0m - \u001b[33m\u001b[1mThe target sampling rate is not an integer multiple of the current sampling rate. Resampling is used, which does not have an integrated antialiasing filter. Applying a lowpass filter.\u001b[0m\n",
      "\u001b[32m2024-08-26 00:46:01.627\u001b[0m | \u001b[33m\u001b[1mWARNING \u001b[0m | \u001b[36menfify.preprocessing\u001b[0m:\u001b[36mdownsample_scipy\u001b[0m:\u001b[36m47\u001b[0m - \u001b[33m\u001b[1mThe target sampling rate is not an integer multiple of the current sampling rate. Resampling is used, which does not have an integrated antialiasing filter. Applying a lowpass filter.\u001b[0m\n"
     ]
    },
    {
     "name": "stderr",
     "output_type": "stream",
     "text": [
      " 36%|███▌      | 361/1000 [00:25<00:44, 14.30it/s]"
     ]
    },
    {
     "name": "stdout",
     "output_type": "stream",
     "text": [
      "\u001b[32m2024-08-26 00:46:01.699\u001b[0m | \u001b[33m\u001b[1mWARNING \u001b[0m | \u001b[36menfify.preprocessing\u001b[0m:\u001b[36mdownsample_scipy\u001b[0m:\u001b[36m47\u001b[0m - \u001b[33m\u001b[1mThe target sampling rate is not an integer multiple of the current sampling rate. Resampling is used, which does not have an integrated antialiasing filter. Applying a lowpass filter.\u001b[0m\n",
      "\u001b[32m2024-08-26 00:46:01.785\u001b[0m | \u001b[33m\u001b[1mWARNING \u001b[0m | \u001b[36menfify.preprocessing\u001b[0m:\u001b[36mdownsample_scipy\u001b[0m:\u001b[36m47\u001b[0m - \u001b[33m\u001b[1mThe target sampling rate is not an integer multiple of the current sampling rate. Resampling is used, which does not have an integrated antialiasing filter. Applying a lowpass filter.\u001b[0m\n",
      "\u001b[32m2024-08-26 00:46:01.881\u001b[0m | \u001b[33m\u001b[1mWARNING \u001b[0m | \u001b[36menfify.preprocessing\u001b[0m:\u001b[36mdownsample_scipy\u001b[0m:\u001b[36m47\u001b[0m - \u001b[33m\u001b[1mThe target sampling rate is not an integer multiple of the current sampling rate. Resampling is used, which does not have an integrated antialiasing filter. Applying a lowpass filter.\u001b[0m\n"
     ]
    },
    {
     "name": "stderr",
     "output_type": "stream",
     "text": [
      " 36%|███▋      | 365/1000 [00:25<00:47, 13.30it/s]"
     ]
    },
    {
     "name": "stdout",
     "output_type": "stream",
     "text": [
      "\u001b[32m2024-08-26 00:46:01.965\u001b[0m | \u001b[33m\u001b[1mWARNING \u001b[0m | \u001b[36menfify.preprocessing\u001b[0m:\u001b[36mdownsample_scipy\u001b[0m:\u001b[36m47\u001b[0m - \u001b[33m\u001b[1mThe target sampling rate is not an integer multiple of the current sampling rate. Resampling is used, which does not have an integrated antialiasing filter. Applying a lowpass filter.\u001b[0m\n",
      "\u001b[32m2024-08-26 00:46:02.050\u001b[0m | \u001b[33m\u001b[1mWARNING \u001b[0m | \u001b[36menfify.preprocessing\u001b[0m:\u001b[36mdownsample_scipy\u001b[0m:\u001b[36m47\u001b[0m - \u001b[33m\u001b[1mThe target sampling rate is not an integer multiple of the current sampling rate. Resampling is used, which does not have an integrated antialiasing filter. Applying a lowpass filter.\u001b[0m\n",
      "\u001b[32m2024-08-26 00:46:02.104\u001b[0m | \u001b[33m\u001b[1mWARNING \u001b[0m | \u001b[36menfify.preprocessing\u001b[0m:\u001b[36mdownsample_scipy\u001b[0m:\u001b[36m47\u001b[0m - \u001b[33m\u001b[1mThe target sampling rate is not an integer multiple of the current sampling rate. Resampling is used, which does not have an integrated antialiasing filter. Applying a lowpass filter.\u001b[0m\n",
      "\u001b[32m2024-08-26 00:46:02.143\u001b[0m | \u001b[33m\u001b[1mWARNING \u001b[0m | \u001b[36menfify.preprocessing\u001b[0m:\u001b[36mdownsample_scipy\u001b[0m:\u001b[36m47\u001b[0m - \u001b[33m\u001b[1mThe target sampling rate is not an integer multiple of the current sampling rate. Resampling is used, which does not have an integrated antialiasing filter. Applying a lowpass filter.\u001b[0m\n"
     ]
    },
    {
     "name": "stderr",
     "output_type": "stream",
     "text": [
      " 37%|███▋      | 370/1000 [00:25<00:40, 15.44it/s]"
     ]
    },
    {
     "name": "stdout",
     "output_type": "stream",
     "text": [
      "\u001b[32m2024-08-26 00:46:02.195\u001b[0m | \u001b[33m\u001b[1mWARNING \u001b[0m | \u001b[36menfify.preprocessing\u001b[0m:\u001b[36mdownsample_scipy\u001b[0m:\u001b[36m47\u001b[0m - \u001b[33m\u001b[1mThe target sampling rate is not an integer multiple of the current sampling rate. Resampling is used, which does not have an integrated antialiasing filter. Applying a lowpass filter.\u001b[0m\n",
      "\u001b[32m2024-08-26 00:46:02.281\u001b[0m | \u001b[33m\u001b[1mWARNING \u001b[0m | \u001b[36menfify.preprocessing\u001b[0m:\u001b[36mdownsample_scipy\u001b[0m:\u001b[36m47\u001b[0m - \u001b[33m\u001b[1mThe target sampling rate is not an integer multiple of the current sampling rate. Resampling is used, which does not have an integrated antialiasing filter. Applying a lowpass filter.\u001b[0m\n",
      "\u001b[32m2024-08-26 00:46:02.343\u001b[0m | \u001b[33m\u001b[1mWARNING \u001b[0m | \u001b[36menfify.preprocessing\u001b[0m:\u001b[36mdownsample_scipy\u001b[0m:\u001b[36m47\u001b[0m - \u001b[33m\u001b[1mThe target sampling rate is not an integer multiple of the current sampling rate. Resampling is used, which does not have an integrated antialiasing filter. Applying a lowpass filter.\u001b[0m\n",
      "\u001b[32m2024-08-26 00:46:02.384\u001b[0m | \u001b[33m\u001b[1mWARNING \u001b[0m | \u001b[36menfify.preprocessing\u001b[0m:\u001b[36mdownsample_scipy\u001b[0m:\u001b[36m47\u001b[0m - \u001b[33m\u001b[1mThe target sampling rate is not an integer multiple of the current sampling rate. Resampling is used, which does not have an integrated antialiasing filter. Applying a lowpass filter.\u001b[0m\n"
     ]
    },
    {
     "name": "stderr",
     "output_type": "stream",
     "text": [
      " 37%|███▋      | 372/1000 [00:26<00:42, 14.92it/s]"
     ]
    },
    {
     "name": "stdout",
     "output_type": "stream",
     "text": [
      "\u001b[32m2024-08-26 00:46:02.450\u001b[0m | \u001b[33m\u001b[1mWARNING \u001b[0m | \u001b[36menfify.preprocessing\u001b[0m:\u001b[36mdownsample_scipy\u001b[0m:\u001b[36m47\u001b[0m - \u001b[33m\u001b[1mThe target sampling rate is not an integer multiple of the current sampling rate. Resampling is used, which does not have an integrated antialiasing filter. Applying a lowpass filter.\u001b[0m\n",
      "\u001b[32m2024-08-26 00:46:02.534\u001b[0m | \u001b[33m\u001b[1mWARNING \u001b[0m | \u001b[36menfify.preprocessing\u001b[0m:\u001b[36mdownsample_scipy\u001b[0m:\u001b[36m47\u001b[0m - \u001b[33m\u001b[1mThe target sampling rate is not an integer multiple of the current sampling rate. Resampling is used, which does not have an integrated antialiasing filter. Applying a lowpass filter.\u001b[0m\n",
      "\u001b[32m2024-08-26 00:46:02.621\u001b[0m | \u001b[33m\u001b[1mWARNING \u001b[0m | \u001b[36menfify.preprocessing\u001b[0m:\u001b[36mdownsample_scipy\u001b[0m:\u001b[36m47\u001b[0m - \u001b[33m\u001b[1mThe target sampling rate is not an integer multiple of the current sampling rate. Resampling is used, which does not have an integrated antialiasing filter. Applying a lowpass filter.\u001b[0m\n"
     ]
    },
    {
     "name": "stderr",
     "output_type": "stream",
     "text": [
      " 38%|███▊      | 376/1000 [00:26<00:40, 15.29it/s]"
     ]
    },
    {
     "name": "stdout",
     "output_type": "stream",
     "text": [
      "\u001b[32m2024-08-26 00:46:02.670\u001b[0m | \u001b[33m\u001b[1mWARNING \u001b[0m | \u001b[36menfify.preprocessing\u001b[0m:\u001b[36mdownsample_scipy\u001b[0m:\u001b[36m47\u001b[0m - \u001b[33m\u001b[1mThe target sampling rate is not an integer multiple of the current sampling rate. Resampling is used, which does not have an integrated antialiasing filter. Applying a lowpass filter.\u001b[0m\n",
      "\u001b[32m2024-08-26 00:46:02.723\u001b[0m | \u001b[33m\u001b[1mWARNING \u001b[0m | \u001b[36menfify.preprocessing\u001b[0m:\u001b[36mdownsample_scipy\u001b[0m:\u001b[36m47\u001b[0m - \u001b[33m\u001b[1mThe target sampling rate is not an integer multiple of the current sampling rate. Resampling is used, which does not have an integrated antialiasing filter. Applying a lowpass filter.\u001b[0m\n",
      "\u001b[32m2024-08-26 00:46:02.794\u001b[0m | \u001b[33m\u001b[1mWARNING \u001b[0m | \u001b[36menfify.preprocessing\u001b[0m:\u001b[36mdownsample_scipy\u001b[0m:\u001b[36m47\u001b[0m - \u001b[33m\u001b[1mThe target sampling rate is not an integer multiple of the current sampling rate. Resampling is used, which does not have an integrated antialiasing filter. Applying a lowpass filter.\u001b[0m\n",
      "\u001b[32m2024-08-26 00:46:02.867\u001b[0m | \u001b[33m\u001b[1mWARNING \u001b[0m | \u001b[36menfify.preprocessing\u001b[0m:\u001b[36mdownsample_scipy\u001b[0m:\u001b[36m47\u001b[0m - \u001b[33m\u001b[1mThe target sampling rate is not an integer multiple of the current sampling rate. Resampling is used, which does not have an integrated antialiasing filter. Applying a lowpass filter.\u001b[0m\n"
     ]
    },
    {
     "name": "stderr",
     "output_type": "stream",
     "text": [
      " 38%|███▊      | 380/1000 [00:26<00:41, 14.77it/s]"
     ]
    },
    {
     "name": "stdout",
     "output_type": "stream",
     "text": [
      "\u001b[32m2024-08-26 00:46:02.947\u001b[0m | \u001b[33m\u001b[1mWARNING \u001b[0m | \u001b[36menfify.preprocessing\u001b[0m:\u001b[36mdownsample_scipy\u001b[0m:\u001b[36m47\u001b[0m - \u001b[33m\u001b[1mThe target sampling rate is not an integer multiple of the current sampling rate. Resampling is used, which does not have an integrated antialiasing filter. Applying a lowpass filter.\u001b[0m\n",
      "\u001b[32m2024-08-26 00:46:03.030\u001b[0m | \u001b[33m\u001b[1mWARNING \u001b[0m | \u001b[36menfify.preprocessing\u001b[0m:\u001b[36mdownsample_scipy\u001b[0m:\u001b[36m47\u001b[0m - \u001b[33m\u001b[1mThe target sampling rate is not an integer multiple of the current sampling rate. Resampling is used, which does not have an integrated antialiasing filter. Applying a lowpass filter.\u001b[0m\n",
      "\u001b[32m2024-08-26 00:46:03.074\u001b[0m | \u001b[33m\u001b[1mWARNING \u001b[0m | \u001b[36menfify.preprocessing\u001b[0m:\u001b[36mdownsample_scipy\u001b[0m:\u001b[36m47\u001b[0m - \u001b[33m\u001b[1mThe target sampling rate is not an integer multiple of the current sampling rate. Resampling is used, which does not have an integrated antialiasing filter. Applying a lowpass filter.\u001b[0m\n",
      "\u001b[32m2024-08-26 00:46:03.120\u001b[0m | \u001b[33m\u001b[1mWARNING \u001b[0m | \u001b[36menfify.preprocessing\u001b[0m:\u001b[36mdownsample_scipy\u001b[0m:\u001b[36m47\u001b[0m - \u001b[33m\u001b[1mThe target sampling rate is not an integer multiple of the current sampling rate. Resampling is used, which does not have an integrated antialiasing filter. Applying a lowpass filter.\u001b[0m\n"
     ]
    },
    {
     "name": "stderr",
     "output_type": "stream",
     "text": [
      " 38%|███▊      | 384/1000 [00:26<00:40, 15.18it/s]"
     ]
    },
    {
     "name": "stdout",
     "output_type": "stream",
     "text": [
      "\u001b[32m2024-08-26 00:46:03.198\u001b[0m | \u001b[33m\u001b[1mWARNING \u001b[0m | \u001b[36menfify.preprocessing\u001b[0m:\u001b[36mdownsample_scipy\u001b[0m:\u001b[36m47\u001b[0m - \u001b[33m\u001b[1mThe target sampling rate is not an integer multiple of the current sampling rate. Resampling is used, which does not have an integrated antialiasing filter. Applying a lowpass filter.\u001b[0m\n",
      "\u001b[32m2024-08-26 00:46:03.263\u001b[0m | \u001b[33m\u001b[1mWARNING \u001b[0m | \u001b[36menfify.preprocessing\u001b[0m:\u001b[36mdownsample_scipy\u001b[0m:\u001b[36m47\u001b[0m - \u001b[33m\u001b[1mThe target sampling rate is not an integer multiple of the current sampling rate. Resampling is used, which does not have an integrated antialiasing filter. Applying a lowpass filter.\u001b[0m\n",
      "\u001b[32m2024-08-26 00:46:03.328\u001b[0m | \u001b[33m\u001b[1mWARNING \u001b[0m | \u001b[36menfify.preprocessing\u001b[0m:\u001b[36mdownsample_scipy\u001b[0m:\u001b[36m47\u001b[0m - \u001b[33m\u001b[1mThe target sampling rate is not an integer multiple of the current sampling rate. Resampling is used, which does not have an integrated antialiasing filter. Applying a lowpass filter.\u001b[0m\n",
      "\u001b[32m2024-08-26 00:46:03.380\u001b[0m | \u001b[33m\u001b[1mWARNING \u001b[0m | \u001b[36menfify.preprocessing\u001b[0m:\u001b[36mdownsample_scipy\u001b[0m:\u001b[36m47\u001b[0m - \u001b[33m\u001b[1mThe target sampling rate is not an integer multiple of the current sampling rate. Resampling is used, which does not have an integrated antialiasing filter. Applying a lowpass filter.\u001b[0m\n"
     ]
    },
    {
     "name": "stderr",
     "output_type": "stream",
     "text": [
      " 39%|███▉      | 388/1000 [00:27<00:37, 16.25it/s]"
     ]
    },
    {
     "name": "stdout",
     "output_type": "stream",
     "text": [
      "\u001b[32m2024-08-26 00:46:03.463\u001b[0m | \u001b[33m\u001b[1mWARNING \u001b[0m | \u001b[36menfify.preprocessing\u001b[0m:\u001b[36mdownsample_scipy\u001b[0m:\u001b[36m47\u001b[0m - \u001b[33m\u001b[1mThe target sampling rate is not an integer multiple of the current sampling rate. Resampling is used, which does not have an integrated antialiasing filter. Applying a lowpass filter.\u001b[0m\n",
      "\u001b[32m2024-08-26 00:46:03.526\u001b[0m | \u001b[33m\u001b[1mWARNING \u001b[0m | \u001b[36menfify.preprocessing\u001b[0m:\u001b[36mdownsample_scipy\u001b[0m:\u001b[36m47\u001b[0m - \u001b[33m\u001b[1mThe target sampling rate is not an integer multiple of the current sampling rate. Resampling is used, which does not have an integrated antialiasing filter. Applying a lowpass filter.\u001b[0m\n",
      "\u001b[32m2024-08-26 00:46:03.559\u001b[0m | \u001b[33m\u001b[1mWARNING \u001b[0m | \u001b[36menfify.preprocessing\u001b[0m:\u001b[36mdownsample_scipy\u001b[0m:\u001b[36m47\u001b[0m - \u001b[33m\u001b[1mThe target sampling rate is not an integer multiple of the current sampling rate. Resampling is used, which does not have an integrated antialiasing filter. Applying a lowpass filter.\u001b[0m\n",
      "\u001b[32m2024-08-26 00:46:03.614\u001b[0m | \u001b[33m\u001b[1mWARNING \u001b[0m | \u001b[36menfify.preprocessing\u001b[0m:\u001b[36mdownsample_scipy\u001b[0m:\u001b[36m47\u001b[0m - \u001b[33m\u001b[1mThe target sampling rate is not an integer multiple of the current sampling rate. Resampling is used, which does not have an integrated antialiasing filter. Applying a lowpass filter.\u001b[0m\n"
     ]
    },
    {
     "name": "stderr",
     "output_type": "stream",
     "text": [
      " 39%|███▉      | 394/1000 [00:27<00:36, 16.57it/s]"
     ]
    },
    {
     "name": "stdout",
     "output_type": "stream",
     "text": [
      "\u001b[32m2024-08-26 00:46:03.702\u001b[0m | \u001b[33m\u001b[1mWARNING \u001b[0m | \u001b[36menfify.preprocessing\u001b[0m:\u001b[36mdownsample_scipy\u001b[0m:\u001b[36m47\u001b[0m - \u001b[33m\u001b[1mThe target sampling rate is not an integer multiple of the current sampling rate. Resampling is used, which does not have an integrated antialiasing filter. Applying a lowpass filter.\u001b[0m\n",
      "\u001b[32m2024-08-26 00:46:03.761\u001b[0m | \u001b[33m\u001b[1mWARNING \u001b[0m | \u001b[36menfify.preprocessing\u001b[0m:\u001b[36mdownsample_scipy\u001b[0m:\u001b[36m47\u001b[0m - \u001b[33m\u001b[1mThe target sampling rate is not an integer multiple of the current sampling rate. Resampling is used, which does not have an integrated antialiasing filter. Applying a lowpass filter.\u001b[0m\n",
      "\u001b[32m2024-08-26 00:46:03.811\u001b[0m | \u001b[33m\u001b[1mWARNING \u001b[0m | \u001b[36menfify.preprocessing\u001b[0m:\u001b[36mdownsample_scipy\u001b[0m:\u001b[36m47\u001b[0m - \u001b[33m\u001b[1mThe target sampling rate is not an integer multiple of the current sampling rate. Resampling is used, which does not have an integrated antialiasing filter. Applying a lowpass filter.\u001b[0m\n",
      "\u001b[32m2024-08-26 00:46:03.866\u001b[0m | \u001b[33m\u001b[1mWARNING \u001b[0m | \u001b[36menfify.preprocessing\u001b[0m:\u001b[36mdownsample_scipy\u001b[0m:\u001b[36m47\u001b[0m - \u001b[33m\u001b[1mThe target sampling rate is not an integer multiple of the current sampling rate. Resampling is used, which does not have an integrated antialiasing filter. Applying a lowpass filter.\u001b[0m\n"
     ]
    },
    {
     "name": "stderr",
     "output_type": "stream",
     "text": [
      " 40%|███▉      | 396/1000 [00:27<00:38, 15.83it/s]"
     ]
    },
    {
     "name": "stdout",
     "output_type": "stream",
     "text": [
      "\u001b[32m2024-08-26 00:46:03.926\u001b[0m | \u001b[33m\u001b[1mWARNING \u001b[0m | \u001b[36menfify.preprocessing\u001b[0m:\u001b[36mdownsample_scipy\u001b[0m:\u001b[36m47\u001b[0m - \u001b[33m\u001b[1mThe target sampling rate is not an integer multiple of the current sampling rate. Resampling is used, which does not have an integrated antialiasing filter. Applying a lowpass filter.\u001b[0m\n",
      "\u001b[32m2024-08-26 00:46:03.989\u001b[0m | \u001b[33m\u001b[1mWARNING \u001b[0m | \u001b[36menfify.preprocessing\u001b[0m:\u001b[36mdownsample_scipy\u001b[0m:\u001b[36m47\u001b[0m - \u001b[33m\u001b[1mThe target sampling rate is not an integer multiple of the current sampling rate. Resampling is used, which does not have an integrated antialiasing filter. Applying a lowpass filter.\u001b[0m\n",
      "\u001b[32m2024-08-26 00:46:04.067\u001b[0m | \u001b[33m\u001b[1mWARNING \u001b[0m | \u001b[36menfify.preprocessing\u001b[0m:\u001b[36mdownsample_scipy\u001b[0m:\u001b[36m47\u001b[0m - \u001b[33m\u001b[1mThe target sampling rate is not an integer multiple of the current sampling rate. Resampling is used, which does not have an integrated antialiasing filter. Applying a lowpass filter.\u001b[0m\n"
     ]
    },
    {
     "name": "stderr",
     "output_type": "stream",
     "text": [
      " 40%|████      | 401/1000 [00:27<00:34, 17.14it/s]"
     ]
    },
    {
     "name": "stdout",
     "output_type": "stream",
     "text": [
      "\u001b[32m2024-08-26 00:46:04.148\u001b[0m | \u001b[33m\u001b[1mWARNING \u001b[0m | \u001b[36menfify.preprocessing\u001b[0m:\u001b[36mdownsample_scipy\u001b[0m:\u001b[36m47\u001b[0m - \u001b[33m\u001b[1mThe target sampling rate is not an integer multiple of the current sampling rate. Resampling is used, which does not have an integrated antialiasing filter. Applying a lowpass filter.\u001b[0m\n",
      "\u001b[32m2024-08-26 00:46:04.229\u001b[0m | \u001b[33m\u001b[1mWARNING \u001b[0m | \u001b[36menfify.preprocessing\u001b[0m:\u001b[36mdownsample_scipy\u001b[0m:\u001b[36m47\u001b[0m - \u001b[33m\u001b[1mThe target sampling rate is not an integer multiple of the current sampling rate. Resampling is used, which does not have an integrated antialiasing filter. Applying a lowpass filter.\u001b[0m\n",
      "\u001b[32m2024-08-26 00:46:04.277\u001b[0m | \u001b[33m\u001b[1mWARNING \u001b[0m | \u001b[36menfify.preprocessing\u001b[0m:\u001b[36mdownsample_scipy\u001b[0m:\u001b[36m47\u001b[0m - \u001b[33m\u001b[1mThe target sampling rate is not an integer multiple of the current sampling rate. Resampling is used, which does not have an integrated antialiasing filter. Applying a lowpass filter.\u001b[0m\n",
      "\u001b[32m2024-08-26 00:46:04.311\u001b[0m | \u001b[33m\u001b[1mWARNING \u001b[0m | \u001b[36menfify.preprocessing\u001b[0m:\u001b[36mdownsample_scipy\u001b[0m:\u001b[36m47\u001b[0m - \u001b[33m\u001b[1mThe target sampling rate is not an integer multiple of the current sampling rate. Resampling is used, which does not have an integrated antialiasing filter. Applying a lowpass filter.\u001b[0m\n",
      "\u001b[32m2024-08-26 00:46:04.350\u001b[0m | \u001b[33m\u001b[1mWARNING \u001b[0m | \u001b[36menfify.preprocessing\u001b[0m:\u001b[36mdownsample_scipy\u001b[0m:\u001b[36m47\u001b[0m - \u001b[33m\u001b[1mThe target sampling rate is not an integer multiple of the current sampling rate. Resampling is used, which does not have an integrated antialiasing filter. Applying a lowpass filter.\u001b[0m\n"
     ]
    },
    {
     "name": "stderr",
     "output_type": "stream",
     "text": [
      " 40%|████      | 404/1000 [00:27<00:30, 19.76it/s]"
     ]
    },
    {
     "name": "stdout",
     "output_type": "stream",
     "text": [
      "\u001b[32m2024-08-26 00:46:04.387\u001b[0m | \u001b[33m\u001b[1mWARNING \u001b[0m | \u001b[36menfify.preprocessing\u001b[0m:\u001b[36mdownsample_scipy\u001b[0m:\u001b[36m47\u001b[0m - \u001b[33m\u001b[1mThe target sampling rate is not an integer multiple of the current sampling rate. Resampling is used, which does not have an integrated antialiasing filter. Applying a lowpass filter.\u001b[0m\n",
      "\u001b[32m2024-08-26 00:46:04.417\u001b[0m | \u001b[33m\u001b[1mWARNING \u001b[0m | \u001b[36menfify.preprocessing\u001b[0m:\u001b[36mdownsample_scipy\u001b[0m:\u001b[36m47\u001b[0m - \u001b[33m\u001b[1mThe target sampling rate is not an integer multiple of the current sampling rate. Resampling is used, which does not have an integrated antialiasing filter. Applying a lowpass filter.\u001b[0m\n",
      "\u001b[32m2024-08-26 00:46:04.464\u001b[0m | \u001b[33m\u001b[1mWARNING \u001b[0m | \u001b[36menfify.preprocessing\u001b[0m:\u001b[36mdownsample_scipy\u001b[0m:\u001b[36m47\u001b[0m - \u001b[33m\u001b[1mThe target sampling rate is not an integer multiple of the current sampling rate. Resampling is used, which does not have an integrated antialiasing filter. Applying a lowpass filter.\u001b[0m\n",
      "\u001b[32m2024-08-26 00:46:04.522\u001b[0m | \u001b[33m\u001b[1mWARNING \u001b[0m | \u001b[36menfify.preprocessing\u001b[0m:\u001b[36mdownsample_scipy\u001b[0m:\u001b[36m47\u001b[0m - \u001b[33m\u001b[1mThe target sampling rate is not an integer multiple of the current sampling rate. Resampling is used, which does not have an integrated antialiasing filter. Applying a lowpass filter.\u001b[0m\n",
      "\u001b[32m2024-08-26 00:46:04.578\u001b[0m | \u001b[33m\u001b[1mWARNING \u001b[0m | \u001b[36menfify.preprocessing\u001b[0m:\u001b[36mdownsample_scipy\u001b[0m:\u001b[36m47\u001b[0m - \u001b[33m\u001b[1mThe target sampling rate is not an integer multiple of the current sampling rate. Resampling is used, which does not have an integrated antialiasing filter. Applying a lowpass filter.\u001b[0m\n"
     ]
    },
    {
     "name": "stderr",
     "output_type": "stream",
     "text": [
      " 41%|████      | 409/1000 [00:28<00:33, 17.76it/s]"
     ]
    },
    {
     "name": "stdout",
     "output_type": "stream",
     "text": [
      "\u001b[32m2024-08-26 00:46:04.646\u001b[0m | \u001b[33m\u001b[1mWARNING \u001b[0m | \u001b[36menfify.preprocessing\u001b[0m:\u001b[36mdownsample_scipy\u001b[0m:\u001b[36m47\u001b[0m - \u001b[33m\u001b[1mThe target sampling rate is not an integer multiple of the current sampling rate. Resampling is used, which does not have an integrated antialiasing filter. Applying a lowpass filter.\u001b[0m\n",
      "\u001b[32m2024-08-26 00:46:04.710\u001b[0m | \u001b[33m\u001b[1mWARNING \u001b[0m | \u001b[36menfify.preprocessing\u001b[0m:\u001b[36mdownsample_scipy\u001b[0m:\u001b[36m47\u001b[0m - \u001b[33m\u001b[1mThe target sampling rate is not an integer multiple of the current sampling rate. Resampling is used, which does not have an integrated antialiasing filter. Applying a lowpass filter.\u001b[0m\n",
      "\u001b[32m2024-08-26 00:46:04.769\u001b[0m | \u001b[33m\u001b[1mWARNING \u001b[0m | \u001b[36menfify.preprocessing\u001b[0m:\u001b[36mdownsample_scipy\u001b[0m:\u001b[36m47\u001b[0m - \u001b[33m\u001b[1mThe target sampling rate is not an integer multiple of the current sampling rate. Resampling is used, which does not have an integrated antialiasing filter. Applying a lowpass filter.\u001b[0m\n",
      "\u001b[32m2024-08-26 00:46:04.809\u001b[0m | \u001b[33m\u001b[1mWARNING \u001b[0m | \u001b[36menfify.preprocessing\u001b[0m:\u001b[36mdownsample_scipy\u001b[0m:\u001b[36m47\u001b[0m - \u001b[33m\u001b[1mThe target sampling rate is not an integer multiple of the current sampling rate. Resampling is used, which does not have an integrated antialiasing filter. Applying a lowpass filter.\u001b[0m\n"
     ]
    },
    {
     "name": "stderr",
     "output_type": "stream",
     "text": [
      " 41%|████      | 412/1000 [00:28<00:32, 18.18it/s]"
     ]
    },
    {
     "name": "stdout",
     "output_type": "stream",
     "text": [
      "\u001b[32m2024-08-26 00:46:04.855\u001b[0m | \u001b[33m\u001b[1mWARNING \u001b[0m | \u001b[36menfify.preprocessing\u001b[0m:\u001b[36mdownsample_scipy\u001b[0m:\u001b[36m47\u001b[0m - \u001b[33m\u001b[1mThe target sampling rate is not an integer multiple of the current sampling rate. Resampling is used, which does not have an integrated antialiasing filter. Applying a lowpass filter.\u001b[0m\n",
      "\u001b[32m2024-08-26 00:46:04.929\u001b[0m | \u001b[33m\u001b[1mWARNING \u001b[0m | \u001b[36menfify.preprocessing\u001b[0m:\u001b[36mdownsample_scipy\u001b[0m:\u001b[36m47\u001b[0m - \u001b[33m\u001b[1mThe target sampling rate is not an integer multiple of the current sampling rate. Resampling is used, which does not have an integrated antialiasing filter. Applying a lowpass filter.\u001b[0m\n",
      "\u001b[32m2024-08-26 00:46:04.978\u001b[0m | \u001b[33m\u001b[1mWARNING \u001b[0m | \u001b[36menfify.preprocessing\u001b[0m:\u001b[36mdownsample_scipy\u001b[0m:\u001b[36m47\u001b[0m - \u001b[33m\u001b[1mThe target sampling rate is not an integer multiple of the current sampling rate. Resampling is used, which does not have an integrated antialiasing filter. Applying a lowpass filter.\u001b[0m\n",
      "\u001b[32m2024-08-26 00:46:05.022\u001b[0m | \u001b[33m\u001b[1mWARNING \u001b[0m | \u001b[36menfify.preprocessing\u001b[0m:\u001b[36mdownsample_scipy\u001b[0m:\u001b[36m47\u001b[0m - \u001b[33m\u001b[1mThe target sampling rate is not an integer multiple of the current sampling rate. Resampling is used, which does not have an integrated antialiasing filter. Applying a lowpass filter.\u001b[0m\n"
     ]
    },
    {
     "name": "stderr",
     "output_type": "stream",
     "text": [
      " 42%|████▏     | 417/1000 [00:28<00:34, 16.68it/s]"
     ]
    },
    {
     "name": "stdout",
     "output_type": "stream",
     "text": [
      "\u001b[32m2024-08-26 00:46:05.109\u001b[0m | \u001b[33m\u001b[1mWARNING \u001b[0m | \u001b[36menfify.preprocessing\u001b[0m:\u001b[36mdownsample_scipy\u001b[0m:\u001b[36m47\u001b[0m - \u001b[33m\u001b[1mThe target sampling rate is not an integer multiple of the current sampling rate. Resampling is used, which does not have an integrated antialiasing filter. Applying a lowpass filter.\u001b[0m\n",
      "\u001b[32m2024-08-26 00:46:05.187\u001b[0m | \u001b[33m\u001b[1mWARNING \u001b[0m | \u001b[36menfify.preprocessing\u001b[0m:\u001b[36mdownsample_scipy\u001b[0m:\u001b[36m47\u001b[0m - \u001b[33m\u001b[1mThe target sampling rate is not an integer multiple of the current sampling rate. Resampling is used, which does not have an integrated antialiasing filter. Applying a lowpass filter.\u001b[0m\n",
      "\u001b[32m2024-08-26 00:46:05.246\u001b[0m | \u001b[33m\u001b[1mWARNING \u001b[0m | \u001b[36menfify.preprocessing\u001b[0m:\u001b[36mdownsample_scipy\u001b[0m:\u001b[36m47\u001b[0m - \u001b[33m\u001b[1mThe target sampling rate is not an integer multiple of the current sampling rate. Resampling is used, which does not have an integrated antialiasing filter. Applying a lowpass filter.\u001b[0m\n"
     ]
    },
    {
     "name": "stderr",
     "output_type": "stream",
     "text": [
      " 42%|████▏     | 421/1000 [00:28<00:36, 15.73it/s]"
     ]
    },
    {
     "name": "stdout",
     "output_type": "stream",
     "text": [
      "\u001b[32m2024-08-26 00:46:05.316\u001b[0m | \u001b[33m\u001b[1mWARNING \u001b[0m | \u001b[36menfify.preprocessing\u001b[0m:\u001b[36mdownsample_scipy\u001b[0m:\u001b[36m47\u001b[0m - \u001b[33m\u001b[1mThe target sampling rate is not an integer multiple of the current sampling rate. Resampling is used, which does not have an integrated antialiasing filter. Applying a lowpass filter.\u001b[0m\n",
      "\u001b[32m2024-08-26 00:46:05.395\u001b[0m | \u001b[33m\u001b[1mWARNING \u001b[0m | \u001b[36menfify.preprocessing\u001b[0m:\u001b[36mdownsample_scipy\u001b[0m:\u001b[36m47\u001b[0m - \u001b[33m\u001b[1mThe target sampling rate is not an integer multiple of the current sampling rate. Resampling is used, which does not have an integrated antialiasing filter. Applying a lowpass filter.\u001b[0m\n",
      "\u001b[32m2024-08-26 00:46:05.455\u001b[0m | \u001b[33m\u001b[1mWARNING \u001b[0m | \u001b[36menfify.preprocessing\u001b[0m:\u001b[36mdownsample_scipy\u001b[0m:\u001b[36m47\u001b[0m - \u001b[33m\u001b[1mThe target sampling rate is not an integer multiple of the current sampling rate. Resampling is used, which does not have an integrated antialiasing filter. Applying a lowpass filter.\u001b[0m\n",
      "\u001b[32m2024-08-26 00:46:05.519\u001b[0m | \u001b[33m\u001b[1mWARNING \u001b[0m | \u001b[36menfify.preprocessing\u001b[0m:\u001b[36mdownsample_scipy\u001b[0m:\u001b[36m47\u001b[0m - \u001b[33m\u001b[1mThe target sampling rate is not an integer multiple of the current sampling rate. Resampling is used, which does not have an integrated antialiasing filter. Applying a lowpass filter.\u001b[0m\n"
     ]
    },
    {
     "name": "stderr",
     "output_type": "stream",
     "text": [
      " 43%|████▎     | 427/1000 [00:29<00:29, 19.13it/s]"
     ]
    },
    {
     "name": "stdout",
     "output_type": "stream",
     "text": [
      "\u001b[32m2024-08-26 00:46:05.572\u001b[0m | \u001b[33m\u001b[1mWARNING \u001b[0m | \u001b[36menfify.preprocessing\u001b[0m:\u001b[36mdownsample_scipy\u001b[0m:\u001b[36m47\u001b[0m - \u001b[33m\u001b[1mThe target sampling rate is not an integer multiple of the current sampling rate. Resampling is used, which does not have an integrated antialiasing filter. Applying a lowpass filter.\u001b[0m\n",
      "\u001b[32m2024-08-26 00:46:05.609\u001b[0m | \u001b[33m\u001b[1mWARNING \u001b[0m | \u001b[36menfify.preprocessing\u001b[0m:\u001b[36mdownsample_scipy\u001b[0m:\u001b[36m47\u001b[0m - \u001b[33m\u001b[1mThe target sampling rate is not an integer multiple of the current sampling rate. Resampling is used, which does not have an integrated antialiasing filter. Applying a lowpass filter.\u001b[0m\n",
      "\u001b[32m2024-08-26 00:46:05.652\u001b[0m | \u001b[33m\u001b[1mWARNING \u001b[0m | \u001b[36menfify.preprocessing\u001b[0m:\u001b[36mdownsample_scipy\u001b[0m:\u001b[36m47\u001b[0m - \u001b[33m\u001b[1mThe target sampling rate is not an integer multiple of the current sampling rate. Resampling is used, which does not have an integrated antialiasing filter. Applying a lowpass filter.\u001b[0m\n",
      "\u001b[32m2024-08-26 00:46:05.703\u001b[0m | \u001b[33m\u001b[1mWARNING \u001b[0m | \u001b[36menfify.preprocessing\u001b[0m:\u001b[36mdownsample_scipy\u001b[0m:\u001b[36m47\u001b[0m - \u001b[33m\u001b[1mThe target sampling rate is not an integer multiple of the current sampling rate. Resampling is used, which does not have an integrated antialiasing filter. Applying a lowpass filter.\u001b[0m\n",
      "\u001b[32m2024-08-26 00:46:05.734\u001b[0m | \u001b[33m\u001b[1mWARNING \u001b[0m | \u001b[36menfify.preprocessing\u001b[0m:\u001b[36mdownsample_scipy\u001b[0m:\u001b[36m47\u001b[0m - \u001b[33m\u001b[1mThe target sampling rate is not an integer multiple of the current sampling rate. Resampling is used, which does not have an integrated antialiasing filter. Applying a lowpass filter.\u001b[0m\n"
     ]
    },
    {
     "name": "stderr",
     "output_type": "stream",
     "text": [
      " 43%|████▎     | 429/1000 [00:29<00:35, 16.22it/s]"
     ]
    },
    {
     "name": "stdout",
     "output_type": "stream",
     "text": [
      "\u001b[32m2024-08-26 00:46:05.794\u001b[0m | \u001b[33m\u001b[1mWARNING \u001b[0m | \u001b[36menfify.preprocessing\u001b[0m:\u001b[36mdownsample_scipy\u001b[0m:\u001b[36m47\u001b[0m - \u001b[33m\u001b[1mThe target sampling rate is not an integer multiple of the current sampling rate. Resampling is used, which does not have an integrated antialiasing filter. Applying a lowpass filter.\u001b[0m\n",
      "\u001b[32m2024-08-26 00:46:05.889\u001b[0m | \u001b[33m\u001b[1mWARNING \u001b[0m | \u001b[36menfify.preprocessing\u001b[0m:\u001b[36mdownsample_scipy\u001b[0m:\u001b[36m47\u001b[0m - \u001b[33m\u001b[1mThe target sampling rate is not an integer multiple of the current sampling rate. Resampling is used, which does not have an integrated antialiasing filter. Applying a lowpass filter.\u001b[0m\n",
      "\u001b[32m2024-08-26 00:46:05.969\u001b[0m | \u001b[33m\u001b[1mWARNING \u001b[0m | \u001b[36menfify.preprocessing\u001b[0m:\u001b[36mdownsample_scipy\u001b[0m:\u001b[36m47\u001b[0m - \u001b[33m\u001b[1mThe target sampling rate is not an integer multiple of the current sampling rate. Resampling is used, which does not have an integrated antialiasing filter. Applying a lowpass filter.\u001b[0m\n"
     ]
    },
    {
     "name": "stderr",
     "output_type": "stream",
     "text": [
      " 43%|████▎     | 431/1000 [00:29<00:38, 14.89it/s]"
     ]
    },
    {
     "name": "stdout",
     "output_type": "stream",
     "text": [
      "\u001b[32m2024-08-26 00:46:06.055\u001b[0m | \u001b[33m\u001b[1mWARNING \u001b[0m | \u001b[36menfify.preprocessing\u001b[0m:\u001b[36mdownsample_scipy\u001b[0m:\u001b[36m47\u001b[0m - \u001b[33m\u001b[1mThe target sampling rate is not an integer multiple of the current sampling rate. Resampling is used, which does not have an integrated antialiasing filter. Applying a lowpass filter.\u001b[0m\n",
      "\u001b[32m2024-08-26 00:46:06.170\u001b[0m | \u001b[33m\u001b[1mWARNING \u001b[0m | \u001b[36menfify.preprocessing\u001b[0m:\u001b[36mdownsample_scipy\u001b[0m:\u001b[36m47\u001b[0m - \u001b[33m\u001b[1mThe target sampling rate is not an integer multiple of the current sampling rate. Resampling is used, which does not have an integrated antialiasing filter. Applying a lowpass filter.\u001b[0m\n"
     ]
    },
    {
     "name": "stderr",
     "output_type": "stream",
     "text": [
      " 44%|████▎     | 436/1000 [00:29<00:35, 16.01it/s]"
     ]
    },
    {
     "name": "stdout",
     "output_type": "stream",
     "text": [
      "\u001b[32m2024-08-26 00:46:06.283\u001b[0m | \u001b[33m\u001b[1mWARNING \u001b[0m | \u001b[36menfify.preprocessing\u001b[0m:\u001b[36mdownsample_scipy\u001b[0m:\u001b[36m47\u001b[0m - \u001b[33m\u001b[1mThe target sampling rate is not an integer multiple of the current sampling rate. Resampling is used, which does not have an integrated antialiasing filter. Applying a lowpass filter.\u001b[0m\n",
      "\u001b[32m2024-08-26 00:46:06.335\u001b[0m | \u001b[33m\u001b[1mWARNING \u001b[0m | \u001b[36menfify.preprocessing\u001b[0m:\u001b[36mdownsample_scipy\u001b[0m:\u001b[36m47\u001b[0m - \u001b[33m\u001b[1mThe target sampling rate is not an integer multiple of the current sampling rate. Resampling is used, which does not have an integrated antialiasing filter. Applying a lowpass filter.\u001b[0m\n",
      "\u001b[32m2024-08-26 00:46:06.373\u001b[0m | \u001b[33m\u001b[1mWARNING \u001b[0m | \u001b[36menfify.preprocessing\u001b[0m:\u001b[36mdownsample_scipy\u001b[0m:\u001b[36m47\u001b[0m - \u001b[33m\u001b[1mThe target sampling rate is not an integer multiple of the current sampling rate. Resampling is used, which does not have an integrated antialiasing filter. Applying a lowpass filter.\u001b[0m\n",
      "\u001b[32m2024-08-26 00:46:06.407\u001b[0m | \u001b[33m\u001b[1mWARNING \u001b[0m | \u001b[36menfify.preprocessing\u001b[0m:\u001b[36mdownsample_scipy\u001b[0m:\u001b[36m47\u001b[0m - \u001b[33m\u001b[1mThe target sampling rate is not an integer multiple of the current sampling rate. Resampling is used, which does not have an integrated antialiasing filter. Applying a lowpass filter.\u001b[0m\n",
      "\u001b[32m2024-08-26 00:46:06.444\u001b[0m | \u001b[33m\u001b[1mWARNING \u001b[0m | \u001b[36menfify.preprocessing\u001b[0m:\u001b[36mdownsample_scipy\u001b[0m:\u001b[36m47\u001b[0m - \u001b[33m\u001b[1mThe target sampling rate is not an integer multiple of the current sampling rate. Resampling is used, which does not have an integrated antialiasing filter. Applying a lowpass filter.\u001b[0m\n",
      "\u001b[32m2024-08-26 00:46:06.477\u001b[0m | \u001b[33m\u001b[1mWARNING \u001b[0m | \u001b[36menfify.preprocessing\u001b[0m:\u001b[36mdownsample_scipy\u001b[0m:\u001b[36m47\u001b[0m - \u001b[33m\u001b[1mThe target sampling rate is not an integer multiple of the current sampling rate. Resampling is used, which does not have an integrated antialiasing filter. Applying a lowpass filter.\u001b[0m\n"
     ]
    },
    {
     "name": "stderr",
     "output_type": "stream",
     "text": [
      " 44%|████▍     | 442/1000 [00:30<00:31, 17.79it/s]"
     ]
    },
    {
     "name": "stdout",
     "output_type": "stream",
     "text": [
      "\u001b[32m2024-08-26 00:46:06.541\u001b[0m | \u001b[33m\u001b[1mWARNING \u001b[0m | \u001b[36menfify.preprocessing\u001b[0m:\u001b[36mdownsample_scipy\u001b[0m:\u001b[36m47\u001b[0m - \u001b[33m\u001b[1mThe target sampling rate is not an integer multiple of the current sampling rate. Resampling is used, which does not have an integrated antialiasing filter. Applying a lowpass filter.\u001b[0m\n",
      "\u001b[32m2024-08-26 00:46:06.583\u001b[0m | \u001b[33m\u001b[1mWARNING \u001b[0m | \u001b[36menfify.preprocessing\u001b[0m:\u001b[36mdownsample_scipy\u001b[0m:\u001b[36m47\u001b[0m - \u001b[33m\u001b[1mThe target sampling rate is not an integer multiple of the current sampling rate. Resampling is used, which does not have an integrated antialiasing filter. Applying a lowpass filter.\u001b[0m\n",
      "\u001b[32m2024-08-26 00:46:06.629\u001b[0m | \u001b[33m\u001b[1mWARNING \u001b[0m | \u001b[36menfify.preprocessing\u001b[0m:\u001b[36mdownsample_scipy\u001b[0m:\u001b[36m47\u001b[0m - \u001b[33m\u001b[1mThe target sampling rate is not an integer multiple of the current sampling rate. Resampling is used, which does not have an integrated antialiasing filter. Applying a lowpass filter.\u001b[0m\n",
      "\u001b[32m2024-08-26 00:46:06.670\u001b[0m | \u001b[33m\u001b[1mWARNING \u001b[0m | \u001b[36menfify.preprocessing\u001b[0m:\u001b[36mdownsample_scipy\u001b[0m:\u001b[36m47\u001b[0m - \u001b[33m\u001b[1mThe target sampling rate is not an integer multiple of the current sampling rate. Resampling is used, which does not have an integrated antialiasing filter. Applying a lowpass filter.\u001b[0m\n"
     ]
    },
    {
     "name": "stderr",
     "output_type": "stream",
     "text": [
      " 44%|████▍     | 444/1000 [00:30<00:32, 16.95it/s]"
     ]
    },
    {
     "name": "stdout",
     "output_type": "stream",
     "text": [
      "\u001b[32m2024-08-26 00:46:06.759\u001b[0m | \u001b[33m\u001b[1mWARNING \u001b[0m | \u001b[36menfify.preprocessing\u001b[0m:\u001b[36mdownsample_scipy\u001b[0m:\u001b[36m47\u001b[0m - \u001b[33m\u001b[1mThe target sampling rate is not an integer multiple of the current sampling rate. Resampling is used, which does not have an integrated antialiasing filter. Applying a lowpass filter.\u001b[0m\n",
      "\u001b[32m2024-08-26 00:46:06.836\u001b[0m | \u001b[33m\u001b[1mWARNING \u001b[0m | \u001b[36menfify.preprocessing\u001b[0m:\u001b[36mdownsample_scipy\u001b[0m:\u001b[36m47\u001b[0m - \u001b[33m\u001b[1mThe target sampling rate is not an integer multiple of the current sampling rate. Resampling is used, which does not have an integrated antialiasing filter. Applying a lowpass filter.\u001b[0m\n",
      "\u001b[32m2024-08-26 00:46:06.887\u001b[0m | \u001b[33m\u001b[1mWARNING \u001b[0m | \u001b[36menfify.preprocessing\u001b[0m:\u001b[36mdownsample_scipy\u001b[0m:\u001b[36m47\u001b[0m - \u001b[33m\u001b[1mThe target sampling rate is not an integer multiple of the current sampling rate. Resampling is used, which does not have an integrated antialiasing filter. Applying a lowpass filter.\u001b[0m\n",
      "\u001b[32m2024-08-26 00:46:06.927\u001b[0m | \u001b[33m\u001b[1mWARNING \u001b[0m | \u001b[36menfify.preprocessing\u001b[0m:\u001b[36mdownsample_scipy\u001b[0m:\u001b[36m47\u001b[0m - \u001b[33m\u001b[1mThe target sampling rate is not an integer multiple of the current sampling rate. Resampling is used, which does not have an integrated antialiasing filter. Applying a lowpass filter.\u001b[0m\n"
     ]
    },
    {
     "name": "stderr",
     "output_type": "stream",
     "text": [
      " 45%|████▌     | 450/1000 [00:30<00:27, 19.67it/s]"
     ]
    },
    {
     "name": "stdout",
     "output_type": "stream",
     "text": [
      "\u001b[32m2024-08-26 00:46:06.968\u001b[0m | \u001b[33m\u001b[1mWARNING \u001b[0m | \u001b[36menfify.preprocessing\u001b[0m:\u001b[36mdownsample_scipy\u001b[0m:\u001b[36m47\u001b[0m - \u001b[33m\u001b[1mThe target sampling rate is not an integer multiple of the current sampling rate. Resampling is used, which does not have an integrated antialiasing filter. Applying a lowpass filter.\u001b[0m\n",
      "\u001b[32m2024-08-26 00:46:07.018\u001b[0m | \u001b[33m\u001b[1mWARNING \u001b[0m | \u001b[36menfify.preprocessing\u001b[0m:\u001b[36mdownsample_scipy\u001b[0m:\u001b[36m47\u001b[0m - \u001b[33m\u001b[1mThe target sampling rate is not an integer multiple of the current sampling rate. Resampling is used, which does not have an integrated antialiasing filter. Applying a lowpass filter.\u001b[0m\n",
      "\u001b[32m2024-08-26 00:46:07.066\u001b[0m | \u001b[33m\u001b[1mWARNING \u001b[0m | \u001b[36menfify.preprocessing\u001b[0m:\u001b[36mdownsample_scipy\u001b[0m:\u001b[36m47\u001b[0m - \u001b[33m\u001b[1mThe target sampling rate is not an integer multiple of the current sampling rate. Resampling is used, which does not have an integrated antialiasing filter. Applying a lowpass filter.\u001b[0m\n",
      "\u001b[32m2024-08-26 00:46:07.103\u001b[0m | \u001b[33m\u001b[1mWARNING \u001b[0m | \u001b[36menfify.preprocessing\u001b[0m:\u001b[36mdownsample_scipy\u001b[0m:\u001b[36m47\u001b[0m - \u001b[33m\u001b[1mThe target sampling rate is not an integer multiple of the current sampling rate. Resampling is used, which does not have an integrated antialiasing filter. Applying a lowpass filter.\u001b[0m\n",
      "\u001b[32m2024-08-26 00:46:07.150\u001b[0m | \u001b[33m\u001b[1mWARNING \u001b[0m | \u001b[36menfify.preprocessing\u001b[0m:\u001b[36mdownsample_scipy\u001b[0m:\u001b[36m47\u001b[0m - \u001b[33m\u001b[1mThe target sampling rate is not an integer multiple of the current sampling rate. Resampling is used, which does not have an integrated antialiasing filter. Applying a lowpass filter.\u001b[0m\n"
     ]
    },
    {
     "name": "stderr",
     "output_type": "stream",
     "text": [
      " 45%|████▌     | 453/1000 [00:30<00:28, 19.29it/s]"
     ]
    },
    {
     "name": "stdout",
     "output_type": "stream",
     "text": [
      "\u001b[32m2024-08-26 00:46:07.191\u001b[0m | \u001b[33m\u001b[1mWARNING \u001b[0m | \u001b[36menfify.preprocessing\u001b[0m:\u001b[36mdownsample_scipy\u001b[0m:\u001b[36m47\u001b[0m - \u001b[33m\u001b[1mThe target sampling rate is not an integer multiple of the current sampling rate. Resampling is used, which does not have an integrated antialiasing filter. Applying a lowpass filter.\u001b[0m\n",
      "\u001b[32m2024-08-26 00:46:07.234\u001b[0m | \u001b[33m\u001b[1mWARNING \u001b[0m | \u001b[36menfify.preprocessing\u001b[0m:\u001b[36mdownsample_scipy\u001b[0m:\u001b[36m47\u001b[0m - \u001b[33m\u001b[1mThe target sampling rate is not an integer multiple of the current sampling rate. Resampling is used, which does not have an integrated antialiasing filter. Applying a lowpass filter.\u001b[0m\n",
      "\u001b[32m2024-08-26 00:46:07.320\u001b[0m | \u001b[33m\u001b[1mWARNING \u001b[0m | \u001b[36menfify.preprocessing\u001b[0m:\u001b[36mdownsample_scipy\u001b[0m:\u001b[36m47\u001b[0m - \u001b[33m\u001b[1mThe target sampling rate is not an integer multiple of the current sampling rate. Resampling is used, which does not have an integrated antialiasing filter. Applying a lowpass filter.\u001b[0m\n"
     ]
    },
    {
     "name": "stderr",
     "output_type": "stream",
     "text": [
      " 46%|████▌     | 457/1000 [00:31<00:33, 16.45it/s]"
     ]
    },
    {
     "name": "stdout",
     "output_type": "stream",
     "text": [
      "\u001b[32m2024-08-26 00:46:07.397\u001b[0m | \u001b[33m\u001b[1mWARNING \u001b[0m | \u001b[36menfify.preprocessing\u001b[0m:\u001b[36mdownsample_scipy\u001b[0m:\u001b[36m47\u001b[0m - \u001b[33m\u001b[1mThe target sampling rate is not an integer multiple of the current sampling rate. Resampling is used, which does not have an integrated antialiasing filter. Applying a lowpass filter.\u001b[0m\n",
      "\u001b[32m2024-08-26 00:46:07.474\u001b[0m | \u001b[33m\u001b[1mWARNING \u001b[0m | \u001b[36menfify.preprocessing\u001b[0m:\u001b[36mdownsample_scipy\u001b[0m:\u001b[36m47\u001b[0m - \u001b[33m\u001b[1mThe target sampling rate is not an integer multiple of the current sampling rate. Resampling is used, which does not have an integrated antialiasing filter. Applying a lowpass filter.\u001b[0m\n",
      "\u001b[32m2024-08-26 00:46:07.552\u001b[0m | \u001b[33m\u001b[1mWARNING \u001b[0m | \u001b[36menfify.preprocessing\u001b[0m:\u001b[36mdownsample_scipy\u001b[0m:\u001b[36m47\u001b[0m - \u001b[33m\u001b[1mThe target sampling rate is not an integer multiple of the current sampling rate. Resampling is used, which does not have an integrated antialiasing filter. Applying a lowpass filter.\u001b[0m\n"
     ]
    },
    {
     "name": "stderr",
     "output_type": "stream",
     "text": [
      " 46%|████▌     | 460/1000 [00:31<00:32, 16.84it/s]"
     ]
    },
    {
     "name": "stdout",
     "output_type": "stream",
     "text": [
      "\u001b[32m2024-08-26 00:46:07.616\u001b[0m | \u001b[33m\u001b[1mWARNING \u001b[0m | \u001b[36menfify.preprocessing\u001b[0m:\u001b[36mdownsample_scipy\u001b[0m:\u001b[36m47\u001b[0m - \u001b[33m\u001b[1mThe target sampling rate is not an integer multiple of the current sampling rate. Resampling is used, which does not have an integrated antialiasing filter. Applying a lowpass filter.\u001b[0m\n",
      "\u001b[32m2024-08-26 00:46:07.652\u001b[0m | \u001b[33m\u001b[1mWARNING \u001b[0m | \u001b[36menfify.preprocessing\u001b[0m:\u001b[36mdownsample_scipy\u001b[0m:\u001b[36m47\u001b[0m - \u001b[33m\u001b[1mThe target sampling rate is not an integer multiple of the current sampling rate. Resampling is used, which does not have an integrated antialiasing filter. Applying a lowpass filter.\u001b[0m\n",
      "\u001b[32m2024-08-26 00:46:07.690\u001b[0m | \u001b[33m\u001b[1mWARNING \u001b[0m | \u001b[36menfify.preprocessing\u001b[0m:\u001b[36mdownsample_scipy\u001b[0m:\u001b[36m47\u001b[0m - \u001b[33m\u001b[1mThe target sampling rate is not an integer multiple of the current sampling rate. Resampling is used, which does not have an integrated antialiasing filter. Applying a lowpass filter.\u001b[0m\n",
      "\u001b[32m2024-08-26 00:46:07.784\u001b[0m | \u001b[33m\u001b[1mWARNING \u001b[0m | \u001b[36menfify.preprocessing\u001b[0m:\u001b[36mdownsample_scipy\u001b[0m:\u001b[36m47\u001b[0m - \u001b[33m\u001b[1mThe target sampling rate is not an integer multiple of the current sampling rate. Resampling is used, which does not have an integrated antialiasing filter. Applying a lowpass filter.\u001b[0m\n"
     ]
    },
    {
     "name": "stderr",
     "output_type": "stream",
     "text": [
      " 46%|████▋     | 464/1000 [00:31<00:36, 14.69it/s]"
     ]
    },
    {
     "name": "stdout",
     "output_type": "stream",
     "text": [
      "\u001b[32m2024-08-26 00:46:07.862\u001b[0m | \u001b[33m\u001b[1mWARNING \u001b[0m | \u001b[36menfify.preprocessing\u001b[0m:\u001b[36mdownsample_scipy\u001b[0m:\u001b[36m47\u001b[0m - \u001b[33m\u001b[1mThe target sampling rate is not an integer multiple of the current sampling rate. Resampling is used, which does not have an integrated antialiasing filter. Applying a lowpass filter.\u001b[0m\n",
      "\u001b[32m2024-08-26 00:46:07.943\u001b[0m | \u001b[33m\u001b[1mWARNING \u001b[0m | \u001b[36menfify.preprocessing\u001b[0m:\u001b[36mdownsample_scipy\u001b[0m:\u001b[36m47\u001b[0m - \u001b[33m\u001b[1mThe target sampling rate is not an integer multiple of the current sampling rate. Resampling is used, which does not have an integrated antialiasing filter. Applying a lowpass filter.\u001b[0m\n",
      "\u001b[32m2024-08-26 00:46:08.021\u001b[0m | \u001b[33m\u001b[1mWARNING \u001b[0m | \u001b[36menfify.preprocessing\u001b[0m:\u001b[36mdownsample_scipy\u001b[0m:\u001b[36m47\u001b[0m - \u001b[33m\u001b[1mThe target sampling rate is not an integer multiple of the current sampling rate. Resampling is used, which does not have an integrated antialiasing filter. Applying a lowpass filter.\u001b[0m\n"
     ]
    },
    {
     "name": "stderr",
     "output_type": "stream",
     "text": [
      " 47%|████▋     | 466/1000 [00:31<00:37, 14.35it/s]"
     ]
    },
    {
     "name": "stdout",
     "output_type": "stream",
     "text": [
      "\u001b[32m2024-08-26 00:46:08.099\u001b[0m | \u001b[33m\u001b[1mWARNING \u001b[0m | \u001b[36menfify.preprocessing\u001b[0m:\u001b[36mdownsample_scipy\u001b[0m:\u001b[36m47\u001b[0m - \u001b[33m\u001b[1mThe target sampling rate is not an integer multiple of the current sampling rate. Resampling is used, which does not have an integrated antialiasing filter. Applying a lowpass filter.\u001b[0m\n",
      "\u001b[32m2024-08-26 00:46:08.180\u001b[0m | \u001b[33m\u001b[1mWARNING \u001b[0m | \u001b[36menfify.preprocessing\u001b[0m:\u001b[36mdownsample_scipy\u001b[0m:\u001b[36m47\u001b[0m - \u001b[33m\u001b[1mThe target sampling rate is not an integer multiple of the current sampling rate. Resampling is used, which does not have an integrated antialiasing filter. Applying a lowpass filter.\u001b[0m\n",
      "\u001b[32m2024-08-26 00:46:08.245\u001b[0m | \u001b[33m\u001b[1mWARNING \u001b[0m | \u001b[36menfify.preprocessing\u001b[0m:\u001b[36mdownsample_scipy\u001b[0m:\u001b[36m47\u001b[0m - \u001b[33m\u001b[1mThe target sampling rate is not an integer multiple of the current sampling rate. Resampling is used, which does not have an integrated antialiasing filter. Applying a lowpass filter.\u001b[0m\n"
     ]
    },
    {
     "name": "stderr",
     "output_type": "stream",
     "text": [
      " 47%|████▋     | 470/1000 [00:31<00:36, 14.39it/s]"
     ]
    },
    {
     "name": "stdout",
     "output_type": "stream",
     "text": [
      "\u001b[32m2024-08-26 00:46:08.317\u001b[0m | \u001b[33m\u001b[1mWARNING \u001b[0m | \u001b[36menfify.preprocessing\u001b[0m:\u001b[36mdownsample_scipy\u001b[0m:\u001b[36m47\u001b[0m - \u001b[33m\u001b[1mThe target sampling rate is not an integer multiple of the current sampling rate. Resampling is used, which does not have an integrated antialiasing filter. Applying a lowpass filter.\u001b[0m\n",
      "\u001b[32m2024-08-26 00:46:08.405\u001b[0m | \u001b[33m\u001b[1mWARNING \u001b[0m | \u001b[36menfify.preprocessing\u001b[0m:\u001b[36mdownsample_scipy\u001b[0m:\u001b[36m47\u001b[0m - \u001b[33m\u001b[1mThe target sampling rate is not an integer multiple of the current sampling rate. Resampling is used, which does not have an integrated antialiasing filter. Applying a lowpass filter.\u001b[0m\n",
      "\u001b[32m2024-08-26 00:46:08.469\u001b[0m | \u001b[33m\u001b[1mWARNING \u001b[0m | \u001b[36menfify.preprocessing\u001b[0m:\u001b[36mdownsample_scipy\u001b[0m:\u001b[36m47\u001b[0m - \u001b[33m\u001b[1mThe target sampling rate is not an integer multiple of the current sampling rate. Resampling is used, which does not have an integrated antialiasing filter. Applying a lowpass filter.\u001b[0m\n"
     ]
    },
    {
     "name": "stderr",
     "output_type": "stream",
     "text": [
      " 47%|████▋     | 472/1000 [00:32<00:38, 13.76it/s]"
     ]
    },
    {
     "name": "stdout",
     "output_type": "stream",
     "text": [
      "\u001b[32m2024-08-26 00:46:08.528\u001b[0m | \u001b[33m\u001b[1mWARNING \u001b[0m | \u001b[36menfify.preprocessing\u001b[0m:\u001b[36mdownsample_scipy\u001b[0m:\u001b[36m47\u001b[0m - \u001b[33m\u001b[1mThe target sampling rate is not an integer multiple of the current sampling rate. Resampling is used, which does not have an integrated antialiasing filter. Applying a lowpass filter.\u001b[0m\n",
      "\u001b[32m2024-08-26 00:46:08.609\u001b[0m | \u001b[33m\u001b[1mWARNING \u001b[0m | \u001b[36menfify.preprocessing\u001b[0m:\u001b[36mdownsample_scipy\u001b[0m:\u001b[36m47\u001b[0m - \u001b[33m\u001b[1mThe target sampling rate is not an integer multiple of the current sampling rate. Resampling is used, which does not have an integrated antialiasing filter. Applying a lowpass filter.\u001b[0m\n",
      "\u001b[32m2024-08-26 00:46:08.691\u001b[0m | \u001b[33m\u001b[1mWARNING \u001b[0m | \u001b[36menfify.preprocessing\u001b[0m:\u001b[36mdownsample_scipy\u001b[0m:\u001b[36m47\u001b[0m - \u001b[33m\u001b[1mThe target sampling rate is not an integer multiple of the current sampling rate. Resampling is used, which does not have an integrated antialiasing filter. Applying a lowpass filter.\u001b[0m\n"
     ]
    },
    {
     "name": "stderr",
     "output_type": "stream",
     "text": [
      " 48%|████▊     | 476/1000 [00:32<00:39, 13.34it/s]"
     ]
    },
    {
     "name": "stdout",
     "output_type": "stream",
     "text": [
      "\u001b[32m2024-08-26 00:46:08.770\u001b[0m | \u001b[33m\u001b[1mWARNING \u001b[0m | \u001b[36menfify.preprocessing\u001b[0m:\u001b[36mdownsample_scipy\u001b[0m:\u001b[36m47\u001b[0m - \u001b[33m\u001b[1mThe target sampling rate is not an integer multiple of the current sampling rate. Resampling is used, which does not have an integrated antialiasing filter. Applying a lowpass filter.\u001b[0m\n",
      "\u001b[32m2024-08-26 00:46:08.851\u001b[0m | \u001b[33m\u001b[1mWARNING \u001b[0m | \u001b[36menfify.preprocessing\u001b[0m:\u001b[36mdownsample_scipy\u001b[0m:\u001b[36m47\u001b[0m - \u001b[33m\u001b[1mThe target sampling rate is not an integer multiple of the current sampling rate. Resampling is used, which does not have an integrated antialiasing filter. Applying a lowpass filter.\u001b[0m\n",
      "\u001b[32m2024-08-26 00:46:08.930\u001b[0m | \u001b[33m\u001b[1mWARNING \u001b[0m | \u001b[36menfify.preprocessing\u001b[0m:\u001b[36mdownsample_scipy\u001b[0m:\u001b[36m47\u001b[0m - \u001b[33m\u001b[1mThe target sampling rate is not an integer multiple of the current sampling rate. Resampling is used, which does not have an integrated antialiasing filter. Applying a lowpass filter.\u001b[0m\n"
     ]
    },
    {
     "name": "stderr",
     "output_type": "stream",
     "text": [
      "                                                  "
     ]
    },
    {
     "name": "stdout",
     "output_type": "stream",
     "text": [
      "\u001b[32m2024-08-26 00:46:08.997\u001b[0m | \u001b[33m\u001b[1mWARNING \u001b[0m | \u001b[36menfify.preprocessing\u001b[0m:\u001b[36mdownsample_scipy\u001b[0m:\u001b[36m47\u001b[0m - \u001b[33m\u001b[1mThe target sampling rate is not an integer multiple of the current sampling rate. Resampling is used, which does not have an integrated antialiasing filter. Applying a lowpass filter.\u001b[0m\n",
      "\u001b[32m2024-08-26 00:46:09.076\u001b[0m | \u001b[33m\u001b[1mWARNING \u001b[0m | \u001b[36menfify.preprocessing\u001b[0m:\u001b[36mdownsample_scipy\u001b[0m:\u001b[36m47\u001b[0m - \u001b[33m\u001b[1mThe target sampling rate is not an integer multiple of the current sampling rate. Resampling is used, which does not have an integrated antialiasing filter. Applying a lowpass filter.\u001b[0m\n",
      "\u001b[32m2024-08-26 00:46:09.133\u001b[0m | \u001b[33m\u001b[1mWARNING \u001b[0m | \u001b[36menfify.preprocessing\u001b[0m:\u001b[36mdownsample_scipy\u001b[0m:\u001b[36m47\u001b[0m - \u001b[33m\u001b[1mThe target sampling rate is not an integer multiple of the current sampling rate. Resampling is used, which does not have an integrated antialiasing filter. Applying a lowpass filter.\u001b[0m\n"
     ]
    },
    {
     "name": "stderr",
     "output_type": "stream",
     "text": [
      " 48%|████▊     | 482/1000 [00:32<00:38, 13.61it/s]"
     ]
    },
    {
     "name": "stdout",
     "output_type": "stream",
     "text": [
      "\u001b[32m2024-08-26 00:46:09.199\u001b[0m | \u001b[33m\u001b[1mWARNING \u001b[0m | \u001b[36menfify.preprocessing\u001b[0m:\u001b[36mdownsample_scipy\u001b[0m:\u001b[36m47\u001b[0m - \u001b[33m\u001b[1mThe target sampling rate is not an integer multiple of the current sampling rate. Resampling is used, which does not have an integrated antialiasing filter. Applying a lowpass filter.\u001b[0m\n",
      "\u001b[32m2024-08-26 00:46:09.272\u001b[0m | \u001b[33m\u001b[1mWARNING \u001b[0m | \u001b[36menfify.preprocessing\u001b[0m:\u001b[36mdownsample_scipy\u001b[0m:\u001b[36m47\u001b[0m - \u001b[33m\u001b[1mThe target sampling rate is not an integer multiple of the current sampling rate. Resampling is used, which does not have an integrated antialiasing filter. Applying a lowpass filter.\u001b[0m\n",
      "\u001b[32m2024-08-26 00:46:09.354\u001b[0m | \u001b[33m\u001b[1mWARNING \u001b[0m | \u001b[36menfify.preprocessing\u001b[0m:\u001b[36mdownsample_scipy\u001b[0m:\u001b[36m47\u001b[0m - \u001b[33m\u001b[1mThe target sampling rate is not an integer multiple of the current sampling rate. Resampling is used, which does not have an integrated antialiasing filter. Applying a lowpass filter.\u001b[0m\n"
     ]
    },
    {
     "name": "stderr",
     "output_type": "stream",
     "text": [
      " 48%|████▊     | 484/1000 [00:33<00:38, 13.27it/s]"
     ]
    },
    {
     "name": "stdout",
     "output_type": "stream",
     "text": [
      "\u001b[32m2024-08-26 00:46:09.429\u001b[0m | \u001b[33m\u001b[1mWARNING \u001b[0m | \u001b[36menfify.preprocessing\u001b[0m:\u001b[36mdownsample_scipy\u001b[0m:\u001b[36m47\u001b[0m - \u001b[33m\u001b[1mThe target sampling rate is not an integer multiple of the current sampling rate. Resampling is used, which does not have an integrated antialiasing filter. Applying a lowpass filter.\u001b[0m\n",
      "\u001b[32m2024-08-26 00:46:09.522\u001b[0m | \u001b[33m\u001b[1mWARNING \u001b[0m | \u001b[36menfify.preprocessing\u001b[0m:\u001b[36mdownsample_scipy\u001b[0m:\u001b[36m47\u001b[0m - \u001b[33m\u001b[1mThe target sampling rate is not an integer multiple of the current sampling rate. Resampling is used, which does not have an integrated antialiasing filter. Applying a lowpass filter.\u001b[0m\n",
      "\u001b[32m2024-08-26 00:46:09.583\u001b[0m | \u001b[33m\u001b[1mWARNING \u001b[0m | \u001b[36menfify.preprocessing\u001b[0m:\u001b[36mdownsample_scipy\u001b[0m:\u001b[36m47\u001b[0m - \u001b[33m\u001b[1mThe target sampling rate is not an integer multiple of the current sampling rate. Resampling is used, which does not have an integrated antialiasing filter. Applying a lowpass filter.\u001b[0m\n"
     ]
    },
    {
     "name": "stderr",
     "output_type": "stream",
     "text": [
      " 49%|████▉     | 489/1000 [00:33<00:30, 16.54it/s]"
     ]
    },
    {
     "name": "stdout",
     "output_type": "stream",
     "text": [
      "\u001b[32m2024-08-26 00:46:09.637\u001b[0m | \u001b[33m\u001b[1mWARNING \u001b[0m | \u001b[36menfify.preprocessing\u001b[0m:\u001b[36mdownsample_scipy\u001b[0m:\u001b[36m47\u001b[0m - \u001b[33m\u001b[1mThe target sampling rate is not an integer multiple of the current sampling rate. Resampling is used, which does not have an integrated antialiasing filter. Applying a lowpass filter.\u001b[0m\n",
      "\u001b[32m2024-08-26 00:46:09.712\u001b[0m | \u001b[33m\u001b[1mWARNING \u001b[0m | \u001b[36menfify.preprocessing\u001b[0m:\u001b[36mdownsample_scipy\u001b[0m:\u001b[36m47\u001b[0m - \u001b[33m\u001b[1mThe target sampling rate is not an integer multiple of the current sampling rate. Resampling is used, which does not have an integrated antialiasing filter. Applying a lowpass filter.\u001b[0m\n",
      "\u001b[32m2024-08-26 00:46:09.765\u001b[0m | \u001b[33m\u001b[1mWARNING \u001b[0m | \u001b[36menfify.preprocessing\u001b[0m:\u001b[36mdownsample_scipy\u001b[0m:\u001b[36m47\u001b[0m - \u001b[33m\u001b[1mThe target sampling rate is not an integer multiple of the current sampling rate. Resampling is used, which does not have an integrated antialiasing filter. Applying a lowpass filter.\u001b[0m\n",
      "\u001b[32m2024-08-26 00:46:09.800\u001b[0m | \u001b[33m\u001b[1mWARNING \u001b[0m | \u001b[36menfify.preprocessing\u001b[0m:\u001b[36mdownsample_scipy\u001b[0m:\u001b[36m47\u001b[0m - \u001b[33m\u001b[1mThe target sampling rate is not an integer multiple of the current sampling rate. Resampling is used, which does not have an integrated antialiasing filter. Applying a lowpass filter.\u001b[0m\n",
      "\u001b[32m2024-08-26 00:46:09.835\u001b[0m | \u001b[33m\u001b[1mWARNING \u001b[0m | \u001b[36menfify.preprocessing\u001b[0m:\u001b[36mdownsample_scipy\u001b[0m:\u001b[36m47\u001b[0m - \u001b[33m\u001b[1mThe target sampling rate is not an integer multiple of the current sampling rate. Resampling is used, which does not have an integrated antialiasing filter. Applying a lowpass filter.\u001b[0m\n"
     ]
    },
    {
     "name": "stderr",
     "output_type": "stream",
     "text": [
      " 49%|████▉     | 493/1000 [00:33<00:30, 16.71it/s]"
     ]
    },
    {
     "name": "stdout",
     "output_type": "stream",
     "text": [
      "\u001b[32m2024-08-26 00:46:09.882\u001b[0m | \u001b[33m\u001b[1mWARNING \u001b[0m | \u001b[36menfify.preprocessing\u001b[0m:\u001b[36mdownsample_scipy\u001b[0m:\u001b[36m47\u001b[0m - \u001b[33m\u001b[1mThe target sampling rate is not an integer multiple of the current sampling rate. Resampling is used, which does not have an integrated antialiasing filter. Applying a lowpass filter.\u001b[0m\n",
      "\u001b[32m2024-08-26 00:46:09.945\u001b[0m | \u001b[33m\u001b[1mWARNING \u001b[0m | \u001b[36menfify.preprocessing\u001b[0m:\u001b[36mdownsample_scipy\u001b[0m:\u001b[36m47\u001b[0m - \u001b[33m\u001b[1mThe target sampling rate is not an integer multiple of the current sampling rate. Resampling is used, which does not have an integrated antialiasing filter. Applying a lowpass filter.\u001b[0m\n",
      "\u001b[32m2024-08-26 00:46:10.003\u001b[0m | \u001b[33m\u001b[1mWARNING \u001b[0m | \u001b[36menfify.preprocessing\u001b[0m:\u001b[36mdownsample_scipy\u001b[0m:\u001b[36m47\u001b[0m - \u001b[33m\u001b[1mThe target sampling rate is not an integer multiple of the current sampling rate. Resampling is used, which does not have an integrated antialiasing filter. Applying a lowpass filter.\u001b[0m\n",
      "\u001b[32m2024-08-26 00:46:10.074\u001b[0m | \u001b[33m\u001b[1mWARNING \u001b[0m | \u001b[36menfify.preprocessing\u001b[0m:\u001b[36mdownsample_scipy\u001b[0m:\u001b[36m47\u001b[0m - \u001b[33m\u001b[1mThe target sampling rate is not an integer multiple of the current sampling rate. Resampling is used, which does not have an integrated antialiasing filter. Applying a lowpass filter.\u001b[0m\n"
     ]
    },
    {
     "name": "stderr",
     "output_type": "stream",
     "text": [
      " 50%|████▉     | 498/1000 [00:33<00:29, 16.95it/s]"
     ]
    },
    {
     "name": "stdout",
     "output_type": "stream",
     "text": [
      "\u001b[32m2024-08-26 00:46:10.162\u001b[0m | \u001b[33m\u001b[1mWARNING \u001b[0m | \u001b[36menfify.preprocessing\u001b[0m:\u001b[36mdownsample_scipy\u001b[0m:\u001b[36m47\u001b[0m - \u001b[33m\u001b[1mThe target sampling rate is not an integer multiple of the current sampling rate. Resampling is used, which does not have an integrated antialiasing filter. Applying a lowpass filter.\u001b[0m\n",
      "\u001b[32m2024-08-26 00:46:10.259\u001b[0m | \u001b[33m\u001b[1mWARNING \u001b[0m | \u001b[36menfify.preprocessing\u001b[0m:\u001b[36mdownsample_scipy\u001b[0m:\u001b[36m47\u001b[0m - \u001b[33m\u001b[1mThe target sampling rate is not an integer multiple of the current sampling rate. Resampling is used, which does not have an integrated antialiasing filter. Applying a lowpass filter.\u001b[0m\n",
      "\u001b[32m2024-08-26 00:46:10.299\u001b[0m | \u001b[33m\u001b[1mWARNING \u001b[0m | \u001b[36menfify.preprocessing\u001b[0m:\u001b[36mdownsample_scipy\u001b[0m:\u001b[36m47\u001b[0m - \u001b[33m\u001b[1mThe target sampling rate is not an integer multiple of the current sampling rate. Resampling is used, which does not have an integrated antialiasing filter. Applying a lowpass filter.\u001b[0m\n",
      "\u001b[32m2024-08-26 00:46:10.339\u001b[0m | \u001b[33m\u001b[1mWARNING \u001b[0m | \u001b[36menfify.preprocessing\u001b[0m:\u001b[36mdownsample_scipy\u001b[0m:\u001b[36m47\u001b[0m - \u001b[33m\u001b[1mThe target sampling rate is not an integer multiple of the current sampling rate. Resampling is used, which does not have an integrated antialiasing filter. Applying a lowpass filter.\u001b[0m\n"
     ]
    },
    {
     "name": "stderr",
     "output_type": "stream",
     "text": [
      " 50%|████▉     | 498/1000 [00:33<00:29, 16.95it/s]"
     ]
    },
    {
     "name": "stdout",
     "output_type": "stream",
     "text": [
      "\u001b[32m2024-08-26 00:46:10.381\u001b[0m | \u001b[33m\u001b[1mWARNING \u001b[0m | \u001b[36menfify.preprocessing\u001b[0m:\u001b[36mdownsample_scipy\u001b[0m:\u001b[36m47\u001b[0m - \u001b[33m\u001b[1mThe target sampling rate is not an integer multiple of the current sampling rate. Resampling is used, which does not have an integrated antialiasing filter. Applying a lowpass filter.\u001b[0m\n",
      "\u001b[32m2024-08-26 00:46:10.428\u001b[0m | \u001b[33m\u001b[1mWARNING \u001b[0m | \u001b[36menfify.preprocessing\u001b[0m:\u001b[36mdownsample_scipy\u001b[0m:\u001b[36m47\u001b[0m - \u001b[33m\u001b[1mThe target sampling rate is not an integer multiple of the current sampling rate. Resampling is used, which does not have an integrated antialiasing filter. Applying a lowpass filter.\u001b[0m\n",
      "\u001b[32m2024-08-26 00:46:10.475\u001b[0m | \u001b[33m\u001b[1mWARNING \u001b[0m | \u001b[36menfify.preprocessing\u001b[0m:\u001b[36mdownsample_scipy\u001b[0m:\u001b[36m47\u001b[0m - \u001b[33m\u001b[1mThe target sampling rate is not an integer multiple of the current sampling rate. Resampling is used, which does not have an integrated antialiasing filter. Applying a lowpass filter.\u001b[0m\n"
     ]
    },
    {
     "name": "stderr",
     "output_type": "stream",
     "text": [
      " 50%|█████     | 501/1000 [00:34<00:36, 13.53it/s]"
     ]
    },
    {
     "name": "stdout",
     "output_type": "stream",
     "text": [
      "\u001b[32m2024-08-26 00:46:10.696\u001b[0m | \u001b[33m\u001b[1mWARNING \u001b[0m | \u001b[36menfify.preprocessing\u001b[0m:\u001b[36mdownsample_scipy\u001b[0m:\u001b[36m47\u001b[0m - \u001b[33m\u001b[1mThe target sampling rate is not an integer multiple of the current sampling rate. Resampling is used, which does not have an integrated antialiasing filter. Applying a lowpass filter.\u001b[0m\n"
     ]
    },
    {
     "name": "stderr",
     "output_type": "stream",
     "text": [
      " 50%|█████     | 503/1000 [00:34<00:54,  9.09it/s]"
     ]
    },
    {
     "name": "stdout",
     "output_type": "stream",
     "text": [
      "\u001b[32m2024-08-26 00:46:10.935\u001b[0m | \u001b[33m\u001b[1mWARNING \u001b[0m | \u001b[36menfify.preprocessing\u001b[0m:\u001b[36mdownsample_scipy\u001b[0m:\u001b[36m47\u001b[0m - \u001b[33m\u001b[1mThe target sampling rate is not an integer multiple of the current sampling rate. Resampling is used, which does not have an integrated antialiasing filter. Applying a lowpass filter.\u001b[0m\n",
      "\u001b[32m2024-08-26 00:46:11.127\u001b[0m | \u001b[33m\u001b[1mWARNING \u001b[0m | \u001b[36menfify.preprocessing\u001b[0m:\u001b[36mdownsample_scipy\u001b[0m:\u001b[36m47\u001b[0m - \u001b[33m\u001b[1mThe target sampling rate is not an integer multiple of the current sampling rate. Resampling is used, which does not have an integrated antialiasing filter. Applying a lowpass filter.\u001b[0m\n"
     ]
    },
    {
     "name": "stderr",
     "output_type": "stream",
     "text": [
      " 50%|█████     | 505/1000 [00:34<01:02,  7.87it/s]"
     ]
    },
    {
     "name": "stdout",
     "output_type": "stream",
     "text": [
      "\u001b[32m2024-08-26 00:46:11.323\u001b[0m | \u001b[33m\u001b[1mWARNING \u001b[0m | \u001b[36menfify.preprocessing\u001b[0m:\u001b[36mdownsample_scipy\u001b[0m:\u001b[36m47\u001b[0m - \u001b[33m\u001b[1mThe target sampling rate is not an integer multiple of the current sampling rate. Resampling is used, which does not have an integrated antialiasing filter. Applying a lowpass filter.\u001b[0m\n",
      "\u001b[32m2024-08-26 00:46:11.481\u001b[0m | \u001b[33m\u001b[1mWARNING \u001b[0m | \u001b[36menfify.preprocessing\u001b[0m:\u001b[36mdownsample_scipy\u001b[0m:\u001b[36m47\u001b[0m - \u001b[33m\u001b[1mThe target sampling rate is not an integer multiple of the current sampling rate. Resampling is used, which does not have an integrated antialiasing filter. Applying a lowpass filter.\u001b[0m\n"
     ]
    },
    {
     "name": "stderr",
     "output_type": "stream",
     "text": [
      " 51%|█████     | 507/1000 [00:35<01:02,  7.85it/s]"
     ]
    },
    {
     "name": "stdout",
     "output_type": "stream",
     "text": [
      "\u001b[32m2024-08-26 00:46:11.653\u001b[0m | \u001b[33m\u001b[1mWARNING \u001b[0m | \u001b[36menfify.preprocessing\u001b[0m:\u001b[36mdownsample_scipy\u001b[0m:\u001b[36m47\u001b[0m - \u001b[33m\u001b[1mThe target sampling rate is not an integer multiple of the current sampling rate. Resampling is used, which does not have an integrated antialiasing filter. Applying a lowpass filter.\u001b[0m\n",
      "\u001b[32m2024-08-26 00:46:11.734\u001b[0m | \u001b[33m\u001b[1mWARNING \u001b[0m | \u001b[36menfify.preprocessing\u001b[0m:\u001b[36mdownsample_scipy\u001b[0m:\u001b[36m47\u001b[0m - \u001b[33m\u001b[1mThe target sampling rate is not an integer multiple of the current sampling rate. Resampling is used, which does not have an integrated antialiasing filter. Applying a lowpass filter.\u001b[0m\n"
     ]
    },
    {
     "name": "stderr",
     "output_type": "stream",
     "text": [
      " 51%|█████     | 510/1000 [00:35<01:01,  7.96it/s]"
     ]
    },
    {
     "name": "stdout",
     "output_type": "stream",
     "text": [
      "\u001b[32m2024-08-26 00:46:11.905\u001b[0m | \u001b[33m\u001b[1mWARNING \u001b[0m | \u001b[36menfify.preprocessing\u001b[0m:\u001b[36mdownsample_scipy\u001b[0m:\u001b[36m47\u001b[0m - \u001b[33m\u001b[1mThe target sampling rate is not an integer multiple of the current sampling rate. Resampling is used, which does not have an integrated antialiasing filter. Applying a lowpass filter.\u001b[0m\n",
      "\u001b[32m2024-08-26 00:46:11.997\u001b[0m | \u001b[33m\u001b[1mWARNING \u001b[0m | \u001b[36menfify.preprocessing\u001b[0m:\u001b[36mdownsample_scipy\u001b[0m:\u001b[36m47\u001b[0m - \u001b[33m\u001b[1mThe target sampling rate is not an integer multiple of the current sampling rate. Resampling is used, which does not have an integrated antialiasing filter. Applying a lowpass filter.\u001b[0m\n"
     ]
    },
    {
     "name": "stderr",
     "output_type": "stream",
     "text": [
      "                                                  "
     ]
    },
    {
     "name": "stdout",
     "output_type": "stream",
     "text": [
      "\u001b[32m2024-08-26 00:46:12.119\u001b[0m | \u001b[33m\u001b[1mWARNING \u001b[0m | \u001b[36menfify.preprocessing\u001b[0m:\u001b[36mdownsample_scipy\u001b[0m:\u001b[36m47\u001b[0m - \u001b[33m\u001b[1mThe target sampling rate is not an integer multiple of the current sampling rate. Resampling is used, which does not have an integrated antialiasing filter. Applying a lowpass filter.\u001b[0m\n"
     ]
    },
    {
     "name": "stderr",
     "output_type": "stream",
     "text": [
      " 51%|█████     | 511/1000 [00:35<01:10,  6.93it/s]"
     ]
    },
    {
     "name": "stdout",
     "output_type": "stream",
     "text": [
      "\u001b[32m2024-08-26 00:46:12.323\u001b[0m | \u001b[33m\u001b[1mWARNING \u001b[0m | \u001b[36menfify.preprocessing\u001b[0m:\u001b[36mdownsample_scipy\u001b[0m:\u001b[36m47\u001b[0m - \u001b[33m\u001b[1mThe target sampling rate is not an integer multiple of the current sampling rate. Resampling is used, which does not have an integrated antialiasing filter. Applying a lowpass filter.\u001b[0m\n",
      "\u001b[32m2024-08-26 00:46:12.403\u001b[0m | \u001b[33m\u001b[1mWARNING \u001b[0m | \u001b[36menfify.preprocessing\u001b[0m:\u001b[36mdownsample_scipy\u001b[0m:\u001b[36m47\u001b[0m - \u001b[33m\u001b[1mThe target sampling rate is not an integer multiple of the current sampling rate. Resampling is used, which does not have an integrated antialiasing filter. Applying a lowpass filter.\u001b[0m\n"
     ]
    },
    {
     "name": "stderr",
     "output_type": "stream",
     "text": [
      " 52%|█████▏    | 515/1000 [00:36<00:54,  8.83it/s]"
     ]
    },
    {
     "name": "stdout",
     "output_type": "stream",
     "text": [
      "\u001b[32m2024-08-26 00:46:12.586\u001b[0m | \u001b[33m\u001b[1mWARNING \u001b[0m | \u001b[36menfify.preprocessing\u001b[0m:\u001b[36mdownsample_scipy\u001b[0m:\u001b[36m47\u001b[0m - \u001b[33m\u001b[1mThe target sampling rate is not an integer multiple of the current sampling rate. Resampling is used, which does not have an integrated antialiasing filter. Applying a lowpass filter.\u001b[0m\n",
      "\u001b[32m2024-08-26 00:46:12.645\u001b[0m | \u001b[33m\u001b[1mWARNING \u001b[0m | \u001b[36menfify.preprocessing\u001b[0m:\u001b[36mdownsample_scipy\u001b[0m:\u001b[36m47\u001b[0m - \u001b[33m\u001b[1mThe target sampling rate is not an integer multiple of the current sampling rate. Resampling is used, which does not have an integrated antialiasing filter. Applying a lowpass filter.\u001b[0m\n",
      "\u001b[32m2024-08-26 00:46:12.724\u001b[0m | \u001b[33m\u001b[1mWARNING \u001b[0m | \u001b[36menfify.preprocessing\u001b[0m:\u001b[36mdownsample_scipy\u001b[0m:\u001b[36m47\u001b[0m - \u001b[33m\u001b[1mThe target sampling rate is not an integer multiple of the current sampling rate. Resampling is used, which does not have an integrated antialiasing filter. Applying a lowpass filter.\u001b[0m\n"
     ]
    },
    {
     "name": "stderr",
     "output_type": "stream",
     "text": [
      " 52%|█████▏    | 516/1000 [00:36<01:01,  7.90it/s]"
     ]
    },
    {
     "name": "stdout",
     "output_type": "stream",
     "text": [
      "\u001b[32m2024-08-26 00:46:12.904\u001b[0m | \u001b[33m\u001b[1mWARNING \u001b[0m | \u001b[36menfify.preprocessing\u001b[0m:\u001b[36mdownsample_scipy\u001b[0m:\u001b[36m47\u001b[0m - \u001b[33m\u001b[1mThe target sampling rate is not an integer multiple of the current sampling rate. Resampling is used, which does not have an integrated antialiasing filter. Applying a lowpass filter.\u001b[0m\n",
      "\u001b[32m2024-08-26 00:46:13.077\u001b[0m | \u001b[33m\u001b[1mWARNING \u001b[0m | \u001b[36menfify.preprocessing\u001b[0m:\u001b[36mdownsample_scipy\u001b[0m:\u001b[36m47\u001b[0m - \u001b[33m\u001b[1mThe target sampling rate is not an integer multiple of the current sampling rate. Resampling is used, which does not have an integrated antialiasing filter. Applying a lowpass filter.\u001b[0m\n"
     ]
    },
    {
     "name": "stderr",
     "output_type": "stream",
     "text": [
      " 52%|█████▏    | 520/1000 [00:36<00:56,  8.46it/s]"
     ]
    },
    {
     "name": "stdout",
     "output_type": "stream",
     "text": [
      "\u001b[32m2024-08-26 00:46:13.214\u001b[0m | \u001b[33m\u001b[1mWARNING \u001b[0m | \u001b[36menfify.preprocessing\u001b[0m:\u001b[36mdownsample_scipy\u001b[0m:\u001b[36m47\u001b[0m - \u001b[33m\u001b[1mThe target sampling rate is not an integer multiple of the current sampling rate. Resampling is used, which does not have an integrated antialiasing filter. Applying a lowpass filter.\u001b[0m\n",
      "\u001b[32m2024-08-26 00:46:13.284\u001b[0m | \u001b[33m\u001b[1mWARNING \u001b[0m | \u001b[36menfify.preprocessing\u001b[0m:\u001b[36mdownsample_scipy\u001b[0m:\u001b[36m47\u001b[0m - \u001b[33m\u001b[1mThe target sampling rate is not an integer multiple of the current sampling rate. Resampling is used, which does not have an integrated antialiasing filter. Applying a lowpass filter.\u001b[0m\n",
      "\u001b[32m2024-08-26 00:46:13.376\u001b[0m | \u001b[33m\u001b[1mWARNING \u001b[0m | \u001b[36menfify.preprocessing\u001b[0m:\u001b[36mdownsample_scipy\u001b[0m:\u001b[36m47\u001b[0m - \u001b[33m\u001b[1mThe target sampling rate is not an integer multiple of the current sampling rate. Resampling is used, which does not have an integrated antialiasing filter. Applying a lowpass filter.\u001b[0m\n"
     ]
    },
    {
     "name": "stderr",
     "output_type": "stream",
     "text": [
      " 52%|█████▏    | 522/1000 [00:37<01:08,  7.02it/s]"
     ]
    },
    {
     "name": "stdout",
     "output_type": "stream",
     "text": [
      "\u001b[32m2024-08-26 00:46:13.574\u001b[0m | \u001b[33m\u001b[1mWARNING \u001b[0m | \u001b[36menfify.preprocessing\u001b[0m:\u001b[36mdownsample_scipy\u001b[0m:\u001b[36m47\u001b[0m - \u001b[33m\u001b[1mThe target sampling rate is not an integer multiple of the current sampling rate. Resampling is used, which does not have an integrated antialiasing filter. Applying a lowpass filter.\u001b[0m\n",
      "\u001b[32m2024-08-26 00:46:13.747\u001b[0m | \u001b[33m\u001b[1mWARNING \u001b[0m | \u001b[36menfify.preprocessing\u001b[0m:\u001b[36mdownsample_scipy\u001b[0m:\u001b[36m47\u001b[0m - \u001b[33m\u001b[1mThe target sampling rate is not an integer multiple of the current sampling rate. Resampling is used, which does not have an integrated antialiasing filter. Applying a lowpass filter.\u001b[0m\n"
     ]
    },
    {
     "name": "stderr",
     "output_type": "stream",
     "text": [
      " 52%|█████▏    | 524/1000 [00:37<00:57,  8.22it/s]"
     ]
    },
    {
     "name": "stdout",
     "output_type": "stream",
     "text": [
      "\u001b[32m2024-08-26 00:46:13.837\u001b[0m | \u001b[33m\u001b[1mWARNING \u001b[0m | \u001b[36menfify.preprocessing\u001b[0m:\u001b[36mdownsample_scipy\u001b[0m:\u001b[36m47\u001b[0m - \u001b[33m\u001b[1mThe target sampling rate is not an integer multiple of the current sampling rate. Resampling is used, which does not have an integrated antialiasing filter. Applying a lowpass filter.\u001b[0m\n",
      "\u001b[32m2024-08-26 00:46:13.919\u001b[0m | \u001b[33m\u001b[1mWARNING \u001b[0m | \u001b[36menfify.preprocessing\u001b[0m:\u001b[36mdownsample_scipy\u001b[0m:\u001b[36m47\u001b[0m - \u001b[33m\u001b[1mThe target sampling rate is not an integer multiple of the current sampling rate. Resampling is used, which does not have an integrated antialiasing filter. Applying a lowpass filter.\u001b[0m\n"
     ]
    },
    {
     "name": "stderr",
     "output_type": "stream",
     "text": [
      " 53%|█████▎    | 526/1000 [00:37<01:04,  7.35it/s]"
     ]
    },
    {
     "name": "stdout",
     "output_type": "stream",
     "text": [
      "\u001b[32m2024-08-26 00:46:14.076\u001b[0m | \u001b[33m\u001b[1mWARNING \u001b[0m | \u001b[36menfify.preprocessing\u001b[0m:\u001b[36mdownsample_scipy\u001b[0m:\u001b[36m47\u001b[0m - \u001b[33m\u001b[1mThe target sampling rate is not an integer multiple of the current sampling rate. Resampling is used, which does not have an integrated antialiasing filter. Applying a lowpass filter.\u001b[0m\n",
      "\u001b[32m2024-08-26 00:46:14.243\u001b[0m | \u001b[33m\u001b[1mWARNING \u001b[0m | \u001b[36menfify.preprocessing\u001b[0m:\u001b[36mdownsample_scipy\u001b[0m:\u001b[36m47\u001b[0m - \u001b[33m\u001b[1mThe target sampling rate is not an integer multiple of the current sampling rate. Resampling is used, which does not have an integrated antialiasing filter. Applying a lowpass filter.\u001b[0m\n"
     ]
    },
    {
     "name": "stderr",
     "output_type": "stream",
     "text": [
      " 53%|█████▎    | 528/1000 [00:37<01:01,  7.68it/s]"
     ]
    },
    {
     "name": "stdout",
     "output_type": "stream",
     "text": [
      "\u001b[32m2024-08-26 00:46:14.301\u001b[0m | \u001b[33m\u001b[1mWARNING \u001b[0m | \u001b[36menfify.preprocessing\u001b[0m:\u001b[36mdownsample_scipy\u001b[0m:\u001b[36m47\u001b[0m - \u001b[33m\u001b[1mThe target sampling rate is not an integer multiple of the current sampling rate. Resampling is used, which does not have an integrated antialiasing filter. Applying a lowpass filter.\u001b[0m\n",
      "\u001b[32m2024-08-26 00:46:14.482\u001b[0m | \u001b[33m\u001b[1mWARNING \u001b[0m | \u001b[36menfify.preprocessing\u001b[0m:\u001b[36mdownsample_scipy\u001b[0m:\u001b[36m47\u001b[0m - \u001b[33m\u001b[1mThe target sampling rate is not an integer multiple of the current sampling rate. Resampling is used, which does not have an integrated antialiasing filter. Applying a lowpass filter.\u001b[0m\n"
     ]
    },
    {
     "name": "stderr",
     "output_type": "stream",
     "text": [
      " 53%|█████▎    | 530/1000 [00:38<01:10,  6.67it/s]"
     ]
    },
    {
     "name": "stdout",
     "output_type": "stream",
     "text": [
      "\u001b[32m2024-08-26 00:46:14.707\u001b[0m | \u001b[33m\u001b[1mWARNING \u001b[0m | \u001b[36menfify.preprocessing\u001b[0m:\u001b[36mdownsample_scipy\u001b[0m:\u001b[36m47\u001b[0m - \u001b[33m\u001b[1mThe target sampling rate is not an integer multiple of the current sampling rate. Resampling is used, which does not have an integrated antialiasing filter. Applying a lowpass filter.\u001b[0m\n",
      "\u001b[32m2024-08-26 00:46:14.845\u001b[0m | \u001b[33m\u001b[1mWARNING \u001b[0m | \u001b[36menfify.preprocessing\u001b[0m:\u001b[36mdownsample_scipy\u001b[0m:\u001b[36m47\u001b[0m - \u001b[33m\u001b[1mThe target sampling rate is not an integer multiple of the current sampling rate. Resampling is used, which does not have an integrated antialiasing filter. Applying a lowpass filter.\u001b[0m\n"
     ]
    },
    {
     "name": "stderr",
     "output_type": "stream",
     "text": [
      " 53%|█████▎    | 531/1000 [00:38<01:07,  6.97it/s]"
     ]
    },
    {
     "name": "stdout",
     "output_type": "stream",
     "text": [
      "\u001b[32m2024-08-26 00:46:14.979\u001b[0m | \u001b[33m\u001b[1mWARNING \u001b[0m | \u001b[36menfify.preprocessing\u001b[0m:\u001b[36mdownsample_scipy\u001b[0m:\u001b[36m47\u001b[0m - \u001b[33m\u001b[1mThe target sampling rate is not an integer multiple of the current sampling rate. Resampling is used, which does not have an integrated antialiasing filter. Applying a lowpass filter.\u001b[0m\n",
      "\u001b[32m2024-08-26 00:46:15.057\u001b[0m | \u001b[33m\u001b[1mWARNING \u001b[0m | \u001b[36menfify.preprocessing\u001b[0m:\u001b[36mdownsample_scipy\u001b[0m:\u001b[36m47\u001b[0m - \u001b[33m\u001b[1mThe target sampling rate is not an integer multiple of the current sampling rate. Resampling is used, which does not have an integrated antialiasing filter. Applying a lowpass filter.\u001b[0m\n"
     ]
    },
    {
     "name": "stderr",
     "output_type": "stream",
     "text": [
      " 53%|█████▎    | 534/1000 [00:38<01:06,  6.98it/s]"
     ]
    },
    {
     "name": "stdout",
     "output_type": "stream",
     "text": [
      "\u001b[32m2024-08-26 00:46:15.248\u001b[0m | \u001b[33m\u001b[1mWARNING \u001b[0m | \u001b[36menfify.preprocessing\u001b[0m:\u001b[36mdownsample_scipy\u001b[0m:\u001b[36m47\u001b[0m - \u001b[33m\u001b[1mThe target sampling rate is not an integer multiple of the current sampling rate. Resampling is used, which does not have an integrated antialiasing filter. Applying a lowpass filter.\u001b[0m\n",
      "\u001b[32m2024-08-26 00:46:15.403\u001b[0m | \u001b[33m\u001b[1mWARNING \u001b[0m | \u001b[36menfify.preprocessing\u001b[0m:\u001b[36mdownsample_scipy\u001b[0m:\u001b[36m47\u001b[0m - \u001b[33m\u001b[1mThe target sampling rate is not an integer multiple of the current sampling rate. Resampling is used, which does not have an integrated antialiasing filter. Applying a lowpass filter.\u001b[0m\n"
     ]
    },
    {
     "name": "stderr",
     "output_type": "stream",
     "text": [
      " 54%|█████▎    | 536/1000 [00:39<01:06,  7.02it/s]"
     ]
    },
    {
     "name": "stdout",
     "output_type": "stream",
     "text": [
      "\u001b[32m2024-08-26 00:46:15.537\u001b[0m | \u001b[33m\u001b[1mWARNING \u001b[0m | \u001b[36menfify.preprocessing\u001b[0m:\u001b[36mdownsample_scipy\u001b[0m:\u001b[36m47\u001b[0m - \u001b[33m\u001b[1mThe target sampling rate is not an integer multiple of the current sampling rate. Resampling is used, which does not have an integrated antialiasing filter. Applying a lowpass filter.\u001b[0m\n",
      "\u001b[32m2024-08-26 00:46:15.682\u001b[0m | \u001b[33m\u001b[1mWARNING \u001b[0m | \u001b[36menfify.preprocessing\u001b[0m:\u001b[36mdownsample_scipy\u001b[0m:\u001b[36m47\u001b[0m - \u001b[33m\u001b[1mThe target sampling rate is not an integer multiple of the current sampling rate. Resampling is used, which does not have an integrated antialiasing filter. Applying a lowpass filter.\u001b[0m\n"
     ]
    },
    {
     "name": "stderr",
     "output_type": "stream",
     "text": [
      " 54%|█████▍    | 538/1000 [00:39<01:03,  7.24it/s]"
     ]
    },
    {
     "name": "stdout",
     "output_type": "stream",
     "text": [
      "\u001b[32m2024-08-26 00:46:15.875\u001b[0m | \u001b[33m\u001b[1mWARNING \u001b[0m | \u001b[36menfify.preprocessing\u001b[0m:\u001b[36mdownsample_scipy\u001b[0m:\u001b[36m47\u001b[0m - \u001b[33m\u001b[1mThe target sampling rate is not an integer multiple of the current sampling rate. Resampling is used, which does not have an integrated antialiasing filter. Applying a lowpass filter.\u001b[0m\n",
      "\u001b[32m2024-08-26 00:46:15.959\u001b[0m | \u001b[33m\u001b[1mWARNING \u001b[0m | \u001b[36menfify.preprocessing\u001b[0m:\u001b[36mdownsample_scipy\u001b[0m:\u001b[36m47\u001b[0m - \u001b[33m\u001b[1mThe target sampling rate is not an integer multiple of the current sampling rate. Resampling is used, which does not have an integrated antialiasing filter. Applying a lowpass filter.\u001b[0m\n"
     ]
    },
    {
     "name": "stderr",
     "output_type": "stream",
     "text": [
      " 54%|█████▍    | 540/1000 [00:39<01:16,  6.00it/s]"
     ]
    },
    {
     "name": "stdout",
     "output_type": "stream",
     "text": [
      "\u001b[32m2024-08-26 00:46:16.138\u001b[0m | \u001b[33m\u001b[1mWARNING \u001b[0m | \u001b[36menfify.preprocessing\u001b[0m:\u001b[36mdownsample_scipy\u001b[0m:\u001b[36m47\u001b[0m - \u001b[33m\u001b[1mThe target sampling rate is not an integer multiple of the current sampling rate. Resampling is used, which does not have an integrated antialiasing filter. Applying a lowpass filter.\u001b[0m\n"
     ]
    },
    {
     "name": "stderr",
     "output_type": "stream",
     "text": [
      " 54%|█████▍    | 542/1000 [00:39<01:03,  7.23it/s]"
     ]
    },
    {
     "name": "stdout",
     "output_type": "stream",
     "text": [
      "\u001b[32m2024-08-26 00:46:16.352\u001b[0m | \u001b[33m\u001b[1mWARNING \u001b[0m | \u001b[36menfify.preprocessing\u001b[0m:\u001b[36mdownsample_scipy\u001b[0m:\u001b[36m47\u001b[0m - \u001b[33m\u001b[1mThe target sampling rate is not an integer multiple of the current sampling rate. Resampling is used, which does not have an integrated antialiasing filter. Applying a lowpass filter.\u001b[0m\n",
      "\u001b[32m2024-08-26 00:46:16.425\u001b[0m | \u001b[33m\u001b[1mWARNING \u001b[0m | \u001b[36menfify.preprocessing\u001b[0m:\u001b[36mdownsample_scipy\u001b[0m:\u001b[36m47\u001b[0m - \u001b[33m\u001b[1mThe target sampling rate is not an integer multiple of the current sampling rate. Resampling is used, which does not have an integrated antialiasing filter. Applying a lowpass filter.\u001b[0m\n",
      "\u001b[32m2024-08-26 00:46:16.552\u001b[0m | \u001b[33m\u001b[1mWARNING \u001b[0m | \u001b[36menfify.preprocessing\u001b[0m:\u001b[36mdownsample_scipy\u001b[0m:\u001b[36m47\u001b[0m - \u001b[33m\u001b[1mThe target sampling rate is not an integer multiple of the current sampling rate. Resampling is used, which does not have an integrated antialiasing filter. Applying a lowpass filter.\u001b[0m\n"
     ]
    },
    {
     "name": "stderr",
     "output_type": "stream",
     "text": [
      " 54%|█████▍    | 544/1000 [00:40<01:14,  6.16it/s]"
     ]
    },
    {
     "name": "stdout",
     "output_type": "stream",
     "text": [
      "\u001b[32m2024-08-26 00:46:16.730\u001b[0m | \u001b[33m\u001b[1mWARNING \u001b[0m | \u001b[36menfify.preprocessing\u001b[0m:\u001b[36mdownsample_scipy\u001b[0m:\u001b[36m47\u001b[0m - \u001b[33m\u001b[1mThe target sampling rate is not an integer multiple of the current sampling rate. Resampling is used, which does not have an integrated antialiasing filter. Applying a lowpass filter.\u001b[0m\n"
     ]
    },
    {
     "name": "stderr",
     "output_type": "stream",
     "text": [
      " 55%|█████▍    | 545/1000 [00:40<01:07,  6.70it/s]"
     ]
    },
    {
     "name": "stdout",
     "output_type": "stream",
     "text": [
      "\u001b[32m2024-08-26 00:46:16.934\u001b[0m | \u001b[33m\u001b[1mWARNING \u001b[0m | \u001b[36menfify.preprocessing\u001b[0m:\u001b[36mdownsample_scipy\u001b[0m:\u001b[36m47\u001b[0m - \u001b[33m\u001b[1mThe target sampling rate is not an integer multiple of the current sampling rate. Resampling is used, which does not have an integrated antialiasing filter. Applying a lowpass filter.\u001b[0m\n",
      "\u001b[32m2024-08-26 00:46:17.043\u001b[0m | \u001b[33m\u001b[1mWARNING \u001b[0m | \u001b[36menfify.preprocessing\u001b[0m:\u001b[36mdownsample_scipy\u001b[0m:\u001b[36m47\u001b[0m - \u001b[33m\u001b[1mThe target sampling rate is not an integer multiple of the current sampling rate. Resampling is used, which does not have an integrated antialiasing filter. Applying a lowpass filter.\u001b[0m\n"
     ]
    },
    {
     "name": "stderr",
     "output_type": "stream",
     "text": [
      " 55%|█████▍    | 548/1000 [00:40<00:56,  7.95it/s]"
     ]
    },
    {
     "name": "stdout",
     "output_type": "stream",
     "text": [
      "\u001b[32m2024-08-26 00:46:17.208\u001b[0m | \u001b[33m\u001b[1mWARNING \u001b[0m | \u001b[36menfify.preprocessing\u001b[0m:\u001b[36mdownsample_scipy\u001b[0m:\u001b[36m47\u001b[0m - \u001b[33m\u001b[1mThe target sampling rate is not an integer multiple of the current sampling rate. Resampling is used, which does not have an integrated antialiasing filter. Applying a lowpass filter.\u001b[0m\n",
      "\u001b[32m2024-08-26 00:46:17.246\u001b[0m | \u001b[33m\u001b[1mWARNING \u001b[0m | \u001b[36menfify.preprocessing\u001b[0m:\u001b[36mdownsample_scipy\u001b[0m:\u001b[36m47\u001b[0m - \u001b[33m\u001b[1mThe target sampling rate is not an integer multiple of the current sampling rate. Resampling is used, which does not have an integrated antialiasing filter. Applying a lowpass filter.\u001b[0m\n",
      "\u001b[32m2024-08-26 00:46:17.390\u001b[0m | \u001b[33m\u001b[1mWARNING \u001b[0m | \u001b[36menfify.preprocessing\u001b[0m:\u001b[36mdownsample_scipy\u001b[0m:\u001b[36m47\u001b[0m - \u001b[33m\u001b[1mThe target sampling rate is not an integer multiple of the current sampling rate. Resampling is used, which does not have an integrated antialiasing filter. Applying a lowpass filter.\u001b[0m\n"
     ]
    },
    {
     "name": "stderr",
     "output_type": "stream",
     "text": [
      " 55%|█████▌    | 550/1000 [00:41<01:09,  6.44it/s]"
     ]
    },
    {
     "name": "stdout",
     "output_type": "stream",
     "text": [
      "\u001b[32m2024-08-26 00:46:17.555\u001b[0m | \u001b[33m\u001b[1mWARNING \u001b[0m | \u001b[36menfify.preprocessing\u001b[0m:\u001b[36mdownsample_scipy\u001b[0m:\u001b[36m47\u001b[0m - \u001b[33m\u001b[1mThe target sampling rate is not an integer multiple of the current sampling rate. Resampling is used, which does not have an integrated antialiasing filter. Applying a lowpass filter.\u001b[0m\n"
     ]
    },
    {
     "name": "stderr",
     "output_type": "stream",
     "text": [
      " 55%|█████▌    | 551/1000 [00:41<01:19,  5.61it/s]"
     ]
    },
    {
     "name": "stdout",
     "output_type": "stream",
     "text": [
      "\u001b[32m2024-08-26 00:46:17.797\u001b[0m | \u001b[33m\u001b[1mWARNING \u001b[0m | \u001b[36menfify.preprocessing\u001b[0m:\u001b[36mdownsample_scipy\u001b[0m:\u001b[36m47\u001b[0m - \u001b[33m\u001b[1mThe target sampling rate is not an integer multiple of the current sampling rate. Resampling is used, which does not have an integrated antialiasing filter. Applying a lowpass filter.\u001b[0m\n"
     ]
    },
    {
     "name": "stderr",
     "output_type": "stream",
     "text": [
      " 55%|█████▌    | 552/1000 [00:41<01:19,  5.66it/s]"
     ]
    },
    {
     "name": "stdout",
     "output_type": "stream",
     "text": [
      "\u001b[32m2024-08-26 00:46:18.009\u001b[0m | \u001b[33m\u001b[1mWARNING \u001b[0m | \u001b[36menfify.preprocessing\u001b[0m:\u001b[36mdownsample_scipy\u001b[0m:\u001b[36m47\u001b[0m - \u001b[33m\u001b[1mThe target sampling rate is not an integer multiple of the current sampling rate. Resampling is used, which does not have an integrated antialiasing filter. Applying a lowpass filter.\u001b[0m\n",
      "\u001b[32m2024-08-26 00:46:18.194\u001b[0m | \u001b[33m\u001b[1mWARNING \u001b[0m | \u001b[36menfify.preprocessing\u001b[0m:\u001b[36mdownsample_scipy\u001b[0m:\u001b[36m47\u001b[0m - \u001b[33m\u001b[1mThe target sampling rate is not an integer multiple of the current sampling rate. Resampling is used, which does not have an integrated antialiasing filter. Applying a lowpass filter.\u001b[0m\n"
     ]
    },
    {
     "name": "stderr",
     "output_type": "stream",
     "text": [
      " 55%|█████▌    | 554/1000 [00:41<01:25,  5.19it/s]"
     ]
    },
    {
     "name": "stdout",
     "output_type": "stream",
     "text": [
      "\u001b[32m2024-08-26 00:46:18.361\u001b[0m | \u001b[33m\u001b[1mWARNING \u001b[0m | \u001b[36menfify.preprocessing\u001b[0m:\u001b[36mdownsample_scipy\u001b[0m:\u001b[36m47\u001b[0m - \u001b[33m\u001b[1mThe target sampling rate is not an integer multiple of the current sampling rate. Resampling is used, which does not have an integrated antialiasing filter. Applying a lowpass filter.\u001b[0m\n"
     ]
    },
    {
     "name": "stderr",
     "output_type": "stream",
     "text": [
      " 56%|█████▌    | 555/1000 [00:42<01:23,  5.35it/s]"
     ]
    },
    {
     "name": "stdout",
     "output_type": "stream",
     "text": [
      "\u001b[32m2024-08-26 00:46:18.591\u001b[0m | \u001b[33m\u001b[1mWARNING \u001b[0m | \u001b[36menfify.preprocessing\u001b[0m:\u001b[36mdownsample_scipy\u001b[0m:\u001b[36m47\u001b[0m - \u001b[33m\u001b[1mThe target sampling rate is not an integer multiple of the current sampling rate. Resampling is used, which does not have an integrated antialiasing filter. Applying a lowpass filter.\u001b[0m\n",
      "\u001b[32m2024-08-26 00:46:18.767\u001b[0m | \u001b[33m\u001b[1mWARNING \u001b[0m | \u001b[36menfify.preprocessing\u001b[0m:\u001b[36mdownsample_scipy\u001b[0m:\u001b[36m47\u001b[0m - \u001b[33m\u001b[1mThe target sampling rate is not an integer multiple of the current sampling rate. Resampling is used, which does not have an integrated antialiasing filter. Applying a lowpass filter.\u001b[0m\n"
     ]
    },
    {
     "name": "stderr",
     "output_type": "stream",
     "text": [
      " 56%|█████▌    | 557/1000 [00:42<01:23,  5.33it/s]"
     ]
    },
    {
     "name": "stdout",
     "output_type": "stream",
     "text": [
      "\u001b[32m2024-08-26 00:46:18.948\u001b[0m | \u001b[33m\u001b[1mWARNING \u001b[0m | \u001b[36menfify.preprocessing\u001b[0m:\u001b[36mdownsample_scipy\u001b[0m:\u001b[36m47\u001b[0m - \u001b[33m\u001b[1mThe target sampling rate is not an integer multiple of the current sampling rate. Resampling is used, which does not have an integrated antialiasing filter. Applying a lowpass filter.\u001b[0m\n",
      "\u001b[32m2024-08-26 00:46:19.144\u001b[0m | \u001b[33m\u001b[1mWARNING \u001b[0m | \u001b[36menfify.preprocessing\u001b[0m:\u001b[36mdownsample_scipy\u001b[0m:\u001b[36m47\u001b[0m - \u001b[33m\u001b[1mThe target sampling rate is not an integer multiple of the current sampling rate. Resampling is used, which does not have an integrated antialiasing filter. Applying a lowpass filter.\u001b[0m\n"
     ]
    },
    {
     "name": "stderr",
     "output_type": "stream",
     "text": [
      " 56%|█████▌    | 558/1000 [00:42<01:21,  5.40it/s]"
     ]
    },
    {
     "name": "stdout",
     "output_type": "stream",
     "text": [
      "\u001b[32m2024-08-26 00:46:19.322\u001b[0m | \u001b[33m\u001b[1mWARNING \u001b[0m | \u001b[36menfify.preprocessing\u001b[0m:\u001b[36mdownsample_scipy\u001b[0m:\u001b[36m47\u001b[0m - \u001b[33m\u001b[1mThe target sampling rate is not an integer multiple of the current sampling rate. Resampling is used, which does not have an integrated antialiasing filter. Applying a lowpass filter.\u001b[0m\n"
     ]
    },
    {
     "name": "stderr",
     "output_type": "stream",
     "text": [
      " 56%|█████▌    | 560/1000 [00:43<01:20,  5.46it/s]"
     ]
    },
    {
     "name": "stdout",
     "output_type": "stream",
     "text": [
      "\u001b[32m2024-08-26 00:46:19.559\u001b[0m | \u001b[33m\u001b[1mWARNING \u001b[0m | \u001b[36menfify.preprocessing\u001b[0m:\u001b[36mdownsample_scipy\u001b[0m:\u001b[36m47\u001b[0m - \u001b[33m\u001b[1mThe target sampling rate is not an integer multiple of the current sampling rate. Resampling is used, which does not have an integrated antialiasing filter. Applying a lowpass filter.\u001b[0m\n",
      "\u001b[32m2024-08-26 00:46:19.695\u001b[0m | \u001b[33m\u001b[1mWARNING \u001b[0m | \u001b[36menfify.preprocessing\u001b[0m:\u001b[36mdownsample_scipy\u001b[0m:\u001b[36m47\u001b[0m - \u001b[33m\u001b[1mThe target sampling rate is not an integer multiple of the current sampling rate. Resampling is used, which does not have an integrated antialiasing filter. Applying a lowpass filter.\u001b[0m\n"
     ]
    },
    {
     "name": "stderr",
     "output_type": "stream",
     "text": [
      " 56%|█████▋    | 563/1000 [00:43<00:59,  7.38it/s]"
     ]
    },
    {
     "name": "stdout",
     "output_type": "stream",
     "text": [
      "\u001b[32m2024-08-26 00:46:19.797\u001b[0m | \u001b[33m\u001b[1mWARNING \u001b[0m | \u001b[36menfify.preprocessing\u001b[0m:\u001b[36mdownsample_scipy\u001b[0m:\u001b[36m47\u001b[0m - \u001b[33m\u001b[1mThe target sampling rate is not an integer multiple of the current sampling rate. Resampling is used, which does not have an integrated antialiasing filter. Applying a lowpass filter.\u001b[0m\n",
      "\u001b[32m2024-08-26 00:46:19.850\u001b[0m | \u001b[33m\u001b[1mWARNING \u001b[0m | \u001b[36menfify.preprocessing\u001b[0m:\u001b[36mdownsample_scipy\u001b[0m:\u001b[36m47\u001b[0m - \u001b[33m\u001b[1mThe target sampling rate is not an integer multiple of the current sampling rate. Resampling is used, which does not have an integrated antialiasing filter. Applying a lowpass filter.\u001b[0m\n"
     ]
    },
    {
     "name": "stderr",
     "output_type": "stream",
     "text": [
      " 56%|█████▋    | 564/1000 [00:43<00:55,  7.80it/s]"
     ]
    },
    {
     "name": "stdout",
     "output_type": "stream",
     "text": [
      "\u001b[32m2024-08-26 00:46:20.022\u001b[0m | \u001b[33m\u001b[1mWARNING \u001b[0m | \u001b[36menfify.preprocessing\u001b[0m:\u001b[36mdownsample_scipy\u001b[0m:\u001b[36m47\u001b[0m - \u001b[33m\u001b[1mThe target sampling rate is not an integer multiple of the current sampling rate. Resampling is used, which does not have an integrated antialiasing filter. Applying a lowpass filter.\u001b[0m\n",
      "\u001b[32m2024-08-26 00:46:20.128\u001b[0m | \u001b[33m\u001b[1mWARNING \u001b[0m | \u001b[36menfify.preprocessing\u001b[0m:\u001b[36mdownsample_scipy\u001b[0m:\u001b[36m47\u001b[0m - \u001b[33m\u001b[1mThe target sampling rate is not an integer multiple of the current sampling rate. Resampling is used, which does not have an integrated antialiasing filter. Applying a lowpass filter.\u001b[0m\n",
      "\u001b[32m2024-08-26 00:46:20.191\u001b[0m | \u001b[33m\u001b[1mWARNING \u001b[0m | \u001b[36menfify.preprocessing\u001b[0m:\u001b[36mdownsample_scipy\u001b[0m:\u001b[36m47\u001b[0m - \u001b[33m\u001b[1mThe target sampling rate is not an integer multiple of the current sampling rate. Resampling is used, which does not have an integrated antialiasing filter. Applying a lowpass filter.\u001b[0m\n"
     ]
    },
    {
     "name": "stderr",
     "output_type": "stream",
     "text": [
      " 57%|█████▋    | 567/1000 [00:43<00:56,  7.66it/s]"
     ]
    },
    {
     "name": "stdout",
     "output_type": "stream",
     "text": [
      "\u001b[32m2024-08-26 00:46:20.279\u001b[0m | \u001b[33m\u001b[1mWARNING \u001b[0m | \u001b[36menfify.preprocessing\u001b[0m:\u001b[36mdownsample_scipy\u001b[0m:\u001b[36m47\u001b[0m - \u001b[33m\u001b[1mThe target sampling rate is not an integer multiple of the current sampling rate. Resampling is used, which does not have an integrated antialiasing filter. Applying a lowpass filter.\u001b[0m\n"
     ]
    },
    {
     "name": "stderr",
     "output_type": "stream",
     "text": [
      " 57%|█████▋    | 568/1000 [00:44<01:04,  6.71it/s]"
     ]
    },
    {
     "name": "stdout",
     "output_type": "stream",
     "text": [
      "\u001b[32m2024-08-26 00:46:20.491\u001b[0m | \u001b[33m\u001b[1mWARNING \u001b[0m | \u001b[36menfify.preprocessing\u001b[0m:\u001b[36mdownsample_scipy\u001b[0m:\u001b[36m47\u001b[0m - \u001b[33m\u001b[1mThe target sampling rate is not an integer multiple of the current sampling rate. Resampling is used, which does not have an integrated antialiasing filter. Applying a lowpass filter.\u001b[0m\n",
      "\u001b[32m2024-08-26 00:46:20.693\u001b[0m | \u001b[33m\u001b[1mWARNING \u001b[0m | \u001b[36menfify.preprocessing\u001b[0m:\u001b[36mdownsample_scipy\u001b[0m:\u001b[36m47\u001b[0m - \u001b[33m\u001b[1mThe target sampling rate is not an integer multiple of the current sampling rate. Resampling is used, which does not have an integrated antialiasing filter. Applying a lowpass filter.\u001b[0m\n"
     ]
    },
    {
     "name": "stderr",
     "output_type": "stream",
     "text": [
      " 57%|█████▋    | 570/1000 [00:44<01:01,  6.98it/s]"
     ]
    },
    {
     "name": "stdout",
     "output_type": "stream",
     "text": [
      "\u001b[32m2024-08-26 00:46:20.814\u001b[0m | \u001b[33m\u001b[1mWARNING \u001b[0m | \u001b[36menfify.preprocessing\u001b[0m:\u001b[36mdownsample_scipy\u001b[0m:\u001b[36m47\u001b[0m - \u001b[33m\u001b[1mThe target sampling rate is not an integer multiple of the current sampling rate. Resampling is used, which does not have an integrated antialiasing filter. Applying a lowpass filter.\u001b[0m\n",
      "\u001b[32m2024-08-26 00:46:20.961\u001b[0m | \u001b[33m\u001b[1mWARNING \u001b[0m | \u001b[36menfify.preprocessing\u001b[0m:\u001b[36mdownsample_scipy\u001b[0m:\u001b[36m47\u001b[0m - \u001b[33m\u001b[1mThe target sampling rate is not an integer multiple of the current sampling rate. Resampling is used, which does not have an integrated antialiasing filter. Applying a lowpass filter.\u001b[0m\n"
     ]
    },
    {
     "name": "stderr",
     "output_type": "stream",
     "text": [
      " 57%|█████▋    | 572/1000 [00:44<01:10,  6.05it/s]"
     ]
    },
    {
     "name": "stdout",
     "output_type": "stream",
     "text": [
      "\u001b[32m2024-08-26 00:46:21.177\u001b[0m | \u001b[33m\u001b[1mWARNING \u001b[0m | \u001b[36menfify.preprocessing\u001b[0m:\u001b[36mdownsample_scipy\u001b[0m:\u001b[36m47\u001b[0m - \u001b[33m\u001b[1mThe target sampling rate is not an integer multiple of the current sampling rate. Resampling is used, which does not have an integrated antialiasing filter. Applying a lowpass filter.\u001b[0m\n",
      "\u001b[32m2024-08-26 00:46:21.346\u001b[0m | \u001b[33m\u001b[1mWARNING \u001b[0m | \u001b[36menfify.preprocessing\u001b[0m:\u001b[36mdownsample_scipy\u001b[0m:\u001b[36m47\u001b[0m - \u001b[33m\u001b[1mThe target sampling rate is not an integer multiple of the current sampling rate. Resampling is used, which does not have an integrated antialiasing filter. Applying a lowpass filter.\u001b[0m\n"
     ]
    },
    {
     "name": "stderr",
     "output_type": "stream",
     "text": [
      " 57%|█████▋    | 573/1000 [00:44<01:05,  6.48it/s]"
     ]
    },
    {
     "name": "stdout",
     "output_type": "stream",
     "text": [
      "\u001b[32m2024-08-26 00:46:21.474\u001b[0m | \u001b[33m\u001b[1mWARNING \u001b[0m | \u001b[36menfify.preprocessing\u001b[0m:\u001b[36mdownsample_scipy\u001b[0m:\u001b[36m47\u001b[0m - \u001b[33m\u001b[1mThe target sampling rate is not an integer multiple of the current sampling rate. Resampling is used, which does not have an integrated antialiasing filter. Applying a lowpass filter.\u001b[0m\n",
      "\u001b[32m2024-08-26 00:46:21.526\u001b[0m | \u001b[33m\u001b[1mWARNING \u001b[0m | \u001b[36menfify.preprocessing\u001b[0m:\u001b[36mdownsample_scipy\u001b[0m:\u001b[36m47\u001b[0m - \u001b[33m\u001b[1mThe target sampling rate is not an integer multiple of the current sampling rate. Resampling is used, which does not have an integrated antialiasing filter. Applying a lowpass filter.\u001b[0m\n"
     ]
    },
    {
     "name": "stderr",
     "output_type": "stream",
     "text": [
      " 58%|█████▊    | 577/1000 [00:45<00:50,  8.39it/s]"
     ]
    },
    {
     "name": "stdout",
     "output_type": "stream",
     "text": [
      "\u001b[32m2024-08-26 00:46:21.696\u001b[0m | \u001b[33m\u001b[1mWARNING \u001b[0m | \u001b[36menfify.preprocessing\u001b[0m:\u001b[36mdownsample_scipy\u001b[0m:\u001b[36m47\u001b[0m - \u001b[33m\u001b[1mThe target sampling rate is not an integer multiple of the current sampling rate. Resampling is used, which does not have an integrated antialiasing filter. Applying a lowpass filter.\u001b[0m\n",
      "\u001b[32m2024-08-26 00:46:21.782\u001b[0m | \u001b[33m\u001b[1mWARNING \u001b[0m | \u001b[36menfify.preprocessing\u001b[0m:\u001b[36mdownsample_scipy\u001b[0m:\u001b[36m47\u001b[0m - \u001b[33m\u001b[1mThe target sampling rate is not an integer multiple of the current sampling rate. Resampling is used, which does not have an integrated antialiasing filter. Applying a lowpass filter.\u001b[0m\n",
      "\u001b[32m2024-08-26 00:46:21.889\u001b[0m | \u001b[33m\u001b[1mWARNING \u001b[0m | \u001b[36menfify.preprocessing\u001b[0m:\u001b[36mdownsample_scipy\u001b[0m:\u001b[36m47\u001b[0m - \u001b[33m\u001b[1mThe target sampling rate is not an integer multiple of the current sampling rate. Resampling is used, which does not have an integrated antialiasing filter. Applying a lowpass filter.\u001b[0m\n"
     ]
    },
    {
     "name": "stderr",
     "output_type": "stream",
     "text": [
      " 58%|█████▊    | 579/1000 [00:45<00:58,  7.16it/s]"
     ]
    },
    {
     "name": "stdout",
     "output_type": "stream",
     "text": [
      "\u001b[32m2024-08-26 00:46:22.065\u001b[0m | \u001b[33m\u001b[1mWARNING \u001b[0m | \u001b[36menfify.preprocessing\u001b[0m:\u001b[36mdownsample_scipy\u001b[0m:\u001b[36m47\u001b[0m - \u001b[33m\u001b[1mThe target sampling rate is not an integer multiple of the current sampling rate. Resampling is used, which does not have an integrated antialiasing filter. Applying a lowpass filter.\u001b[0m\n",
      "\u001b[32m2024-08-26 00:46:22.235\u001b[0m | \u001b[33m\u001b[1mWARNING \u001b[0m | \u001b[36menfify.preprocessing\u001b[0m:\u001b[36mdownsample_scipy\u001b[0m:\u001b[36m47\u001b[0m - \u001b[33m\u001b[1mThe target sampling rate is not an integer multiple of the current sampling rate. Resampling is used, which does not have an integrated antialiasing filter. Applying a lowpass filter.\u001b[0m\n"
     ]
    },
    {
     "name": "stderr",
     "output_type": "stream",
     "text": [
      " 58%|█████▊    | 582/1000 [00:45<00:49,  8.53it/s]"
     ]
    },
    {
     "name": "stdout",
     "output_type": "stream",
     "text": [
      "\u001b[32m2024-08-26 00:46:22.284\u001b[0m | \u001b[33m\u001b[1mWARNING \u001b[0m | \u001b[36menfify.preprocessing\u001b[0m:\u001b[36mdownsample_scipy\u001b[0m:\u001b[36m47\u001b[0m - \u001b[33m\u001b[1mThe target sampling rate is not an integer multiple of the current sampling rate. Resampling is used, which does not have an integrated antialiasing filter. Applying a lowpass filter.\u001b[0m\n",
      "\u001b[32m2024-08-26 00:46:22.371\u001b[0m | \u001b[33m\u001b[1mWARNING \u001b[0m | \u001b[36menfify.preprocessing\u001b[0m:\u001b[36mdownsample_scipy\u001b[0m:\u001b[36m47\u001b[0m - \u001b[33m\u001b[1mThe target sampling rate is not an integer multiple of the current sampling rate. Resampling is used, which does not have an integrated antialiasing filter. Applying a lowpass filter.\u001b[0m\n"
     ]
    },
    {
     "name": "stderr",
     "output_type": "stream",
     "text": [
      " 58%|█████▊    | 583/1000 [00:46<00:55,  7.50it/s]"
     ]
    },
    {
     "name": "stdout",
     "output_type": "stream",
     "text": [
      "\u001b[32m2024-08-26 00:46:22.510\u001b[0m | \u001b[33m\u001b[1mWARNING \u001b[0m | \u001b[36menfify.preprocessing\u001b[0m:\u001b[36mdownsample_scipy\u001b[0m:\u001b[36m47\u001b[0m - \u001b[33m\u001b[1mThe target sampling rate is not an integer multiple of the current sampling rate. Resampling is used, which does not have an integrated antialiasing filter. Applying a lowpass filter.\u001b[0m\n",
      "\u001b[32m2024-08-26 00:46:22.696\u001b[0m | \u001b[33m\u001b[1mWARNING \u001b[0m | \u001b[36menfify.preprocessing\u001b[0m:\u001b[36mdownsample_scipy\u001b[0m:\u001b[36m47\u001b[0m - \u001b[33m\u001b[1mThe target sampling rate is not an integer multiple of the current sampling rate. Resampling is used, which does not have an integrated antialiasing filter. Applying a lowpass filter.\u001b[0m\n"
     ]
    },
    {
     "name": "stderr",
     "output_type": "stream",
     "text": [
      " 58%|█████▊    | 585/1000 [00:46<01:00,  6.83it/s]"
     ]
    },
    {
     "name": "stdout",
     "output_type": "stream",
     "text": [
      "\u001b[32m2024-08-26 00:46:22.883\u001b[0m | \u001b[33m\u001b[1mWARNING \u001b[0m | \u001b[36menfify.preprocessing\u001b[0m:\u001b[36mdownsample_scipy\u001b[0m:\u001b[36m47\u001b[0m - \u001b[33m\u001b[1mThe target sampling rate is not an integer multiple of the current sampling rate. Resampling is used, which does not have an integrated antialiasing filter. Applying a lowpass filter.\u001b[0m\n",
      "\u001b[32m2024-08-26 00:46:23.024\u001b[0m | \u001b[33m\u001b[1mWARNING \u001b[0m | \u001b[36menfify.preprocessing\u001b[0m:\u001b[36mdownsample_scipy\u001b[0m:\u001b[36m47\u001b[0m - \u001b[33m\u001b[1mThe target sampling rate is not an integer multiple of the current sampling rate. Resampling is used, which does not have an integrated antialiasing filter. Applying a lowpass filter.\u001b[0m\n"
     ]
    },
    {
     "name": "stderr",
     "output_type": "stream",
     "text": [
      " 59%|█████▉    | 588/1000 [00:46<00:53,  7.64it/s]"
     ]
    },
    {
     "name": "stdout",
     "output_type": "stream",
     "text": [
      "\u001b[32m2024-08-26 00:46:23.184\u001b[0m | \u001b[33m\u001b[1mWARNING \u001b[0m | \u001b[36menfify.preprocessing\u001b[0m:\u001b[36mdownsample_scipy\u001b[0m:\u001b[36m47\u001b[0m - \u001b[33m\u001b[1mThe target sampling rate is not an integer multiple of the current sampling rate. Resampling is used, which does not have an integrated antialiasing filter. Applying a lowpass filter.\u001b[0m\n",
      "\u001b[32m2024-08-26 00:46:23.243\u001b[0m | \u001b[33m\u001b[1mWARNING \u001b[0m | \u001b[36menfify.preprocessing\u001b[0m:\u001b[36mdownsample_scipy\u001b[0m:\u001b[36m47\u001b[0m - \u001b[33m\u001b[1mThe target sampling rate is not an integer multiple of the current sampling rate. Resampling is used, which does not have an integrated antialiasing filter. Applying a lowpass filter.\u001b[0m\n"
     ]
    },
    {
     "name": "stderr",
     "output_type": "stream",
     "text": [
      " 59%|█████▉    | 589/1000 [00:47<01:01,  6.70it/s]"
     ]
    },
    {
     "name": "stdout",
     "output_type": "stream",
     "text": [
      "\u001b[32m2024-08-26 00:46:23.395\u001b[0m | \u001b[33m\u001b[1mWARNING \u001b[0m | \u001b[36menfify.preprocessing\u001b[0m:\u001b[36mdownsample_scipy\u001b[0m:\u001b[36m47\u001b[0m - \u001b[33m\u001b[1mThe target sampling rate is not an integer multiple of the current sampling rate. Resampling is used, which does not have an integrated antialiasing filter. Applying a lowpass filter.\u001b[0m\n"
     ]
    },
    {
     "name": "stderr",
     "output_type": "stream",
     "text": [
      " 59%|█████▉    | 590/1000 [00:47<01:03,  6.48it/s]"
     ]
    },
    {
     "name": "stdout",
     "output_type": "stream",
     "text": [
      "\u001b[32m2024-08-26 00:46:23.604\u001b[0m | \u001b[33m\u001b[1mWARNING \u001b[0m | \u001b[36menfify.preprocessing\u001b[0m:\u001b[36mdownsample_scipy\u001b[0m:\u001b[36m47\u001b[0m - \u001b[33m\u001b[1mThe target sampling rate is not an integer multiple of the current sampling rate. Resampling is used, which does not have an integrated antialiasing filter. Applying a lowpass filter.\u001b[0m\n",
      "\u001b[32m2024-08-26 00:46:23.772\u001b[0m | \u001b[33m\u001b[1mWARNING \u001b[0m | \u001b[36menfify.preprocessing\u001b[0m:\u001b[36mdownsample_scipy\u001b[0m:\u001b[36m47\u001b[0m - \u001b[33m\u001b[1mThe target sampling rate is not an integer multiple of the current sampling rate. Resampling is used, which does not have an integrated antialiasing filter. Applying a lowpass filter.\u001b[0m\n"
     ]
    },
    {
     "name": "stderr",
     "output_type": "stream",
     "text": [
      " 59%|█████▉    | 592/1000 [00:47<01:07,  6.08it/s]"
     ]
    },
    {
     "name": "stdout",
     "output_type": "stream",
     "text": [
      "\u001b[32m2024-08-26 00:46:23.944\u001b[0m | \u001b[33m\u001b[1mWARNING \u001b[0m | \u001b[36menfify.preprocessing\u001b[0m:\u001b[36mdownsample_scipy\u001b[0m:\u001b[36m47\u001b[0m - \u001b[33m\u001b[1mThe target sampling rate is not an integer multiple of the current sampling rate. Resampling is used, which does not have an integrated antialiasing filter. Applying a lowpass filter.\u001b[0m\n",
      "\u001b[32m2024-08-26 00:46:24.113\u001b[0m | \u001b[33m\u001b[1mWARNING \u001b[0m | \u001b[36menfify.preprocessing\u001b[0m:\u001b[36mdownsample_scipy\u001b[0m:\u001b[36m47\u001b[0m - \u001b[33m\u001b[1mThe target sampling rate is not an integer multiple of the current sampling rate. Resampling is used, which does not have an integrated antialiasing filter. Applying a lowpass filter.\u001b[0m\n"
     ]
    },
    {
     "name": "stderr",
     "output_type": "stream",
     "text": [
      " 59%|█████▉    | 594/1000 [00:47<01:03,  6.40it/s]"
     ]
    },
    {
     "name": "stdout",
     "output_type": "stream",
     "text": [
      "\u001b[32m2024-08-26 00:46:24.284\u001b[0m | \u001b[33m\u001b[1mWARNING \u001b[0m | \u001b[36menfify.preprocessing\u001b[0m:\u001b[36mdownsample_scipy\u001b[0m:\u001b[36m47\u001b[0m - \u001b[33m\u001b[1mThe target sampling rate is not an integer multiple of the current sampling rate. Resampling is used, which does not have an integrated antialiasing filter. Applying a lowpass filter.\u001b[0m\n",
      "\u001b[32m2024-08-26 00:46:24.424\u001b[0m | \u001b[33m\u001b[1mWARNING \u001b[0m | \u001b[36menfify.preprocessing\u001b[0m:\u001b[36mdownsample_scipy\u001b[0m:\u001b[36m47\u001b[0m - \u001b[33m\u001b[1mThe target sampling rate is not an integer multiple of the current sampling rate. Resampling is used, which does not have an integrated antialiasing filter. Applying a lowpass filter.\u001b[0m\n"
     ]
    },
    {
     "name": "stderr",
     "output_type": "stream",
     "text": [
      " 60%|█████▉    | 598/1000 [00:48<00:45,  8.86it/s]"
     ]
    },
    {
     "name": "stdout",
     "output_type": "stream",
     "text": [
      "\u001b[32m2024-08-26 00:46:24.586\u001b[0m | \u001b[33m\u001b[1mWARNING \u001b[0m | \u001b[36menfify.preprocessing\u001b[0m:\u001b[36mdownsample_scipy\u001b[0m:\u001b[36m47\u001b[0m - \u001b[33m\u001b[1mThe target sampling rate is not an integer multiple of the current sampling rate. Resampling is used, which does not have an integrated antialiasing filter. Applying a lowpass filter.\u001b[0m\n",
      "\u001b[32m2024-08-26 00:46:24.633\u001b[0m | \u001b[33m\u001b[1mWARNING \u001b[0m | \u001b[36menfify.preprocessing\u001b[0m:\u001b[36mdownsample_scipy\u001b[0m:\u001b[36m47\u001b[0m - \u001b[33m\u001b[1mThe target sampling rate is not an integer multiple of the current sampling rate. Resampling is used, which does not have an integrated antialiasing filter. Applying a lowpass filter.\u001b[0m\n",
      "\u001b[32m2024-08-26 00:46:24.684\u001b[0m | \u001b[33m\u001b[1mWARNING \u001b[0m | \u001b[36menfify.preprocessing\u001b[0m:\u001b[36mdownsample_scipy\u001b[0m:\u001b[36m47\u001b[0m - \u001b[33m\u001b[1mThe target sampling rate is not an integer multiple of the current sampling rate. Resampling is used, which does not have an integrated antialiasing filter. Applying a lowpass filter.\u001b[0m\n"
     ]
    },
    {
     "name": "stderr",
     "output_type": "stream",
     "text": [
      "                                                  \r"
     ]
    },
    {
     "name": "stdout",
     "output_type": "stream",
     "text": [
      "\u001b[32m2024-08-26 00:46:24.805\u001b[0m | \u001b[33m\u001b[1mWARNING \u001b[0m | \u001b[36menfify.preprocessing\u001b[0m:\u001b[36mdownsample_scipy\u001b[0m:\u001b[36m47\u001b[0m - \u001b[33m\u001b[1mThe target sampling rate is not an integer multiple of the current sampling rate. Resampling is used, which does not have an integrated antialiasing filter. Applying a lowpass filter.\u001b[0m\n"
     ]
    },
    {
     "name": "stderr",
     "output_type": "stream",
     "text": [
      " 60%|█████▉    | 599/1000 [00:48<00:53,  7.47it/s]"
     ]
    },
    {
     "name": "stdout",
     "output_type": "stream",
     "text": [
      "\u001b[32m2024-08-26 00:46:25.006\u001b[0m | \u001b[33m\u001b[1mWARNING \u001b[0m | \u001b[36menfify.preprocessing\u001b[0m:\u001b[36mdownsample_scipy\u001b[0m:\u001b[36m47\u001b[0m - \u001b[33m\u001b[1mThe target sampling rate is not an integer multiple of the current sampling rate. Resampling is used, which does not have an integrated antialiasing filter. Applying a lowpass filter.\u001b[0m\n"
     ]
    },
    {
     "name": "stderr",
     "output_type": "stream",
     "text": [
      " 60%|██████    | 602/1000 [00:48<00:57,  6.92it/s]"
     ]
    },
    {
     "name": "stdout",
     "output_type": "stream",
     "text": [
      "\u001b[32m2024-08-26 00:46:25.307\u001b[0m | \u001b[33m\u001b[1mWARNING \u001b[0m | \u001b[36menfify.preprocessing\u001b[0m:\u001b[36mdownsample_scipy\u001b[0m:\u001b[36m47\u001b[0m - \u001b[33m\u001b[1mThe target sampling rate is not an integer multiple of the current sampling rate. Resampling is used, which does not have an integrated antialiasing filter. Applying a lowpass filter.\u001b[0m\n",
      "\u001b[32m2024-08-26 00:46:25.408\u001b[0m | \u001b[33m\u001b[1mWARNING \u001b[0m | \u001b[36menfify.preprocessing\u001b[0m:\u001b[36mdownsample_scipy\u001b[0m:\u001b[36m47\u001b[0m - \u001b[33m\u001b[1mThe target sampling rate is not an integer multiple of the current sampling rate. Resampling is used, which does not have an integrated antialiasing filter. Applying a lowpass filter.\u001b[0m\n"
     ]
    },
    {
     "name": "stderr",
     "output_type": "stream",
     "text": [
      " 60%|██████    | 603/1000 [00:49<00:59,  6.68it/s]"
     ]
    },
    {
     "name": "stdout",
     "output_type": "stream",
     "text": [
      "\u001b[32m2024-08-26 00:46:25.514\u001b[0m | \u001b[33m\u001b[1mWARNING \u001b[0m | \u001b[36menfify.preprocessing\u001b[0m:\u001b[36mdownsample_scipy\u001b[0m:\u001b[36m47\u001b[0m - \u001b[33m\u001b[1mThe target sampling rate is not an integer multiple of the current sampling rate. Resampling is used, which does not have an integrated antialiasing filter. Applying a lowpass filter.\u001b[0m\n",
      "\u001b[32m2024-08-26 00:46:25.678\u001b[0m | \u001b[33m\u001b[1mWARNING \u001b[0m | \u001b[36menfify.preprocessing\u001b[0m:\u001b[36mdownsample_scipy\u001b[0m:\u001b[36m47\u001b[0m - \u001b[33m\u001b[1mThe target sampling rate is not an integer multiple of the current sampling rate. Resampling is used, which does not have an integrated antialiasing filter. Applying a lowpass filter.\u001b[0m\n"
     ]
    },
    {
     "name": "stderr",
     "output_type": "stream",
     "text": [
      " 61%|██████    | 606/1000 [00:49<00:57,  6.87it/s]"
     ]
    },
    {
     "name": "stdout",
     "output_type": "stream",
     "text": [
      "\u001b[32m2024-08-26 00:46:25.917\u001b[0m | \u001b[33m\u001b[1mWARNING \u001b[0m | \u001b[36menfify.preprocessing\u001b[0m:\u001b[36mdownsample_scipy\u001b[0m:\u001b[36m47\u001b[0m - \u001b[33m\u001b[1mThe target sampling rate is not an integer multiple of the current sampling rate. Resampling is used, which does not have an integrated antialiasing filter. Applying a lowpass filter.\u001b[0m\n",
      "\u001b[32m2024-08-26 00:46:26.006\u001b[0m | \u001b[33m\u001b[1mWARNING \u001b[0m | \u001b[36menfify.preprocessing\u001b[0m:\u001b[36mdownsample_scipy\u001b[0m:\u001b[36m47\u001b[0m - \u001b[33m\u001b[1mThe target sampling rate is not an integer multiple of the current sampling rate. Resampling is used, which does not have an integrated antialiasing filter. Applying a lowpass filter.\u001b[0m\n"
     ]
    },
    {
     "name": "stderr",
     "output_type": "stream",
     "text": [
      " 61%|██████    | 606/1000 [00:49<00:57,  6.87it/s]"
     ]
    },
    {
     "name": "stdout",
     "output_type": "stream",
     "text": [
      "\u001b[32m2024-08-26 00:46:26.138\u001b[0m | \u001b[33m\u001b[1mWARNING \u001b[0m | \u001b[36menfify.preprocessing\u001b[0m:\u001b[36mdownsample_scipy\u001b[0m:\u001b[36m47\u001b[0m - \u001b[33m\u001b[1mThe target sampling rate is not an integer multiple of the current sampling rate. Resampling is used, which does not have an integrated antialiasing filter. Applying a lowpass filter.\u001b[0m\n",
      "\u001b[32m2024-08-26 00:46:26.204\u001b[0m | \u001b[33m\u001b[1mWARNING \u001b[0m | \u001b[36menfify.preprocessing\u001b[0m:\u001b[36mdownsample_scipy\u001b[0m:\u001b[36m47\u001b[0m - \u001b[33m\u001b[1mThe target sampling rate is not an integer multiple of the current sampling rate. Resampling is used, which does not have an integrated antialiasing filter. Applying a lowpass filter.\u001b[0m\n"
     ]
    },
    {
     "name": "stderr",
     "output_type": "stream",
     "text": [
      " 61%|██████    | 609/1000 [00:49<00:56,  6.96it/s]"
     ]
    },
    {
     "name": "stdout",
     "output_type": "stream",
     "text": [
      "\u001b[32m2024-08-26 00:46:26.395\u001b[0m | \u001b[33m\u001b[1mWARNING \u001b[0m | \u001b[36menfify.preprocessing\u001b[0m:\u001b[36mdownsample_scipy\u001b[0m:\u001b[36m47\u001b[0m - \u001b[33m\u001b[1mThe target sampling rate is not an integer multiple of the current sampling rate. Resampling is used, which does not have an integrated antialiasing filter. Applying a lowpass filter.\u001b[0m\n",
      "\u001b[32m2024-08-26 00:46:26.563\u001b[0m | \u001b[33m\u001b[1mWARNING \u001b[0m | \u001b[36menfify.preprocessing\u001b[0m:\u001b[36mdownsample_scipy\u001b[0m:\u001b[36m47\u001b[0m - \u001b[33m\u001b[1mThe target sampling rate is not an integer multiple of the current sampling rate. Resampling is used, which does not have an integrated antialiasing filter. Applying a lowpass filter.\u001b[0m\n"
     ]
    },
    {
     "name": "stderr",
     "output_type": "stream",
     "text": [
      " 61%|██████    | 611/1000 [00:50<00:43,  9.04it/s]"
     ]
    },
    {
     "name": "stdout",
     "output_type": "stream",
     "text": [
      "\u001b[32m2024-08-26 00:46:26.611\u001b[0m | \u001b[33m\u001b[1mWARNING \u001b[0m | \u001b[36menfify.preprocessing\u001b[0m:\u001b[36mdownsample_scipy\u001b[0m:\u001b[36m47\u001b[0m - \u001b[33m\u001b[1mThe target sampling rate is not an integer multiple of the current sampling rate. Resampling is used, which does not have an integrated antialiasing filter. Applying a lowpass filter.\u001b[0m\n",
      "\u001b[32m2024-08-26 00:46:26.664\u001b[0m | \u001b[33m\u001b[1mWARNING \u001b[0m | \u001b[36menfify.preprocessing\u001b[0m:\u001b[36mdownsample_scipy\u001b[0m:\u001b[36m47\u001b[0m - \u001b[33m\u001b[1mThe target sampling rate is not an integer multiple of the current sampling rate. Resampling is used, which does not have an integrated antialiasing filter. Applying a lowpass filter.\u001b[0m\n",
      "\u001b[32m2024-08-26 00:46:26.710\u001b[0m | \u001b[33m\u001b[1mWARNING \u001b[0m | \u001b[36menfify.preprocessing\u001b[0m:\u001b[36mdownsample_scipy\u001b[0m:\u001b[36m47\u001b[0m - \u001b[33m\u001b[1mThe target sampling rate is not an integer multiple of the current sampling rate. Resampling is used, which does not have an integrated antialiasing filter. Applying a lowpass filter.\u001b[0m\n",
      "\u001b[32m2024-08-26 00:46:26.751\u001b[0m | \u001b[33m\u001b[1mWARNING \u001b[0m | \u001b[36menfify.preprocessing\u001b[0m:\u001b[36mdownsample_scipy\u001b[0m:\u001b[36m47\u001b[0m - \u001b[33m\u001b[1mThe target sampling rate is not an integer multiple of the current sampling rate. Resampling is used, which does not have an integrated antialiasing filter. Applying a lowpass filter.\u001b[0m\n"
     ]
    },
    {
     "name": "stderr",
     "output_type": "stream",
     "text": [
      " 61%|██████▏   | 614/1000 [00:50<00:35, 10.87it/s]"
     ]
    },
    {
     "name": "stdout",
     "output_type": "stream",
     "text": [
      "\u001b[32m2024-08-26 00:46:26.888\u001b[0m | \u001b[33m\u001b[1mWARNING \u001b[0m | \u001b[36menfify.preprocessing\u001b[0m:\u001b[36mdownsample_scipy\u001b[0m:\u001b[36m47\u001b[0m - \u001b[33m\u001b[1mThe target sampling rate is not an integer multiple of the current sampling rate. Resampling is used, which does not have an integrated antialiasing filter. Applying a lowpass filter.\u001b[0m\n",
      "\u001b[32m2024-08-26 00:46:27.035\u001b[0m | \u001b[33m\u001b[1mWARNING \u001b[0m | \u001b[36menfify.preprocessing\u001b[0m:\u001b[36mdownsample_scipy\u001b[0m:\u001b[36m47\u001b[0m - \u001b[33m\u001b[1mThe target sampling rate is not an integer multiple of the current sampling rate. Resampling is used, which does not have an integrated antialiasing filter. Applying a lowpass filter.\u001b[0m\n"
     ]
    },
    {
     "name": "stderr",
     "output_type": "stream",
     "text": [
      " 62%|██████▏   | 618/1000 [00:50<00:43,  8.80it/s]"
     ]
    },
    {
     "name": "stdout",
     "output_type": "stream",
     "text": [
      "\u001b[32m2024-08-26 00:46:27.236\u001b[0m | \u001b[33m\u001b[1mWARNING \u001b[0m | \u001b[36menfify.preprocessing\u001b[0m:\u001b[36mdownsample_scipy\u001b[0m:\u001b[36m47\u001b[0m - \u001b[33m\u001b[1mThe target sampling rate is not an integer multiple of the current sampling rate. Resampling is used, which does not have an integrated antialiasing filter. Applying a lowpass filter.\u001b[0m\n",
      "\u001b[32m2024-08-26 00:46:27.296\u001b[0m | \u001b[33m\u001b[1mWARNING \u001b[0m | \u001b[36menfify.preprocessing\u001b[0m:\u001b[36mdownsample_scipy\u001b[0m:\u001b[36m47\u001b[0m - \u001b[33m\u001b[1mThe target sampling rate is not an integer multiple of the current sampling rate. Resampling is used, which does not have an integrated antialiasing filter. Applying a lowpass filter.\u001b[0m\n"
     ]
    },
    {
     "name": "stderr",
     "output_type": "stream",
     "text": [
      " 62%|██████▏   | 619/1000 [00:50<00:43,  8.78it/s]"
     ]
    },
    {
     "name": "stdout",
     "output_type": "stream",
     "text": [
      "\u001b[32m2024-08-26 00:46:27.442\u001b[0m | \u001b[33m\u001b[1mWARNING \u001b[0m | \u001b[36menfify.preprocessing\u001b[0m:\u001b[36mdownsample_scipy\u001b[0m:\u001b[36m47\u001b[0m - \u001b[33m\u001b[1mThe target sampling rate is not an integer multiple of the current sampling rate. Resampling is used, which does not have an integrated antialiasing filter. Applying a lowpass filter.\u001b[0m\n",
      "\u001b[32m2024-08-26 00:46:27.550\u001b[0m | \u001b[33m\u001b[1mWARNING \u001b[0m | \u001b[36menfify.preprocessing\u001b[0m:\u001b[36mdownsample_scipy\u001b[0m:\u001b[36m47\u001b[0m - \u001b[33m\u001b[1mThe target sampling rate is not an integer multiple of the current sampling rate. Resampling is used, which does not have an integrated antialiasing filter. Applying a lowpass filter.\u001b[0m\n"
     ]
    },
    {
     "name": "stderr",
     "output_type": "stream",
     "text": [
      " 62%|██████▏   | 621/1000 [00:51<00:48,  7.80it/s]"
     ]
    },
    {
     "name": "stdout",
     "output_type": "stream",
     "text": [
      "\u001b[32m2024-08-26 00:46:27.678\u001b[0m | \u001b[33m\u001b[1mWARNING \u001b[0m | \u001b[36menfify.preprocessing\u001b[0m:\u001b[36mdownsample_scipy\u001b[0m:\u001b[36m47\u001b[0m - \u001b[33m\u001b[1mThe target sampling rate is not an integer multiple of the current sampling rate. Resampling is used, which does not have an integrated antialiasing filter. Applying a lowpass filter.\u001b[0m\n",
      "\u001b[32m2024-08-26 00:46:27.847\u001b[0m | \u001b[33m\u001b[1mWARNING \u001b[0m | \u001b[36menfify.preprocessing\u001b[0m:\u001b[36mdownsample_scipy\u001b[0m:\u001b[36m47\u001b[0m - \u001b[33m\u001b[1mThe target sampling rate is not an integer multiple of the current sampling rate. Resampling is used, which does not have an integrated antialiasing filter. Applying a lowpass filter.\u001b[0m\n",
      "\u001b[32m2024-08-26 00:46:27.889\u001b[0m | \u001b[33m\u001b[1mWARNING \u001b[0m | \u001b[36menfify.preprocessing\u001b[0m:\u001b[36mdownsample_scipy\u001b[0m:\u001b[36m47\u001b[0m - \u001b[33m\u001b[1mThe target sampling rate is not an integer multiple of the current sampling rate. Resampling is used, which does not have an integrated antialiasing filter. Applying a lowpass filter.\u001b[0m\n"
     ]
    },
    {
     "name": "stderr",
     "output_type": "stream",
     "text": [
      " 62%|██████▏   | 624/1000 [00:51<00:42,  8.81it/s]"
     ]
    },
    {
     "name": "stdout",
     "output_type": "stream",
     "text": [
      "\u001b[32m2024-08-26 00:46:28.029\u001b[0m | \u001b[33m\u001b[1mWARNING \u001b[0m | \u001b[36menfify.preprocessing\u001b[0m:\u001b[36mdownsample_scipy\u001b[0m:\u001b[36m47\u001b[0m - \u001b[33m\u001b[1mThe target sampling rate is not an integer multiple of the current sampling rate. Resampling is used, which does not have an integrated antialiasing filter. Applying a lowpass filter.\u001b[0m\n",
      "\u001b[32m2024-08-26 00:46:28.142\u001b[0m | \u001b[33m\u001b[1mWARNING \u001b[0m | \u001b[36menfify.preprocessing\u001b[0m:\u001b[36mdownsample_scipy\u001b[0m:\u001b[36m47\u001b[0m - \u001b[33m\u001b[1mThe target sampling rate is not an integer multiple of the current sampling rate. Resampling is used, which does not have an integrated antialiasing filter. Applying a lowpass filter.\u001b[0m\n"
     ]
    },
    {
     "name": "stderr",
     "output_type": "stream",
     "text": [
      " 62%|██████▎   | 625/1000 [00:51<00:49,  7.53it/s]"
     ]
    },
    {
     "name": "stdout",
     "output_type": "stream",
     "text": [
      "\u001b[32m2024-08-26 00:46:28.344\u001b[0m | \u001b[33m\u001b[1mWARNING \u001b[0m | \u001b[36menfify.preprocessing\u001b[0m:\u001b[36mdownsample_scipy\u001b[0m:\u001b[36m47\u001b[0m - \u001b[33m\u001b[1mThe target sampling rate is not an integer multiple of the current sampling rate. Resampling is used, which does not have an integrated antialiasing filter. Applying a lowpass filter.\u001b[0m\n",
      "\u001b[32m2024-08-26 00:46:28.427\u001b[0m | \u001b[33m\u001b[1mWARNING \u001b[0m | \u001b[36menfify.preprocessing\u001b[0m:\u001b[36mdownsample_scipy\u001b[0m:\u001b[36m47\u001b[0m - \u001b[33m\u001b[1mThe target sampling rate is not an integer multiple of the current sampling rate. Resampling is used, which does not have an integrated antialiasing filter. Applying a lowpass filter.\u001b[0m\n"
     ]
    },
    {
     "name": "stderr",
     "output_type": "stream",
     "text": [
      " 63%|██████▎   | 628/1000 [00:52<00:56,  6.58it/s]"
     ]
    },
    {
     "name": "stdout",
     "output_type": "stream",
     "text": [
      "\u001b[32m2024-08-26 00:46:28.653\u001b[0m | \u001b[33m\u001b[1mWARNING \u001b[0m | \u001b[36menfify.preprocessing\u001b[0m:\u001b[36mdownsample_scipy\u001b[0m:\u001b[36m47\u001b[0m - \u001b[33m\u001b[1mThe target sampling rate is not an integer multiple of the current sampling rate. Resampling is used, which does not have an integrated antialiasing filter. Applying a lowpass filter.\u001b[0m\n",
      "\u001b[32m2024-08-26 00:46:28.842\u001b[0m | \u001b[33m\u001b[1mWARNING \u001b[0m | \u001b[36menfify.preprocessing\u001b[0m:\u001b[36mdownsample_scipy\u001b[0m:\u001b[36m47\u001b[0m - \u001b[33m\u001b[1mThe target sampling rate is not an integer multiple of the current sampling rate. Resampling is used, which does not have an integrated antialiasing filter. Applying a lowpass filter.\u001b[0m\n"
     ]
    },
    {
     "name": "stderr",
     "output_type": "stream",
     "text": [
      " 63%|██████▎   | 630/1000 [00:52<01:01,  6.03it/s]"
     ]
    },
    {
     "name": "stdout",
     "output_type": "stream",
     "text": [
      "\u001b[32m2024-08-26 00:46:29.058\u001b[0m | \u001b[33m\u001b[1mWARNING \u001b[0m | \u001b[36menfify.preprocessing\u001b[0m:\u001b[36mdownsample_scipy\u001b[0m:\u001b[36m47\u001b[0m - \u001b[33m\u001b[1mThe target sampling rate is not an integer multiple of the current sampling rate. Resampling is used, which does not have an integrated antialiasing filter. Applying a lowpass filter.\u001b[0m\n",
      "\u001b[32m2024-08-26 00:46:29.211\u001b[0m | \u001b[33m\u001b[1mWARNING \u001b[0m | \u001b[36menfify.preprocessing\u001b[0m:\u001b[36mdownsample_scipy\u001b[0m:\u001b[36m47\u001b[0m - \u001b[33m\u001b[1mThe target sampling rate is not an integer multiple of the current sampling rate. Resampling is used, which does not have an integrated antialiasing filter. Applying a lowpass filter.\u001b[0m\n"
     ]
    },
    {
     "name": "stderr",
     "output_type": "stream",
     "text": [
      " 63%|██████▎   | 632/1000 [00:53<01:05,  5.62it/s]"
     ]
    },
    {
     "name": "stdout",
     "output_type": "stream",
     "text": [
      "\u001b[32m2024-08-26 00:46:29.406\u001b[0m | \u001b[33m\u001b[1mWARNING \u001b[0m | \u001b[36menfify.preprocessing\u001b[0m:\u001b[36mdownsample_scipy\u001b[0m:\u001b[36m47\u001b[0m - \u001b[33m\u001b[1mThe target sampling rate is not an integer multiple of the current sampling rate. Resampling is used, which does not have an integrated antialiasing filter. Applying a lowpass filter.\u001b[0m\n",
      "\u001b[32m2024-08-26 00:46:29.597\u001b[0m | \u001b[33m\u001b[1mWARNING \u001b[0m | \u001b[36menfify.preprocessing\u001b[0m:\u001b[36mdownsample_scipy\u001b[0m:\u001b[36m47\u001b[0m - \u001b[33m\u001b[1mThe target sampling rate is not an integer multiple of the current sampling rate. Resampling is used, which does not have an integrated antialiasing filter. Applying a lowpass filter.\u001b[0m\n"
     ]
    },
    {
     "name": "stderr",
     "output_type": "stream",
     "text": [
      " 63%|██████▎   | 634/1000 [00:53<01:05,  5.59it/s]"
     ]
    },
    {
     "name": "stdout",
     "output_type": "stream",
     "text": [
      "\u001b[32m2024-08-26 00:46:29.776\u001b[0m | \u001b[33m\u001b[1mWARNING \u001b[0m | \u001b[36menfify.preprocessing\u001b[0m:\u001b[36mdownsample_scipy\u001b[0m:\u001b[36m47\u001b[0m - \u001b[33m\u001b[1mThe target sampling rate is not an integer multiple of the current sampling rate. Resampling is used, which does not have an integrated antialiasing filter. Applying a lowpass filter.\u001b[0m\n",
      "\u001b[32m2024-08-26 00:46:29.958\u001b[0m | \u001b[33m\u001b[1mWARNING \u001b[0m | \u001b[36menfify.preprocessing\u001b[0m:\u001b[36mdownsample_scipy\u001b[0m:\u001b[36m47\u001b[0m - \u001b[33m\u001b[1mThe target sampling rate is not an integer multiple of the current sampling rate. Resampling is used, which does not have an integrated antialiasing filter. Applying a lowpass filter.\u001b[0m\n"
     ]
    },
    {
     "name": "stderr",
     "output_type": "stream",
     "text": [
      " 64%|██████▎   | 636/1000 [00:53<01:13,  4.97it/s]"
     ]
    },
    {
     "name": "stdout",
     "output_type": "stream",
     "text": [
      "\u001b[32m2024-08-26 00:46:30.165\u001b[0m | \u001b[33m\u001b[1mWARNING \u001b[0m | \u001b[36menfify.preprocessing\u001b[0m:\u001b[36mdownsample_scipy\u001b[0m:\u001b[36m47\u001b[0m - \u001b[33m\u001b[1mThe target sampling rate is not an integer multiple of the current sampling rate. Resampling is used, which does not have an integrated antialiasing filter. Applying a lowpass filter.\u001b[0m\n"
     ]
    },
    {
     "name": "stderr",
     "output_type": "stream",
     "text": [
      " 64%|██████▎   | 637/1000 [00:54<01:13,  4.96it/s]"
     ]
    },
    {
     "name": "stdout",
     "output_type": "stream",
     "text": [
      "\u001b[32m2024-08-26 00:46:30.447\u001b[0m | \u001b[33m\u001b[1mWARNING \u001b[0m | \u001b[36menfify.preprocessing\u001b[0m:\u001b[36mdownsample_scipy\u001b[0m:\u001b[36m47\u001b[0m - \u001b[33m\u001b[1mThe target sampling rate is not an integer multiple of the current sampling rate. Resampling is used, which does not have an integrated antialiasing filter. Applying a lowpass filter.\u001b[0m\n",
      "\u001b[32m2024-08-26 00:46:30.606\u001b[0m | \u001b[33m\u001b[1mWARNING \u001b[0m | \u001b[36menfify.preprocessing\u001b[0m:\u001b[36mdownsample_scipy\u001b[0m:\u001b[36m47\u001b[0m - \u001b[33m\u001b[1mThe target sampling rate is not an integer multiple of the current sampling rate. Resampling is used, which does not have an integrated antialiasing filter. Applying a lowpass filter.\u001b[0m\n"
     ]
    },
    {
     "name": "stderr",
     "output_type": "stream",
     "text": [
      "                                                  \r"
     ]
    },
    {
     "name": "stdout",
     "output_type": "stream",
     "text": [
      "\u001b[32m2024-08-26 00:46:30.714\u001b[0m | \u001b[33m\u001b[1mWARNING \u001b[0m | \u001b[36menfify.preprocessing\u001b[0m:\u001b[36mdownsample_scipy\u001b[0m:\u001b[36m47\u001b[0m - \u001b[33m\u001b[1mThe target sampling rate is not an integer multiple of the current sampling rate. Resampling is used, which does not have an integrated antialiasing filter. Applying a lowpass filter.\u001b[0m\n",
      "\u001b[32m2024-08-26 00:46:30.917\u001b[0m | \u001b[33m\u001b[1mWARNING \u001b[0m | \u001b[36menfify.preprocessing\u001b[0m:\u001b[36mdownsample_scipy\u001b[0m:\u001b[36m47\u001b[0m - \u001b[33m\u001b[1mThe target sampling rate is not an integer multiple of the current sampling rate. Resampling is used, which does not have an integrated antialiasing filter. Applying a lowpass filter.\u001b[0m\n"
     ]
    },
    {
     "name": "stderr",
     "output_type": "stream",
     "text": [
      " 64%|██████▍   | 641/1000 [00:54<01:01,  5.86it/s]"
     ]
    },
    {
     "name": "stdout",
     "output_type": "stream",
     "text": [
      "\u001b[32m2024-08-26 00:46:31.047\u001b[0m | \u001b[33m\u001b[1mWARNING \u001b[0m | \u001b[36menfify.preprocessing\u001b[0m:\u001b[36mdownsample_scipy\u001b[0m:\u001b[36m47\u001b[0m - \u001b[33m\u001b[1mThe target sampling rate is not an integer multiple of the current sampling rate. Resampling is used, which does not have an integrated antialiasing filter. Applying a lowpass filter.\u001b[0m\n",
      "\u001b[32m2024-08-26 00:46:31.227\u001b[0m | \u001b[33m\u001b[1mWARNING \u001b[0m | \u001b[36menfify.preprocessing\u001b[0m:\u001b[36mdownsample_scipy\u001b[0m:\u001b[36m47\u001b[0m - \u001b[33m\u001b[1mThe target sampling rate is not an integer multiple of the current sampling rate. Resampling is used, which does not have an integrated antialiasing filter. Applying a lowpass filter.\u001b[0m\n"
     ]
    },
    {
     "name": "stderr",
     "output_type": "stream",
     "text": [
      " 64%|██████▍   | 643/1000 [00:54<00:54,  6.51it/s]"
     ]
    },
    {
     "name": "stdout",
     "output_type": "stream",
     "text": [
      "\u001b[32m2024-08-26 00:46:31.369\u001b[0m | \u001b[33m\u001b[1mWARNING \u001b[0m | \u001b[36menfify.preprocessing\u001b[0m:\u001b[36mdownsample_scipy\u001b[0m:\u001b[36m47\u001b[0m - \u001b[33m\u001b[1mThe target sampling rate is not an integer multiple of the current sampling rate. Resampling is used, which does not have an integrated antialiasing filter. Applying a lowpass filter.\u001b[0m\n",
      "\u001b[32m2024-08-26 00:46:31.496\u001b[0m | \u001b[33m\u001b[1mWARNING \u001b[0m | \u001b[36menfify.preprocessing\u001b[0m:\u001b[36mdownsample_scipy\u001b[0m:\u001b[36m47\u001b[0m - \u001b[33m\u001b[1mThe target sampling rate is not an integer multiple of the current sampling rate. Resampling is used, which does not have an integrated antialiasing filter. Applying a lowpass filter.\u001b[0m\n",
      "\u001b[32m2024-08-26 00:46:31.559\u001b[0m | \u001b[33m\u001b[1mWARNING \u001b[0m | \u001b[36menfify.preprocessing\u001b[0m:\u001b[36mdownsample_scipy\u001b[0m:\u001b[36m47\u001b[0m - \u001b[33m\u001b[1mThe target sampling rate is not an integer multiple of the current sampling rate. Resampling is used, which does not have an integrated antialiasing filter. Applying a lowpass filter.\u001b[0m\n"
     ]
    },
    {
     "name": "stderr",
     "output_type": "stream",
     "text": [
      " 65%|██████▍   | 647/1000 [00:55<00:35,  9.83it/s]"
     ]
    },
    {
     "name": "stdout",
     "output_type": "stream",
     "text": [
      "\u001b[32m2024-08-26 00:46:31.629\u001b[0m | \u001b[33m\u001b[1mWARNING \u001b[0m | \u001b[36menfify.preprocessing\u001b[0m:\u001b[36mdownsample_scipy\u001b[0m:\u001b[36m47\u001b[0m - \u001b[33m\u001b[1mThe target sampling rate is not an integer multiple of the current sampling rate. Resampling is used, which does not have an integrated antialiasing filter. Applying a lowpass filter.\u001b[0m\n",
      "\u001b[32m2024-08-26 00:46:31.697\u001b[0m | \u001b[33m\u001b[1mWARNING \u001b[0m | \u001b[36menfify.preprocessing\u001b[0m:\u001b[36mdownsample_scipy\u001b[0m:\u001b[36m47\u001b[0m - \u001b[33m\u001b[1mThe target sampling rate is not an integer multiple of the current sampling rate. Resampling is used, which does not have an integrated antialiasing filter. Applying a lowpass filter.\u001b[0m\n",
      "\u001b[32m2024-08-26 00:46:31.797\u001b[0m | \u001b[33m\u001b[1mWARNING \u001b[0m | \u001b[36menfify.preprocessing\u001b[0m:\u001b[36mdownsample_scipy\u001b[0m:\u001b[36m47\u001b[0m - \u001b[33m\u001b[1mThe target sampling rate is not an integer multiple of the current sampling rate. Resampling is used, which does not have an integrated antialiasing filter. Applying a lowpass filter.\u001b[0m\n"
     ]
    },
    {
     "name": "stderr",
     "output_type": "stream",
     "text": [
      " 65%|██████▍   | 649/1000 [00:55<00:36,  9.68it/s]"
     ]
    },
    {
     "name": "stdout",
     "output_type": "stream",
     "text": [
      "\u001b[32m2024-08-26 00:46:31.888\u001b[0m | \u001b[33m\u001b[1mWARNING \u001b[0m | \u001b[36menfify.preprocessing\u001b[0m:\u001b[36mdownsample_scipy\u001b[0m:\u001b[36m47\u001b[0m - \u001b[33m\u001b[1mThe target sampling rate is not an integer multiple of the current sampling rate. Resampling is used, which does not have an integrated antialiasing filter. Applying a lowpass filter.\u001b[0m\n",
      "\u001b[32m2024-08-26 00:46:32.017\u001b[0m | \u001b[33m\u001b[1mWARNING \u001b[0m | \u001b[36menfify.preprocessing\u001b[0m:\u001b[36mdownsample_scipy\u001b[0m:\u001b[36m47\u001b[0m - \u001b[33m\u001b[1mThe target sampling rate is not an integer multiple of the current sampling rate. Resampling is used, which does not have an integrated antialiasing filter. Applying a lowpass filter.\u001b[0m\n"
     ]
    },
    {
     "name": "stderr",
     "output_type": "stream",
     "text": [
      " 65%|██████▌   | 651/1000 [00:55<00:42,  8.26it/s]"
     ]
    },
    {
     "name": "stdout",
     "output_type": "stream",
     "text": [
      "\u001b[32m2024-08-26 00:46:32.178\u001b[0m | \u001b[33m\u001b[1mWARNING \u001b[0m | \u001b[36menfify.preprocessing\u001b[0m:\u001b[36mdownsample_scipy\u001b[0m:\u001b[36m47\u001b[0m - \u001b[33m\u001b[1mThe target sampling rate is not an integer multiple of the current sampling rate. Resampling is used, which does not have an integrated antialiasing filter. Applying a lowpass filter.\u001b[0m\n",
      "\u001b[32m2024-08-26 00:46:32.309\u001b[0m | \u001b[33m\u001b[1mWARNING \u001b[0m | \u001b[36menfify.preprocessing\u001b[0m:\u001b[36mdownsample_scipy\u001b[0m:\u001b[36m47\u001b[0m - \u001b[33m\u001b[1mThe target sampling rate is not an integer multiple of the current sampling rate. Resampling is used, which does not have an integrated antialiasing filter. Applying a lowpass filter.\u001b[0m\n"
     ]
    },
    {
     "name": "stderr",
     "output_type": "stream",
     "text": [
      " 65%|██████▌   | 652/1000 [00:55<00:46,  7.51it/s]"
     ]
    },
    {
     "name": "stdout",
     "output_type": "stream",
     "text": [
      "\u001b[32m2024-08-26 00:46:32.496\u001b[0m | \u001b[33m\u001b[1mWARNING \u001b[0m | \u001b[36menfify.preprocessing\u001b[0m:\u001b[36mdownsample_scipy\u001b[0m:\u001b[36m47\u001b[0m - \u001b[33m\u001b[1mThe target sampling rate is not an integer multiple of the current sampling rate. Resampling is used, which does not have an integrated antialiasing filter. Applying a lowpass filter.\u001b[0m\n"
     ]
    },
    {
     "name": "stderr",
     "output_type": "stream",
     "text": [
      " 66%|██████▌   | 655/1000 [00:56<00:49,  6.94it/s]"
     ]
    },
    {
     "name": "stdout",
     "output_type": "stream",
     "text": [
      "\u001b[32m2024-08-26 00:46:32.751\u001b[0m | \u001b[33m\u001b[1mWARNING \u001b[0m | \u001b[36menfify.preprocessing\u001b[0m:\u001b[36mdownsample_scipy\u001b[0m:\u001b[36m47\u001b[0m - \u001b[33m\u001b[1mThe target sampling rate is not an integer multiple of the current sampling rate. Resampling is used, which does not have an integrated antialiasing filter. Applying a lowpass filter.\u001b[0m\n",
      "\u001b[32m2024-08-26 00:46:32.811\u001b[0m | \u001b[33m\u001b[1mWARNING \u001b[0m | \u001b[36menfify.preprocessing\u001b[0m:\u001b[36mdownsample_scipy\u001b[0m:\u001b[36m47\u001b[0m - \u001b[33m\u001b[1mThe target sampling rate is not an integer multiple of the current sampling rate. Resampling is used, which does not have an integrated antialiasing filter. Applying a lowpass filter.\u001b[0m\n"
     ]
    },
    {
     "name": "stderr",
     "output_type": "stream",
     "text": [
      " 66%|██████▌   | 656/1000 [00:56<00:51,  6.65it/s]"
     ]
    },
    {
     "name": "stdout",
     "output_type": "stream",
     "text": [
      "\u001b[32m2024-08-26 00:46:32.981\u001b[0m | \u001b[33m\u001b[1mWARNING \u001b[0m | \u001b[36menfify.preprocessing\u001b[0m:\u001b[36mdownsample_scipy\u001b[0m:\u001b[36m47\u001b[0m - \u001b[33m\u001b[1mThe target sampling rate is not an integer multiple of the current sampling rate. Resampling is used, which does not have an integrated antialiasing filter. Applying a lowpass filter.\u001b[0m\n",
      "\u001b[32m2024-08-26 00:46:33.151\u001b[0m | \u001b[33m\u001b[1mWARNING \u001b[0m | \u001b[36menfify.preprocessing\u001b[0m:\u001b[36mdownsample_scipy\u001b[0m:\u001b[36m47\u001b[0m - \u001b[33m\u001b[1mThe target sampling rate is not an integer multiple of the current sampling rate. Resampling is used, which does not have an integrated antialiasing filter. Applying a lowpass filter.\u001b[0m\n"
     ]
    },
    {
     "name": "stderr",
     "output_type": "stream",
     "text": [
      " 66%|██████▌   | 658/1000 [00:56<00:59,  5.73it/s]"
     ]
    },
    {
     "name": "stdout",
     "output_type": "stream",
     "text": [
      "\u001b[32m2024-08-26 00:46:33.371\u001b[0m | \u001b[33m\u001b[1mWARNING \u001b[0m | \u001b[36menfify.preprocessing\u001b[0m:\u001b[36mdownsample_scipy\u001b[0m:\u001b[36m47\u001b[0m - \u001b[33m\u001b[1mThe target sampling rate is not an integer multiple of the current sampling rate. Resampling is used, which does not have an integrated antialiasing filter. Applying a lowpass filter.\u001b[0m\n",
      "\u001b[32m2024-08-26 00:46:33.561\u001b[0m | \u001b[33m\u001b[1mWARNING \u001b[0m | \u001b[36menfify.preprocessing\u001b[0m:\u001b[36mdownsample_scipy\u001b[0m:\u001b[36m47\u001b[0m - \u001b[33m\u001b[1mThe target sampling rate is not an integer multiple of the current sampling rate. Resampling is used, which does not have an integrated antialiasing filter. Applying a lowpass filter.\u001b[0m\n"
     ]
    },
    {
     "name": "stderr",
     "output_type": "stream",
     "text": [
      " 66%|██████▌   | 661/1000 [00:57<00:39,  8.53it/s]"
     ]
    },
    {
     "name": "stdout",
     "output_type": "stream",
     "text": [
      "\u001b[32m2024-08-26 00:46:33.708\u001b[0m | \u001b[33m\u001b[1mWARNING \u001b[0m | \u001b[36menfify.preprocessing\u001b[0m:\u001b[36mdownsample_scipy\u001b[0m:\u001b[36m47\u001b[0m - \u001b[33m\u001b[1mThe target sampling rate is not an integer multiple of the current sampling rate. Resampling is used, which does not have an integrated antialiasing filter. Applying a lowpass filter.\u001b[0m\n",
      "\u001b[32m2024-08-26 00:46:33.765\u001b[0m | \u001b[33m\u001b[1mWARNING \u001b[0m | \u001b[36menfify.preprocessing\u001b[0m:\u001b[36mdownsample_scipy\u001b[0m:\u001b[36m47\u001b[0m - \u001b[33m\u001b[1mThe target sampling rate is not an integer multiple of the current sampling rate. Resampling is used, which does not have an integrated antialiasing filter. Applying a lowpass filter.\u001b[0m\n",
      "\u001b[32m2024-08-26 00:46:33.810\u001b[0m | \u001b[33m\u001b[1mWARNING \u001b[0m | \u001b[36menfify.preprocessing\u001b[0m:\u001b[36mdownsample_scipy\u001b[0m:\u001b[36m47\u001b[0m - \u001b[33m\u001b[1mThe target sampling rate is not an integer multiple of the current sampling rate. Resampling is used, which does not have an integrated antialiasing filter. Applying a lowpass filter.\u001b[0m\n"
     ]
    },
    {
     "name": "stderr",
     "output_type": "stream",
     "text": [
      " 66%|██████▋   | 663/1000 [00:57<00:45,  7.43it/s]"
     ]
    },
    {
     "name": "stdout",
     "output_type": "stream",
     "text": [
      "\u001b[32m2024-08-26 00:46:34.026\u001b[0m | \u001b[33m\u001b[1mWARNING \u001b[0m | \u001b[36menfify.preprocessing\u001b[0m:\u001b[36mdownsample_scipy\u001b[0m:\u001b[36m47\u001b[0m - \u001b[33m\u001b[1mThe target sampling rate is not an integer multiple of the current sampling rate. Resampling is used, which does not have an integrated antialiasing filter. Applying a lowpass filter.\u001b[0m\n",
      "\u001b[32m2024-08-26 00:46:34.139\u001b[0m | \u001b[33m\u001b[1mWARNING \u001b[0m | \u001b[36menfify.preprocessing\u001b[0m:\u001b[36mdownsample_scipy\u001b[0m:\u001b[36m47\u001b[0m - \u001b[33m\u001b[1mThe target sampling rate is not an integer multiple of the current sampling rate. Resampling is used, which does not have an integrated antialiasing filter. Applying a lowpass filter.\u001b[0m\n"
     ]
    },
    {
     "name": "stderr",
     "output_type": "stream",
     "text": [
      " 67%|██████▋   | 666/1000 [00:57<00:41,  8.11it/s]"
     ]
    },
    {
     "name": "stdout",
     "output_type": "stream",
     "text": [
      "\u001b[32m2024-08-26 00:46:34.279\u001b[0m | \u001b[33m\u001b[1mWARNING \u001b[0m | \u001b[36menfify.preprocessing\u001b[0m:\u001b[36mdownsample_scipy\u001b[0m:\u001b[36m47\u001b[0m - \u001b[33m\u001b[1mThe target sampling rate is not an integer multiple of the current sampling rate. Resampling is used, which does not have an integrated antialiasing filter. Applying a lowpass filter.\u001b[0m\n",
      "\u001b[32m2024-08-26 00:46:34.395\u001b[0m | \u001b[33m\u001b[1mWARNING \u001b[0m | \u001b[36menfify.preprocessing\u001b[0m:\u001b[36mdownsample_scipy\u001b[0m:\u001b[36m47\u001b[0m - \u001b[33m\u001b[1mThe target sampling rate is not an integer multiple of the current sampling rate. Resampling is used, which does not have an integrated antialiasing filter. Applying a lowpass filter.\u001b[0m\n"
     ]
    },
    {
     "name": "stderr",
     "output_type": "stream",
     "text": [
      " 67%|██████▋   | 667/1000 [00:58<00:42,  7.80it/s]"
     ]
    },
    {
     "name": "stdout",
     "output_type": "stream",
     "text": [
      "\u001b[32m2024-08-26 00:46:34.505\u001b[0m | \u001b[33m\u001b[1mWARNING \u001b[0m | \u001b[36menfify.preprocessing\u001b[0m:\u001b[36mdownsample_scipy\u001b[0m:\u001b[36m47\u001b[0m - \u001b[33m\u001b[1mThe target sampling rate is not an integer multiple of the current sampling rate. Resampling is used, which does not have an integrated antialiasing filter. Applying a lowpass filter.\u001b[0m\n",
      "\u001b[32m2024-08-26 00:46:34.646\u001b[0m | \u001b[33m\u001b[1mWARNING \u001b[0m | \u001b[36menfify.preprocessing\u001b[0m:\u001b[36mdownsample_scipy\u001b[0m:\u001b[36m47\u001b[0m - \u001b[33m\u001b[1mThe target sampling rate is not an integer multiple of the current sampling rate. Resampling is used, which does not have an integrated antialiasing filter. Applying a lowpass filter.\u001b[0m\n"
     ]
    },
    {
     "name": "stderr",
     "output_type": "stream",
     "text": [
      " 67%|██████▋   | 669/1000 [00:58<00:44,  7.44it/s]"
     ]
    },
    {
     "name": "stdout",
     "output_type": "stream",
     "text": [
      "\u001b[32m2024-08-26 00:46:34.762\u001b[0m | \u001b[33m\u001b[1mWARNING \u001b[0m | \u001b[36menfify.preprocessing\u001b[0m:\u001b[36mdownsample_scipy\u001b[0m:\u001b[36m47\u001b[0m - \u001b[33m\u001b[1mThe target sampling rate is not an integer multiple of the current sampling rate. Resampling is used, which does not have an integrated antialiasing filter. Applying a lowpass filter.\u001b[0m\n",
      "\u001b[32m2024-08-26 00:46:34.923\u001b[0m | \u001b[33m\u001b[1mWARNING \u001b[0m | \u001b[36menfify.preprocessing\u001b[0m:\u001b[36mdownsample_scipy\u001b[0m:\u001b[36m47\u001b[0m - \u001b[33m\u001b[1mThe target sampling rate is not an integer multiple of the current sampling rate. Resampling is used, which does not have an integrated antialiasing filter. Applying a lowpass filter.\u001b[0m\n"
     ]
    },
    {
     "name": "stderr",
     "output_type": "stream",
     "text": [
      " 67%|██████▋   | 672/1000 [00:58<00:40,  8.14it/s]"
     ]
    },
    {
     "name": "stdout",
     "output_type": "stream",
     "text": [
      "\u001b[32m2024-08-26 00:46:35.077\u001b[0m | \u001b[33m\u001b[1mWARNING \u001b[0m | \u001b[36menfify.preprocessing\u001b[0m:\u001b[36mdownsample_scipy\u001b[0m:\u001b[36m47\u001b[0m - \u001b[33m\u001b[1mThe target sampling rate is not an integer multiple of the current sampling rate. Resampling is used, which does not have an integrated antialiasing filter. Applying a lowpass filter.\u001b[0m\n",
      "\u001b[32m2024-08-26 00:46:35.148\u001b[0m | \u001b[33m\u001b[1mWARNING \u001b[0m | \u001b[36menfify.preprocessing\u001b[0m:\u001b[36mdownsample_scipy\u001b[0m:\u001b[36m47\u001b[0m - \u001b[33m\u001b[1mThe target sampling rate is not an integer multiple of the current sampling rate. Resampling is used, which does not have an integrated antialiasing filter. Applying a lowpass filter.\u001b[0m\n"
     ]
    },
    {
     "name": "stderr",
     "output_type": "stream",
     "text": [
      " 67%|██████▋   | 673/1000 [00:58<00:41,  7.82it/s]"
     ]
    },
    {
     "name": "stdout",
     "output_type": "stream",
     "text": [
      "\u001b[32m2024-08-26 00:46:35.283\u001b[0m | \u001b[33m\u001b[1mWARNING \u001b[0m | \u001b[36menfify.preprocessing\u001b[0m:\u001b[36mdownsample_scipy\u001b[0m:\u001b[36m47\u001b[0m - \u001b[33m\u001b[1mThe target sampling rate is not an integer multiple of the current sampling rate. Resampling is used, which does not have an integrated antialiasing filter. Applying a lowpass filter.\u001b[0m\n",
      "\u001b[32m2024-08-26 00:46:35.423\u001b[0m | \u001b[33m\u001b[1mWARNING \u001b[0m | \u001b[36menfify.preprocessing\u001b[0m:\u001b[36mdownsample_scipy\u001b[0m:\u001b[36m47\u001b[0m - \u001b[33m\u001b[1mThe target sampling rate is not an integer multiple of the current sampling rate. Resampling is used, which does not have an integrated antialiasing filter. Applying a lowpass filter.\u001b[0m\n",
      "\u001b[32m2024-08-26 00:46:35.455\u001b[0m | \u001b[33m\u001b[1mWARNING \u001b[0m | \u001b[36menfify.preprocessing\u001b[0m:\u001b[36mdownsample_scipy\u001b[0m:\u001b[36m47\u001b[0m - \u001b[33m\u001b[1mThe target sampling rate is not an integer multiple of the current sampling rate. Resampling is used, which does not have an integrated antialiasing filter. Applying a lowpass filter.\u001b[0m\n"
     ]
    },
    {
     "name": "stderr",
     "output_type": "stream",
     "text": [
      " 68%|██████▊   | 675/1000 [00:59<00:35,  9.05it/s]"
     ]
    },
    {
     "name": "stdout",
     "output_type": "stream",
     "text": [
      "\u001b[32m2024-08-26 00:46:35.595\u001b[0m | \u001b[33m\u001b[1mWARNING \u001b[0m | \u001b[36menfify.preprocessing\u001b[0m:\u001b[36mdownsample_scipy\u001b[0m:\u001b[36m47\u001b[0m - \u001b[33m\u001b[1mThe target sampling rate is not an integer multiple of the current sampling rate. Resampling is used, which does not have an integrated antialiasing filter. Applying a lowpass filter.\u001b[0m\n"
     ]
    },
    {
     "name": "stderr",
     "output_type": "stream",
     "text": [
      " 68%|██████▊   | 678/1000 [00:59<00:39,  8.14it/s]"
     ]
    },
    {
     "name": "stdout",
     "output_type": "stream",
     "text": [
      "\u001b[32m2024-08-26 00:46:35.876\u001b[0m | \u001b[33m\u001b[1mWARNING \u001b[0m | \u001b[36menfify.preprocessing\u001b[0m:\u001b[36mdownsample_scipy\u001b[0m:\u001b[36m47\u001b[0m - \u001b[33m\u001b[1mThe target sampling rate is not an integer multiple of the current sampling rate. Resampling is used, which does not have an integrated antialiasing filter. Applying a lowpass filter.\u001b[0m\n",
      "\u001b[32m2024-08-26 00:46:35.927\u001b[0m | \u001b[33m\u001b[1mWARNING \u001b[0m | \u001b[36menfify.preprocessing\u001b[0m:\u001b[36mdownsample_scipy\u001b[0m:\u001b[36m47\u001b[0m - \u001b[33m\u001b[1mThe target sampling rate is not an integer multiple of the current sampling rate. Resampling is used, which does not have an integrated antialiasing filter. Applying a lowpass filter.\u001b[0m\n",
      "\u001b[32m2024-08-26 00:46:36.038\u001b[0m | \u001b[33m\u001b[1mWARNING \u001b[0m | \u001b[36menfify.preprocessing\u001b[0m:\u001b[36mdownsample_scipy\u001b[0m:\u001b[36m47\u001b[0m - \u001b[33m\u001b[1mThe target sampling rate is not an integer multiple of the current sampling rate. Resampling is used, which does not have an integrated antialiasing filter. Applying a lowpass filter.\u001b[0m\n"
     ]
    },
    {
     "name": "stderr",
     "output_type": "stream",
     "text": [
      " 68%|██████▊   | 681/1000 [00:59<00:35,  9.01it/s]"
     ]
    },
    {
     "name": "stdout",
     "output_type": "stream",
     "text": [
      "\u001b[32m2024-08-26 00:46:36.149\u001b[0m | \u001b[33m\u001b[1mWARNING \u001b[0m | \u001b[36menfify.preprocessing\u001b[0m:\u001b[36mdownsample_scipy\u001b[0m:\u001b[36m47\u001b[0m - \u001b[33m\u001b[1mThe target sampling rate is not an integer multiple of the current sampling rate. Resampling is used, which does not have an integrated antialiasing filter. Applying a lowpass filter.\u001b[0m\n",
      "\u001b[32m2024-08-26 00:46:36.223\u001b[0m | \u001b[33m\u001b[1mWARNING \u001b[0m | \u001b[36menfify.preprocessing\u001b[0m:\u001b[36mdownsample_scipy\u001b[0m:\u001b[36m47\u001b[0m - \u001b[33m\u001b[1mThe target sampling rate is not an integer multiple of the current sampling rate. Resampling is used, which does not have an integrated antialiasing filter. Applying a lowpass filter.\u001b[0m\n",
      "\u001b[32m2024-08-26 00:46:36.342\u001b[0m | \u001b[33m\u001b[1mWARNING \u001b[0m | \u001b[36menfify.preprocessing\u001b[0m:\u001b[36mdownsample_scipy\u001b[0m:\u001b[36m47\u001b[0m - \u001b[33m\u001b[1mThe target sampling rate is not an integer multiple of the current sampling rate. Resampling is used, which does not have an integrated antialiasing filter. Applying a lowpass filter.\u001b[0m\n"
     ]
    },
    {
     "name": "stderr",
     "output_type": "stream",
     "text": [
      " 68%|██████▊   | 683/1000 [01:00<00:37,  8.40it/s]"
     ]
    },
    {
     "name": "stdout",
     "output_type": "stream",
     "text": [
      "\u001b[32m2024-08-26 00:46:36.492\u001b[0m | \u001b[33m\u001b[1mWARNING \u001b[0m | \u001b[36menfify.preprocessing\u001b[0m:\u001b[36mdownsample_scipy\u001b[0m:\u001b[36m47\u001b[0m - \u001b[33m\u001b[1mThe target sampling rate is not an integer multiple of the current sampling rate. Resampling is used, which does not have an integrated antialiasing filter. Applying a lowpass filter.\u001b[0m\n",
      "\u001b[32m2024-08-26 00:46:36.611\u001b[0m | \u001b[33m\u001b[1mWARNING \u001b[0m | \u001b[36menfify.preprocessing\u001b[0m:\u001b[36mdownsample_scipy\u001b[0m:\u001b[36m47\u001b[0m - \u001b[33m\u001b[1mThe target sampling rate is not an integer multiple of the current sampling rate. Resampling is used, which does not have an integrated antialiasing filter. Applying a lowpass filter.\u001b[0m\n",
      "\u001b[32m2024-08-26 00:46:36.662\u001b[0m | \u001b[33m\u001b[1mWARNING \u001b[0m | \u001b[36menfify.preprocessing\u001b[0m:\u001b[36mdownsample_scipy\u001b[0m:\u001b[36m47\u001b[0m - \u001b[33m\u001b[1mThe target sampling rate is not an integer multiple of the current sampling rate. Resampling is used, which does not have an integrated antialiasing filter. Applying a lowpass filter.\u001b[0m\n"
     ]
    },
    {
     "name": "stderr",
     "output_type": "stream",
     "text": [
      " 69%|██████▊   | 686/1000 [01:00<00:43,  7.27it/s]"
     ]
    },
    {
     "name": "stdout",
     "output_type": "stream",
     "text": [
      "\u001b[32m2024-08-26 00:46:36.842\u001b[0m | \u001b[33m\u001b[1mWARNING \u001b[0m | \u001b[36menfify.preprocessing\u001b[0m:\u001b[36mdownsample_scipy\u001b[0m:\u001b[36m47\u001b[0m - \u001b[33m\u001b[1mThe target sampling rate is not an integer multiple of the current sampling rate. Resampling is used, which does not have an integrated antialiasing filter. Applying a lowpass filter.\u001b[0m\n"
     ]
    },
    {
     "name": "stderr",
     "output_type": "stream",
     "text": [
      " 69%|██████▊   | 687/1000 [01:00<00:46,  6.77it/s]"
     ]
    },
    {
     "name": "stdout",
     "output_type": "stream",
     "text": [
      "\u001b[32m2024-08-26 00:46:37.056\u001b[0m | \u001b[33m\u001b[1mWARNING \u001b[0m | \u001b[36menfify.preprocessing\u001b[0m:\u001b[36mdownsample_scipy\u001b[0m:\u001b[36m47\u001b[0m - \u001b[33m\u001b[1mThe target sampling rate is not an integer multiple of the current sampling rate. Resampling is used, which does not have an integrated antialiasing filter. Applying a lowpass filter.\u001b[0m\n",
      "\u001b[32m2024-08-26 00:46:37.224\u001b[0m | \u001b[33m\u001b[1mWARNING \u001b[0m | \u001b[36menfify.preprocessing\u001b[0m:\u001b[36mdownsample_scipy\u001b[0m:\u001b[36m47\u001b[0m - \u001b[33m\u001b[1mThe target sampling rate is not an integer multiple of the current sampling rate. Resampling is used, which does not have an integrated antialiasing filter. Applying a lowpass filter.\u001b[0m\n"
     ]
    },
    {
     "name": "stderr",
     "output_type": "stream",
     "text": [
      " 69%|██████▉   | 689/1000 [01:00<00:39,  7.82it/s]"
     ]
    },
    {
     "name": "stdout",
     "output_type": "stream",
     "text": [
      "\u001b[32m2024-08-26 00:46:37.295\u001b[0m | \u001b[33m\u001b[1mWARNING \u001b[0m | \u001b[36menfify.preprocessing\u001b[0m:\u001b[36mdownsample_scipy\u001b[0m:\u001b[36m47\u001b[0m - \u001b[33m\u001b[1mThe target sampling rate is not an integer multiple of the current sampling rate. Resampling is used, which does not have an integrated antialiasing filter. Applying a lowpass filter.\u001b[0m\n",
      "\u001b[32m2024-08-26 00:46:37.422\u001b[0m | \u001b[33m\u001b[1mWARNING \u001b[0m | \u001b[36menfify.preprocessing\u001b[0m:\u001b[36mdownsample_scipy\u001b[0m:\u001b[36m47\u001b[0m - \u001b[33m\u001b[1mThe target sampling rate is not an integer multiple of the current sampling rate. Resampling is used, which does not have an integrated antialiasing filter. Applying a lowpass filter.\u001b[0m\n",
      "\u001b[32m2024-08-26 00:46:37.453\u001b[0m | \u001b[33m\u001b[1mWARNING \u001b[0m | \u001b[36menfify.preprocessing\u001b[0m:\u001b[36mdownsample_scipy\u001b[0m:\u001b[36m47\u001b[0m - \u001b[33m\u001b[1mThe target sampling rate is not an integer multiple of the current sampling rate. Resampling is used, which does not have an integrated antialiasing filter. Applying a lowpass filter.\u001b[0m\n"
     ]
    },
    {
     "name": "stderr",
     "output_type": "stream",
     "text": [
      " 69%|██████▉   | 693/1000 [01:01<00:31,  9.88it/s]"
     ]
    },
    {
     "name": "stdout",
     "output_type": "stream",
     "text": [
      "\u001b[32m2024-08-26 00:46:37.576\u001b[0m | \u001b[33m\u001b[1mWARNING \u001b[0m | \u001b[36menfify.preprocessing\u001b[0m:\u001b[36mdownsample_scipy\u001b[0m:\u001b[36m47\u001b[0m - \u001b[33m\u001b[1mThe target sampling rate is not an integer multiple of the current sampling rate. Resampling is used, which does not have an integrated antialiasing filter. Applying a lowpass filter.\u001b[0m\n",
      "\u001b[32m2024-08-26 00:46:37.610\u001b[0m | \u001b[33m\u001b[1mWARNING \u001b[0m | \u001b[36menfify.preprocessing\u001b[0m:\u001b[36mdownsample_scipy\u001b[0m:\u001b[36m47\u001b[0m - \u001b[33m\u001b[1mThe target sampling rate is not an integer multiple of the current sampling rate. Resampling is used, which does not have an integrated antialiasing filter. Applying a lowpass filter.\u001b[0m\n",
      "\u001b[32m2024-08-26 00:46:37.752\u001b[0m | \u001b[33m\u001b[1mWARNING \u001b[0m | \u001b[36menfify.preprocessing\u001b[0m:\u001b[36mdownsample_scipy\u001b[0m:\u001b[36m47\u001b[0m - \u001b[33m\u001b[1mThe target sampling rate is not an integer multiple of the current sampling rate. Resampling is used, which does not have an integrated antialiasing filter. Applying a lowpass filter.\u001b[0m\n"
     ]
    },
    {
     "name": "stderr",
     "output_type": "stream",
     "text": [
      "                                                  \r"
     ]
    },
    {
     "name": "stdout",
     "output_type": "stream",
     "text": [
      "\u001b[32m2024-08-26 00:46:37.811\u001b[0m | \u001b[33m\u001b[1mWARNING \u001b[0m | \u001b[36menfify.preprocessing\u001b[0m:\u001b[36mdownsample_scipy\u001b[0m:\u001b[36m47\u001b[0m - \u001b[33m\u001b[1mThe target sampling rate is not an integer multiple of the current sampling rate. Resampling is used, which does not have an integrated antialiasing filter. Applying a lowpass filter.\u001b[0m\n",
      "\u001b[32m2024-08-26 00:46:38.012\u001b[0m | \u001b[33m\u001b[1mWARNING \u001b[0m | \u001b[36menfify.preprocessing\u001b[0m:\u001b[36mdownsample_scipy\u001b[0m:\u001b[36m47\u001b[0m - \u001b[33m\u001b[1mThe target sampling rate is not an integer multiple of the current sampling rate. Resampling is used, which does not have an integrated antialiasing filter. Applying a lowpass filter.\u001b[0m\n"
     ]
    },
    {
     "name": "stderr",
     "output_type": "stream",
     "text": [
      " 70%|██████▉   | 697/1000 [01:01<00:29, 10.35it/s]"
     ]
    },
    {
     "name": "stdout",
     "output_type": "stream",
     "text": [
      "\u001b[32m2024-08-26 00:46:38.073\u001b[0m | \u001b[33m\u001b[1mWARNING \u001b[0m | \u001b[36menfify.preprocessing\u001b[0m:\u001b[36mdownsample_scipy\u001b[0m:\u001b[36m47\u001b[0m - \u001b[33m\u001b[1mThe target sampling rate is not an integer multiple of the current sampling rate. Resampling is used, which does not have an integrated antialiasing filter. Applying a lowpass filter.\u001b[0m\n",
      "\u001b[32m2024-08-26 00:46:38.147\u001b[0m | \u001b[33m\u001b[1mWARNING \u001b[0m | \u001b[36menfify.preprocessing\u001b[0m:\u001b[36mdownsample_scipy\u001b[0m:\u001b[36m47\u001b[0m - \u001b[33m\u001b[1mThe target sampling rate is not an integer multiple of the current sampling rate. Resampling is used, which does not have an integrated antialiasing filter. Applying a lowpass filter.\u001b[0m\n",
      "\u001b[32m2024-08-26 00:46:38.242\u001b[0m | \u001b[33m\u001b[1mWARNING \u001b[0m | \u001b[36menfify.preprocessing\u001b[0m:\u001b[36mdownsample_scipy\u001b[0m:\u001b[36m47\u001b[0m - \u001b[33m\u001b[1mThe target sampling rate is not an integer multiple of the current sampling rate. Resampling is used, which does not have an integrated antialiasing filter. Applying a lowpass filter.\u001b[0m\n"
     ]
    },
    {
     "name": "stderr",
     "output_type": "stream",
     "text": [
      " 70%|██████▉   | 699/1000 [01:01<00:31,  9.43it/s]"
     ]
    },
    {
     "name": "stdout",
     "output_type": "stream",
     "text": [
      "\u001b[32m2024-08-26 00:46:38.402\u001b[0m | \u001b[33m\u001b[1mWARNING \u001b[0m | \u001b[36menfify.preprocessing\u001b[0m:\u001b[36mdownsample_scipy\u001b[0m:\u001b[36m47\u001b[0m - \u001b[33m\u001b[1mThe target sampling rate is not an integer multiple of the current sampling rate. Resampling is used, which does not have an integrated antialiasing filter. Applying a lowpass filter.\u001b[0m\n",
      "\u001b[32m2024-08-26 00:46:38.489\u001b[0m | \u001b[33m\u001b[1mWARNING \u001b[0m | \u001b[36menfify.preprocessing\u001b[0m:\u001b[36mdownsample_scipy\u001b[0m:\u001b[36m47\u001b[0m - \u001b[33m\u001b[1mThe target sampling rate is not an integer multiple of the current sampling rate. Resampling is used, which does not have an integrated antialiasing filter. Applying a lowpass filter.\u001b[0m\n"
     ]
    },
    {
     "name": "stderr",
     "output_type": "stream",
     "text": [
      " 70%|███████   | 702/1000 [01:02<00:37,  7.87it/s]"
     ]
    },
    {
     "name": "stdout",
     "output_type": "stream",
     "text": [
      "\u001b[32m2024-08-26 00:46:38.671\u001b[0m | \u001b[33m\u001b[1mWARNING \u001b[0m | \u001b[36menfify.preprocessing\u001b[0m:\u001b[36mdownsample_scipy\u001b[0m:\u001b[36m47\u001b[0m - \u001b[33m\u001b[1mThe target sampling rate is not an integer multiple of the current sampling rate. Resampling is used, which does not have an integrated antialiasing filter. Applying a lowpass filter.\u001b[0m\n",
      "\u001b[32m2024-08-26 00:46:38.850\u001b[0m | \u001b[33m\u001b[1mWARNING \u001b[0m | \u001b[36menfify.preprocessing\u001b[0m:\u001b[36mdownsample_scipy\u001b[0m:\u001b[36m47\u001b[0m - \u001b[33m\u001b[1mThe target sampling rate is not an integer multiple of the current sampling rate. Resampling is used, which does not have an integrated antialiasing filter. Applying a lowpass filter.\u001b[0m\n"
     ]
    },
    {
     "name": "stderr",
     "output_type": "stream",
     "text": [
      " 70%|███████   | 703/1000 [01:02<00:37,  7.95it/s]"
     ]
    },
    {
     "name": "stdout",
     "output_type": "stream",
     "text": [
      "\u001b[32m2024-08-26 00:46:38.972\u001b[0m | \u001b[33m\u001b[1mWARNING \u001b[0m | \u001b[36menfify.preprocessing\u001b[0m:\u001b[36mdownsample_scipy\u001b[0m:\u001b[36m47\u001b[0m - \u001b[33m\u001b[1mThe target sampling rate is not an integer multiple of the current sampling rate. Resampling is used, which does not have an integrated antialiasing filter. Applying a lowpass filter.\u001b[0m\n",
      "\u001b[32m2024-08-26 00:46:39.041\u001b[0m | \u001b[33m\u001b[1mWARNING \u001b[0m | \u001b[36menfify.preprocessing\u001b[0m:\u001b[36mdownsample_scipy\u001b[0m:\u001b[36m47\u001b[0m - \u001b[33m\u001b[1mThe target sampling rate is not an integer multiple of the current sampling rate. Resampling is used, which does not have an integrated antialiasing filter. Applying a lowpass filter.\u001b[0m\n"
     ]
    },
    {
     "name": "stderr",
     "output_type": "stream",
     "text": [
      " 71%|███████   | 706/1000 [01:02<00:40,  7.21it/s]"
     ]
    },
    {
     "name": "stdout",
     "output_type": "stream",
     "text": [
      "\u001b[32m2024-08-26 00:46:39.223\u001b[0m | \u001b[33m\u001b[1mWARNING \u001b[0m | \u001b[36menfify.preprocessing\u001b[0m:\u001b[36mdownsample_scipy\u001b[0m:\u001b[36m47\u001b[0m - \u001b[33m\u001b[1mThe target sampling rate is not an integer multiple of the current sampling rate. Resampling is used, which does not have an integrated antialiasing filter. Applying a lowpass filter.\u001b[0m\n",
      "\u001b[32m2024-08-26 00:46:39.407\u001b[0m | \u001b[33m\u001b[1mWARNING \u001b[0m | \u001b[36menfify.preprocessing\u001b[0m:\u001b[36mdownsample_scipy\u001b[0m:\u001b[36m47\u001b[0m - \u001b[33m\u001b[1mThe target sampling rate is not an integer multiple of the current sampling rate. Resampling is used, which does not have an integrated antialiasing filter. Applying a lowpass filter.\u001b[0m\n"
     ]
    },
    {
     "name": "stderr",
     "output_type": "stream",
     "text": [
      " 71%|███████   | 708/1000 [01:03<00:46,  6.26it/s]"
     ]
    },
    {
     "name": "stdout",
     "output_type": "stream",
     "text": [
      "\u001b[32m2024-08-26 00:46:39.613\u001b[0m | \u001b[33m\u001b[1mWARNING \u001b[0m | \u001b[36menfify.preprocessing\u001b[0m:\u001b[36mdownsample_scipy\u001b[0m:\u001b[36m47\u001b[0m - \u001b[33m\u001b[1mThe target sampling rate is not an integer multiple of the current sampling rate. Resampling is used, which does not have an integrated antialiasing filter. Applying a lowpass filter.\u001b[0m\n",
      "\u001b[32m2024-08-26 00:46:39.782\u001b[0m | \u001b[33m\u001b[1mWARNING \u001b[0m | \u001b[36menfify.preprocessing\u001b[0m:\u001b[36mdownsample_scipy\u001b[0m:\u001b[36m47\u001b[0m - \u001b[33m\u001b[1mThe target sampling rate is not an integer multiple of the current sampling rate. Resampling is used, which does not have an integrated antialiasing filter. Applying a lowpass filter.\u001b[0m\n"
     ]
    },
    {
     "name": "stderr",
     "output_type": "stream",
     "text": [
      " 71%|███████   | 712/1000 [01:03<00:30,  9.52it/s]"
     ]
    },
    {
     "name": "stdout",
     "output_type": "stream",
     "text": [
      "\u001b[32m2024-08-26 00:46:39.851\u001b[0m | \u001b[33m\u001b[1mWARNING \u001b[0m | \u001b[36menfify.preprocessing\u001b[0m:\u001b[36mdownsample_scipy\u001b[0m:\u001b[36m47\u001b[0m - \u001b[33m\u001b[1mThe target sampling rate is not an integer multiple of the current sampling rate. Resampling is used, which does not have an integrated antialiasing filter. Applying a lowpass filter.\u001b[0m\n",
      "\u001b[32m2024-08-26 00:46:39.881\u001b[0m | \u001b[33m\u001b[1mWARNING \u001b[0m | \u001b[36menfify.preprocessing\u001b[0m:\u001b[36mdownsample_scipy\u001b[0m:\u001b[36m47\u001b[0m - \u001b[33m\u001b[1mThe target sampling rate is not an integer multiple of the current sampling rate. Resampling is used, which does not have an integrated antialiasing filter. Applying a lowpass filter.\u001b[0m\n",
      "\u001b[32m2024-08-26 00:46:39.969\u001b[0m | \u001b[33m\u001b[1mWARNING \u001b[0m | \u001b[36menfify.preprocessing\u001b[0m:\u001b[36mdownsample_scipy\u001b[0m:\u001b[36m47\u001b[0m - \u001b[33m\u001b[1mThe target sampling rate is not an integer multiple of the current sampling rate. Resampling is used, which does not have an integrated antialiasing filter. Applying a lowpass filter.\u001b[0m\n"
     ]
    },
    {
     "name": "stderr",
     "output_type": "stream",
     "text": [
      " 71%|███████   | 712/1000 [01:03<00:30,  9.52it/s]"
     ]
    },
    {
     "name": "stdout",
     "output_type": "stream",
     "text": [
      "\u001b[32m2024-08-26 00:46:40.066\u001b[0m | \u001b[33m\u001b[1mWARNING \u001b[0m | \u001b[36menfify.preprocessing\u001b[0m:\u001b[36mdownsample_scipy\u001b[0m:\u001b[36m47\u001b[0m - \u001b[33m\u001b[1mThe target sampling rate is not an integer multiple of the current sampling rate. Resampling is used, which does not have an integrated antialiasing filter. Applying a lowpass filter.\u001b[0m\n",
      "\u001b[32m2024-08-26 00:46:40.226\u001b[0m | \u001b[33m\u001b[1mWARNING \u001b[0m | \u001b[36menfify.preprocessing\u001b[0m:\u001b[36mdownsample_scipy\u001b[0m:\u001b[36m47\u001b[0m - \u001b[33m\u001b[1mThe target sampling rate is not an integer multiple of the current sampling rate. Resampling is used, which does not have an integrated antialiasing filter. Applying a lowpass filter.\u001b[0m\n"
     ]
    },
    {
     "name": "stderr",
     "output_type": "stream",
     "text": [
      " 72%|███████▏  | 715/1000 [01:03<00:37,  7.54it/s]"
     ]
    },
    {
     "name": "stdout",
     "output_type": "stream",
     "text": [
      "\u001b[32m2024-08-26 00:46:40.385\u001b[0m | \u001b[33m\u001b[1mWARNING \u001b[0m | \u001b[36menfify.preprocessing\u001b[0m:\u001b[36mdownsample_scipy\u001b[0m:\u001b[36m47\u001b[0m - \u001b[33m\u001b[1mThe target sampling rate is not an integer multiple of the current sampling rate. Resampling is used, which does not have an integrated antialiasing filter. Applying a lowpass filter.\u001b[0m\n",
      "\u001b[32m2024-08-26 00:46:40.566\u001b[0m | \u001b[33m\u001b[1mWARNING \u001b[0m | \u001b[36menfify.preprocessing\u001b[0m:\u001b[36mdownsample_scipy\u001b[0m:\u001b[36m47\u001b[0m - \u001b[33m\u001b[1mThe target sampling rate is not an integer multiple of the current sampling rate. Resampling is used, which does not have an integrated antialiasing filter. Applying a lowpass filter.\u001b[0m\n"
     ]
    },
    {
     "name": "stderr",
     "output_type": "stream",
     "text": [
      " 72%|███████▏  | 717/1000 [01:04<00:37,  7.52it/s]"
     ]
    },
    {
     "name": "stdout",
     "output_type": "stream",
     "text": [
      "\u001b[32m2024-08-26 00:46:40.733\u001b[0m | \u001b[33m\u001b[1mWARNING \u001b[0m | \u001b[36menfify.preprocessing\u001b[0m:\u001b[36mdownsample_scipy\u001b[0m:\u001b[36m47\u001b[0m - \u001b[33m\u001b[1mThe target sampling rate is not an integer multiple of the current sampling rate. Resampling is used, which does not have an integrated antialiasing filter. Applying a lowpass filter.\u001b[0m\n",
      "\u001b[32m2024-08-26 00:46:40.829\u001b[0m | \u001b[33m\u001b[1mWARNING \u001b[0m | \u001b[36menfify.preprocessing\u001b[0m:\u001b[36mdownsample_scipy\u001b[0m:\u001b[36m47\u001b[0m - \u001b[33m\u001b[1mThe target sampling rate is not an integer multiple of the current sampling rate. Resampling is used, which does not have an integrated antialiasing filter. Applying a lowpass filter.\u001b[0m\n",
      "\u001b[32m2024-08-26 00:46:40.896\u001b[0m | \u001b[33m\u001b[1mWARNING \u001b[0m | \u001b[36menfify.preprocessing\u001b[0m:\u001b[36mdownsample_scipy\u001b[0m:\u001b[36m47\u001b[0m - \u001b[33m\u001b[1mThe target sampling rate is not an integer multiple of the current sampling rate. Resampling is used, which does not have an integrated antialiasing filter. Applying a lowpass filter.\u001b[0m\n"
     ]
    },
    {
     "name": "stderr",
     "output_type": "stream",
     "text": [
      " 72%|███████▏  | 719/1000 [01:04<00:33,  8.33it/s]"
     ]
    },
    {
     "name": "stdout",
     "output_type": "stream",
     "text": [
      "\u001b[32m2024-08-26 00:46:41.041\u001b[0m | \u001b[33m\u001b[1mWARNING \u001b[0m | \u001b[36menfify.preprocessing\u001b[0m:\u001b[36mdownsample_scipy\u001b[0m:\u001b[36m47\u001b[0m - \u001b[33m\u001b[1mThe target sampling rate is not an integer multiple of the current sampling rate. Resampling is used, which does not have an integrated antialiasing filter. Applying a lowpass filter.\u001b[0m\n"
     ]
    },
    {
     "name": "stderr",
     "output_type": "stream",
     "text": [
      " 72%|███████▏  | 722/1000 [01:04<00:38,  7.23it/s]"
     ]
    },
    {
     "name": "stdout",
     "output_type": "stream",
     "text": [
      "\u001b[32m2024-08-26 00:46:41.345\u001b[0m | \u001b[33m\u001b[1mWARNING \u001b[0m | \u001b[36menfify.preprocessing\u001b[0m:\u001b[36mdownsample_scipy\u001b[0m:\u001b[36m47\u001b[0m - \u001b[33m\u001b[1mThe target sampling rate is not an integer multiple of the current sampling rate. Resampling is used, which does not have an integrated antialiasing filter. Applying a lowpass filter.\u001b[0m\n",
      "\u001b[32m2024-08-26 00:46:41.384\u001b[0m | \u001b[33m\u001b[1mWARNING \u001b[0m | \u001b[36menfify.preprocessing\u001b[0m:\u001b[36mdownsample_scipy\u001b[0m:\u001b[36m47\u001b[0m - \u001b[33m\u001b[1mThe target sampling rate is not an integer multiple of the current sampling rate. Resampling is used, which does not have an integrated antialiasing filter. Applying a lowpass filter.\u001b[0m\n",
      "\u001b[32m2024-08-26 00:46:41.543\u001b[0m | \u001b[33m\u001b[1mWARNING \u001b[0m | \u001b[36menfify.preprocessing\u001b[0m:\u001b[36mdownsample_scipy\u001b[0m:\u001b[36m47\u001b[0m - \u001b[33m\u001b[1mThe target sampling rate is not an integer multiple of the current sampling rate. Resampling is used, which does not have an integrated antialiasing filter. Applying a lowpass filter.\u001b[0m\n"
     ]
    },
    {
     "name": "stderr",
     "output_type": "stream",
     "text": [
      "                                                  \r"
     ]
    },
    {
     "name": "stdout",
     "output_type": "stream",
     "text": [
      "\u001b[32m2024-08-26 00:46:41.730\u001b[0m | \u001b[33m\u001b[1mWARNING \u001b[0m | \u001b[36menfify.preprocessing\u001b[0m:\u001b[36mdownsample_scipy\u001b[0m:\u001b[36m47\u001b[0m - \u001b[33m\u001b[1mThe target sampling rate is not an integer multiple of the current sampling rate. Resampling is used, which does not have an integrated antialiasing filter. Applying a lowpass filter.\u001b[0m\n",
      "\u001b[32m2024-08-26 00:46:41.933\u001b[0m | \u001b[33m\u001b[1mWARNING \u001b[0m | \u001b[36menfify.preprocessing\u001b[0m:\u001b[36mdownsample_scipy\u001b[0m:\u001b[36m47\u001b[0m - \u001b[33m\u001b[1mThe target sampling rate is not an integer multiple of the current sampling rate. Resampling is used, which does not have an integrated antialiasing filter. Applying a lowpass filter.\u001b[0m\n"
     ]
    },
    {
     "name": "stderr",
     "output_type": "stream",
     "text": [
      " 73%|███████▎  | 726/1000 [01:05<00:48,  5.69it/s]"
     ]
    },
    {
     "name": "stdout",
     "output_type": "stream",
     "text": [
      "\u001b[32m2024-08-26 00:46:42.152\u001b[0m | \u001b[33m\u001b[1mWARNING \u001b[0m | \u001b[36menfify.preprocessing\u001b[0m:\u001b[36mdownsample_scipy\u001b[0m:\u001b[36m47\u001b[0m - \u001b[33m\u001b[1mThe target sampling rate is not an integer multiple of the current sampling rate. Resampling is used, which does not have an integrated antialiasing filter. Applying a lowpass filter.\u001b[0m\n",
      "\u001b[32m2024-08-26 00:46:42.324\u001b[0m | \u001b[33m\u001b[1mWARNING \u001b[0m | \u001b[36menfify.preprocessing\u001b[0m:\u001b[36mdownsample_scipy\u001b[0m:\u001b[36m47\u001b[0m - \u001b[33m\u001b[1mThe target sampling rate is not an integer multiple of the current sampling rate. Resampling is used, which does not have an integrated antialiasing filter. Applying a lowpass filter.\u001b[0m\n"
     ]
    },
    {
     "name": "stderr",
     "output_type": "stream",
     "text": [
      " 73%|███████▎  | 728/1000 [01:05<00:35,  7.62it/s]"
     ]
    },
    {
     "name": "stdout",
     "output_type": "stream",
     "text": [
      "\u001b[32m2024-08-26 00:46:42.390\u001b[0m | \u001b[33m\u001b[1mWARNING \u001b[0m | \u001b[36menfify.preprocessing\u001b[0m:\u001b[36mdownsample_scipy\u001b[0m:\u001b[36m47\u001b[0m - \u001b[33m\u001b[1mThe target sampling rate is not an integer multiple of the current sampling rate. Resampling is used, which does not have an integrated antialiasing filter. Applying a lowpass filter.\u001b[0m\n",
      "\u001b[32m2024-08-26 00:46:42.460\u001b[0m | \u001b[33m\u001b[1mWARNING \u001b[0m | \u001b[36menfify.preprocessing\u001b[0m:\u001b[36mdownsample_scipy\u001b[0m:\u001b[36m47\u001b[0m - \u001b[33m\u001b[1mThe target sampling rate is not an integer multiple of the current sampling rate. Resampling is used, which does not have an integrated antialiasing filter. Applying a lowpass filter.\u001b[0m\n"
     ]
    },
    {
     "name": "stderr",
     "output_type": "stream",
     "text": [
      " 73%|███████▎  | 730/1000 [01:06<00:38,  7.07it/s]"
     ]
    },
    {
     "name": "stdout",
     "output_type": "stream",
     "text": [
      "\u001b[32m2024-08-26 00:46:42.645\u001b[0m | \u001b[33m\u001b[1mWARNING \u001b[0m | \u001b[36menfify.preprocessing\u001b[0m:\u001b[36mdownsample_scipy\u001b[0m:\u001b[36m47\u001b[0m - \u001b[33m\u001b[1mThe target sampling rate is not an integer multiple of the current sampling rate. Resampling is used, which does not have an integrated antialiasing filter. Applying a lowpass filter.\u001b[0m\n",
      "\u001b[32m2024-08-26 00:46:42.790\u001b[0m | \u001b[33m\u001b[1mWARNING \u001b[0m | \u001b[36menfify.preprocessing\u001b[0m:\u001b[36mdownsample_scipy\u001b[0m:\u001b[36m47\u001b[0m - \u001b[33m\u001b[1mThe target sampling rate is not an integer multiple of the current sampling rate. Resampling is used, which does not have an integrated antialiasing filter. Applying a lowpass filter.\u001b[0m\n"
     ]
    },
    {
     "name": "stderr",
     "output_type": "stream",
     "text": [
      " 73%|███████▎  | 733/1000 [01:06<00:36,  7.27it/s]"
     ]
    },
    {
     "name": "stdout",
     "output_type": "stream",
     "text": [
      "\u001b[32m2024-08-26 00:46:43.003\u001b[0m | \u001b[33m\u001b[1mWARNING \u001b[0m | \u001b[36menfify.preprocessing\u001b[0m:\u001b[36mdownsample_scipy\u001b[0m:\u001b[36m47\u001b[0m - \u001b[33m\u001b[1mThe target sampling rate is not an integer multiple of the current sampling rate. Resampling is used, which does not have an integrated antialiasing filter. Applying a lowpass filter.\u001b[0m\n",
      "\u001b[32m2024-08-26 00:46:43.089\u001b[0m | \u001b[33m\u001b[1mWARNING \u001b[0m | \u001b[36menfify.preprocessing\u001b[0m:\u001b[36mdownsample_scipy\u001b[0m:\u001b[36m47\u001b[0m - \u001b[33m\u001b[1mThe target sampling rate is not an integer multiple of the current sampling rate. Resampling is used, which does not have an integrated antialiasing filter. Applying a lowpass filter.\u001b[0m\n"
     ]
    },
    {
     "name": "stderr",
     "output_type": "stream",
     "text": [
      " 73%|███████▎  | 734/1000 [01:06<00:41,  6.35it/s]"
     ]
    },
    {
     "name": "stdout",
     "output_type": "stream",
     "text": [
      "\u001b[32m2024-08-26 00:46:43.217\u001b[0m | \u001b[33m\u001b[1mWARNING \u001b[0m | \u001b[36menfify.preprocessing\u001b[0m:\u001b[36mdownsample_scipy\u001b[0m:\u001b[36m47\u001b[0m - \u001b[33m\u001b[1mThe target sampling rate is not an integer multiple of the current sampling rate. Resampling is used, which does not have an integrated antialiasing filter. Applying a lowpass filter.\u001b[0m\n"
     ]
    },
    {
     "name": "stderr",
     "output_type": "stream",
     "text": [
      " 74%|███████▎  | 735/1000 [01:07<00:42,  6.27it/s]"
     ]
    },
    {
     "name": "stdout",
     "output_type": "stream",
     "text": [
      "\u001b[32m2024-08-26 00:46:43.437\u001b[0m | \u001b[33m\u001b[1mWARNING \u001b[0m | \u001b[36menfify.preprocessing\u001b[0m:\u001b[36mdownsample_scipy\u001b[0m:\u001b[36m47\u001b[0m - \u001b[33m\u001b[1mThe target sampling rate is not an integer multiple of the current sampling rate. Resampling is used, which does not have an integrated antialiasing filter. Applying a lowpass filter.\u001b[0m\n",
      "\u001b[32m2024-08-26 00:46:43.609\u001b[0m | \u001b[33m\u001b[1mWARNING \u001b[0m | \u001b[36menfify.preprocessing\u001b[0m:\u001b[36mdownsample_scipy\u001b[0m:\u001b[36m47\u001b[0m - \u001b[33m\u001b[1mThe target sampling rate is not an integer multiple of the current sampling rate. Resampling is used, which does not have an integrated antialiasing filter. Applying a lowpass filter.\u001b[0m\n"
     ]
    },
    {
     "name": "stderr",
     "output_type": "stream",
     "text": [
      " 74%|███████▎  | 737/1000 [01:07<00:42,  6.20it/s]"
     ]
    },
    {
     "name": "stdout",
     "output_type": "stream",
     "text": [
      "\u001b[32m2024-08-26 00:46:43.778\u001b[0m | \u001b[33m\u001b[1mWARNING \u001b[0m | \u001b[36menfify.preprocessing\u001b[0m:\u001b[36mdownsample_scipy\u001b[0m:\u001b[36m47\u001b[0m - \u001b[33m\u001b[1mThe target sampling rate is not an integer multiple of the current sampling rate. Resampling is used, which does not have an integrated antialiasing filter. Applying a lowpass filter.\u001b[0m\n",
      "\u001b[32m2024-08-26 00:46:43.934\u001b[0m | \u001b[33m\u001b[1mWARNING \u001b[0m | \u001b[36menfify.preprocessing\u001b[0m:\u001b[36mdownsample_scipy\u001b[0m:\u001b[36m47\u001b[0m - \u001b[33m\u001b[1mThe target sampling rate is not an integer multiple of the current sampling rate. Resampling is used, which does not have an integrated antialiasing filter. Applying a lowpass filter.\u001b[0m\n"
     ]
    },
    {
     "name": "stderr",
     "output_type": "stream",
     "text": [
      " 74%|███████▍  | 739/1000 [01:07<00:41,  6.33it/s]"
     ]
    },
    {
     "name": "stdout",
     "output_type": "stream",
     "text": [
      "\u001b[32m2024-08-26 00:46:44.089\u001b[0m | \u001b[33m\u001b[1mWARNING \u001b[0m | \u001b[36menfify.preprocessing\u001b[0m:\u001b[36mdownsample_scipy\u001b[0m:\u001b[36m47\u001b[0m - \u001b[33m\u001b[1mThe target sampling rate is not an integer multiple of the current sampling rate. Resampling is used, which does not have an integrated antialiasing filter. Applying a lowpass filter.\u001b[0m\n",
      "\u001b[32m2024-08-26 00:46:44.240\u001b[0m | \u001b[33m\u001b[1mWARNING \u001b[0m | \u001b[36menfify.preprocessing\u001b[0m:\u001b[36mdownsample_scipy\u001b[0m:\u001b[36m47\u001b[0m - \u001b[33m\u001b[1mThe target sampling rate is not an integer multiple of the current sampling rate. Resampling is used, which does not have an integrated antialiasing filter. Applying a lowpass filter.\u001b[0m\n"
     ]
    },
    {
     "name": "stderr",
     "output_type": "stream",
     "text": [
      " 74%|███████▍  | 741/1000 [01:08<00:43,  5.90it/s]"
     ]
    },
    {
     "name": "stdout",
     "output_type": "stream",
     "text": [
      "\u001b[32m2024-08-26 00:46:44.413\u001b[0m | \u001b[33m\u001b[1mWARNING \u001b[0m | \u001b[36menfify.preprocessing\u001b[0m:\u001b[36mdownsample_scipy\u001b[0m:\u001b[36m47\u001b[0m - \u001b[33m\u001b[1mThe target sampling rate is not an integer multiple of the current sampling rate. Resampling is used, which does not have an integrated antialiasing filter. Applying a lowpass filter.\u001b[0m\n",
      "\u001b[32m2024-08-26 00:46:44.606\u001b[0m | \u001b[33m\u001b[1mWARNING \u001b[0m | \u001b[36menfify.preprocessing\u001b[0m:\u001b[36mdownsample_scipy\u001b[0m:\u001b[36m47\u001b[0m - \u001b[33m\u001b[1mThe target sampling rate is not an integer multiple of the current sampling rate. Resampling is used, which does not have an integrated antialiasing filter. Applying a lowpass filter.\u001b[0m\n"
     ]
    },
    {
     "name": "stderr",
     "output_type": "stream",
     "text": [
      " 74%|███████▍  | 743/1000 [01:08<00:45,  5.68it/s]"
     ]
    },
    {
     "name": "stdout",
     "output_type": "stream",
     "text": [
      "\u001b[32m2024-08-26 00:46:44.803\u001b[0m | \u001b[33m\u001b[1mWARNING \u001b[0m | \u001b[36menfify.preprocessing\u001b[0m:\u001b[36mdownsample_scipy\u001b[0m:\u001b[36m47\u001b[0m - \u001b[33m\u001b[1mThe target sampling rate is not an integer multiple of the current sampling rate. Resampling is used, which does not have an integrated antialiasing filter. Applying a lowpass filter.\u001b[0m\n",
      "\u001b[32m2024-08-26 00:46:44.976\u001b[0m | \u001b[33m\u001b[1mWARNING \u001b[0m | \u001b[36menfify.preprocessing\u001b[0m:\u001b[36mdownsample_scipy\u001b[0m:\u001b[36m47\u001b[0m - \u001b[33m\u001b[1mThe target sampling rate is not an integer multiple of the current sampling rate. Resampling is used, which does not have an integrated antialiasing filter. Applying a lowpass filter.\u001b[0m\n"
     ]
    },
    {
     "name": "stderr",
     "output_type": "stream",
     "text": [
      " 74%|███████▍  | 745/1000 [01:08<00:41,  6.16it/s]"
     ]
    },
    {
     "name": "stdout",
     "output_type": "stream",
     "text": [
      "\u001b[32m2024-08-26 00:46:45.068\u001b[0m | \u001b[33m\u001b[1mWARNING \u001b[0m | \u001b[36menfify.preprocessing\u001b[0m:\u001b[36mdownsample_scipy\u001b[0m:\u001b[36m47\u001b[0m - \u001b[33m\u001b[1mThe target sampling rate is not an integer multiple of the current sampling rate. Resampling is used, which does not have an integrated antialiasing filter. Applying a lowpass filter.\u001b[0m\n",
      "\u001b[32m2024-08-26 00:46:45.260\u001b[0m | \u001b[33m\u001b[1mWARNING \u001b[0m | \u001b[36menfify.preprocessing\u001b[0m:\u001b[36mdownsample_scipy\u001b[0m:\u001b[36m47\u001b[0m - \u001b[33m\u001b[1mThe target sampling rate is not an integer multiple of the current sampling rate. Resampling is used, which does not have an integrated antialiasing filter. Applying a lowpass filter.\u001b[0m\n"
     ]
    },
    {
     "name": "stderr",
     "output_type": "stream",
     "text": [
      " 75%|███████▍  | 746/1000 [01:09<00:48,  5.25it/s]"
     ]
    },
    {
     "name": "stdout",
     "output_type": "stream",
     "text": [
      "\u001b[32m2024-08-26 00:46:45.517\u001b[0m | \u001b[33m\u001b[1mWARNING \u001b[0m | \u001b[36menfify.preprocessing\u001b[0m:\u001b[36mdownsample_scipy\u001b[0m:\u001b[36m47\u001b[0m - \u001b[33m\u001b[1mThe target sampling rate is not an integer multiple of the current sampling rate. Resampling is used, which does not have an integrated antialiasing filter. Applying a lowpass filter.\u001b[0m\n",
      "\u001b[32m2024-08-26 00:46:45.599\u001b[0m | \u001b[33m\u001b[1mWARNING \u001b[0m | \u001b[36menfify.preprocessing\u001b[0m:\u001b[36mdownsample_scipy\u001b[0m:\u001b[36m47\u001b[0m - \u001b[33m\u001b[1mThe target sampling rate is not an integer multiple of the current sampling rate. Resampling is used, which does not have an integrated antialiasing filter. Applying a lowpass filter.\u001b[0m\n"
     ]
    },
    {
     "name": "stderr",
     "output_type": "stream",
     "text": [
      " 75%|███████▍  | 749/1000 [01:09<00:39,  6.42it/s]"
     ]
    },
    {
     "name": "stdout",
     "output_type": "stream",
     "text": [
      "\u001b[32m2024-08-26 00:46:45.772\u001b[0m | \u001b[33m\u001b[1mWARNING \u001b[0m | \u001b[36menfify.preprocessing\u001b[0m:\u001b[36mdownsample_scipy\u001b[0m:\u001b[36m47\u001b[0m - \u001b[33m\u001b[1mThe target sampling rate is not an integer multiple of the current sampling rate. Resampling is used, which does not have an integrated antialiasing filter. Applying a lowpass filter.\u001b[0m\n",
      "\u001b[32m2024-08-26 00:46:45.904\u001b[0m | \u001b[33m\u001b[1mWARNING \u001b[0m | \u001b[36menfify.preprocessing\u001b[0m:\u001b[36mdownsample_scipy\u001b[0m:\u001b[36m47\u001b[0m - \u001b[33m\u001b[1mThe target sampling rate is not an integer multiple of the current sampling rate. Resampling is used, which does not have an integrated antialiasing filter. Applying a lowpass filter.\u001b[0m\n"
     ]
    },
    {
     "name": "stderr",
     "output_type": "stream",
     "text": [
      " 75%|███████▌  | 750/1000 [01:09<00:38,  6.44it/s]"
     ]
    },
    {
     "name": "stdout",
     "output_type": "stream",
     "text": [
      "\u001b[32m2024-08-26 00:46:46.054\u001b[0m | \u001b[33m\u001b[1mWARNING \u001b[0m | \u001b[36menfify.preprocessing\u001b[0m:\u001b[36mdownsample_scipy\u001b[0m:\u001b[36m47\u001b[0m - \u001b[33m\u001b[1mThe target sampling rate is not an integer multiple of the current sampling rate. Resampling is used, which does not have an integrated antialiasing filter. Applying a lowpass filter.\u001b[0m\n",
      "\u001b[32m2024-08-26 00:46:46.200\u001b[0m | \u001b[33m\u001b[1mWARNING \u001b[0m | \u001b[36menfify.preprocessing\u001b[0m:\u001b[36mdownsample_scipy\u001b[0m:\u001b[36m47\u001b[0m - \u001b[33m\u001b[1mThe target sampling rate is not an integer multiple of the current sampling rate. Resampling is used, which does not have an integrated antialiasing filter. Applying a lowpass filter.\u001b[0m\n"
     ]
    },
    {
     "name": "stderr",
     "output_type": "stream",
     "text": [
      " 75%|███████▌  | 753/1000 [01:09<00:40,  6.09it/s]"
     ]
    },
    {
     "name": "stdout",
     "output_type": "stream",
     "text": [
      "\u001b[32m2024-08-26 00:46:46.395\u001b[0m | \u001b[33m\u001b[1mWARNING \u001b[0m | \u001b[36menfify.preprocessing\u001b[0m:\u001b[36mdownsample_scipy\u001b[0m:\u001b[36m47\u001b[0m - \u001b[33m\u001b[1mThe target sampling rate is not an integer multiple of the current sampling rate. Resampling is used, which does not have an integrated antialiasing filter. Applying a lowpass filter.\u001b[0m\n",
      "\u001b[32m2024-08-26 00:46:46.571\u001b[0m | \u001b[33m\u001b[1mWARNING \u001b[0m | \u001b[36menfify.preprocessing\u001b[0m:\u001b[36mdownsample_scipy\u001b[0m:\u001b[36m47\u001b[0m - \u001b[33m\u001b[1mThe target sampling rate is not an integer multiple of the current sampling rate. Resampling is used, which does not have an integrated antialiasing filter. Applying a lowpass filter.\u001b[0m\n"
     ]
    },
    {
     "name": "stderr",
     "output_type": "stream",
     "text": [
      "                                                  \r"
     ]
    },
    {
     "name": "stdout",
     "output_type": "stream",
     "text": [
      "\u001b[32m2024-08-26 00:46:46.786\u001b[0m | \u001b[33m\u001b[1mWARNING \u001b[0m | \u001b[36menfify.preprocessing\u001b[0m:\u001b[36mdownsample_scipy\u001b[0m:\u001b[36m47\u001b[0m - \u001b[33m\u001b[1mThe target sampling rate is not an integer multiple of the current sampling rate. Resampling is used, which does not have an integrated antialiasing filter. Applying a lowpass filter.\u001b[0m\n",
      "\u001b[32m2024-08-26 00:46:46.840\u001b[0m | \u001b[33m\u001b[1mWARNING \u001b[0m | \u001b[36menfify.preprocessing\u001b[0m:\u001b[36mdownsample_scipy\u001b[0m:\u001b[36m47\u001b[0m - \u001b[33m\u001b[1mThe target sampling rate is not an integer multiple of the current sampling rate. Resampling is used, which does not have an integrated antialiasing filter. Applying a lowpass filter.\u001b[0m\n",
      "\u001b[32m2024-08-26 00:46:46.988\u001b[0m | \u001b[33m\u001b[1mWARNING \u001b[0m | \u001b[36menfify.preprocessing\u001b[0m:\u001b[36mdownsample_scipy\u001b[0m:\u001b[36m47\u001b[0m - \u001b[33m\u001b[1mThe target sampling rate is not an integer multiple of the current sampling rate. Resampling is used, which does not have an integrated antialiasing filter. Applying a lowpass filter.\u001b[0m\n"
     ]
    },
    {
     "name": "stderr",
     "output_type": "stream",
     "text": [
      " 76%|███████▌  | 757/1000 [01:10<00:37,  6.46it/s]"
     ]
    },
    {
     "name": "stdout",
     "output_type": "stream",
     "text": [
      "\u001b[32m2024-08-26 00:46:47.172\u001b[0m | \u001b[33m\u001b[1mWARNING \u001b[0m | \u001b[36menfify.preprocessing\u001b[0m:\u001b[36mdownsample_scipy\u001b[0m:\u001b[36m47\u001b[0m - \u001b[33m\u001b[1mThe target sampling rate is not an integer multiple of the current sampling rate. Resampling is used, which does not have an integrated antialiasing filter. Applying a lowpass filter.\u001b[0m\n",
      "\u001b[32m2024-08-26 00:46:47.254\u001b[0m | \u001b[33m\u001b[1mWARNING \u001b[0m | \u001b[36menfify.preprocessing\u001b[0m:\u001b[36mdownsample_scipy\u001b[0m:\u001b[36m47\u001b[0m - \u001b[33m\u001b[1mThe target sampling rate is not an integer multiple of the current sampling rate. Resampling is used, which does not have an integrated antialiasing filter. Applying a lowpass filter.\u001b[0m\n"
     ]
    },
    {
     "name": "stderr",
     "output_type": "stream",
     "text": [
      " 76%|███████▌  | 760/1000 [01:10<00:34,  6.99it/s]"
     ]
    },
    {
     "name": "stdout",
     "output_type": "stream",
     "text": [
      "\u001b[32m2024-08-26 00:46:47.396\u001b[0m | \u001b[33m\u001b[1mWARNING \u001b[0m | \u001b[36menfify.preprocessing\u001b[0m:\u001b[36mdownsample_scipy\u001b[0m:\u001b[36m47\u001b[0m - \u001b[33m\u001b[1mThe target sampling rate is not an integer multiple of the current sampling rate. Resampling is used, which does not have an integrated antialiasing filter. Applying a lowpass filter.\u001b[0m\n",
      "\u001b[32m2024-08-26 00:46:47.556\u001b[0m | \u001b[33m\u001b[1mWARNING \u001b[0m | \u001b[36menfify.preprocessing\u001b[0m:\u001b[36mdownsample_scipy\u001b[0m:\u001b[36m47\u001b[0m - \u001b[33m\u001b[1mThe target sampling rate is not an integer multiple of the current sampling rate. Resampling is used, which does not have an integrated antialiasing filter. Applying a lowpass filter.\u001b[0m\n"
     ]
    },
    {
     "name": "stderr",
     "output_type": "stream",
     "text": [
      " 76%|███████▋  | 763/1000 [01:11<00:29,  7.91it/s]"
     ]
    },
    {
     "name": "stdout",
     "output_type": "stream",
     "text": [
      "\u001b[32m2024-08-26 00:46:47.691\u001b[0m | \u001b[33m\u001b[1mWARNING \u001b[0m | \u001b[36menfify.preprocessing\u001b[0m:\u001b[36mdownsample_scipy\u001b[0m:\u001b[36m47\u001b[0m - \u001b[33m\u001b[1mThe target sampling rate is not an integer multiple of the current sampling rate. Resampling is used, which does not have an integrated antialiasing filter. Applying a lowpass filter.\u001b[0m\n",
      "\u001b[32m2024-08-26 00:46:47.761\u001b[0m | \u001b[33m\u001b[1mWARNING \u001b[0m | \u001b[36menfify.preprocessing\u001b[0m:\u001b[36mdownsample_scipy\u001b[0m:\u001b[36m47\u001b[0m - \u001b[33m\u001b[1mThe target sampling rate is not an integer multiple of the current sampling rate. Resampling is used, which does not have an integrated antialiasing filter. Applying a lowpass filter.\u001b[0m\n"
     ]
    },
    {
     "name": "stderr",
     "output_type": "stream",
     "text": [
      " 76%|███████▋  | 763/1000 [01:11<00:29,  7.91it/s]"
     ]
    },
    {
     "name": "stdout",
     "output_type": "stream",
     "text": [
      "\u001b[32m2024-08-26 00:46:47.902\u001b[0m | \u001b[33m\u001b[1mWARNING \u001b[0m | \u001b[36menfify.preprocessing\u001b[0m:\u001b[36mdownsample_scipy\u001b[0m:\u001b[36m47\u001b[0m - \u001b[33m\u001b[1mThe target sampling rate is not an integer multiple of the current sampling rate. Resampling is used, which does not have an integrated antialiasing filter. Applying a lowpass filter.\u001b[0m\n",
      "\u001b[32m2024-08-26 00:46:47.976\u001b[0m | \u001b[33m\u001b[1mWARNING \u001b[0m | \u001b[36menfify.preprocessing\u001b[0m:\u001b[36mdownsample_scipy\u001b[0m:\u001b[36m47\u001b[0m - \u001b[33m\u001b[1mThe target sampling rate is not an integer multiple of the current sampling rate. Resampling is used, which does not have an integrated antialiasing filter. Applying a lowpass filter.\u001b[0m\n"
     ]
    },
    {
     "name": "stderr",
     "output_type": "stream",
     "text": [
      " 77%|███████▋  | 767/1000 [01:11<00:27,  8.59it/s]"
     ]
    },
    {
     "name": "stdout",
     "output_type": "stream",
     "text": [
      "\u001b[32m2024-08-26 00:46:48.138\u001b[0m | \u001b[33m\u001b[1mWARNING \u001b[0m | \u001b[36menfify.preprocessing\u001b[0m:\u001b[36mdownsample_scipy\u001b[0m:\u001b[36m47\u001b[0m - \u001b[33m\u001b[1mThe target sampling rate is not an integer multiple of the current sampling rate. Resampling is used, which does not have an integrated antialiasing filter. Applying a lowpass filter.\u001b[0m\n",
      "\u001b[32m2024-08-26 00:46:48.178\u001b[0m | \u001b[33m\u001b[1mWARNING \u001b[0m | \u001b[36menfify.preprocessing\u001b[0m:\u001b[36mdownsample_scipy\u001b[0m:\u001b[36m47\u001b[0m - \u001b[33m\u001b[1mThe target sampling rate is not an integer multiple of the current sampling rate. Resampling is used, which does not have an integrated antialiasing filter. Applying a lowpass filter.\u001b[0m\n"
     ]
    },
    {
     "name": "stderr",
     "output_type": "stream",
     "text": [
      " 77%|███████▋  | 768/1000 [01:11<00:29,  7.93it/s]"
     ]
    },
    {
     "name": "stdout",
     "output_type": "stream",
     "text": [
      "\u001b[32m2024-08-26 00:46:48.351\u001b[0m | \u001b[33m\u001b[1mWARNING \u001b[0m | \u001b[36menfify.preprocessing\u001b[0m:\u001b[36mdownsample_scipy\u001b[0m:\u001b[36m47\u001b[0m - \u001b[33m\u001b[1mThe target sampling rate is not an integer multiple of the current sampling rate. Resampling is used, which does not have an integrated antialiasing filter. Applying a lowpass filter.\u001b[0m\n",
      "\u001b[32m2024-08-26 00:46:48.511\u001b[0m | \u001b[33m\u001b[1mWARNING \u001b[0m | \u001b[36menfify.preprocessing\u001b[0m:\u001b[36mdownsample_scipy\u001b[0m:\u001b[36m47\u001b[0m - \u001b[33m\u001b[1mThe target sampling rate is not an integer multiple of the current sampling rate. Resampling is used, which does not have an integrated antialiasing filter. Applying a lowpass filter.\u001b[0m\n"
     ]
    },
    {
     "name": "stderr",
     "output_type": "stream",
     "text": [
      " 77%|███████▋  | 771/1000 [01:12<00:28,  8.02it/s]"
     ]
    },
    {
     "name": "stdout",
     "output_type": "stream",
     "text": [
      "\u001b[32m2024-08-26 00:46:48.733\u001b[0m | \u001b[33m\u001b[1mWARNING \u001b[0m | \u001b[36menfify.preprocessing\u001b[0m:\u001b[36mdownsample_scipy\u001b[0m:\u001b[36m47\u001b[0m - \u001b[33m\u001b[1mThe target sampling rate is not an integer multiple of the current sampling rate. Resampling is used, which does not have an integrated antialiasing filter. Applying a lowpass filter.\u001b[0m\n",
      "\u001b[32m2024-08-26 00:46:48.773\u001b[0m | \u001b[33m\u001b[1mWARNING \u001b[0m | \u001b[36menfify.preprocessing\u001b[0m:\u001b[36mdownsample_scipy\u001b[0m:\u001b[36m47\u001b[0m - \u001b[33m\u001b[1mThe target sampling rate is not an integer multiple of the current sampling rate. Resampling is used, which does not have an integrated antialiasing filter. Applying a lowpass filter.\u001b[0m\n",
      "\u001b[32m2024-08-26 00:46:48.906\u001b[0m | \u001b[33m\u001b[1mWARNING \u001b[0m | \u001b[36menfify.preprocessing\u001b[0m:\u001b[36mdownsample_scipy\u001b[0m:\u001b[36m47\u001b[0m - \u001b[33m\u001b[1mThe target sampling rate is not an integer multiple of the current sampling rate. Resampling is used, which does not have an integrated antialiasing filter. Applying a lowpass filter.\u001b[0m\n"
     ]
    },
    {
     "name": "stderr",
     "output_type": "stream",
     "text": [
      " 77%|███████▋  | 774/1000 [01:12<00:25,  8.93it/s]"
     ]
    },
    {
     "name": "stdout",
     "output_type": "stream",
     "text": [
      "\u001b[32m2024-08-26 00:46:49.046\u001b[0m | \u001b[33m\u001b[1mWARNING \u001b[0m | \u001b[36menfify.preprocessing\u001b[0m:\u001b[36mdownsample_scipy\u001b[0m:\u001b[36m47\u001b[0m - \u001b[33m\u001b[1mThe target sampling rate is not an integer multiple of the current sampling rate. Resampling is used, which does not have an integrated antialiasing filter. Applying a lowpass filter.\u001b[0m\n",
      "\u001b[32m2024-08-26 00:46:49.140\u001b[0m | \u001b[33m\u001b[1mWARNING \u001b[0m | \u001b[36menfify.preprocessing\u001b[0m:\u001b[36mdownsample_scipy\u001b[0m:\u001b[36m47\u001b[0m - \u001b[33m\u001b[1mThe target sampling rate is not an integer multiple of the current sampling rate. Resampling is used, which does not have an integrated antialiasing filter. Applying a lowpass filter.\u001b[0m\n",
      "\u001b[32m2024-08-26 00:46:49.221\u001b[0m | \u001b[33m\u001b[1mWARNING \u001b[0m | \u001b[36menfify.preprocessing\u001b[0m:\u001b[36mdownsample_scipy\u001b[0m:\u001b[36m47\u001b[0m - \u001b[33m\u001b[1mThe target sampling rate is not an integer multiple of the current sampling rate. Resampling is used, which does not have an integrated antialiasing filter. Applying a lowpass filter.\u001b[0m\n"
     ]
    },
    {
     "name": "stderr",
     "output_type": "stream",
     "text": [
      " 78%|███████▊  | 776/1000 [01:12<00:25,  8.77it/s]"
     ]
    },
    {
     "name": "stdout",
     "output_type": "stream",
     "text": [
      "\u001b[32m2024-08-26 00:46:49.302\u001b[0m | \u001b[33m\u001b[1mWARNING \u001b[0m | \u001b[36menfify.preprocessing\u001b[0m:\u001b[36mdownsample_scipy\u001b[0m:\u001b[36m47\u001b[0m - \u001b[33m\u001b[1mThe target sampling rate is not an integer multiple of the current sampling rate. Resampling is used, which does not have an integrated antialiasing filter. Applying a lowpass filter.\u001b[0m\n",
      "\u001b[32m2024-08-26 00:46:49.452\u001b[0m | \u001b[33m\u001b[1mWARNING \u001b[0m | \u001b[36menfify.preprocessing\u001b[0m:\u001b[36mdownsample_scipy\u001b[0m:\u001b[36m47\u001b[0m - \u001b[33m\u001b[1mThe target sampling rate is not an integer multiple of the current sampling rate. Resampling is used, which does not have an integrated antialiasing filter. Applying a lowpass filter.\u001b[0m\n"
     ]
    },
    {
     "name": "stderr",
     "output_type": "stream",
     "text": [
      " 78%|███████▊  | 778/1000 [01:13<00:25,  8.59it/s]"
     ]
    },
    {
     "name": "stdout",
     "output_type": "stream",
     "text": [
      "\u001b[32m2024-08-26 00:46:49.583\u001b[0m | \u001b[33m\u001b[1mWARNING \u001b[0m | \u001b[36menfify.preprocessing\u001b[0m:\u001b[36mdownsample_scipy\u001b[0m:\u001b[36m47\u001b[0m - \u001b[33m\u001b[1mThe target sampling rate is not an integer multiple of the current sampling rate. Resampling is used, which does not have an integrated antialiasing filter. Applying a lowpass filter.\u001b[0m\n",
      "\u001b[32m2024-08-26 00:46:49.695\u001b[0m | \u001b[33m\u001b[1mWARNING \u001b[0m | \u001b[36menfify.preprocessing\u001b[0m:\u001b[36mdownsample_scipy\u001b[0m:\u001b[36m47\u001b[0m - \u001b[33m\u001b[1mThe target sampling rate is not an integer multiple of the current sampling rate. Resampling is used, which does not have an integrated antialiasing filter. Applying a lowpass filter.\u001b[0m\n"
     ]
    },
    {
     "name": "stderr",
     "output_type": "stream",
     "text": [
      " 78%|███████▊  | 780/1000 [01:13<00:32,  6.73it/s]"
     ]
    },
    {
     "name": "stdout",
     "output_type": "stream",
     "text": [
      "\u001b[32m2024-08-26 00:46:49.892\u001b[0m | \u001b[33m\u001b[1mWARNING \u001b[0m | \u001b[36menfify.preprocessing\u001b[0m:\u001b[36mdownsample_scipy\u001b[0m:\u001b[36m47\u001b[0m - \u001b[33m\u001b[1mThe target sampling rate is not an integer multiple of the current sampling rate. Resampling is used, which does not have an integrated antialiasing filter. Applying a lowpass filter.\u001b[0m\n",
      "\u001b[32m2024-08-26 00:46:50.077\u001b[0m | \u001b[33m\u001b[1mWARNING \u001b[0m | \u001b[36menfify.preprocessing\u001b[0m:\u001b[36mdownsample_scipy\u001b[0m:\u001b[36m47\u001b[0m - \u001b[33m\u001b[1mThe target sampling rate is not an integer multiple of the current sampling rate. Resampling is used, which does not have an integrated antialiasing filter. Applying a lowpass filter.\u001b[0m\n"
     ]
    },
    {
     "name": "stderr",
     "output_type": "stream",
     "text": [
      " 78%|███████▊  | 782/1000 [01:13<00:35,  6.19it/s]"
     ]
    },
    {
     "name": "stdout",
     "output_type": "stream",
     "text": [
      "\u001b[32m2024-08-26 00:46:50.267\u001b[0m | \u001b[33m\u001b[1mWARNING \u001b[0m | \u001b[36menfify.preprocessing\u001b[0m:\u001b[36mdownsample_scipy\u001b[0m:\u001b[36m47\u001b[0m - \u001b[33m\u001b[1mThe target sampling rate is not an integer multiple of the current sampling rate. Resampling is used, which does not have an integrated antialiasing filter. Applying a lowpass filter.\u001b[0m\n",
      "\u001b[32m2024-08-26 00:46:50.437\u001b[0m | \u001b[33m\u001b[1mWARNING \u001b[0m | \u001b[36menfify.preprocessing\u001b[0m:\u001b[36mdownsample_scipy\u001b[0m:\u001b[36m47\u001b[0m - \u001b[33m\u001b[1mThe target sampling rate is not an integer multiple of the current sampling rate. Resampling is used, which does not have an integrated antialiasing filter. Applying a lowpass filter.\u001b[0m\n"
     ]
    },
    {
     "name": "stderr",
     "output_type": "stream",
     "text": [
      " 78%|███████▊  | 784/1000 [01:14<00:32,  6.74it/s]"
     ]
    },
    {
     "name": "stdout",
     "output_type": "stream",
     "text": [
      "\u001b[32m2024-08-26 00:46:50.576\u001b[0m | \u001b[33m\u001b[1mWARNING \u001b[0m | \u001b[36menfify.preprocessing\u001b[0m:\u001b[36mdownsample_scipy\u001b[0m:\u001b[36m47\u001b[0m - \u001b[33m\u001b[1mThe target sampling rate is not an integer multiple of the current sampling rate. Resampling is used, which does not have an integrated antialiasing filter. Applying a lowpass filter.\u001b[0m\n",
      "\u001b[32m2024-08-26 00:46:50.709\u001b[0m | \u001b[33m\u001b[1mWARNING \u001b[0m | \u001b[36menfify.preprocessing\u001b[0m:\u001b[36mdownsample_scipy\u001b[0m:\u001b[36m47\u001b[0m - \u001b[33m\u001b[1mThe target sampling rate is not an integer multiple of the current sampling rate. Resampling is used, which does not have an integrated antialiasing filter. Applying a lowpass filter.\u001b[0m\n"
     ]
    },
    {
     "name": "stderr",
     "output_type": "stream",
     "text": [
      " 79%|███████▊  | 786/1000 [01:14<00:28,  7.50it/s]"
     ]
    },
    {
     "name": "stdout",
     "output_type": "stream",
     "text": [
      "\u001b[32m2024-08-26 00:46:50.822\u001b[0m | \u001b[33m\u001b[1mWARNING \u001b[0m | \u001b[36menfify.preprocessing\u001b[0m:\u001b[36mdownsample_scipy\u001b[0m:\u001b[36m47\u001b[0m - \u001b[33m\u001b[1mThe target sampling rate is not an integer multiple of the current sampling rate. Resampling is used, which does not have an integrated antialiasing filter. Applying a lowpass filter.\u001b[0m\n",
      "\u001b[32m2024-08-26 00:46:50.939\u001b[0m | \u001b[33m\u001b[1mWARNING \u001b[0m | \u001b[36menfify.preprocessing\u001b[0m:\u001b[36mdownsample_scipy\u001b[0m:\u001b[36m47\u001b[0m - \u001b[33m\u001b[1mThe target sampling rate is not an integer multiple of the current sampling rate. Resampling is used, which does not have an integrated antialiasing filter. Applying a lowpass filter.\u001b[0m\n"
     ]
    },
    {
     "name": "stderr",
     "output_type": "stream",
     "text": [
      " 79%|███████▉  | 788/1000 [01:14<00:28,  7.37it/s]"
     ]
    },
    {
     "name": "stdout",
     "output_type": "stream",
     "text": [
      "\u001b[32m2024-08-26 00:46:51.059\u001b[0m | \u001b[33m\u001b[1mWARNING \u001b[0m | \u001b[36menfify.preprocessing\u001b[0m:\u001b[36mdownsample_scipy\u001b[0m:\u001b[36m47\u001b[0m - \u001b[33m\u001b[1mThe target sampling rate is not an integer multiple of the current sampling rate. Resampling is used, which does not have an integrated antialiasing filter. Applying a lowpass filter.\u001b[0m\n",
      "\u001b[32m2024-08-26 00:46:51.217\u001b[0m | \u001b[33m\u001b[1mWARNING \u001b[0m | \u001b[36menfify.preprocessing\u001b[0m:\u001b[36mdownsample_scipy\u001b[0m:\u001b[36m47\u001b[0m - \u001b[33m\u001b[1mThe target sampling rate is not an integer multiple of the current sampling rate. Resampling is used, which does not have an integrated antialiasing filter. Applying a lowpass filter.\u001b[0m\n"
     ]
    },
    {
     "name": "stderr",
     "output_type": "stream",
     "text": [
      " 79%|███████▉  | 791/1000 [01:15<00:26,  7.77it/s]"
     ]
    },
    {
     "name": "stdout",
     "output_type": "stream",
     "text": [
      "\u001b[32m2024-08-26 00:46:51.454\u001b[0m | \u001b[33m\u001b[1mWARNING \u001b[0m | \u001b[36menfify.preprocessing\u001b[0m:\u001b[36mdownsample_scipy\u001b[0m:\u001b[36m47\u001b[0m - \u001b[33m\u001b[1mThe target sampling rate is not an integer multiple of the current sampling rate. Resampling is used, which does not have an integrated antialiasing filter. Applying a lowpass filter.\u001b[0m\n",
      "\u001b[32m2024-08-26 00:46:51.497\u001b[0m | \u001b[33m\u001b[1mWARNING \u001b[0m | \u001b[36menfify.preprocessing\u001b[0m:\u001b[36mdownsample_scipy\u001b[0m:\u001b[36m47\u001b[0m - \u001b[33m\u001b[1mThe target sampling rate is not an integer multiple of the current sampling rate. Resampling is used, which does not have an integrated antialiasing filter. Applying a lowpass filter.\u001b[0m\n",
      "\u001b[32m2024-08-26 00:46:51.613\u001b[0m | \u001b[33m\u001b[1mWARNING \u001b[0m | \u001b[36menfify.preprocessing\u001b[0m:\u001b[36mdownsample_scipy\u001b[0m:\u001b[36m47\u001b[0m - \u001b[33m\u001b[1mThe target sampling rate is not an integer multiple of the current sampling rate. Resampling is used, which does not have an integrated antialiasing filter. Applying a lowpass filter.\u001b[0m\n"
     ]
    },
    {
     "name": "stderr",
     "output_type": "stream",
     "text": [
      " 79%|███████▉  | 793/1000 [01:15<00:25,  8.08it/s]"
     ]
    },
    {
     "name": "stdout",
     "output_type": "stream",
     "text": [
      "\u001b[32m2024-08-26 00:46:51.741\u001b[0m | \u001b[33m\u001b[1mWARNING \u001b[0m | \u001b[36menfify.preprocessing\u001b[0m:\u001b[36mdownsample_scipy\u001b[0m:\u001b[36m47\u001b[0m - \u001b[33m\u001b[1mThe target sampling rate is not an integer multiple of the current sampling rate. Resampling is used, which does not have an integrated antialiasing filter. Applying a lowpass filter.\u001b[0m\n",
      "\u001b[32m2024-08-26 00:46:51.855\u001b[0m | \u001b[33m\u001b[1mWARNING \u001b[0m | \u001b[36menfify.preprocessing\u001b[0m:\u001b[36mdownsample_scipy\u001b[0m:\u001b[36m47\u001b[0m - \u001b[33m\u001b[1mThe target sampling rate is not an integer multiple of the current sampling rate. Resampling is used, which does not have an integrated antialiasing filter. Applying a lowpass filter.\u001b[0m\n",
      "\u001b[32m2024-08-26 00:46:51.928\u001b[0m | \u001b[33m\u001b[1mWARNING \u001b[0m | \u001b[36menfify.preprocessing\u001b[0m:\u001b[36mdownsample_scipy\u001b[0m:\u001b[36m47\u001b[0m - \u001b[33m\u001b[1mThe target sampling rate is not an integer multiple of the current sampling rate. Resampling is used, which does not have an integrated antialiasing filter. Applying a lowpass filter.\u001b[0m\n"
     ]
    },
    {
     "name": "stderr",
     "output_type": "stream",
     "text": [
      " 80%|███████▉  | 796/1000 [01:15<00:28,  7.20it/s]"
     ]
    },
    {
     "name": "stdout",
     "output_type": "stream",
     "text": [
      "\u001b[32m2024-08-26 00:46:52.096\u001b[0m | \u001b[33m\u001b[1mWARNING \u001b[0m | \u001b[36menfify.preprocessing\u001b[0m:\u001b[36mdownsample_scipy\u001b[0m:\u001b[36m47\u001b[0m - \u001b[33m\u001b[1mThe target sampling rate is not an integer multiple of the current sampling rate. Resampling is used, which does not have an integrated antialiasing filter. Applying a lowpass filter.\u001b[0m\n",
      "\u001b[32m2024-08-26 00:46:52.288\u001b[0m | \u001b[33m\u001b[1mWARNING \u001b[0m | \u001b[36menfify.preprocessing\u001b[0m:\u001b[36mdownsample_scipy\u001b[0m:\u001b[36m47\u001b[0m - \u001b[33m\u001b[1mThe target sampling rate is not an integer multiple of the current sampling rate. Resampling is used, which does not have an integrated antialiasing filter. Applying a lowpass filter.\u001b[0m\n"
     ]
    },
    {
     "name": "stderr",
     "output_type": "stream",
     "text": [
      " 80%|███████▉  | 797/1000 [01:15<00:29,  6.93it/s]"
     ]
    },
    {
     "name": "stdout",
     "output_type": "stream",
     "text": [
      "\u001b[32m2024-08-26 00:46:52.447\u001b[0m | \u001b[33m\u001b[1mWARNING \u001b[0m | \u001b[36menfify.preprocessing\u001b[0m:\u001b[36mdownsample_scipy\u001b[0m:\u001b[36m47\u001b[0m - \u001b[33m\u001b[1mThe target sampling rate is not an integer multiple of the current sampling rate. Resampling is used, which does not have an integrated antialiasing filter. Applying a lowpass filter.\u001b[0m\n",
      "\u001b[32m2024-08-26 00:46:52.546\u001b[0m | \u001b[33m\u001b[1mWARNING \u001b[0m | \u001b[36menfify.preprocessing\u001b[0m:\u001b[36mdownsample_scipy\u001b[0m:\u001b[36m47\u001b[0m - \u001b[33m\u001b[1mThe target sampling rate is not an integer multiple of the current sampling rate. Resampling is used, which does not have an integrated antialiasing filter. Applying a lowpass filter.\u001b[0m\n"
     ]
    },
    {
     "name": "stderr",
     "output_type": "stream",
     "text": [
      " 80%|████████  | 800/1000 [01:16<00:28,  7.01it/s]"
     ]
    },
    {
     "name": "stdout",
     "output_type": "stream",
     "text": [
      "\u001b[32m2024-08-26 00:46:52.685\u001b[0m | \u001b[33m\u001b[1mWARNING \u001b[0m | \u001b[36menfify.preprocessing\u001b[0m:\u001b[36mdownsample_scipy\u001b[0m:\u001b[36m47\u001b[0m - \u001b[33m\u001b[1mThe target sampling rate is not an integer multiple of the current sampling rate. Resampling is used, which does not have an integrated antialiasing filter. Applying a lowpass filter.\u001b[0m\n",
      "\u001b[32m2024-08-26 00:46:52.861\u001b[0m | \u001b[33m\u001b[1mWARNING \u001b[0m | \u001b[36menfify.preprocessing\u001b[0m:\u001b[36mdownsample_scipy\u001b[0m:\u001b[36m47\u001b[0m - \u001b[33m\u001b[1mThe target sampling rate is not an integer multiple of the current sampling rate. Resampling is used, which does not have an integrated antialiasing filter. Applying a lowpass filter.\u001b[0m\n"
     ]
    },
    {
     "name": "stderr",
     "output_type": "stream",
     "text": [
      " 80%|████████  | 802/1000 [01:16<00:26,  7.58it/s]"
     ]
    },
    {
     "name": "stdout",
     "output_type": "stream",
     "text": [
      "\u001b[32m2024-08-26 00:46:52.908\u001b[0m | \u001b[33m\u001b[1mWARNING \u001b[0m | \u001b[36menfify.preprocessing\u001b[0m:\u001b[36mdownsample_scipy\u001b[0m:\u001b[36m47\u001b[0m - \u001b[33m\u001b[1mThe target sampling rate is not an integer multiple of the current sampling rate. Resampling is used, which does not have an integrated antialiasing filter. Applying a lowpass filter.\u001b[0m\n",
      "\u001b[32m2024-08-26 00:46:53.092\u001b[0m | \u001b[33m\u001b[1mWARNING \u001b[0m | \u001b[36menfify.preprocessing\u001b[0m:\u001b[36mdownsample_scipy\u001b[0m:\u001b[36m47\u001b[0m - \u001b[33m\u001b[1mThe target sampling rate is not an integer multiple of the current sampling rate. Resampling is used, which does not have an integrated antialiasing filter. Applying a lowpass filter.\u001b[0m\n"
     ]
    },
    {
     "name": "stderr",
     "output_type": "stream",
     "text": [
      " 80%|████████  | 804/1000 [01:16<00:26,  7.30it/s]"
     ]
    },
    {
     "name": "stdout",
     "output_type": "stream",
     "text": [
      "\u001b[32m2024-08-26 00:46:53.287\u001b[0m | \u001b[33m\u001b[1mWARNING \u001b[0m | \u001b[36menfify.preprocessing\u001b[0m:\u001b[36mdownsample_scipy\u001b[0m:\u001b[36m47\u001b[0m - \u001b[33m\u001b[1mThe target sampling rate is not an integer multiple of the current sampling rate. Resampling is used, which does not have an integrated antialiasing filter. Applying a lowpass filter.\u001b[0m\n",
      "\u001b[32m2024-08-26 00:46:53.399\u001b[0m | \u001b[33m\u001b[1mWARNING \u001b[0m | \u001b[36menfify.preprocessing\u001b[0m:\u001b[36mdownsample_scipy\u001b[0m:\u001b[36m47\u001b[0m - \u001b[33m\u001b[1mThe target sampling rate is not an integer multiple of the current sampling rate. Resampling is used, which does not have an integrated antialiasing filter. Applying a lowpass filter.\u001b[0m\n"
     ]
    },
    {
     "name": "stderr",
     "output_type": "stream",
     "text": [
      "                                                  \r"
     ]
    },
    {
     "name": "stdout",
     "output_type": "stream",
     "text": [
      "\u001b[32m2024-08-26 00:46:53.573\u001b[0m | \u001b[33m\u001b[1mWARNING \u001b[0m | \u001b[36menfify.preprocessing\u001b[0m:\u001b[36mdownsample_scipy\u001b[0m:\u001b[36m47\u001b[0m - \u001b[33m\u001b[1mThe target sampling rate is not an integer multiple of the current sampling rate. Resampling is used, which does not have an integrated antialiasing filter. Applying a lowpass filter.\u001b[0m\n"
     ]
    },
    {
     "name": "stderr",
     "output_type": "stream",
     "text": [
      " 81%|████████  | 809/1000 [01:17<00:22,  8.64it/s]"
     ]
    },
    {
     "name": "stdout",
     "output_type": "stream",
     "text": [
      "\u001b[32m2024-08-26 00:46:53.776\u001b[0m | \u001b[33m\u001b[1mWARNING \u001b[0m | \u001b[36menfify.preprocessing\u001b[0m:\u001b[36mdownsample_scipy\u001b[0m:\u001b[36m47\u001b[0m - \u001b[33m\u001b[1mThe target sampling rate is not an integer multiple of the current sampling rate. Resampling is used, which does not have an integrated antialiasing filter. Applying a lowpass filter.\u001b[0m\n",
      "\u001b[32m2024-08-26 00:46:53.826\u001b[0m | \u001b[33m\u001b[1mWARNING \u001b[0m | \u001b[36menfify.preprocessing\u001b[0m:\u001b[36mdownsample_scipy\u001b[0m:\u001b[36m47\u001b[0m - \u001b[33m\u001b[1mThe target sampling rate is not an integer multiple of the current sampling rate. Resampling is used, which does not have an integrated antialiasing filter. Applying a lowpass filter.\u001b[0m\n",
      "\u001b[32m2024-08-26 00:46:53.866\u001b[0m | \u001b[33m\u001b[1mWARNING \u001b[0m | \u001b[36menfify.preprocessing\u001b[0m:\u001b[36mdownsample_scipy\u001b[0m:\u001b[36m47\u001b[0m - \u001b[33m\u001b[1mThe target sampling rate is not an integer multiple of the current sampling rate. Resampling is used, which does not have an integrated antialiasing filter. Applying a lowpass filter.\u001b[0m\n"
     ]
    },
    {
     "name": "stderr",
     "output_type": "stream",
     "text": [
      " 81%|████████  | 810/1000 [01:17<00:24,  7.75it/s]"
     ]
    },
    {
     "name": "stdout",
     "output_type": "stream",
     "text": [
      "\u001b[32m2024-08-26 00:46:54.006\u001b[0m | \u001b[33m\u001b[1mWARNING \u001b[0m | \u001b[36menfify.preprocessing\u001b[0m:\u001b[36mdownsample_scipy\u001b[0m:\u001b[36m47\u001b[0m - \u001b[33m\u001b[1mThe target sampling rate is not an integer multiple of the current sampling rate. Resampling is used, which does not have an integrated antialiasing filter. Applying a lowpass filter.\u001b[0m\n",
      "\u001b[32m2024-08-26 00:46:54.183\u001b[0m | \u001b[33m\u001b[1mWARNING \u001b[0m | \u001b[36menfify.preprocessing\u001b[0m:\u001b[36mdownsample_scipy\u001b[0m:\u001b[36m47\u001b[0m - \u001b[33m\u001b[1mThe target sampling rate is not an integer multiple of the current sampling rate. Resampling is used, which does not have an integrated antialiasing filter. Applying a lowpass filter.\u001b[0m\n"
     ]
    },
    {
     "name": "stderr",
     "output_type": "stream",
     "text": [
      " 81%|████████▏ | 813/1000 [01:17<00:21,  8.67it/s]"
     ]
    },
    {
     "name": "stdout",
     "output_type": "stream",
     "text": [
      "\u001b[32m2024-08-26 00:46:54.320\u001b[0m | \u001b[33m\u001b[1mWARNING \u001b[0m | \u001b[36menfify.preprocessing\u001b[0m:\u001b[36mdownsample_scipy\u001b[0m:\u001b[36m47\u001b[0m - \u001b[33m\u001b[1mThe target sampling rate is not an integer multiple of the current sampling rate. Resampling is used, which does not have an integrated antialiasing filter. Applying a lowpass filter.\u001b[0m\n",
      "\u001b[32m2024-08-26 00:46:54.373\u001b[0m | \u001b[33m\u001b[1mWARNING \u001b[0m | \u001b[36menfify.preprocessing\u001b[0m:\u001b[36mdownsample_scipy\u001b[0m:\u001b[36m47\u001b[0m - \u001b[33m\u001b[1mThe target sampling rate is not an integer multiple of the current sampling rate. Resampling is used, which does not have an integrated antialiasing filter. Applying a lowpass filter.\u001b[0m\n",
      "\u001b[32m2024-08-26 00:46:54.501\u001b[0m | \u001b[33m\u001b[1mWARNING \u001b[0m | \u001b[36menfify.preprocessing\u001b[0m:\u001b[36mdownsample_scipy\u001b[0m:\u001b[36m47\u001b[0m - \u001b[33m\u001b[1mThe target sampling rate is not an integer multiple of the current sampling rate. Resampling is used, which does not have an integrated antialiasing filter. Applying a lowpass filter.\u001b[0m\n"
     ]
    },
    {
     "name": "stderr",
     "output_type": "stream",
     "text": [
      " 82%|████████▏ | 815/1000 [01:18<00:21,  8.49it/s]"
     ]
    },
    {
     "name": "stdout",
     "output_type": "stream",
     "text": [
      "\u001b[32m2024-08-26 00:46:54.622\u001b[0m | \u001b[33m\u001b[1mWARNING \u001b[0m | \u001b[36menfify.preprocessing\u001b[0m:\u001b[36mdownsample_scipy\u001b[0m:\u001b[36m47\u001b[0m - \u001b[33m\u001b[1mThe target sampling rate is not an integer multiple of the current sampling rate. Resampling is used, which does not have an integrated antialiasing filter. Applying a lowpass filter.\u001b[0m\n",
      "\u001b[32m2024-08-26 00:46:54.740\u001b[0m | \u001b[33m\u001b[1mWARNING \u001b[0m | \u001b[36menfify.preprocessing\u001b[0m:\u001b[36mdownsample_scipy\u001b[0m:\u001b[36m47\u001b[0m - \u001b[33m\u001b[1mThe target sampling rate is not an integer multiple of the current sampling rate. Resampling is used, which does not have an integrated antialiasing filter. Applying a lowpass filter.\u001b[0m\n"
     ]
    },
    {
     "name": "stderr",
     "output_type": "stream",
     "text": [
      " 82%|████████▏ | 817/1000 [01:18<00:22,  7.96it/s]"
     ]
    },
    {
     "name": "stdout",
     "output_type": "stream",
     "text": [
      "\u001b[32m2024-08-26 00:46:54.931\u001b[0m | \u001b[33m\u001b[1mWARNING \u001b[0m | \u001b[36menfify.preprocessing\u001b[0m:\u001b[36mdownsample_scipy\u001b[0m:\u001b[36m47\u001b[0m - \u001b[33m\u001b[1mThe target sampling rate is not an integer multiple of the current sampling rate. Resampling is used, which does not have an integrated antialiasing filter. Applying a lowpass filter.\u001b[0m\n",
      "\u001b[32m2024-08-26 00:46:55.026\u001b[0m | \u001b[33m\u001b[1mWARNING \u001b[0m | \u001b[36menfify.preprocessing\u001b[0m:\u001b[36mdownsample_scipy\u001b[0m:\u001b[36m47\u001b[0m - \u001b[33m\u001b[1mThe target sampling rate is not an integer multiple of the current sampling rate. Resampling is used, which does not have an integrated antialiasing filter. Applying a lowpass filter.\u001b[0m\n",
      "\u001b[32m2024-08-26 00:46:55.080\u001b[0m | \u001b[33m\u001b[1mWARNING \u001b[0m | \u001b[36menfify.preprocessing\u001b[0m:\u001b[36mdownsample_scipy\u001b[0m:\u001b[36m47\u001b[0m - \u001b[33m\u001b[1mThe target sampling rate is not an integer multiple of the current sampling rate. Resampling is used, which does not have an integrated antialiasing filter. Applying a lowpass filter.\u001b[0m\n"
     ]
    },
    {
     "name": "stderr",
     "output_type": "stream",
     "text": [
      " 82%|████████▏ | 820/1000 [01:18<00:22,  8.04it/s]"
     ]
    },
    {
     "name": "stdout",
     "output_type": "stream",
     "text": [
      "\u001b[32m2024-08-26 00:46:55.236\u001b[0m | \u001b[33m\u001b[1mWARNING \u001b[0m | \u001b[36menfify.preprocessing\u001b[0m:\u001b[36mdownsample_scipy\u001b[0m:\u001b[36m47\u001b[0m - \u001b[33m\u001b[1mThe target sampling rate is not an integer multiple of the current sampling rate. Resampling is used, which does not have an integrated antialiasing filter. Applying a lowpass filter.\u001b[0m\n",
      "\u001b[32m2024-08-26 00:46:55.387\u001b[0m | \u001b[33m\u001b[1mWARNING \u001b[0m | \u001b[36menfify.preprocessing\u001b[0m:\u001b[36mdownsample_scipy\u001b[0m:\u001b[36m47\u001b[0m - \u001b[33m\u001b[1mThe target sampling rate is not an integer multiple of the current sampling rate. Resampling is used, which does not have an integrated antialiasing filter. Applying a lowpass filter.\u001b[0m\n"
     ]
    },
    {
     "name": "stderr",
     "output_type": "stream",
     "text": [
      " 82%|████████▏ | 822/1000 [01:19<00:23,  7.46it/s]"
     ]
    },
    {
     "name": "stdout",
     "output_type": "stream",
     "text": [
      "\u001b[32m2024-08-26 00:46:55.591\u001b[0m | \u001b[33m\u001b[1mWARNING \u001b[0m | \u001b[36menfify.preprocessing\u001b[0m:\u001b[36mdownsample_scipy\u001b[0m:\u001b[36m47\u001b[0m - \u001b[33m\u001b[1mThe target sampling rate is not an integer multiple of the current sampling rate. Resampling is used, which does not have an integrated antialiasing filter. Applying a lowpass filter.\u001b[0m\n",
      "\u001b[32m2024-08-26 00:46:55.701\u001b[0m | \u001b[33m\u001b[1mWARNING \u001b[0m | \u001b[36menfify.preprocessing\u001b[0m:\u001b[36mdownsample_scipy\u001b[0m:\u001b[36m47\u001b[0m - \u001b[33m\u001b[1mThe target sampling rate is not an integer multiple of the current sampling rate. Resampling is used, which does not have an integrated antialiasing filter. Applying a lowpass filter.\u001b[0m\n"
     ]
    },
    {
     "name": "stderr",
     "output_type": "stream",
     "text": [
      " 82%|████████▏ | 824/1000 [01:19<00:28,  6.11it/s]"
     ]
    },
    {
     "name": "stdout",
     "output_type": "stream",
     "text": [
      "\u001b[32m2024-08-26 00:46:55.969\u001b[0m | \u001b[33m\u001b[1mWARNING \u001b[0m | \u001b[36menfify.preprocessing\u001b[0m:\u001b[36mdownsample_scipy\u001b[0m:\u001b[36m47\u001b[0m - \u001b[33m\u001b[1mThe target sampling rate is not an integer multiple of the current sampling rate. Resampling is used, which does not have an integrated antialiasing filter. Applying a lowpass filter.\u001b[0m\n",
      "\u001b[32m2024-08-26 00:46:56.106\u001b[0m | \u001b[33m\u001b[1mWARNING \u001b[0m | \u001b[36menfify.preprocessing\u001b[0m:\u001b[36mdownsample_scipy\u001b[0m:\u001b[36m47\u001b[0m - \u001b[33m\u001b[1mThe target sampling rate is not an integer multiple of the current sampling rate. Resampling is used, which does not have an integrated antialiasing filter. Applying a lowpass filter.\u001b[0m\n",
      "\u001b[32m2024-08-26 00:46:56.134\u001b[0m | \u001b[33m\u001b[1mWARNING \u001b[0m | \u001b[36menfify.preprocessing\u001b[0m:\u001b[36mdownsample_scipy\u001b[0m:\u001b[36m47\u001b[0m - \u001b[33m\u001b[1mThe target sampling rate is not an integer multiple of the current sampling rate. Resampling is used, which does not have an integrated antialiasing filter. Applying a lowpass filter.\u001b[0m\n"
     ]
    },
    {
     "name": "stderr",
     "output_type": "stream",
     "text": [
      " 83%|████████▎ | 828/1000 [01:19<00:16, 10.29it/s]"
     ]
    },
    {
     "name": "stdout",
     "output_type": "stream",
     "text": [
      "\u001b[32m2024-08-26 00:46:56.237\u001b[0m | \u001b[33m\u001b[1mWARNING \u001b[0m | \u001b[36menfify.preprocessing\u001b[0m:\u001b[36mdownsample_scipy\u001b[0m:\u001b[36m47\u001b[0m - \u001b[33m\u001b[1mThe target sampling rate is not an integer multiple of the current sampling rate. Resampling is used, which does not have an integrated antialiasing filter. Applying a lowpass filter.\u001b[0m\n",
      "\u001b[32m2024-08-26 00:46:56.295\u001b[0m | \u001b[33m\u001b[1mWARNING \u001b[0m | \u001b[36menfify.preprocessing\u001b[0m:\u001b[36mdownsample_scipy\u001b[0m:\u001b[36m47\u001b[0m - \u001b[33m\u001b[1mThe target sampling rate is not an integer multiple of the current sampling rate. Resampling is used, which does not have an integrated antialiasing filter. Applying a lowpass filter.\u001b[0m\n",
      "\u001b[32m2024-08-26 00:46:56.359\u001b[0m | \u001b[33m\u001b[1mWARNING \u001b[0m | \u001b[36menfify.preprocessing\u001b[0m:\u001b[36mdownsample_scipy\u001b[0m:\u001b[36m47\u001b[0m - \u001b[33m\u001b[1mThe target sampling rate is not an integer multiple of the current sampling rate. Resampling is used, which does not have an integrated antialiasing filter. Applying a lowpass filter.\u001b[0m\n"
     ]
    },
    {
     "name": "stderr",
     "output_type": "stream",
     "text": [
      " 83%|████████▎ | 830/1000 [01:20<00:17,  9.72it/s]"
     ]
    },
    {
     "name": "stdout",
     "output_type": "stream",
     "text": [
      "\u001b[32m2024-08-26 00:46:56.483\u001b[0m | \u001b[33m\u001b[1mWARNING \u001b[0m | \u001b[36menfify.preprocessing\u001b[0m:\u001b[36mdownsample_scipy\u001b[0m:\u001b[36m47\u001b[0m - \u001b[33m\u001b[1mThe target sampling rate is not an integer multiple of the current sampling rate. Resampling is used, which does not have an integrated antialiasing filter. Applying a lowpass filter.\u001b[0m\n",
      "\u001b[32m2024-08-26 00:46:56.584\u001b[0m | \u001b[33m\u001b[1mWARNING \u001b[0m | \u001b[36menfify.preprocessing\u001b[0m:\u001b[36mdownsample_scipy\u001b[0m:\u001b[36m47\u001b[0m - \u001b[33m\u001b[1mThe target sampling rate is not an integer multiple of the current sampling rate. Resampling is used, which does not have an integrated antialiasing filter. Applying a lowpass filter.\u001b[0m\n",
      "\u001b[32m2024-08-26 00:46:56.650\u001b[0m | \u001b[33m\u001b[1mWARNING \u001b[0m | \u001b[36menfify.preprocessing\u001b[0m:\u001b[36mdownsample_scipy\u001b[0m:\u001b[36m47\u001b[0m - \u001b[33m\u001b[1mThe target sampling rate is not an integer multiple of the current sampling rate. Resampling is used, which does not have an integrated antialiasing filter. Applying a lowpass filter.\u001b[0m\n"
     ]
    },
    {
     "name": "stderr",
     "output_type": "stream",
     "text": [
      "                                                  "
     ]
    },
    {
     "name": "stdout",
     "output_type": "stream",
     "text": [
      "\u001b[32m2024-08-26 00:46:56.728\u001b[0m | \u001b[33m\u001b[1mWARNING \u001b[0m | \u001b[36menfify.preprocessing\u001b[0m:\u001b[36mdownsample_scipy\u001b[0m:\u001b[36m47\u001b[0m - \u001b[33m\u001b[1mThe target sampling rate is not an integer multiple of the current sampling rate. Resampling is used, which does not have an integrated antialiasing filter. Applying a lowpass filter.\u001b[0m\n"
     ]
    },
    {
     "name": "stderr",
     "output_type": "stream",
     "text": [
      " 83%|████████▎ | 834/1000 [01:20<00:21,  7.83it/s]"
     ]
    },
    {
     "name": "stdout",
     "output_type": "stream",
     "text": [
      "\u001b[32m2024-08-26 00:46:56.930\u001b[0m | \u001b[33m\u001b[1mWARNING \u001b[0m | \u001b[36menfify.preprocessing\u001b[0m:\u001b[36mdownsample_scipy\u001b[0m:\u001b[36m47\u001b[0m - \u001b[33m\u001b[1mThe target sampling rate is not an integer multiple of the current sampling rate. Resampling is used, which does not have an integrated antialiasing filter. Applying a lowpass filter.\u001b[0m\n",
      "\u001b[32m2024-08-26 00:46:57.128\u001b[0m | \u001b[33m\u001b[1mWARNING \u001b[0m | \u001b[36menfify.preprocessing\u001b[0m:\u001b[36mdownsample_scipy\u001b[0m:\u001b[36m47\u001b[0m - \u001b[33m\u001b[1mThe target sampling rate is not an integer multiple of the current sampling rate. Resampling is used, which does not have an integrated antialiasing filter. Applying a lowpass filter.\u001b[0m\n"
     ]
    },
    {
     "name": "stderr",
     "output_type": "stream",
     "text": [
      " 84%|████████▎ | 836/1000 [01:20<00:23,  7.01it/s]"
     ]
    },
    {
     "name": "stdout",
     "output_type": "stream",
     "text": [
      "\u001b[32m2024-08-26 00:46:57.280\u001b[0m | \u001b[33m\u001b[1mWARNING \u001b[0m | \u001b[36menfify.preprocessing\u001b[0m:\u001b[36mdownsample_scipy\u001b[0m:\u001b[36m47\u001b[0m - \u001b[33m\u001b[1mThe target sampling rate is not an integer multiple of the current sampling rate. Resampling is used, which does not have an integrated antialiasing filter. Applying a lowpass filter.\u001b[0m\n",
      "\u001b[32m2024-08-26 00:46:57.460\u001b[0m | \u001b[33m\u001b[1mWARNING \u001b[0m | \u001b[36menfify.preprocessing\u001b[0m:\u001b[36mdownsample_scipy\u001b[0m:\u001b[36m47\u001b[0m - \u001b[33m\u001b[1mThe target sampling rate is not an integer multiple of the current sampling rate. Resampling is used, which does not have an integrated antialiasing filter. Applying a lowpass filter.\u001b[0m\n"
     ]
    },
    {
     "name": "stderr",
     "output_type": "stream",
     "text": [
      " 84%|████████▍ | 838/1000 [01:21<00:24,  6.75it/s]"
     ]
    },
    {
     "name": "stdout",
     "output_type": "stream",
     "text": [
      "\u001b[32m2024-08-26 00:46:57.607\u001b[0m | \u001b[33m\u001b[1mWARNING \u001b[0m | \u001b[36menfify.preprocessing\u001b[0m:\u001b[36mdownsample_scipy\u001b[0m:\u001b[36m47\u001b[0m - \u001b[33m\u001b[1mThe target sampling rate is not an integer multiple of the current sampling rate. Resampling is used, which does not have an integrated antialiasing filter. Applying a lowpass filter.\u001b[0m\n",
      "\u001b[32m2024-08-26 00:46:57.773\u001b[0m | \u001b[33m\u001b[1mWARNING \u001b[0m | \u001b[36menfify.preprocessing\u001b[0m:\u001b[36mdownsample_scipy\u001b[0m:\u001b[36m47\u001b[0m - \u001b[33m\u001b[1mThe target sampling rate is not an integer multiple of the current sampling rate. Resampling is used, which does not have an integrated antialiasing filter. Applying a lowpass filter.\u001b[0m\n"
     ]
    },
    {
     "name": "stderr",
     "output_type": "stream",
     "text": [
      " 84%|████████▍ | 840/1000 [01:21<00:28,  5.70it/s]"
     ]
    },
    {
     "name": "stdout",
     "output_type": "stream",
     "text": [
      "\u001b[32m2024-08-26 00:46:57.984\u001b[0m | \u001b[33m\u001b[1mWARNING \u001b[0m | \u001b[36menfify.preprocessing\u001b[0m:\u001b[36mdownsample_scipy\u001b[0m:\u001b[36m47\u001b[0m - \u001b[33m\u001b[1mThe target sampling rate is not an integer multiple of the current sampling rate. Resampling is used, which does not have an integrated antialiasing filter. Applying a lowpass filter.\u001b[0m\n"
     ]
    },
    {
     "name": "stderr",
     "output_type": "stream",
     "text": [
      " 84%|████████▍ | 841/1000 [01:21<00:29,  5.47it/s]"
     ]
    },
    {
     "name": "stdout",
     "output_type": "stream",
     "text": [
      "\u001b[32m2024-08-26 00:46:58.189\u001b[0m | \u001b[33m\u001b[1mWARNING \u001b[0m | \u001b[36menfify.preprocessing\u001b[0m:\u001b[36mdownsample_scipy\u001b[0m:\u001b[36m47\u001b[0m - \u001b[33m\u001b[1mThe target sampling rate is not an integer multiple of the current sampling rate. Resampling is used, which does not have an integrated antialiasing filter. Applying a lowpass filter.\u001b[0m\n",
      "\u001b[32m2024-08-26 00:46:58.384\u001b[0m | \u001b[33m\u001b[1mWARNING \u001b[0m | \u001b[36menfify.preprocessing\u001b[0m:\u001b[36mdownsample_scipy\u001b[0m:\u001b[36m47\u001b[0m - \u001b[33m\u001b[1mThe target sampling rate is not an integer multiple of the current sampling rate. Resampling is used, which does not have an integrated antialiasing filter. Applying a lowpass filter.\u001b[0m\n"
     ]
    },
    {
     "name": "stderr",
     "output_type": "stream",
     "text": [
      " 84%|████████▍ | 843/1000 [01:22<00:28,  5.50it/s]"
     ]
    },
    {
     "name": "stdout",
     "output_type": "stream",
     "text": [
      "\u001b[32m2024-08-26 00:46:58.548\u001b[0m | \u001b[33m\u001b[1mWARNING \u001b[0m | \u001b[36menfify.preprocessing\u001b[0m:\u001b[36mdownsample_scipy\u001b[0m:\u001b[36m47\u001b[0m - \u001b[33m\u001b[1mThe target sampling rate is not an integer multiple of the current sampling rate. Resampling is used, which does not have an integrated antialiasing filter. Applying a lowpass filter.\u001b[0m\n",
      "\u001b[32m2024-08-26 00:46:58.747\u001b[0m | \u001b[33m\u001b[1mWARNING \u001b[0m | \u001b[36menfify.preprocessing\u001b[0m:\u001b[36mdownsample_scipy\u001b[0m:\u001b[36m47\u001b[0m - \u001b[33m\u001b[1mThe target sampling rate is not an integer multiple of the current sampling rate. Resampling is used, which does not have an integrated antialiasing filter. Applying a lowpass filter.\u001b[0m\n"
     ]
    },
    {
     "name": "stderr",
     "output_type": "stream",
     "text": [
      " 84%|████████▍ | 844/1000 [01:22<00:28,  5.44it/s]"
     ]
    },
    {
     "name": "stdout",
     "output_type": "stream",
     "text": [
      "\u001b[32m2024-08-26 00:46:58.934\u001b[0m | \u001b[33m\u001b[1mWARNING \u001b[0m | \u001b[36menfify.preprocessing\u001b[0m:\u001b[36mdownsample_scipy\u001b[0m:\u001b[36m47\u001b[0m - \u001b[33m\u001b[1mThe target sampling rate is not an integer multiple of the current sampling rate. Resampling is used, which does not have an integrated antialiasing filter. Applying a lowpass filter.\u001b[0m\n",
      "\u001b[32m2024-08-26 00:46:59.014\u001b[0m | \u001b[33m\u001b[1mWARNING \u001b[0m | \u001b[36menfify.preprocessing\u001b[0m:\u001b[36mdownsample_scipy\u001b[0m:\u001b[36m47\u001b[0m - \u001b[33m\u001b[1mThe target sampling rate is not an integer multiple of the current sampling rate. Resampling is used, which does not have an integrated antialiasing filter. Applying a lowpass filter.\u001b[0m\n"
     ]
    },
    {
     "name": "stderr",
     "output_type": "stream",
     "text": [
      " 85%|████████▍ | 847/1000 [01:22<00:25,  5.98it/s]"
     ]
    },
    {
     "name": "stdout",
     "output_type": "stream",
     "text": [
      "\u001b[32m2024-08-26 00:46:59.203\u001b[0m | \u001b[33m\u001b[1mWARNING \u001b[0m | \u001b[36menfify.preprocessing\u001b[0m:\u001b[36mdownsample_scipy\u001b[0m:\u001b[36m47\u001b[0m - \u001b[33m\u001b[1mThe target sampling rate is not an integer multiple of the current sampling rate. Resampling is used, which does not have an integrated antialiasing filter. Applying a lowpass filter.\u001b[0m\n",
      "\u001b[32m2024-08-26 00:46:59.387\u001b[0m | \u001b[33m\u001b[1mWARNING \u001b[0m | \u001b[36menfify.preprocessing\u001b[0m:\u001b[36mdownsample_scipy\u001b[0m:\u001b[36m47\u001b[0m - \u001b[33m\u001b[1mThe target sampling rate is not an integer multiple of the current sampling rate. Resampling is used, which does not have an integrated antialiasing filter. Applying a lowpass filter.\u001b[0m\n"
     ]
    },
    {
     "name": "stderr",
     "output_type": "stream",
     "text": [
      " 85%|████████▍ | 849/1000 [01:23<00:25,  5.95it/s]"
     ]
    },
    {
     "name": "stdout",
     "output_type": "stream",
     "text": [
      "\u001b[32m2024-08-26 00:46:59.540\u001b[0m | \u001b[33m\u001b[1mWARNING \u001b[0m | \u001b[36menfify.preprocessing\u001b[0m:\u001b[36mdownsample_scipy\u001b[0m:\u001b[36m47\u001b[0m - \u001b[33m\u001b[1mThe target sampling rate is not an integer multiple of the current sampling rate. Resampling is used, which does not have an integrated antialiasing filter. Applying a lowpass filter.\u001b[0m\n",
      "\u001b[32m2024-08-26 00:46:59.721\u001b[0m | \u001b[33m\u001b[1mWARNING \u001b[0m | \u001b[36menfify.preprocessing\u001b[0m:\u001b[36mdownsample_scipy\u001b[0m:\u001b[36m47\u001b[0m - \u001b[33m\u001b[1mThe target sampling rate is not an integer multiple of the current sampling rate. Resampling is used, which does not have an integrated antialiasing filter. Applying a lowpass filter.\u001b[0m\n"
     ]
    },
    {
     "name": "stderr",
     "output_type": "stream",
     "text": [
      " 85%|████████▌ | 851/1000 [01:23<00:26,  5.68it/s]"
     ]
    },
    {
     "name": "stdout",
     "output_type": "stream",
     "text": [
      "\u001b[32m2024-08-26 00:46:59.932\u001b[0m | \u001b[33m\u001b[1mWARNING \u001b[0m | \u001b[36menfify.preprocessing\u001b[0m:\u001b[36mdownsample_scipy\u001b[0m:\u001b[36m47\u001b[0m - \u001b[33m\u001b[1mThe target sampling rate is not an integer multiple of the current sampling rate. Resampling is used, which does not have an integrated antialiasing filter. Applying a lowpass filter.\u001b[0m\n",
      "\u001b[32m2024-08-26 00:47:00.093\u001b[0m | \u001b[33m\u001b[1mWARNING \u001b[0m | \u001b[36menfify.preprocessing\u001b[0m:\u001b[36mdownsample_scipy\u001b[0m:\u001b[36m47\u001b[0m - \u001b[33m\u001b[1mThe target sampling rate is not an integer multiple of the current sampling rate. Resampling is used, which does not have an integrated antialiasing filter. Applying a lowpass filter.\u001b[0m\n"
     ]
    },
    {
     "name": "stderr",
     "output_type": "stream",
     "text": [
      " 85%|████████▌ | 853/1000 [01:23<00:20,  7.22it/s]"
     ]
    },
    {
     "name": "stdout",
     "output_type": "stream",
     "text": [
      "\u001b[32m2024-08-26 00:47:00.159\u001b[0m | \u001b[33m\u001b[1mWARNING \u001b[0m | \u001b[36menfify.preprocessing\u001b[0m:\u001b[36mdownsample_scipy\u001b[0m:\u001b[36m47\u001b[0m - \u001b[33m\u001b[1mThe target sampling rate is not an integer multiple of the current sampling rate. Resampling is used, which does not have an integrated antialiasing filter. Applying a lowpass filter.\u001b[0m\n",
      "\u001b[32m2024-08-26 00:47:00.330\u001b[0m | \u001b[33m\u001b[1mWARNING \u001b[0m | \u001b[36menfify.preprocessing\u001b[0m:\u001b[36mdownsample_scipy\u001b[0m:\u001b[36m47\u001b[0m - \u001b[33m\u001b[1mThe target sampling rate is not an integer multiple of the current sampling rate. Resampling is used, which does not have an integrated antialiasing filter. Applying a lowpass filter.\u001b[0m\n"
     ]
    },
    {
     "name": "stderr",
     "output_type": "stream",
     "text": [
      " 86%|████████▌ | 855/1000 [01:24<00:22,  6.48it/s]"
     ]
    },
    {
     "name": "stdout",
     "output_type": "stream",
     "text": [
      "\u001b[32m2024-08-26 00:47:00.528\u001b[0m | \u001b[33m\u001b[1mWARNING \u001b[0m | \u001b[36menfify.preprocessing\u001b[0m:\u001b[36mdownsample_scipy\u001b[0m:\u001b[36m47\u001b[0m - \u001b[33m\u001b[1mThe target sampling rate is not an integer multiple of the current sampling rate. Resampling is used, which does not have an integrated antialiasing filter. Applying a lowpass filter.\u001b[0m\n",
      "\u001b[32m2024-08-26 00:47:00.648\u001b[0m | \u001b[33m\u001b[1mWARNING \u001b[0m | \u001b[36menfify.preprocessing\u001b[0m:\u001b[36mdownsample_scipy\u001b[0m:\u001b[36m47\u001b[0m - \u001b[33m\u001b[1mThe target sampling rate is not an integer multiple of the current sampling rate. Resampling is used, which does not have an integrated antialiasing filter. Applying a lowpass filter.\u001b[0m\n"
     ]
    },
    {
     "name": "stderr",
     "output_type": "stream",
     "text": [
      " 86%|████████▌ | 857/1000 [01:24<00:22,  6.30it/s]"
     ]
    },
    {
     "name": "stdout",
     "output_type": "stream",
     "text": [
      "\u001b[32m2024-08-26 00:47:00.826\u001b[0m | \u001b[33m\u001b[1mWARNING \u001b[0m | \u001b[36menfify.preprocessing\u001b[0m:\u001b[36mdownsample_scipy\u001b[0m:\u001b[36m47\u001b[0m - \u001b[33m\u001b[1mThe target sampling rate is not an integer multiple of the current sampling rate. Resampling is used, which does not have an integrated antialiasing filter. Applying a lowpass filter.\u001b[0m\n",
      "\u001b[32m2024-08-26 00:47:00.986\u001b[0m | \u001b[33m\u001b[1mWARNING \u001b[0m | \u001b[36menfify.preprocessing\u001b[0m:\u001b[36mdownsample_scipy\u001b[0m:\u001b[36m47\u001b[0m - \u001b[33m\u001b[1mThe target sampling rate is not an integer multiple of the current sampling rate. Resampling is used, which does not have an integrated antialiasing filter. Applying a lowpass filter.\u001b[0m\n"
     ]
    },
    {
     "name": "stderr",
     "output_type": "stream",
     "text": [
      " 86%|████████▌ | 859/1000 [01:24<00:22,  6.27it/s]"
     ]
    },
    {
     "name": "stdout",
     "output_type": "stream",
     "text": [
      "\u001b[32m2024-08-26 00:47:01.157\u001b[0m | \u001b[33m\u001b[1mWARNING \u001b[0m | \u001b[36menfify.preprocessing\u001b[0m:\u001b[36mdownsample_scipy\u001b[0m:\u001b[36m47\u001b[0m - \u001b[33m\u001b[1mThe target sampling rate is not an integer multiple of the current sampling rate. Resampling is used, which does not have an integrated antialiasing filter. Applying a lowpass filter.\u001b[0m\n",
      "\u001b[32m2024-08-26 00:47:01.307\u001b[0m | \u001b[33m\u001b[1mWARNING \u001b[0m | \u001b[36menfify.preprocessing\u001b[0m:\u001b[36mdownsample_scipy\u001b[0m:\u001b[36m47\u001b[0m - \u001b[33m\u001b[1mThe target sampling rate is not an integer multiple of the current sampling rate. Resampling is used, which does not have an integrated antialiasing filter. Applying a lowpass filter.\u001b[0m\n"
     ]
    },
    {
     "name": "stderr",
     "output_type": "stream",
     "text": [
      " 86%|████████▌ | 860/1000 [01:24<00:21,  6.62it/s]"
     ]
    },
    {
     "name": "stdout",
     "output_type": "stream",
     "text": [
      "\u001b[32m2024-08-26 00:47:01.436\u001b[0m | \u001b[33m\u001b[1mWARNING \u001b[0m | \u001b[36menfify.preprocessing\u001b[0m:\u001b[36mdownsample_scipy\u001b[0m:\u001b[36m47\u001b[0m - \u001b[33m\u001b[1mThe target sampling rate is not an integer multiple of the current sampling rate. Resampling is used, which does not have an integrated antialiasing filter. Applying a lowpass filter.\u001b[0m\n",
      "\u001b[32m2024-08-26 00:47:01.509\u001b[0m | \u001b[33m\u001b[1mWARNING \u001b[0m | \u001b[36menfify.preprocessing\u001b[0m:\u001b[36mdownsample_scipy\u001b[0m:\u001b[36m47\u001b[0m - \u001b[33m\u001b[1mThe target sampling rate is not an integer multiple of the current sampling rate. Resampling is used, which does not have an integrated antialiasing filter. Applying a lowpass filter.\u001b[0m\n"
     ]
    },
    {
     "name": "stderr",
     "output_type": "stream",
     "text": [
      " 86%|████████▋ | 863/1000 [01:25<00:19,  7.20it/s]"
     ]
    },
    {
     "name": "stdout",
     "output_type": "stream",
     "text": [
      "\u001b[32m2024-08-26 00:47:01.670\u001b[0m | \u001b[33m\u001b[1mWARNING \u001b[0m | \u001b[36menfify.preprocessing\u001b[0m:\u001b[36mdownsample_scipy\u001b[0m:\u001b[36m47\u001b[0m - \u001b[33m\u001b[1mThe target sampling rate is not an integer multiple of the current sampling rate. Resampling is used, which does not have an integrated antialiasing filter. Applying a lowpass filter.\u001b[0m\n",
      "\u001b[32m2024-08-26 00:47:01.826\u001b[0m | \u001b[33m\u001b[1mWARNING \u001b[0m | \u001b[36menfify.preprocessing\u001b[0m:\u001b[36mdownsample_scipy\u001b[0m:\u001b[36m47\u001b[0m - \u001b[33m\u001b[1mThe target sampling rate is not an integer multiple of the current sampling rate. Resampling is used, which does not have an integrated antialiasing filter. Applying a lowpass filter.\u001b[0m\n"
     ]
    },
    {
     "name": "stderr",
     "output_type": "stream",
     "text": [
      " 86%|████████▋ | 865/1000 [01:25<00:18,  7.37it/s]"
     ]
    },
    {
     "name": "stdout",
     "output_type": "stream",
     "text": [
      "\u001b[32m2024-08-26 00:47:01.908\u001b[0m | \u001b[33m\u001b[1mWARNING \u001b[0m | \u001b[36menfify.preprocessing\u001b[0m:\u001b[36mdownsample_scipy\u001b[0m:\u001b[36m47\u001b[0m - \u001b[33m\u001b[1mThe target sampling rate is not an integer multiple of the current sampling rate. Resampling is used, which does not have an integrated antialiasing filter. Applying a lowpass filter.\u001b[0m\n",
      "\u001b[32m2024-08-26 00:47:02.083\u001b[0m | \u001b[33m\u001b[1mWARNING \u001b[0m | \u001b[36menfify.preprocessing\u001b[0m:\u001b[36mdownsample_scipy\u001b[0m:\u001b[36m47\u001b[0m - \u001b[33m\u001b[1mThe target sampling rate is not an integer multiple of the current sampling rate. Resampling is used, which does not have an integrated antialiasing filter. Applying a lowpass filter.\u001b[0m\n"
     ]
    },
    {
     "name": "stderr",
     "output_type": "stream",
     "text": [
      " 87%|████████▋ | 867/1000 [01:25<00:17,  7.70it/s]"
     ]
    },
    {
     "name": "stdout",
     "output_type": "stream",
     "text": [
      "\u001b[32m2024-08-26 00:47:02.172\u001b[0m | \u001b[33m\u001b[1mWARNING \u001b[0m | \u001b[36menfify.preprocessing\u001b[0m:\u001b[36mdownsample_scipy\u001b[0m:\u001b[36m47\u001b[0m - \u001b[33m\u001b[1mThe target sampling rate is not an integer multiple of the current sampling rate. Resampling is used, which does not have an integrated antialiasing filter. Applying a lowpass filter.\u001b[0m\n",
      "\u001b[32m2024-08-26 00:47:02.320\u001b[0m | \u001b[33m\u001b[1mWARNING \u001b[0m | \u001b[36menfify.preprocessing\u001b[0m:\u001b[36mdownsample_scipy\u001b[0m:\u001b[36m47\u001b[0m - \u001b[33m\u001b[1mThe target sampling rate is not an integer multiple of the current sampling rate. Resampling is used, which does not have an integrated antialiasing filter. Applying a lowpass filter.\u001b[0m\n"
     ]
    },
    {
     "name": "stderr",
     "output_type": "stream",
     "text": [
      " 87%|████████▋ | 869/1000 [01:26<00:17,  7.39it/s]"
     ]
    },
    {
     "name": "stdout",
     "output_type": "stream",
     "text": [
      "\u001b[32m2024-08-26 00:47:02.534\u001b[0m | \u001b[33m\u001b[1mWARNING \u001b[0m | \u001b[36menfify.preprocessing\u001b[0m:\u001b[36mdownsample_scipy\u001b[0m:\u001b[36m47\u001b[0m - \u001b[33m\u001b[1mThe target sampling rate is not an integer multiple of the current sampling rate. Resampling is used, which does not have an integrated antialiasing filter. Applying a lowpass filter.\u001b[0m\n",
      "\u001b[32m2024-08-26 00:47:02.623\u001b[0m | \u001b[33m\u001b[1mWARNING \u001b[0m | \u001b[36menfify.preprocessing\u001b[0m:\u001b[36mdownsample_scipy\u001b[0m:\u001b[36m47\u001b[0m - \u001b[33m\u001b[1mThe target sampling rate is not an integer multiple of the current sampling rate. Resampling is used, which does not have an integrated antialiasing filter. Applying a lowpass filter.\u001b[0m\n",
      "\u001b[32m2024-08-26 00:47:02.679\u001b[0m | \u001b[33m\u001b[1mWARNING \u001b[0m | \u001b[36menfify.preprocessing\u001b[0m:\u001b[36mdownsample_scipy\u001b[0m:\u001b[36m47\u001b[0m - \u001b[33m\u001b[1mThe target sampling rate is not an integer multiple of the current sampling rate. Resampling is used, which does not have an integrated antialiasing filter. Applying a lowpass filter.\u001b[0m\n"
     ]
    },
    {
     "name": "stderr",
     "output_type": "stream",
     "text": [
      " 87%|████████▋ | 872/1000 [01:26<00:15,  8.42it/s]"
     ]
    },
    {
     "name": "stdout",
     "output_type": "stream",
     "text": [
      "\u001b[32m2024-08-26 00:47:02.832\u001b[0m | \u001b[33m\u001b[1mWARNING \u001b[0m | \u001b[36menfify.preprocessing\u001b[0m:\u001b[36mdownsample_scipy\u001b[0m:\u001b[36m47\u001b[0m - \u001b[33m\u001b[1mThe target sampling rate is not an integer multiple of the current sampling rate. Resampling is used, which does not have an integrated antialiasing filter. Applying a lowpass filter.\u001b[0m\n",
      "\u001b[32m2024-08-26 00:47:02.940\u001b[0m | \u001b[33m\u001b[1mWARNING \u001b[0m | \u001b[36menfify.preprocessing\u001b[0m:\u001b[36mdownsample_scipy\u001b[0m:\u001b[36m47\u001b[0m - \u001b[33m\u001b[1mThe target sampling rate is not an integer multiple of the current sampling rate. Resampling is used, which does not have an integrated antialiasing filter. Applying a lowpass filter.\u001b[0m\n"
     ]
    },
    {
     "name": "stderr",
     "output_type": "stream",
     "text": [
      " 88%|████████▊ | 875/1000 [01:26<00:13,  9.25it/s]"
     ]
    },
    {
     "name": "stdout",
     "output_type": "stream",
     "text": [
      "\u001b[32m2024-08-26 00:47:03.137\u001b[0m | \u001b[33m\u001b[1mWARNING \u001b[0m | \u001b[36menfify.preprocessing\u001b[0m:\u001b[36mdownsample_scipy\u001b[0m:\u001b[36m47\u001b[0m - \u001b[33m\u001b[1mThe target sampling rate is not an integer multiple of the current sampling rate. Resampling is used, which does not have an integrated antialiasing filter. Applying a lowpass filter.\u001b[0m\n",
      "\u001b[32m2024-08-26 00:47:03.216\u001b[0m | \u001b[33m\u001b[1mWARNING \u001b[0m | \u001b[36menfify.preprocessing\u001b[0m:\u001b[36mdownsample_scipy\u001b[0m:\u001b[36m47\u001b[0m - \u001b[33m\u001b[1mThe target sampling rate is not an integer multiple of the current sampling rate. Resampling is used, which does not have an integrated antialiasing filter. Applying a lowpass filter.\u001b[0m\n",
      "\u001b[32m2024-08-26 00:47:03.267\u001b[0m | \u001b[33m\u001b[1mWARNING \u001b[0m | \u001b[36menfify.preprocessing\u001b[0m:\u001b[36mdownsample_scipy\u001b[0m:\u001b[36m47\u001b[0m - \u001b[33m\u001b[1mThe target sampling rate is not an integer multiple of the current sampling rate. Resampling is used, which does not have an integrated antialiasing filter. Applying a lowpass filter.\u001b[0m\n"
     ]
    },
    {
     "name": "stderr",
     "output_type": "stream",
     "text": [
      " 88%|████████▊ | 877/1000 [01:27<00:16,  7.26it/s]"
     ]
    },
    {
     "name": "stdout",
     "output_type": "stream",
     "text": [
      "\u001b[32m2024-08-26 00:47:03.458\u001b[0m | \u001b[33m\u001b[1mWARNING \u001b[0m | \u001b[36menfify.preprocessing\u001b[0m:\u001b[36mdownsample_scipy\u001b[0m:\u001b[36m47\u001b[0m - \u001b[33m\u001b[1mThe target sampling rate is not an integer multiple of the current sampling rate. Resampling is used, which does not have an integrated antialiasing filter. Applying a lowpass filter.\u001b[0m\n",
      "\u001b[32m2024-08-26 00:47:03.624\u001b[0m | \u001b[33m\u001b[1mWARNING \u001b[0m | \u001b[36menfify.preprocessing\u001b[0m:\u001b[36mdownsample_scipy\u001b[0m:\u001b[36m47\u001b[0m - \u001b[33m\u001b[1mThe target sampling rate is not an integer multiple of the current sampling rate. Resampling is used, which does not have an integrated antialiasing filter. Applying a lowpass filter.\u001b[0m\n"
     ]
    },
    {
     "name": "stderr",
     "output_type": "stream",
     "text": [
      " 88%|████████▊ | 881/1000 [01:27<00:10, 10.95it/s]"
     ]
    },
    {
     "name": "stdout",
     "output_type": "stream",
     "text": [
      "\u001b[32m2024-08-26 00:47:03.681\u001b[0m | \u001b[33m\u001b[1mWARNING \u001b[0m | \u001b[36menfify.preprocessing\u001b[0m:\u001b[36mdownsample_scipy\u001b[0m:\u001b[36m47\u001b[0m - \u001b[33m\u001b[1mThe target sampling rate is not an integer multiple of the current sampling rate. Resampling is used, which does not have an integrated antialiasing filter. Applying a lowpass filter.\u001b[0m\n",
      "\u001b[32m2024-08-26 00:47:03.752\u001b[0m | \u001b[33m\u001b[1mWARNING \u001b[0m | \u001b[36menfify.preprocessing\u001b[0m:\u001b[36mdownsample_scipy\u001b[0m:\u001b[36m47\u001b[0m - \u001b[33m\u001b[1mThe target sampling rate is not an integer multiple of the current sampling rate. Resampling is used, which does not have an integrated antialiasing filter. Applying a lowpass filter.\u001b[0m\n",
      "\u001b[32m2024-08-26 00:47:03.838\u001b[0m | \u001b[33m\u001b[1mWARNING \u001b[0m | \u001b[36menfify.preprocessing\u001b[0m:\u001b[36mdownsample_scipy\u001b[0m:\u001b[36m47\u001b[0m - \u001b[33m\u001b[1mThe target sampling rate is not an integer multiple of the current sampling rate. Resampling is used, which does not have an integrated antialiasing filter. Applying a lowpass filter.\u001b[0m\n",
      "\u001b[32m2024-08-26 00:47:03.879\u001b[0m | \u001b[33m\u001b[1mWARNING \u001b[0m | \u001b[36menfify.preprocessing\u001b[0m:\u001b[36mdownsample_scipy\u001b[0m:\u001b[36m47\u001b[0m - \u001b[33m\u001b[1mThe target sampling rate is not an integer multiple of the current sampling rate. Resampling is used, which does not have an integrated antialiasing filter. Applying a lowpass filter.\u001b[0m\n"
     ]
    },
    {
     "name": "stderr",
     "output_type": "stream",
     "text": [
      " 88%|████████▊ | 883/1000 [01:27<00:11,  9.86it/s]"
     ]
    },
    {
     "name": "stdout",
     "output_type": "stream",
     "text": [
      "\u001b[32m2024-08-26 00:47:03.987\u001b[0m | \u001b[33m\u001b[1mWARNING \u001b[0m | \u001b[36menfify.preprocessing\u001b[0m:\u001b[36mdownsample_scipy\u001b[0m:\u001b[36m47\u001b[0m - \u001b[33m\u001b[1mThe target sampling rate is not an integer multiple of the current sampling rate. Resampling is used, which does not have an integrated antialiasing filter. Applying a lowpass filter.\u001b[0m\n",
      "\u001b[32m2024-08-26 00:47:04.121\u001b[0m | \u001b[33m\u001b[1mWARNING \u001b[0m | \u001b[36menfify.preprocessing\u001b[0m:\u001b[36mdownsample_scipy\u001b[0m:\u001b[36m47\u001b[0m - \u001b[33m\u001b[1mThe target sampling rate is not an integer multiple of the current sampling rate. Resampling is used, which does not have an integrated antialiasing filter. Applying a lowpass filter.\u001b[0m\n"
     ]
    },
    {
     "name": "stderr",
     "output_type": "stream",
     "text": [
      " 88%|████████▊ | 885/1000 [01:27<00:12,  9.35it/s]"
     ]
    },
    {
     "name": "stdout",
     "output_type": "stream",
     "text": [
      "\u001b[32m2024-08-26 00:47:04.219\u001b[0m | \u001b[33m\u001b[1mWARNING \u001b[0m | \u001b[36menfify.preprocessing\u001b[0m:\u001b[36mdownsample_scipy\u001b[0m:\u001b[36m47\u001b[0m - \u001b[33m\u001b[1mThe target sampling rate is not an integer multiple of the current sampling rate. Resampling is used, which does not have an integrated antialiasing filter. Applying a lowpass filter.\u001b[0m\n",
      "\u001b[32m2024-08-26 00:47:04.354\u001b[0m | \u001b[33m\u001b[1mWARNING \u001b[0m | \u001b[36menfify.preprocessing\u001b[0m:\u001b[36mdownsample_scipy\u001b[0m:\u001b[36m47\u001b[0m - \u001b[33m\u001b[1mThe target sampling rate is not an integer multiple of the current sampling rate. Resampling is used, which does not have an integrated antialiasing filter. Applying a lowpass filter.\u001b[0m\n",
      "\u001b[32m2024-08-26 00:47:04.391\u001b[0m | \u001b[33m\u001b[1mWARNING \u001b[0m | \u001b[36menfify.preprocessing\u001b[0m:\u001b[36mdownsample_scipy\u001b[0m:\u001b[36m47\u001b[0m - \u001b[33m\u001b[1mThe target sampling rate is not an integer multiple of the current sampling rate. Resampling is used, which does not have an integrated antialiasing filter. Applying a lowpass filter.\u001b[0m\n"
     ]
    },
    {
     "name": "stderr",
     "output_type": "stream",
     "text": [
      " 89%|████████▉ | 889/1000 [01:28<00:10, 10.24it/s]"
     ]
    },
    {
     "name": "stdout",
     "output_type": "stream",
     "text": [
      "\u001b[32m2024-08-26 00:47:04.493\u001b[0m | \u001b[33m\u001b[1mWARNING \u001b[0m | \u001b[36menfify.preprocessing\u001b[0m:\u001b[36mdownsample_scipy\u001b[0m:\u001b[36m47\u001b[0m - \u001b[33m\u001b[1mThe target sampling rate is not an integer multiple of the current sampling rate. Resampling is used, which does not have an integrated antialiasing filter. Applying a lowpass filter.\u001b[0m\n",
      "\u001b[32m2024-08-26 00:47:04.647\u001b[0m | \u001b[33m\u001b[1mWARNING \u001b[0m | \u001b[36menfify.preprocessing\u001b[0m:\u001b[36mdownsample_scipy\u001b[0m:\u001b[36m47\u001b[0m - \u001b[33m\u001b[1mThe target sampling rate is not an integer multiple of the current sampling rate. Resampling is used, which does not have an integrated antialiasing filter. Applying a lowpass filter.\u001b[0m\n"
     ]
    },
    {
     "name": "stderr",
     "output_type": "stream",
     "text": [
      " 89%|████████▉ | 891/1000 [01:28<00:10, 10.85it/s]"
     ]
    },
    {
     "name": "stdout",
     "output_type": "stream",
     "text": [
      "\u001b[32m2024-08-26 00:47:04.702\u001b[0m | \u001b[33m\u001b[1mWARNING \u001b[0m | \u001b[36menfify.preprocessing\u001b[0m:\u001b[36mdownsample_scipy\u001b[0m:\u001b[36m47\u001b[0m - \u001b[33m\u001b[1mThe target sampling rate is not an integer multiple of the current sampling rate. Resampling is used, which does not have an integrated antialiasing filter. Applying a lowpass filter.\u001b[0m\n",
      "\u001b[32m2024-08-26 00:47:04.819\u001b[0m | \u001b[33m\u001b[1mWARNING \u001b[0m | \u001b[36menfify.preprocessing\u001b[0m:\u001b[36mdownsample_scipy\u001b[0m:\u001b[36m47\u001b[0m - \u001b[33m\u001b[1mThe target sampling rate is not an integer multiple of the current sampling rate. Resampling is used, which does not have an integrated antialiasing filter. Applying a lowpass filter.\u001b[0m\n",
      "\u001b[32m2024-08-26 00:47:04.866\u001b[0m | \u001b[33m\u001b[1mWARNING \u001b[0m | \u001b[36menfify.preprocessing\u001b[0m:\u001b[36mdownsample_scipy\u001b[0m:\u001b[36m47\u001b[0m - \u001b[33m\u001b[1mThe target sampling rate is not an integer multiple of the current sampling rate. Resampling is used, which does not have an integrated antialiasing filter. Applying a lowpass filter.\u001b[0m\n"
     ]
    },
    {
     "name": "stderr",
     "output_type": "stream",
     "text": [
      " 89%|████████▉ | 894/1000 [01:28<00:13,  8.09it/s]"
     ]
    },
    {
     "name": "stdout",
     "output_type": "stream",
     "text": [
      "\u001b[32m2024-08-26 00:47:05.148\u001b[0m | \u001b[33m\u001b[1mWARNING \u001b[0m | \u001b[36menfify.preprocessing\u001b[0m:\u001b[36mdownsample_scipy\u001b[0m:\u001b[36m47\u001b[0m - \u001b[33m\u001b[1mThe target sampling rate is not an integer multiple of the current sampling rate. Resampling is used, which does not have an integrated antialiasing filter. Applying a lowpass filter.\u001b[0m\n",
      "\u001b[32m2024-08-26 00:47:05.255\u001b[0m | \u001b[33m\u001b[1mWARNING \u001b[0m | \u001b[36menfify.preprocessing\u001b[0m:\u001b[36mdownsample_scipy\u001b[0m:\u001b[36m47\u001b[0m - \u001b[33m\u001b[1mThe target sampling rate is not an integer multiple of the current sampling rate. Resampling is used, which does not have an integrated antialiasing filter. Applying a lowpass filter.\u001b[0m\n"
     ]
    },
    {
     "name": "stderr",
     "output_type": "stream",
     "text": [
      " 90%|████████▉ | 896/1000 [01:28<00:11,  8.79it/s]"
     ]
    },
    {
     "name": "stdout",
     "output_type": "stream",
     "text": [
      "\u001b[32m2024-08-26 00:47:05.373\u001b[0m | \u001b[33m\u001b[1mWARNING \u001b[0m | \u001b[36menfify.preprocessing\u001b[0m:\u001b[36mdownsample_scipy\u001b[0m:\u001b[36m47\u001b[0m - \u001b[33m\u001b[1mThe target sampling rate is not an integer multiple of the current sampling rate. Resampling is used, which does not have an integrated antialiasing filter. Applying a lowpass filter.\u001b[0m\n",
      "\u001b[32m2024-08-26 00:47:05.469\u001b[0m | \u001b[33m\u001b[1mWARNING \u001b[0m | \u001b[36menfify.preprocessing\u001b[0m:\u001b[36mdownsample_scipy\u001b[0m:\u001b[36m47\u001b[0m - \u001b[33m\u001b[1mThe target sampling rate is not an integer multiple of the current sampling rate. Resampling is used, which does not have an integrated antialiasing filter. Applying a lowpass filter.\u001b[0m\n",
      "\u001b[32m2024-08-26 00:47:05.566\u001b[0m | \u001b[33m\u001b[1mWARNING \u001b[0m | \u001b[36menfify.preprocessing\u001b[0m:\u001b[36mdownsample_scipy\u001b[0m:\u001b[36m47\u001b[0m - \u001b[33m\u001b[1mThe target sampling rate is not an integer multiple of the current sampling rate. Resampling is used, which does not have an integrated antialiasing filter. Applying a lowpass filter.\u001b[0m\n"
     ]
    },
    {
     "name": "stderr",
     "output_type": "stream",
     "text": [
      " 90%|████████▉ | 898/1000 [01:29<00:13,  7.82it/s]"
     ]
    },
    {
     "name": "stdout",
     "output_type": "stream",
     "text": [
      "\u001b[32m2024-08-26 00:47:05.692\u001b[0m | \u001b[33m\u001b[1mWARNING \u001b[0m | \u001b[36menfify.preprocessing\u001b[0m:\u001b[36mdownsample_scipy\u001b[0m:\u001b[36m47\u001b[0m - \u001b[33m\u001b[1mThe target sampling rate is not an integer multiple of the current sampling rate. Resampling is used, which does not have an integrated antialiasing filter. Applying a lowpass filter.\u001b[0m\n",
      "\u001b[32m2024-08-26 00:47:05.869\u001b[0m | \u001b[33m\u001b[1mWARNING \u001b[0m | \u001b[36menfify.preprocessing\u001b[0m:\u001b[36mdownsample_scipy\u001b[0m:\u001b[36m47\u001b[0m - \u001b[33m\u001b[1mThe target sampling rate is not an integer multiple of the current sampling rate. Resampling is used, which does not have an integrated antialiasing filter. Applying a lowpass filter.\u001b[0m\n"
     ]
    },
    {
     "name": "stderr",
     "output_type": "stream",
     "text": [
      " 90%|█████████ | 900/1000 [01:29<00:15,  6.55it/s]"
     ]
    },
    {
     "name": "stdout",
     "output_type": "stream",
     "text": [
      "\u001b[32m2024-08-26 00:47:06.051\u001b[0m | \u001b[33m\u001b[1mWARNING \u001b[0m | \u001b[36menfify.preprocessing\u001b[0m:\u001b[36mdownsample_scipy\u001b[0m:\u001b[36m47\u001b[0m - \u001b[33m\u001b[1mThe target sampling rate is not an integer multiple of the current sampling rate. Resampling is used, which does not have an integrated antialiasing filter. Applying a lowpass filter.\u001b[0m\n",
      "\u001b[32m2024-08-26 00:47:06.237\u001b[0m | \u001b[33m\u001b[1mWARNING \u001b[0m | \u001b[36menfify.preprocessing\u001b[0m:\u001b[36mdownsample_scipy\u001b[0m:\u001b[36m47\u001b[0m - \u001b[33m\u001b[1mThe target sampling rate is not an integer multiple of the current sampling rate. Resampling is used, which does not have an integrated antialiasing filter. Applying a lowpass filter.\u001b[0m\n"
     ]
    },
    {
     "name": "stderr",
     "output_type": "stream",
     "text": [
      " 90%|█████████ | 902/1000 [01:29<00:13,  7.22it/s]"
     ]
    },
    {
     "name": "stdout",
     "output_type": "stream",
     "text": [
      "\u001b[32m2024-08-26 00:47:06.306\u001b[0m | \u001b[33m\u001b[1mWARNING \u001b[0m | \u001b[36menfify.preprocessing\u001b[0m:\u001b[36mdownsample_scipy\u001b[0m:\u001b[36m47\u001b[0m - \u001b[33m\u001b[1mThe target sampling rate is not an integer multiple of the current sampling rate. Resampling is used, which does not have an integrated antialiasing filter. Applying a lowpass filter.\u001b[0m\n",
      "\u001b[32m2024-08-26 00:47:06.474\u001b[0m | \u001b[33m\u001b[1mWARNING \u001b[0m | \u001b[36menfify.preprocessing\u001b[0m:\u001b[36mdownsample_scipy\u001b[0m:\u001b[36m47\u001b[0m - \u001b[33m\u001b[1mThe target sampling rate is not an integer multiple of the current sampling rate. Resampling is used, which does not have an integrated antialiasing filter. Applying a lowpass filter.\u001b[0m\n"
     ]
    },
    {
     "name": "stderr",
     "output_type": "stream",
     "text": [
      " 90%|█████████ | 904/1000 [01:30<00:14,  6.74it/s]"
     ]
    },
    {
     "name": "stdout",
     "output_type": "stream",
     "text": [
      "\u001b[32m2024-08-26 00:47:06.651\u001b[0m | \u001b[33m\u001b[1mWARNING \u001b[0m | \u001b[36menfify.preprocessing\u001b[0m:\u001b[36mdownsample_scipy\u001b[0m:\u001b[36m47\u001b[0m - \u001b[33m\u001b[1mThe target sampling rate is not an integer multiple of the current sampling rate. Resampling is used, which does not have an integrated antialiasing filter. Applying a lowpass filter.\u001b[0m\n",
      "\u001b[32m2024-08-26 00:47:06.809\u001b[0m | \u001b[33m\u001b[1mWARNING \u001b[0m | \u001b[36menfify.preprocessing\u001b[0m:\u001b[36mdownsample_scipy\u001b[0m:\u001b[36m47\u001b[0m - \u001b[33m\u001b[1mThe target sampling rate is not an integer multiple of the current sampling rate. Resampling is used, which does not have an integrated antialiasing filter. Applying a lowpass filter.\u001b[0m\n"
     ]
    },
    {
     "name": "stderr",
     "output_type": "stream",
     "text": [
      " 91%|█████████ | 906/1000 [01:30<00:15,  6.04it/s]"
     ]
    },
    {
     "name": "stdout",
     "output_type": "stream",
     "text": [
      "\u001b[32m2024-08-26 00:47:07.017\u001b[0m | \u001b[33m\u001b[1mWARNING \u001b[0m | \u001b[36menfify.preprocessing\u001b[0m:\u001b[36mdownsample_scipy\u001b[0m:\u001b[36m47\u001b[0m - \u001b[33m\u001b[1mThe target sampling rate is not an integer multiple of the current sampling rate. Resampling is used, which does not have an integrated antialiasing filter. Applying a lowpass filter.\u001b[0m\n",
      "\u001b[32m2024-08-26 00:47:07.179\u001b[0m | \u001b[33m\u001b[1mWARNING \u001b[0m | \u001b[36menfify.preprocessing\u001b[0m:\u001b[36mdownsample_scipy\u001b[0m:\u001b[36m47\u001b[0m - \u001b[33m\u001b[1mThe target sampling rate is not an integer multiple of the current sampling rate. Resampling is used, which does not have an integrated antialiasing filter. Applying a lowpass filter.\u001b[0m\n"
     ]
    },
    {
     "name": "stderr",
     "output_type": "stream",
     "text": [
      " 91%|█████████ | 907/1000 [01:30<00:15,  5.96it/s]"
     ]
    },
    {
     "name": "stdout",
     "output_type": "stream",
     "text": [
      "\u001b[32m2024-08-26 00:47:07.355\u001b[0m | \u001b[33m\u001b[1mWARNING \u001b[0m | \u001b[36menfify.preprocessing\u001b[0m:\u001b[36mdownsample_scipy\u001b[0m:\u001b[36m47\u001b[0m - \u001b[33m\u001b[1mThe target sampling rate is not an integer multiple of the current sampling rate. Resampling is used, which does not have an integrated antialiasing filter. Applying a lowpass filter.\u001b[0m\n",
      "\u001b[32m2024-08-26 00:47:07.448\u001b[0m | \u001b[33m\u001b[1mWARNING \u001b[0m | \u001b[36menfify.preprocessing\u001b[0m:\u001b[36mdownsample_scipy\u001b[0m:\u001b[36m47\u001b[0m - \u001b[33m\u001b[1mThe target sampling rate is not an integer multiple of the current sampling rate. Resampling is used, which does not have an integrated antialiasing filter. Applying a lowpass filter.\u001b[0m\n"
     ]
    },
    {
     "name": "stderr",
     "output_type": "stream",
     "text": [
      " 91%|█████████ | 910/1000 [01:31<00:13,  6.47it/s]"
     ]
    },
    {
     "name": "stdout",
     "output_type": "stream",
     "text": [
      "\u001b[32m2024-08-26 00:47:07.632\u001b[0m | \u001b[33m\u001b[1mWARNING \u001b[0m | \u001b[36menfify.preprocessing\u001b[0m:\u001b[36mdownsample_scipy\u001b[0m:\u001b[36m47\u001b[0m - \u001b[33m\u001b[1mThe target sampling rate is not an integer multiple of the current sampling rate. Resampling is used, which does not have an integrated antialiasing filter. Applying a lowpass filter.\u001b[0m\n",
      "\u001b[32m2024-08-26 00:47:07.784\u001b[0m | \u001b[33m\u001b[1mWARNING \u001b[0m | \u001b[36menfify.preprocessing\u001b[0m:\u001b[36mdownsample_scipy\u001b[0m:\u001b[36m47\u001b[0m - \u001b[33m\u001b[1mThe target sampling rate is not an integer multiple of the current sampling rate. Resampling is used, which does not have an integrated antialiasing filter. Applying a lowpass filter.\u001b[0m\n"
     ]
    },
    {
     "name": "stderr",
     "output_type": "stream",
     "text": [
      " 91%|█████████ | 912/1000 [01:31<00:14,  6.16it/s]"
     ]
    },
    {
     "name": "stdout",
     "output_type": "stream",
     "text": [
      "\u001b[32m2024-08-26 00:47:07.975\u001b[0m | \u001b[33m\u001b[1mWARNING \u001b[0m | \u001b[36menfify.preprocessing\u001b[0m:\u001b[36mdownsample_scipy\u001b[0m:\u001b[36m47\u001b[0m - \u001b[33m\u001b[1mThe target sampling rate is not an integer multiple of the current sampling rate. Resampling is used, which does not have an integrated antialiasing filter. Applying a lowpass filter.\u001b[0m\n",
      "\u001b[32m2024-08-26 00:47:08.136\u001b[0m | \u001b[33m\u001b[1mWARNING \u001b[0m | \u001b[36menfify.preprocessing\u001b[0m:\u001b[36mdownsample_scipy\u001b[0m:\u001b[36m47\u001b[0m - \u001b[33m\u001b[1mThe target sampling rate is not an integer multiple of the current sampling rate. Resampling is used, which does not have an integrated antialiasing filter. Applying a lowpass filter.\u001b[0m\n"
     ]
    },
    {
     "name": "stderr",
     "output_type": "stream",
     "text": [
      " 91%|█████████▏| 914/1000 [01:31<00:14,  6.11it/s]"
     ]
    },
    {
     "name": "stdout",
     "output_type": "stream",
     "text": [
      "\u001b[32m2024-08-26 00:47:08.254\u001b[0m | \u001b[33m\u001b[1mWARNING \u001b[0m | \u001b[36menfify.preprocessing\u001b[0m:\u001b[36mdownsample_scipy\u001b[0m:\u001b[36m47\u001b[0m - \u001b[33m\u001b[1mThe target sampling rate is not an integer multiple of the current sampling rate. Resampling is used, which does not have an integrated antialiasing filter. Applying a lowpass filter.\u001b[0m\n",
      "\u001b[32m2024-08-26 00:47:08.449\u001b[0m | \u001b[33m\u001b[1mWARNING \u001b[0m | \u001b[36menfify.preprocessing\u001b[0m:\u001b[36mdownsample_scipy\u001b[0m:\u001b[36m47\u001b[0m - \u001b[33m\u001b[1mThe target sampling rate is not an integer multiple of the current sampling rate. Resampling is used, which does not have an integrated antialiasing filter. Applying a lowpass filter.\u001b[0m\n"
     ]
    },
    {
     "name": "stderr",
     "output_type": "stream",
     "text": [
      " 92%|█████████▏| 916/1000 [01:32<00:11,  7.04it/s]"
     ]
    },
    {
     "name": "stdout",
     "output_type": "stream",
     "text": [
      "\u001b[32m2024-08-26 00:47:08.529\u001b[0m | \u001b[33m\u001b[1mWARNING \u001b[0m | \u001b[36menfify.preprocessing\u001b[0m:\u001b[36mdownsample_scipy\u001b[0m:\u001b[36m47\u001b[0m - \u001b[33m\u001b[1mThe target sampling rate is not an integer multiple of the current sampling rate. Resampling is used, which does not have an integrated antialiasing filter. Applying a lowpass filter.\u001b[0m\n",
      "\u001b[32m2024-08-26 00:47:08.675\u001b[0m | \u001b[33m\u001b[1mWARNING \u001b[0m | \u001b[36menfify.preprocessing\u001b[0m:\u001b[36mdownsample_scipy\u001b[0m:\u001b[36m47\u001b[0m - \u001b[33m\u001b[1mThe target sampling rate is not an integer multiple of the current sampling rate. Resampling is used, which does not have an integrated antialiasing filter. Applying a lowpass filter.\u001b[0m\n"
     ]
    },
    {
     "name": "stderr",
     "output_type": "stream",
     "text": [
      " 92%|█████████▏| 918/1000 [01:32<00:13,  6.11it/s]"
     ]
    },
    {
     "name": "stdout",
     "output_type": "stream",
     "text": [
      "\u001b[32m2024-08-26 00:47:08.826\u001b[0m | \u001b[33m\u001b[1mWARNING \u001b[0m | \u001b[36menfify.preprocessing\u001b[0m:\u001b[36mdownsample_scipy\u001b[0m:\u001b[36m47\u001b[0m - \u001b[33m\u001b[1mThe target sampling rate is not an integer multiple of the current sampling rate. Resampling is used, which does not have an integrated antialiasing filter. Applying a lowpass filter.\u001b[0m\n"
     ]
    },
    {
     "name": "stderr",
     "output_type": "stream",
     "text": [
      " 92%|█████████▏| 919/1000 [01:32<00:13,  5.79it/s]"
     ]
    },
    {
     "name": "stdout",
     "output_type": "stream",
     "text": [
      "\u001b[32m2024-08-26 00:47:09.052\u001b[0m | \u001b[33m\u001b[1mWARNING \u001b[0m | \u001b[36menfify.preprocessing\u001b[0m:\u001b[36mdownsample_scipy\u001b[0m:\u001b[36m47\u001b[0m - \u001b[33m\u001b[1mThe target sampling rate is not an integer multiple of the current sampling rate. Resampling is used, which does not have an integrated antialiasing filter. Applying a lowpass filter.\u001b[0m\n",
      "\u001b[32m2024-08-26 00:47:09.251\u001b[0m | \u001b[33m\u001b[1mWARNING \u001b[0m | \u001b[36menfify.preprocessing\u001b[0m:\u001b[36mdownsample_scipy\u001b[0m:\u001b[36m47\u001b[0m - \u001b[33m\u001b[1mThe target sampling rate is not an integer multiple of the current sampling rate. Resampling is used, which does not have an integrated antialiasing filter. Applying a lowpass filter.\u001b[0m\n"
     ]
    },
    {
     "name": "stderr",
     "output_type": "stream",
     "text": [
      " 92%|█████████▏| 920/1000 [01:32<00:15,  5.19it/s]"
     ]
    },
    {
     "name": "stdout",
     "output_type": "stream",
     "text": [
      "\u001b[32m2024-08-26 00:47:09.528\u001b[0m | \u001b[33m\u001b[1mWARNING \u001b[0m | \u001b[36menfify.preprocessing\u001b[0m:\u001b[36mdownsample_scipy\u001b[0m:\u001b[36m47\u001b[0m - \u001b[33m\u001b[1mThe target sampling rate is not an integer multiple of the current sampling rate. Resampling is used, which does not have an integrated antialiasing filter. Applying a lowpass filter.\u001b[0m\n"
     ]
    },
    {
     "name": "stderr",
     "output_type": "stream",
     "text": [
      " 92%|█████████▏| 922/1000 [01:33<00:15,  5.14it/s]"
     ]
    },
    {
     "name": "stdout",
     "output_type": "stream",
     "text": [
      "\u001b[32m2024-08-26 00:47:09.761\u001b[0m | \u001b[33m\u001b[1mWARNING \u001b[0m | \u001b[36menfify.preprocessing\u001b[0m:\u001b[36mdownsample_scipy\u001b[0m:\u001b[36m47\u001b[0m - \u001b[33m\u001b[1mThe target sampling rate is not an integer multiple of the current sampling rate. Resampling is used, which does not have an integrated antialiasing filter. Applying a lowpass filter.\u001b[0m\n",
      "\u001b[32m2024-08-26 00:47:09.908\u001b[0m | \u001b[33m\u001b[1mWARNING \u001b[0m | \u001b[36menfify.preprocessing\u001b[0m:\u001b[36mdownsample_scipy\u001b[0m:\u001b[36m47\u001b[0m - \u001b[33m\u001b[1mThe target sampling rate is not an integer multiple of the current sampling rate. Resampling is used, which does not have an integrated antialiasing filter. Applying a lowpass filter.\u001b[0m\n"
     ]
    },
    {
     "name": "stderr",
     "output_type": "stream",
     "text": [
      " 92%|█████████▏| 924/1000 [01:33<00:13,  5.57it/s]"
     ]
    },
    {
     "name": "stdout",
     "output_type": "stream",
     "text": [
      "\u001b[32m2024-08-26 00:47:10.088\u001b[0m | \u001b[33m\u001b[1mWARNING \u001b[0m | \u001b[36menfify.preprocessing\u001b[0m:\u001b[36mdownsample_scipy\u001b[0m:\u001b[36m47\u001b[0m - \u001b[33m\u001b[1mThe target sampling rate is not an integer multiple of the current sampling rate. Resampling is used, which does not have an integrated antialiasing filter. Applying a lowpass filter.\u001b[0m\n",
      "\u001b[32m2024-08-26 00:47:10.242\u001b[0m | \u001b[33m\u001b[1mWARNING \u001b[0m | \u001b[36menfify.preprocessing\u001b[0m:\u001b[36mdownsample_scipy\u001b[0m:\u001b[36m47\u001b[0m - \u001b[33m\u001b[1mThe target sampling rate is not an integer multiple of the current sampling rate. Resampling is used, which does not have an integrated antialiasing filter. Applying a lowpass filter.\u001b[0m\n"
     ]
    },
    {
     "name": "stderr",
     "output_type": "stream",
     "text": [
      "                                                  "
     ]
    },
    {
     "name": "stdout",
     "output_type": "stream",
     "text": [
      "\u001b[32m2024-08-26 00:47:10.306\u001b[0m | \u001b[33m\u001b[1mWARNING \u001b[0m | \u001b[36menfify.preprocessing\u001b[0m:\u001b[36mdownsample_scipy\u001b[0m:\u001b[36m47\u001b[0m - \u001b[33m\u001b[1mThe target sampling rate is not an integer multiple of the current sampling rate. Resampling is used, which does not have an integrated antialiasing filter. Applying a lowpass filter.\u001b[0m\n"
     ]
    },
    {
     "name": "stderr",
     "output_type": "stream",
     "text": [
      " 93%|█████████▎| 927/1000 [01:34<00:12,  5.99it/s]"
     ]
    },
    {
     "name": "stdout",
     "output_type": "stream",
     "text": [
      "\u001b[32m2024-08-26 00:47:10.505\u001b[0m | \u001b[33m\u001b[1mWARNING \u001b[0m | \u001b[36menfify.preprocessing\u001b[0m:\u001b[36mdownsample_scipy\u001b[0m:\u001b[36m47\u001b[0m - \u001b[33m\u001b[1mThe target sampling rate is not an integer multiple of the current sampling rate. Resampling is used, which does not have an integrated antialiasing filter. Applying a lowpass filter.\u001b[0m\n",
      "\u001b[32m2024-08-26 00:47:10.701\u001b[0m | \u001b[33m\u001b[1mWARNING \u001b[0m | \u001b[36menfify.preprocessing\u001b[0m:\u001b[36mdownsample_scipy\u001b[0m:\u001b[36m47\u001b[0m - \u001b[33m\u001b[1mThe target sampling rate is not an integer multiple of the current sampling rate. Resampling is used, which does not have an integrated antialiasing filter. Applying a lowpass filter.\u001b[0m\n"
     ]
    },
    {
     "name": "stderr",
     "output_type": "stream",
     "text": [
      " 93%|█████████▎| 929/1000 [01:34<00:11,  6.00it/s]"
     ]
    },
    {
     "name": "stdout",
     "output_type": "stream",
     "text": [
      "\u001b[32m2024-08-26 00:47:10.808\u001b[0m | \u001b[33m\u001b[1mWARNING \u001b[0m | \u001b[36menfify.preprocessing\u001b[0m:\u001b[36mdownsample_scipy\u001b[0m:\u001b[36m47\u001b[0m - \u001b[33m\u001b[1mThe target sampling rate is not an integer multiple of the current sampling rate. Resampling is used, which does not have an integrated antialiasing filter. Applying a lowpass filter.\u001b[0m\n"
     ]
    },
    {
     "name": "stderr",
     "output_type": "stream",
     "text": [
      " 93%|█████████▎| 930/1000 [01:34<00:11,  5.97it/s]"
     ]
    },
    {
     "name": "stdout",
     "output_type": "stream",
     "text": [
      "\u001b[32m2024-08-26 00:47:11.022\u001b[0m | \u001b[33m\u001b[1mWARNING \u001b[0m | \u001b[36menfify.preprocessing\u001b[0m:\u001b[36mdownsample_scipy\u001b[0m:\u001b[36m47\u001b[0m - \u001b[33m\u001b[1mThe target sampling rate is not an integer multiple of the current sampling rate. Resampling is used, which does not have an integrated antialiasing filter. Applying a lowpass filter.\u001b[0m\n",
      "\u001b[32m2024-08-26 00:47:11.187\u001b[0m | \u001b[33m\u001b[1mWARNING \u001b[0m | \u001b[36menfify.preprocessing\u001b[0m:\u001b[36mdownsample_scipy\u001b[0m:\u001b[36m47\u001b[0m - \u001b[33m\u001b[1mThe target sampling rate is not an integer multiple of the current sampling rate. Resampling is used, which does not have an integrated antialiasing filter. Applying a lowpass filter.\u001b[0m\n"
     ]
    },
    {
     "name": "stderr",
     "output_type": "stream",
     "text": [
      " 93%|█████████▎| 933/1000 [01:34<00:09,  7.11it/s]"
     ]
    },
    {
     "name": "stdout",
     "output_type": "stream",
     "text": [
      "\u001b[32m2024-08-26 00:47:11.358\u001b[0m | \u001b[33m\u001b[1mWARNING \u001b[0m | \u001b[36menfify.preprocessing\u001b[0m:\u001b[36mdownsample_scipy\u001b[0m:\u001b[36m47\u001b[0m - \u001b[33m\u001b[1mThe target sampling rate is not an integer multiple of the current sampling rate. Resampling is used, which does not have an integrated antialiasing filter. Applying a lowpass filter.\u001b[0m\n",
      "\u001b[32m2024-08-26 00:47:11.437\u001b[0m | \u001b[33m\u001b[1mWARNING \u001b[0m | \u001b[36menfify.preprocessing\u001b[0m:\u001b[36mdownsample_scipy\u001b[0m:\u001b[36m47\u001b[0m - \u001b[33m\u001b[1mThe target sampling rate is not an integer multiple of the current sampling rate. Resampling is used, which does not have an integrated antialiasing filter. Applying a lowpass filter.\u001b[0m\n"
     ]
    },
    {
     "name": "stderr",
     "output_type": "stream",
     "text": [
      " 93%|█████████▎| 934/1000 [01:35<00:09,  6.85it/s]"
     ]
    },
    {
     "name": "stdout",
     "output_type": "stream",
     "text": [
      "\u001b[32m2024-08-26 00:47:11.579\u001b[0m | \u001b[33m\u001b[1mWARNING \u001b[0m | \u001b[36menfify.preprocessing\u001b[0m:\u001b[36mdownsample_scipy\u001b[0m:\u001b[36m47\u001b[0m - \u001b[33m\u001b[1mThe target sampling rate is not an integer multiple of the current sampling rate. Resampling is used, which does not have an integrated antialiasing filter. Applying a lowpass filter.\u001b[0m\n",
      "\u001b[32m2024-08-26 00:47:11.731\u001b[0m | \u001b[33m\u001b[1mWARNING \u001b[0m | \u001b[36menfify.preprocessing\u001b[0m:\u001b[36mdownsample_scipy\u001b[0m:\u001b[36m47\u001b[0m - \u001b[33m\u001b[1mThe target sampling rate is not an integer multiple of the current sampling rate. Resampling is used, which does not have an integrated antialiasing filter. Applying a lowpass filter.\u001b[0m\n"
     ]
    },
    {
     "name": "stderr",
     "output_type": "stream",
     "text": [
      " 94%|█████████▍| 938/1000 [01:35<00:05, 10.41it/s]"
     ]
    },
    {
     "name": "stdout",
     "output_type": "stream",
     "text": [
      "\u001b[32m2024-08-26 00:47:11.864\u001b[0m | \u001b[33m\u001b[1mWARNING \u001b[0m | \u001b[36menfify.preprocessing\u001b[0m:\u001b[36mdownsample_scipy\u001b[0m:\u001b[36m47\u001b[0m - \u001b[33m\u001b[1mThe target sampling rate is not an integer multiple of the current sampling rate. Resampling is used, which does not have an integrated antialiasing filter. Applying a lowpass filter.\u001b[0m\n",
      "\u001b[32m2024-08-26 00:47:11.907\u001b[0m | \u001b[33m\u001b[1mWARNING \u001b[0m | \u001b[36menfify.preprocessing\u001b[0m:\u001b[36mdownsample_scipy\u001b[0m:\u001b[36m47\u001b[0m - \u001b[33m\u001b[1mThe target sampling rate is not an integer multiple of the current sampling rate. Resampling is used, which does not have an integrated antialiasing filter. Applying a lowpass filter.\u001b[0m\n",
      "\u001b[32m2024-08-26 00:47:11.955\u001b[0m | \u001b[33m\u001b[1mWARNING \u001b[0m | \u001b[36menfify.preprocessing\u001b[0m:\u001b[36mdownsample_scipy\u001b[0m:\u001b[36m47\u001b[0m - \u001b[33m\u001b[1mThe target sampling rate is not an integer multiple of the current sampling rate. Resampling is used, which does not have an integrated antialiasing filter. Applying a lowpass filter.\u001b[0m\n",
      "\u001b[32m2024-08-26 00:47:12.030\u001b[0m | \u001b[33m\u001b[1mWARNING \u001b[0m | \u001b[36menfify.preprocessing\u001b[0m:\u001b[36mdownsample_scipy\u001b[0m:\u001b[36m47\u001b[0m - \u001b[33m\u001b[1mThe target sampling rate is not an integer multiple of the current sampling rate. Resampling is used, which does not have an integrated antialiasing filter. Applying a lowpass filter.\u001b[0m\n"
     ]
    },
    {
     "name": "stderr",
     "output_type": "stream",
     "text": [
      " 94%|█████████▍| 942/1000 [01:35<00:04, 11.70it/s]"
     ]
    },
    {
     "name": "stdout",
     "output_type": "stream",
     "text": [
      "\u001b[32m2024-08-26 00:47:12.158\u001b[0m | \u001b[33m\u001b[1mWARNING \u001b[0m | \u001b[36menfify.preprocessing\u001b[0m:\u001b[36mdownsample_scipy\u001b[0m:\u001b[36m47\u001b[0m - \u001b[33m\u001b[1mThe target sampling rate is not an integer multiple of the current sampling rate. Resampling is used, which does not have an integrated antialiasing filter. Applying a lowpass filter.\u001b[0m\n",
      "\u001b[32m2024-08-26 00:47:12.195\u001b[0m | \u001b[33m\u001b[1mWARNING \u001b[0m | \u001b[36menfify.preprocessing\u001b[0m:\u001b[36mdownsample_scipy\u001b[0m:\u001b[36m47\u001b[0m - \u001b[33m\u001b[1mThe target sampling rate is not an integer multiple of the current sampling rate. Resampling is used, which does not have an integrated antialiasing filter. Applying a lowpass filter.\u001b[0m\n",
      "\u001b[32m2024-08-26 00:47:12.265\u001b[0m | \u001b[33m\u001b[1mWARNING \u001b[0m | \u001b[36menfify.preprocessing\u001b[0m:\u001b[36mdownsample_scipy\u001b[0m:\u001b[36m47\u001b[0m - \u001b[33m\u001b[1mThe target sampling rate is not an integer multiple of the current sampling rate. Resampling is used, which does not have an integrated antialiasing filter. Applying a lowpass filter.\u001b[0m\n",
      "\u001b[32m2024-08-26 00:47:12.336\u001b[0m | \u001b[33m\u001b[1mWARNING \u001b[0m | \u001b[36menfify.preprocessing\u001b[0m:\u001b[36mdownsample_scipy\u001b[0m:\u001b[36m47\u001b[0m - \u001b[33m\u001b[1mThe target sampling rate is not an integer multiple of the current sampling rate. Resampling is used, which does not have an integrated antialiasing filter. Applying a lowpass filter.\u001b[0m\n"
     ]
    },
    {
     "name": "stderr",
     "output_type": "stream",
     "text": [
      " 94%|█████████▍| 944/1000 [01:35<00:04, 11.77it/s]"
     ]
    },
    {
     "name": "stdout",
     "output_type": "stream",
     "text": [
      "\u001b[32m2024-08-26 00:47:12.379\u001b[0m | \u001b[33m\u001b[1mWARNING \u001b[0m | \u001b[36menfify.preprocessing\u001b[0m:\u001b[36mdownsample_scipy\u001b[0m:\u001b[36m47\u001b[0m - \u001b[33m\u001b[1mThe target sampling rate is not an integer multiple of the current sampling rate. Resampling is used, which does not have an integrated antialiasing filter. Applying a lowpass filter.\u001b[0m\n",
      "\u001b[32m2024-08-26 00:47:12.506\u001b[0m | \u001b[33m\u001b[1mWARNING \u001b[0m | \u001b[36menfify.preprocessing\u001b[0m:\u001b[36mdownsample_scipy\u001b[0m:\u001b[36m47\u001b[0m - \u001b[33m\u001b[1mThe target sampling rate is not an integer multiple of the current sampling rate. Resampling is used, which does not have an integrated antialiasing filter. Applying a lowpass filter.\u001b[0m\n"
     ]
    },
    {
     "name": "stderr",
     "output_type": "stream",
     "text": [
      " 95%|█████████▍| 946/1000 [01:36<00:05, 10.20it/s]"
     ]
    },
    {
     "name": "stdout",
     "output_type": "stream",
     "text": [
      "\u001b[32m2024-08-26 00:47:12.701\u001b[0m | \u001b[33m\u001b[1mWARNING \u001b[0m | \u001b[36menfify.preprocessing\u001b[0m:\u001b[36mdownsample_scipy\u001b[0m:\u001b[36m47\u001b[0m - \u001b[33m\u001b[1mThe target sampling rate is not an integer multiple of the current sampling rate. Resampling is used, which does not have an integrated antialiasing filter. Applying a lowpass filter.\u001b[0m\n",
      "\u001b[32m2024-08-26 00:47:12.757\u001b[0m | \u001b[33m\u001b[1mWARNING \u001b[0m | \u001b[36menfify.preprocessing\u001b[0m:\u001b[36mdownsample_scipy\u001b[0m:\u001b[36m47\u001b[0m - \u001b[33m\u001b[1mThe target sampling rate is not an integer multiple of the current sampling rate. Resampling is used, which does not have an integrated antialiasing filter. Applying a lowpass filter.\u001b[0m\n"
     ]
    },
    {
     "name": "stderr",
     "output_type": "stream",
     "text": [
      " 95%|█████████▍| 948/1000 [01:36<00:06,  8.62it/s]"
     ]
    },
    {
     "name": "stdout",
     "output_type": "stream",
     "text": [
      "\u001b[32m2024-08-26 00:47:12.940\u001b[0m | \u001b[33m\u001b[1mWARNING \u001b[0m | \u001b[36menfify.preprocessing\u001b[0m:\u001b[36mdownsample_scipy\u001b[0m:\u001b[36m47\u001b[0m - \u001b[33m\u001b[1mThe target sampling rate is not an integer multiple of the current sampling rate. Resampling is used, which does not have an integrated antialiasing filter. Applying a lowpass filter.\u001b[0m\n",
      "\u001b[32m2024-08-26 00:47:13.069\u001b[0m | \u001b[33m\u001b[1mWARNING \u001b[0m | \u001b[36menfify.preprocessing\u001b[0m:\u001b[36mdownsample_scipy\u001b[0m:\u001b[36m47\u001b[0m - \u001b[33m\u001b[1mThe target sampling rate is not an integer multiple of the current sampling rate. Resampling is used, which does not have an integrated antialiasing filter. Applying a lowpass filter.\u001b[0m\n",
      "\u001b[32m2024-08-26 00:47:13.101\u001b[0m | \u001b[33m\u001b[1mWARNING \u001b[0m | \u001b[36menfify.preprocessing\u001b[0m:\u001b[36mdownsample_scipy\u001b[0m:\u001b[36m47\u001b[0m - \u001b[33m\u001b[1mThe target sampling rate is not an integer multiple of the current sampling rate. Resampling is used, which does not have an integrated antialiasing filter. Applying a lowpass filter.\u001b[0m\n"
     ]
    },
    {
     "name": "stderr",
     "output_type": "stream",
     "text": [
      " 95%|█████████▌| 950/1000 [01:36<00:05,  9.59it/s]"
     ]
    },
    {
     "name": "stdout",
     "output_type": "stream",
     "text": [
      "\u001b[32m2024-08-26 00:47:13.227\u001b[0m | \u001b[33m\u001b[1mWARNING \u001b[0m | \u001b[36menfify.preprocessing\u001b[0m:\u001b[36mdownsample_scipy\u001b[0m:\u001b[36m47\u001b[0m - \u001b[33m\u001b[1mThe target sampling rate is not an integer multiple of the current sampling rate. Resampling is used, which does not have an integrated antialiasing filter. Applying a lowpass filter.\u001b[0m\n"
     ]
    },
    {
     "name": "stderr",
     "output_type": "stream",
     "text": [
      " 95%|█████████▌| 953/1000 [01:37<00:05,  8.04it/s]"
     ]
    },
    {
     "name": "stdout",
     "output_type": "stream",
     "text": [
      "\u001b[32m2024-08-26 00:47:13.489\u001b[0m | \u001b[33m\u001b[1mWARNING \u001b[0m | \u001b[36menfify.preprocessing\u001b[0m:\u001b[36mdownsample_scipy\u001b[0m:\u001b[36m47\u001b[0m - \u001b[33m\u001b[1mThe target sampling rate is not an integer multiple of the current sampling rate. Resampling is used, which does not have an integrated antialiasing filter. Applying a lowpass filter.\u001b[0m\n",
      "\u001b[32m2024-08-26 00:47:13.564\u001b[0m | \u001b[33m\u001b[1mWARNING \u001b[0m | \u001b[36menfify.preprocessing\u001b[0m:\u001b[36mdownsample_scipy\u001b[0m:\u001b[36m47\u001b[0m - \u001b[33m\u001b[1mThe target sampling rate is not an integer multiple of the current sampling rate. Resampling is used, which does not have an integrated antialiasing filter. Applying a lowpass filter.\u001b[0m\n",
      "\u001b[32m2024-08-26 00:47:13.690\u001b[0m | \u001b[33m\u001b[1mWARNING \u001b[0m | \u001b[36menfify.preprocessing\u001b[0m:\u001b[36mdownsample_scipy\u001b[0m:\u001b[36m47\u001b[0m - \u001b[33m\u001b[1mThe target sampling rate is not an integer multiple of the current sampling rate. Resampling is used, which does not have an integrated antialiasing filter. Applying a lowpass filter.\u001b[0m\n"
     ]
    },
    {
     "name": "stderr",
     "output_type": "stream",
     "text": [
      " 96%|█████████▌| 955/1000 [01:37<00:05,  8.20it/s]"
     ]
    },
    {
     "name": "stdout",
     "output_type": "stream",
     "text": [
      "\u001b[32m2024-08-26 00:47:13.756\u001b[0m | \u001b[33m\u001b[1mWARNING \u001b[0m | \u001b[36menfify.preprocessing\u001b[0m:\u001b[36mdownsample_scipy\u001b[0m:\u001b[36m47\u001b[0m - \u001b[33m\u001b[1mThe target sampling rate is not an integer multiple of the current sampling rate. Resampling is used, which does not have an integrated antialiasing filter. Applying a lowpass filter.\u001b[0m\n",
      "\u001b[32m2024-08-26 00:47:13.922\u001b[0m | \u001b[33m\u001b[1mWARNING \u001b[0m | \u001b[36menfify.preprocessing\u001b[0m:\u001b[36mdownsample_scipy\u001b[0m:\u001b[36m47\u001b[0m - \u001b[33m\u001b[1mThe target sampling rate is not an integer multiple of the current sampling rate. Resampling is used, which does not have an integrated antialiasing filter. Applying a lowpass filter.\u001b[0m\n"
     ]
    },
    {
     "name": "stderr",
     "output_type": "stream",
     "text": [
      " 96%|█████████▌| 957/1000 [01:37<00:05,  7.35it/s]"
     ]
    },
    {
     "name": "stdout",
     "output_type": "stream",
     "text": [
      "\u001b[32m2024-08-26 00:47:14.079\u001b[0m | \u001b[33m\u001b[1mWARNING \u001b[0m | \u001b[36menfify.preprocessing\u001b[0m:\u001b[36mdownsample_scipy\u001b[0m:\u001b[36m47\u001b[0m - \u001b[33m\u001b[1mThe target sampling rate is not an integer multiple of the current sampling rate. Resampling is used, which does not have an integrated antialiasing filter. Applying a lowpass filter.\u001b[0m\n",
      "\u001b[32m2024-08-26 00:47:14.244\u001b[0m | \u001b[33m\u001b[1mWARNING \u001b[0m | \u001b[36menfify.preprocessing\u001b[0m:\u001b[36mdownsample_scipy\u001b[0m:\u001b[36m47\u001b[0m - \u001b[33m\u001b[1mThe target sampling rate is not an integer multiple of the current sampling rate. Resampling is used, which does not have an integrated antialiasing filter. Applying a lowpass filter.\u001b[0m\n"
     ]
    },
    {
     "name": "stderr",
     "output_type": "stream",
     "text": [
      " 96%|█████████▌| 958/1000 [01:37<00:06,  6.75it/s]"
     ]
    },
    {
     "name": "stdout",
     "output_type": "stream",
     "text": [
      "\u001b[32m2024-08-26 00:47:14.431\u001b[0m | \u001b[33m\u001b[1mWARNING \u001b[0m | \u001b[36menfify.preprocessing\u001b[0m:\u001b[36mdownsample_scipy\u001b[0m:\u001b[36m47\u001b[0m - \u001b[33m\u001b[1mThe target sampling rate is not an integer multiple of the current sampling rate. Resampling is used, which does not have an integrated antialiasing filter. Applying a lowpass filter.\u001b[0m\n",
      "\u001b[32m2024-08-26 00:47:14.478\u001b[0m | \u001b[33m\u001b[1mWARNING \u001b[0m | \u001b[36menfify.preprocessing\u001b[0m:\u001b[36mdownsample_scipy\u001b[0m:\u001b[36m47\u001b[0m - \u001b[33m\u001b[1mThe target sampling rate is not an integer multiple of the current sampling rate. Resampling is used, which does not have an integrated antialiasing filter. Applying a lowpass filter.\u001b[0m\n"
     ]
    },
    {
     "name": "stderr",
     "output_type": "stream",
     "text": [
      " 96%|█████████▌| 961/1000 [01:38<00:05,  7.02it/s]"
     ]
    },
    {
     "name": "stdout",
     "output_type": "stream",
     "text": [
      "\u001b[32m2024-08-26 00:47:14.660\u001b[0m | \u001b[33m\u001b[1mWARNING \u001b[0m | \u001b[36menfify.preprocessing\u001b[0m:\u001b[36mdownsample_scipy\u001b[0m:\u001b[36m47\u001b[0m - \u001b[33m\u001b[1mThe target sampling rate is not an integer multiple of the current sampling rate. Resampling is used, which does not have an integrated antialiasing filter. Applying a lowpass filter.\u001b[0m\n",
      "\u001b[32m2024-08-26 00:47:14.827\u001b[0m | \u001b[33m\u001b[1mWARNING \u001b[0m | \u001b[36menfify.preprocessing\u001b[0m:\u001b[36mdownsample_scipy\u001b[0m:\u001b[36m47\u001b[0m - \u001b[33m\u001b[1mThe target sampling rate is not an integer multiple of the current sampling rate. Resampling is used, which does not have an integrated antialiasing filter. Applying a lowpass filter.\u001b[0m\n"
     ]
    },
    {
     "name": "stderr",
     "output_type": "stream",
     "text": [
      " 96%|█████████▋| 963/1000 [01:38<00:05,  6.87it/s]"
     ]
    },
    {
     "name": "stdout",
     "output_type": "stream",
     "text": [
      "\u001b[32m2024-08-26 00:47:14.973\u001b[0m | \u001b[33m\u001b[1mWARNING \u001b[0m | \u001b[36menfify.preprocessing\u001b[0m:\u001b[36mdownsample_scipy\u001b[0m:\u001b[36m47\u001b[0m - \u001b[33m\u001b[1mThe target sampling rate is not an integer multiple of the current sampling rate. Resampling is used, which does not have an integrated antialiasing filter. Applying a lowpass filter.\u001b[0m\n",
      "\u001b[32m2024-08-26 00:47:15.125\u001b[0m | \u001b[33m\u001b[1mWARNING \u001b[0m | \u001b[36menfify.preprocessing\u001b[0m:\u001b[36mdownsample_scipy\u001b[0m:\u001b[36m47\u001b[0m - \u001b[33m\u001b[1mThe target sampling rate is not an integer multiple of the current sampling rate. Resampling is used, which does not have an integrated antialiasing filter. Applying a lowpass filter.\u001b[0m\n"
     ]
    },
    {
     "name": "stderr",
     "output_type": "stream",
     "text": [
      " 96%|█████████▋| 965/1000 [01:38<00:05,  6.36it/s]"
     ]
    },
    {
     "name": "stdout",
     "output_type": "stream",
     "text": [
      "\u001b[32m2024-08-26 00:47:15.289\u001b[0m | \u001b[33m\u001b[1mWARNING \u001b[0m | \u001b[36menfify.preprocessing\u001b[0m:\u001b[36mdownsample_scipy\u001b[0m:\u001b[36m47\u001b[0m - \u001b[33m\u001b[1mThe target sampling rate is not an integer multiple of the current sampling rate. Resampling is used, which does not have an integrated antialiasing filter. Applying a lowpass filter.\u001b[0m\n",
      "\u001b[32m2024-08-26 00:47:15.462\u001b[0m | \u001b[33m\u001b[1mWARNING \u001b[0m | \u001b[36menfify.preprocessing\u001b[0m:\u001b[36mdownsample_scipy\u001b[0m:\u001b[36m47\u001b[0m - \u001b[33m\u001b[1mThe target sampling rate is not an integer multiple of the current sampling rate. Resampling is used, which does not have an integrated antialiasing filter. Applying a lowpass filter.\u001b[0m\n"
     ]
    },
    {
     "name": "stderr",
     "output_type": "stream",
     "text": [
      " 97%|█████████▋| 967/1000 [01:39<00:07,  4.56it/s]"
     ]
    },
    {
     "name": "stdout",
     "output_type": "stream",
     "text": [
      "\u001b[32m2024-08-26 00:47:15.834\u001b[0m | \u001b[33m\u001b[1mWARNING \u001b[0m | \u001b[36menfify.preprocessing\u001b[0m:\u001b[36mdownsample_scipy\u001b[0m:\u001b[36m47\u001b[0m - \u001b[33m\u001b[1mThe target sampling rate is not an integer multiple of the current sampling rate. Resampling is used, which does not have an integrated antialiasing filter. Applying a lowpass filter.\u001b[0m\n",
      "\u001b[32m2024-08-26 00:47:16.009\u001b[0m | \u001b[33m\u001b[1mWARNING \u001b[0m | \u001b[36menfify.preprocessing\u001b[0m:\u001b[36mdownsample_scipy\u001b[0m:\u001b[36m47\u001b[0m - \u001b[33m\u001b[1mThe target sampling rate is not an integer multiple of the current sampling rate. Resampling is used, which does not have an integrated antialiasing filter. Applying a lowpass filter.\u001b[0m\n"
     ]
    },
    {
     "name": "stderr",
     "output_type": "stream",
     "text": [
      " 97%|█████████▋| 969/1000 [01:39<00:05,  6.00it/s]"
     ]
    },
    {
     "name": "stdout",
     "output_type": "stream",
     "text": [
      "\u001b[32m2024-08-26 00:47:16.063\u001b[0m | \u001b[33m\u001b[1mWARNING \u001b[0m | \u001b[36menfify.preprocessing\u001b[0m:\u001b[36mdownsample_scipy\u001b[0m:\u001b[36m47\u001b[0m - \u001b[33m\u001b[1mThe target sampling rate is not an integer multiple of the current sampling rate. Resampling is used, which does not have an integrated antialiasing filter. Applying a lowpass filter.\u001b[0m\n",
      "\u001b[32m2024-08-26 00:47:16.215\u001b[0m | \u001b[33m\u001b[1mWARNING \u001b[0m | \u001b[36menfify.preprocessing\u001b[0m:\u001b[36mdownsample_scipy\u001b[0m:\u001b[36m47\u001b[0m - \u001b[33m\u001b[1mThe target sampling rate is not an integer multiple of the current sampling rate. Resampling is used, which does not have an integrated antialiasing filter. Applying a lowpass filter.\u001b[0m\n"
     ]
    },
    {
     "name": "stderr",
     "output_type": "stream",
     "text": [
      " 97%|█████████▋| 970/1000 [01:39<00:05,  5.84it/s]"
     ]
    },
    {
     "name": "stdout",
     "output_type": "stream",
     "text": [
      "\u001b[32m2024-08-26 00:47:16.398\u001b[0m | \u001b[33m\u001b[1mWARNING \u001b[0m | \u001b[36menfify.preprocessing\u001b[0m:\u001b[36mdownsample_scipy\u001b[0m:\u001b[36m47\u001b[0m - \u001b[33m\u001b[1mThe target sampling rate is not an integer multiple of the current sampling rate. Resampling is used, which does not have an integrated antialiasing filter. Applying a lowpass filter.\u001b[0m\n",
      "\u001b[32m2024-08-26 00:47:16.437\u001b[0m | \u001b[33m\u001b[1mWARNING \u001b[0m | \u001b[36menfify.preprocessing\u001b[0m:\u001b[36mdownsample_scipy\u001b[0m:\u001b[36m47\u001b[0m - \u001b[33m\u001b[1mThe target sampling rate is not an integer multiple of the current sampling rate. Resampling is used, which does not have an integrated antialiasing filter. Applying a lowpass filter.\u001b[0m\n",
      "\u001b[32m2024-08-26 00:47:16.487\u001b[0m | \u001b[33m\u001b[1mWARNING \u001b[0m | \u001b[36menfify.preprocessing\u001b[0m:\u001b[36mdownsample_scipy\u001b[0m:\u001b[36m47\u001b[0m - \u001b[33m\u001b[1mThe target sampling rate is not an integer multiple of the current sampling rate. Resampling is used, which does not have an integrated antialiasing filter. Applying a lowpass filter.\u001b[0m\n"
     ]
    },
    {
     "name": "stderr",
     "output_type": "stream",
     "text": [
      " 97%|█████████▋| 973/1000 [01:40<00:03,  8.17it/s]"
     ]
    },
    {
     "name": "stdout",
     "output_type": "stream",
     "text": [
      "\u001b[32m2024-08-26 00:47:16.633\u001b[0m | \u001b[33m\u001b[1mWARNING \u001b[0m | \u001b[36menfify.preprocessing\u001b[0m:\u001b[36mdownsample_scipy\u001b[0m:\u001b[36m47\u001b[0m - \u001b[33m\u001b[1mThe target sampling rate is not an integer multiple of the current sampling rate. Resampling is used, which does not have an integrated antialiasing filter. Applying a lowpass filter.\u001b[0m\n",
      "\u001b[32m2024-08-26 00:47:16.696\u001b[0m | \u001b[33m\u001b[1mWARNING \u001b[0m | \u001b[36menfify.preprocessing\u001b[0m:\u001b[36mdownsample_scipy\u001b[0m:\u001b[36m47\u001b[0m - \u001b[33m\u001b[1mThe target sampling rate is not an integer multiple of the current sampling rate. Resampling is used, which does not have an integrated antialiasing filter. Applying a lowpass filter.\u001b[0m\n"
     ]
    },
    {
     "name": "stderr",
     "output_type": "stream",
     "text": [
      " 98%|█████████▊| 976/1000 [01:40<00:02,  8.23it/s]"
     ]
    },
    {
     "name": "stdout",
     "output_type": "stream",
     "text": [
      "\u001b[32m2024-08-26 00:47:16.890\u001b[0m | \u001b[33m\u001b[1mWARNING \u001b[0m | \u001b[36menfify.preprocessing\u001b[0m:\u001b[36mdownsample_scipy\u001b[0m:\u001b[36m47\u001b[0m - \u001b[33m\u001b[1mThe target sampling rate is not an integer multiple of the current sampling rate. Resampling is used, which does not have an integrated antialiasing filter. Applying a lowpass filter.\u001b[0m\n",
      "\u001b[32m2024-08-26 00:47:16.996\u001b[0m | \u001b[33m\u001b[1mWARNING \u001b[0m | \u001b[36menfify.preprocessing\u001b[0m:\u001b[36mdownsample_scipy\u001b[0m:\u001b[36m47\u001b[0m - \u001b[33m\u001b[1mThe target sampling rate is not an integer multiple of the current sampling rate. Resampling is used, which does not have an integrated antialiasing filter. Applying a lowpass filter.\u001b[0m\n"
     ]
    },
    {
     "name": "stderr",
     "output_type": "stream",
     "text": [
      " 98%|█████████▊| 978/1000 [01:40<00:03,  6.81it/s]"
     ]
    },
    {
     "name": "stdout",
     "output_type": "stream",
     "text": [
      "\u001b[32m2024-08-26 00:47:17.151\u001b[0m | \u001b[33m\u001b[1mWARNING \u001b[0m | \u001b[36menfify.preprocessing\u001b[0m:\u001b[36mdownsample_scipy\u001b[0m:\u001b[36m47\u001b[0m - \u001b[33m\u001b[1mThe target sampling rate is not an integer multiple of the current sampling rate. Resampling is used, which does not have an integrated antialiasing filter. Applying a lowpass filter.\u001b[0m\n"
     ]
    },
    {
     "name": "stderr",
     "output_type": "stream",
     "text": [
      " 98%|█████████▊| 980/1000 [01:40<00:02,  8.05it/s]"
     ]
    },
    {
     "name": "stdout",
     "output_type": "stream",
     "text": [
      "\u001b[32m2024-08-26 00:47:17.356\u001b[0m | \u001b[33m\u001b[1mWARNING \u001b[0m | \u001b[36menfify.preprocessing\u001b[0m:\u001b[36mdownsample_scipy\u001b[0m:\u001b[36m47\u001b[0m - \u001b[33m\u001b[1mThe target sampling rate is not an integer multiple of the current sampling rate. Resampling is used, which does not have an integrated antialiasing filter. Applying a lowpass filter.\u001b[0m\n",
      "\u001b[32m2024-08-26 00:47:17.406\u001b[0m | \u001b[33m\u001b[1mWARNING \u001b[0m | \u001b[36menfify.preprocessing\u001b[0m:\u001b[36mdownsample_scipy\u001b[0m:\u001b[36m47\u001b[0m - \u001b[33m\u001b[1mThe target sampling rate is not an integer multiple of the current sampling rate. Resampling is used, which does not have an integrated antialiasing filter. Applying a lowpass filter.\u001b[0m\n",
      "\u001b[32m2024-08-26 00:47:17.535\u001b[0m | \u001b[33m\u001b[1mWARNING \u001b[0m | \u001b[36menfify.preprocessing\u001b[0m:\u001b[36mdownsample_scipy\u001b[0m:\u001b[36m47\u001b[0m - \u001b[33m\u001b[1mThe target sampling rate is not an integer multiple of the current sampling rate. Resampling is used, which does not have an integrated antialiasing filter. Applying a lowpass filter.\u001b[0m\n"
     ]
    },
    {
     "name": "stderr",
     "output_type": "stream",
     "text": [
      " 98%|█████████▊| 982/1000 [01:41<00:02,  8.74it/s]"
     ]
    },
    {
     "name": "stdout",
     "output_type": "stream",
     "text": [
      "\u001b[32m2024-08-26 00:47:17.631\u001b[0m | \u001b[33m\u001b[1mWARNING \u001b[0m | \u001b[36menfify.preprocessing\u001b[0m:\u001b[36mdownsample_scipy\u001b[0m:\u001b[36m47\u001b[0m - \u001b[33m\u001b[1mThe target sampling rate is not an integer multiple of the current sampling rate. Resampling is used, which does not have an integrated antialiasing filter. Applying a lowpass filter.\u001b[0m\n",
      "\u001b[32m2024-08-26 00:47:17.728\u001b[0m | \u001b[33m\u001b[1mWARNING \u001b[0m | \u001b[36menfify.preprocessing\u001b[0m:\u001b[36mdownsample_scipy\u001b[0m:\u001b[36m47\u001b[0m - \u001b[33m\u001b[1mThe target sampling rate is not an integer multiple of the current sampling rate. Resampling is used, which does not have an integrated antialiasing filter. Applying a lowpass filter.\u001b[0m\n",
      "\u001b[32m2024-08-26 00:47:17.825\u001b[0m | \u001b[33m\u001b[1mWARNING \u001b[0m | \u001b[36menfify.preprocessing\u001b[0m:\u001b[36mdownsample_scipy\u001b[0m:\u001b[36m47\u001b[0m - \u001b[33m\u001b[1mThe target sampling rate is not an integer multiple of the current sampling rate. Resampling is used, which does not have an integrated antialiasing filter. Applying a lowpass filter.\u001b[0m\n"
     ]
    },
    {
     "name": "stderr",
     "output_type": "stream",
     "text": [
      " 99%|█████████▊| 986/1000 [01:41<00:01,  9.87it/s]"
     ]
    },
    {
     "name": "stdout",
     "output_type": "stream",
     "text": [
      "\u001b[32m2024-08-26 00:47:17.915\u001b[0m | \u001b[33m\u001b[1mWARNING \u001b[0m | \u001b[36menfify.preprocessing\u001b[0m:\u001b[36mdownsample_scipy\u001b[0m:\u001b[36m47\u001b[0m - \u001b[33m\u001b[1mThe target sampling rate is not an integer multiple of the current sampling rate. Resampling is used, which does not have an integrated antialiasing filter. Applying a lowpass filter.\u001b[0m\n",
      "\u001b[32m2024-08-26 00:47:18.010\u001b[0m | \u001b[33m\u001b[1mWARNING \u001b[0m | \u001b[36menfify.preprocessing\u001b[0m:\u001b[36mdownsample_scipy\u001b[0m:\u001b[36m47\u001b[0m - \u001b[33m\u001b[1mThe target sampling rate is not an integer multiple of the current sampling rate. Resampling is used, which does not have an integrated antialiasing filter. Applying a lowpass filter.\u001b[0m\n",
      "\u001b[32m2024-08-26 00:47:18.092\u001b[0m | \u001b[33m\u001b[1mWARNING \u001b[0m | \u001b[36menfify.preprocessing\u001b[0m:\u001b[36mdownsample_scipy\u001b[0m:\u001b[36m47\u001b[0m - \u001b[33m\u001b[1mThe target sampling rate is not an integer multiple of the current sampling rate. Resampling is used, which does not have an integrated antialiasing filter. Applying a lowpass filter.\u001b[0m\n"
     ]
    },
    {
     "name": "stderr",
     "output_type": "stream",
     "text": [
      " 99%|█████████▉| 989/1000 [01:41<00:00, 11.86it/s]"
     ]
    },
    {
     "name": "stdout",
     "output_type": "stream",
     "text": [
      "\u001b[32m2024-08-26 00:47:18.127\u001b[0m | \u001b[33m\u001b[1mWARNING \u001b[0m | \u001b[36menfify.preprocessing\u001b[0m:\u001b[36mdownsample_scipy\u001b[0m:\u001b[36m47\u001b[0m - \u001b[33m\u001b[1mThe target sampling rate is not an integer multiple of the current sampling rate. Resampling is used, which does not have an integrated antialiasing filter. Applying a lowpass filter.\u001b[0m\n",
      "\u001b[32m2024-08-26 00:47:18.160\u001b[0m | \u001b[33m\u001b[1mWARNING \u001b[0m | \u001b[36menfify.preprocessing\u001b[0m:\u001b[36mdownsample_scipy\u001b[0m:\u001b[36m47\u001b[0m - \u001b[33m\u001b[1mThe target sampling rate is not an integer multiple of the current sampling rate. Resampling is used, which does not have an integrated antialiasing filter. Applying a lowpass filter.\u001b[0m\n",
      "\u001b[32m2024-08-26 00:47:18.273\u001b[0m | \u001b[33m\u001b[1mWARNING \u001b[0m | \u001b[36menfify.preprocessing\u001b[0m:\u001b[36mdownsample_scipy\u001b[0m:\u001b[36m47\u001b[0m - \u001b[33m\u001b[1mThe target sampling rate is not an integer multiple of the current sampling rate. Resampling is used, which does not have an integrated antialiasing filter. Applying a lowpass filter.\u001b[0m\n",
      "\u001b[32m2024-08-26 00:47:18.315\u001b[0m | \u001b[33m\u001b[1mWARNING \u001b[0m | \u001b[36menfify.preprocessing\u001b[0m:\u001b[36mdownsample_scipy\u001b[0m:\u001b[36m47\u001b[0m - \u001b[33m\u001b[1mThe target sampling rate is not an integer multiple of the current sampling rate. Resampling is used, which does not have an integrated antialiasing filter. Applying a lowpass filter.\u001b[0m\n"
     ]
    },
    {
     "name": "stderr",
     "output_type": "stream",
     "text": [
      " 99%|█████████▉| 991/1000 [01:41<00:00, 12.45it/s]"
     ]
    },
    {
     "name": "stdout",
     "output_type": "stream",
     "text": [
      "\u001b[32m2024-08-26 00:47:18.414\u001b[0m | \u001b[33m\u001b[1mWARNING \u001b[0m | \u001b[36menfify.preprocessing\u001b[0m:\u001b[36mdownsample_scipy\u001b[0m:\u001b[36m47\u001b[0m - \u001b[33m\u001b[1mThe target sampling rate is not an integer multiple of the current sampling rate. Resampling is used, which does not have an integrated antialiasing filter. Applying a lowpass filter.\u001b[0m\n",
      "\u001b[32m2024-08-26 00:47:18.512\u001b[0m | \u001b[33m\u001b[1mWARNING \u001b[0m | \u001b[36menfify.preprocessing\u001b[0m:\u001b[36mdownsample_scipy\u001b[0m:\u001b[36m47\u001b[0m - \u001b[33m\u001b[1mThe target sampling rate is not an integer multiple of the current sampling rate. Resampling is used, which does not have an integrated antialiasing filter. Applying a lowpass filter.\u001b[0m\n"
     ]
    },
    {
     "name": "stderr",
     "output_type": "stream",
     "text": [
      "100%|█████████▉| 995/1000 [01:42<00:00, 11.89it/s]"
     ]
    },
    {
     "name": "stdout",
     "output_type": "stream",
     "text": [
      "\u001b[32m2024-08-26 00:47:18.634\u001b[0m | \u001b[33m\u001b[1mWARNING \u001b[0m | \u001b[36menfify.preprocessing\u001b[0m:\u001b[36mdownsample_scipy\u001b[0m:\u001b[36m47\u001b[0m - \u001b[33m\u001b[1mThe target sampling rate is not an integer multiple of the current sampling rate. Resampling is used, which does not have an integrated antialiasing filter. Applying a lowpass filter.\u001b[0m\n",
      "\u001b[32m2024-08-26 00:47:18.746\u001b[0m | \u001b[33m\u001b[1mWARNING \u001b[0m | \u001b[36menfify.preprocessing\u001b[0m:\u001b[36mdownsample_scipy\u001b[0m:\u001b[36m47\u001b[0m - \u001b[33m\u001b[1mThe target sampling rate is not an integer multiple of the current sampling rate. Resampling is used, which does not have an integrated antialiasing filter. Applying a lowpass filter.\u001b[0m\n",
      "\u001b[32m2024-08-26 00:47:18.780\u001b[0m | \u001b[33m\u001b[1mWARNING \u001b[0m | \u001b[36menfify.preprocessing\u001b[0m:\u001b[36mdownsample_scipy\u001b[0m:\u001b[36m47\u001b[0m - \u001b[33m\u001b[1mThe target sampling rate is not an integer multiple of the current sampling rate. Resampling is used, which does not have an integrated antialiasing filter. Applying a lowpass filter.\u001b[0m\n"
     ]
    },
    {
     "name": "stderr",
     "output_type": "stream",
     "text": [
      "100%|█████████▉| 997/1000 [01:42<00:00, 11.12it/s]"
     ]
    },
    {
     "name": "stdout",
     "output_type": "stream",
     "text": [
      "\u001b[32m2024-08-26 00:47:18.883\u001b[0m | \u001b[33m\u001b[1mWARNING \u001b[0m | \u001b[36menfify.preprocessing\u001b[0m:\u001b[36mdownsample_scipy\u001b[0m:\u001b[36m47\u001b[0m - \u001b[33m\u001b[1mThe target sampling rate is not an integer multiple of the current sampling rate. Resampling is used, which does not have an integrated antialiasing filter. Applying a lowpass filter.\u001b[0m\n",
      "\u001b[32m2024-08-26 00:47:18.986\u001b[0m | \u001b[33m\u001b[1mWARNING \u001b[0m | \u001b[36menfify.preprocessing\u001b[0m:\u001b[36mdownsample_scipy\u001b[0m:\u001b[36m47\u001b[0m - \u001b[33m\u001b[1mThe target sampling rate is not an integer multiple of the current sampling rate. Resampling is used, which does not have an integrated antialiasing filter. Applying a lowpass filter.\u001b[0m\n",
      "\u001b[32m2024-08-26 00:47:19.074\u001b[0m | \u001b[33m\u001b[1mWARNING \u001b[0m | \u001b[36menfify.preprocessing\u001b[0m:\u001b[36mdownsample_scipy\u001b[0m:\u001b[36m47\u001b[0m - \u001b[33m\u001b[1mThe target sampling rate is not an integer multiple of the current sampling rate. Resampling is used, which does not have an integrated antialiasing filter. Applying a lowpass filter.\u001b[0m\n"
     ]
    },
    {
     "name": "stderr",
     "output_type": "stream",
     "text": [
      "100%|██████████| 1000/1000 [01:42<00:00,  9.74it/s]"
     ]
    },
    {
     "name": "stdout",
     "output_type": "stream",
     "text": [
      "\u001b[32m2024-08-26 00:47:19.198\u001b[0m | \u001b[33m\u001b[1mWARNING \u001b[0m | \u001b[36menfify.preprocessing\u001b[0m:\u001b[36mdownsample_scipy\u001b[0m:\u001b[36m47\u001b[0m - \u001b[33m\u001b[1mThe target sampling rate is not an integer multiple of the current sampling rate. Resampling is used, which does not have an integrated antialiasing filter. Applying a lowpass filter.\u001b[0m\n"
     ]
    },
    {
     "name": "stderr",
     "output_type": "stream",
     "text": [
      "\n"
     ]
    }
   ],
   "source": [
    "files_pattern = str(INTERIM_DATA_DIR / \"Carioca1\" / \"*\" / \"*.wav\")\n",
    "files = sorted(glob(files_pattern))\n",
    "\n",
    "features_dir = PROCESSED_DATA_DIR / \"Carioca1\"\n",
    "\n",
    "os.makedirs(features_dir, exist_ok=True)\n",
    "\n",
    "for file in tqdm(files):\n",
    "    basename = os.path.splitext(os.path.basename(file))[0]\n",
    "    sample_freq, sig = wavfile.read(file)\n",
    "    with open(ENFIFY_DIR/\"config_nature.yml\", \"r\") as f:\n",
    "        config = yaml.safe_load(f)\n",
    "    features = freq_feature_pipeline(sig, sample_freq, config)\n",
    "    np.save(features_dir / f\"{basename}.npy\", features)"
   ]
  }
 ],
 "metadata": {
  "kernelspec": {
   "display_name": "enfify",
   "language": "python",
   "name": "python3"
  },
  "language_info": {
   "codemirror_mode": {
    "name": "ipython",
    "version": 3
   },
   "file_extension": ".py",
   "mimetype": "text/x-python",
   "name": "python",
   "nbconvert_exporter": "python",
   "pygments_lexer": "ipython3",
   "version": "3.10.14"
  }
 },
 "nbformat": 4,
 "nbformat_minor": 2
}
