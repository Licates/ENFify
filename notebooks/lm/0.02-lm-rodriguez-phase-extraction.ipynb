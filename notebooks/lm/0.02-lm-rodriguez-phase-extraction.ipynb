{
 "cells": [
  {
   "cell_type": "markdown",
   "metadata": {},
   "source": [
    "Implementation of [Rodriguez](https://ieeexplore.ieee.org/document/5475260) (sec. III)"
   ]
  },
  {
   "cell_type": "code",
   "execution_count": 7,
   "metadata": {},
   "outputs": [],
   "source": [
    "# imports & constants\n",
    "import numpy as np\n",
    "from utils import sym_phase_interval"
   ]
  },
  {
   "cell_type": "code",
   "execution_count": 8,
   "metadata": {},
   "outputs": [],
   "source": [
    "# generate single tone\n",
    "amplitude = 1\n",
    "f_tone = 60.98\n",
    "phi_0 = np.pi / 2\n",
    "f_s = 1_200\n",
    "M = 200\n",
    "N_DFT = 20_001\n",
    "\n",
    "n = np.arange(M)\n",
    "s_tone = amplitude*np.cos(2 * np.pi * f_tone / f_s * n + phi_0)\n"
   ]
  },
  {
   "cell_type": "code",
   "execution_count": 9,
   "metadata": {},
   "outputs": [],
   "source": [
    "# III A. Phase Estimation Using the DFT\n",
    "hann_window = np.hanning(M)\n",
    "x = s_tone * hann_window\n",
    "X = np.fft.fft(x, n=N_DFT)\n",
    "\n",
    "k_peak = np.argmax(np.abs(X[: N_DFT // 2]))\n",
    "f_DFT = k_peak * f_s / N_DFT\n",
    "\n",
    "phi_DFT = np.angle(X[k_peak])"
   ]
  },
  {
   "cell_type": "code",
   "execution_count": 10,
   "metadata": {},
   "outputs": [],
   "source": [
    "# III B. The Novel Phase Estimation Method\n",
    "# 1\n",
    "s_dash = f_s * np.diff(s_tone)\n",
    "s_tone = s_tone[1:]\n",
    "\n",
    "# 2\n",
    "hann_window = np.hanning(M - 1)\n",
    "x = s_tone * hann_window\n",
    "x_dash = s_dash * hann_window\n",
    "\n",
    "# 3\n",
    "X = np.fft.fft(x, n=N_DFT)\n",
    "X_dash = np.fft.fft(x_dash, n=N_DFT)\n",
    "\n",
    "# 4\n",
    "abs_X = np.abs(X)\n",
    "abs_X_dash = np.abs(X_dash)\n",
    "k_peak = np.argmax(abs_X)\n",
    "\n",
    "# 5\n",
    "F_k_peak = (np.pi * k_peak) / (N_DFT * np.sin(np.pi * k_peak / N_DFT))\n",
    "\n",
    "DFT_0_peak = abs_X[k_peak]\n",
    "DFT_1_peak = F_k_peak * abs_X_dash[k_peak]\n",
    "\n",
    "# 6\n",
    "f_DFT1 = 1 / (2 * np.pi) * DFT_1_peak / DFT_0_peak\n",
    "k_DFT1 = N_DFT * f_DFT1 / f_s\n",
    "\n",
    "# validating\n",
    "if not -0.5 <= k_DFT1 - k_peak < 0.5:\n",
    "    raise ValueError(f\"invalid result: k_peak: {k_peak}, k_DFT1: {k_DFT1}\")"
   ]
  },
  {
   "cell_type": "code",
   "execution_count": 11,
   "metadata": {},
   "outputs": [],
   "source": [
    "# continuing with the method\n",
    "omega_0 = 2 * np.pi * f_DFT1 / f_s\n",
    "k_low = np.floor(k_DFT1).astype(\"int\")\n",
    "k_high = np.ceil(k_DFT1).astype(\"int\")\n",
    "theta_low = np.angle(X_dash[k_low])\n",
    "theta_high = np.angle(X_dash[k_high])\n",
    "\n",
    "theta = np.interp(k_DFT1, [k_low, k_high], [theta_low, theta_high])\n",
    "\n",
    "numerator = np.tan(theta) * (1 - np.cos(omega_0)) + np.sin(omega_0)\n",
    "denominator = 1 - np.cos(omega_0) - np.tan(theta) * np.sin(omega_0)\n",
    "phi_DFT1 = np.arctan(numerator / denominator)\n",
    "\n",
    "# choosing the phi_DFT1 closer to phi_DFT\n",
    "_phi_DFT1 = sym_phase_interval(phi_DFT1 + np.pi)\n",
    "if np.abs(_phi_DFT1 - phi_DFT) < np.abs(phi_DFT1 - phi_DFT):\n",
    "    phi_DFT1 = _phi_DFT1"
   ]
  },
  {
   "cell_type": "code",
   "execution_count": 12,
   "metadata": {},
   "outputs": [
    {
     "name": "stdout",
     "output_type": "stream",
     "text": [
      "f_DFT:     60.956952\n",
      "f_DFT1:    60.978684\n",
      "f_tone:    60.980000\n",
      "\n",
      "phi_DFT:   90.687059 degrees\n",
      "phi_DFT1:  90.039834 degrees\n",
      "phi_0:     90.000000 degrees\n",
      "\n",
      "e_f_DFT:    0.0378 %\n",
      "e_f_DFT1:   0.0022 %\n",
      "e_phi_DFT:  0.0120 degrees\n",
      "e_phi_DFT1: 0.0007 degrees\n"
     ]
    }
   ],
   "source": [
    "pattern = \" .6f\"\n",
    "print(f\"f_DFT:    {f_DFT:{pattern}}\")\n",
    "print(f\"f_DFT1:   {f_DFT1:{pattern}}\")\n",
    "print(f\"f_tone:   {f_tone:{pattern}}\")\n",
    "print()\n",
    "print(f\"phi_DFT:  {np.degrees(phi_DFT):{pattern}} degrees\")\n",
    "print(f\"phi_DFT1: {np.degrees(phi_DFT1):{pattern}} degrees\")\n",
    "print(f\"phi_0:    {np.degrees(phi_0):{pattern}} degrees\")\n",
    "print()\n",
    "print(f\"e_f_DFT:    {np.abs(f_DFT-f_tone)/f_tone*100:.4f} %\")\n",
    "print(f\"e_f_DFT1:   {np.abs(f_DFT1-f_tone)/f_tone*100:.4f} %\")\n",
    "print(f\"e_phi_DFT:  {np.abs(phi_DFT-phi_0):.4f} degrees\")\n",
    "print(f\"e_phi_DFT1: {np.abs(phi_DFT1-phi_0):.4f} degrees\")"
   ]
  }
 ],
 "metadata": {
  "kernelspec": {
   "display_name": "enfify",
   "language": "python",
   "name": "python3"
  },
  "language_info": {
   "codemirror_mode": {
    "name": "ipython",
    "version": 3
   },
   "file_extension": ".py",
   "mimetype": "text/x-python",
   "name": "python",
   "nbconvert_exporter": "python",
   "pygments_lexer": "ipython3",
   "version": "3.10.14"
  }
 },
 "nbformat": 4,
 "nbformat_minor": 2
}
