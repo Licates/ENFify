{
 "cells": [
  {
   "cell_type": "code",
   "execution_count": null,
   "metadata": {},
   "outputs": [],
   "source": [
    "import os\n",
    "import zipfile\n",
    "\n",
    "from tqdm import tqdm\n",
    "\n",
    "from enfify import DATA_DIR, PROCESSED_DATA_DIR"
   ]
  },
  {
   "cell_type": "code",
   "execution_count": null,
   "metadata": {},
   "outputs": [],
   "source": [
    "# make zipfile\n",
    "zipf = zipfile.ZipFile(DATA_DIR / 'processed_data.zip', 'w', zipfile.ZIP_DEFLATED)\n",
    "for root, dirs, files in tqdm(os.walk(PROCESSED_DATA_DIR)):\n",
    "    for file in tqdm(files, leave=False):\n",
    "        zipf.write(os.path.join(root, file))\n",
    "zipf.close()"
   ]
  }
 ],
 "metadata": {
  "language_info": {
   "codemirror_mode": {
    "name": "ipython",
    "version": 3
   },
   "file_extension": ".py",
   "mimetype": "text/x-python",
   "name": "python",
   "nbconvert_exporter": "python",
   "pygments_lexer": "ipython3",
   "version": 3
  }
 },
 "nbformat": 4,
 "nbformat_minor": 2
}
