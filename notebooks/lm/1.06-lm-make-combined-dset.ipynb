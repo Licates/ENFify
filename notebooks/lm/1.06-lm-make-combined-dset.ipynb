{
 "cells": [
  {
   "cell_type": "code",
   "execution_count": 1,
   "metadata": {},
   "outputs": [],
   "source": [
    "import os\n",
    "import zipfile\n",
    "\n",
    "from tqdm import tqdm\n",
    "\n",
    "from enfify import DATA_DIR, PROCESSED_DATA_DIR"
   ]
  },
  {
   "cell_type": "code",
   "execution_count": null,
   "metadata": {},
   "outputs": [],
   "source": [
    "dsets = [f for f in PROCESSED_DATA_DIR.iterdir() if f.is_dir() and not f.name == \"WHU\"]\n",
    "# make zipfile\n",
    "with zipfile.ZipFile(DATA_DIR / \"processed_data.zip\", \"w\") as z:\n",
    "    for dset in tqdm(dsets):\n",
    "        for f in dset.iterdir():\n",
    "            z.write(f, arcname=f.relative_to(PROCESSED_DATA_DIR))\n"
   ]
  }
 ],
 "metadata": {
  "kernelspec": {
   "display_name": "enfify-bmzXLLIT-py3.10",
   "language": "python",
   "name": "python3"
  },
  "language_info": {
   "codemirror_mode": {
    "name": "ipython",
    "version": 3
   },
   "file_extension": ".py",
   "mimetype": "text/x-python",
   "name": "python",
   "nbconvert_exporter": "python",
   "pygments_lexer": "ipython3",
   "version": "3.10.12"
  }
 },
 "nbformat": 4,
 "nbformat_minor": 2
}
