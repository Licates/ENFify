{
 "cells": [
  {
   "cell_type": "code",
   "execution_count": 17,
   "metadata": {},
   "outputs": [],
   "source": [
    "# IMPORTS\n",
    "import numpy as np\n",
    "import sys\n",
    "from scipy.io.wavfile import write\n",
    "import matplotlib.pyplot as plt"
   ]
  },
  {
   "cell_type": "code",
   "execution_count": 18,
   "metadata": {},
   "outputs": [],
   "source": [
    "# CONSTANTS\n",
    "SAMPLE_RATE = 44_100\n",
    "DURATION = 3\n",
    "FREQUENCY = 50\n",
    "PHI = 90\n",
    "SEED = 0"
   ]
  },
  {
   "cell_type": "code",
   "execution_count": 19,
   "metadata": {},
   "outputs": [],
   "source": [
    "# # INSERT RANDOM CUTS\n",
    "\n",
    "# # tone generating\n",
    "# time = np.linspace(0, DURATION, int(SAMPLE_RATE * DURATION) + 1, endpoint=True)\n",
    "# sinewave = np.sin(2 * np.pi * FREQUENCY * time + np.radians(phi))\n",
    "\n",
    "# # cutting\n",
    "# n_cuts = 1\n",
    "# cut_times = np.sort(np.random.random(2*n_cuts)).reshape(n_cuts,2)*DURATION\n",
    "# print(f\"deleted time in total {np.sum(np.diff(cut_times)):.2f} seconds\")\n",
    "# cut_inds = np.searchsorted(time, cut_times)\n",
    "# # print((cut_times<time[cut_inds]).flatten())\n",
    "# del time\n",
    "\n",
    "# mask = np.ones_like(sinewave).astype(\"bool\")\n",
    "# for start, stop in cut_inds:\n",
    "#     mask[start:stop] = False\n",
    "# sinewave = sinewave[mask]\n",
    "\n",
    "# # saving\n",
    "# path = \"../data/raw/synthetic/cutted_enf.wav\"\n",
    "# wav_sinewave = np.int16(sinewave * 32767)\n",
    "# write(path, SAMPLE_RATE, wav_sinewave)"
   ]
  },
  {
   "cell_type": "code",
   "execution_count": 20,
   "metadata": {},
   "outputs": [],
   "source": [
    "# HAVE SOME FUNCTIONS\n",
    "\n",
    "def write_tone_to_file(tone: np.ndarray, path: str, sample_rate: int) -> None:\n",
    "    wav_tone = np.int16(tone*32767)\n",
    "    write(path, sample_rate, wav_tone)\n",
    "\n",
    "def _make_tone(duration, frequency, sample_rate, phi):\n",
    "    \"\"\"phi in degrees; time in seconds; frequencies in hertz\"\"\"\n",
    "    time = np.linspace(0, duration, int(sample_rate * duration), endpoint=False)\n",
    "    sinewave = np.sin(2 * np.pi * frequency * time + np.radians(phi))\n",
    "    return sinewave\n",
    "\n",
    "def _cut_tone(tone, cut_inds):\n",
    "    mask = np.ones_like(tone).astype(\"bool\")\n",
    "    for start, stop in cut_inds:\n",
    "        mask[start:stop] = False\n",
    "    return tone[mask]\n",
    "\n",
    "def gen_auth_tone(duration, frequency, sample_rate, seed):\n",
    "    \"\"\"Makes an uncutted tone with random shift.\"\"\"\n",
    "    np.random.seed(seed)\n",
    "    phi = np.random.random() * 360\n",
    "    return _make_tone(duration, frequency, sample_rate, phi)\n",
    "\n",
    "def gen_tamp_tone(duration, frequency, sample_rate, n_cuts, seed):\n",
    "    \"\"\"Makes a tone with n_cuts random cuts and random phase shift.\"\"\"\n",
    "    np.random.seed(seed)\n",
    "    phi = np.random.random() * 360\n",
    "    tone = _make_tone(duration, frequency, sample_rate, phi)\n",
    "    cut_times = np.sort(np.random.random(2*n_cuts)).reshape(n_cuts,2)*duration\n",
    "    cut_inds = np.searchsorted(np.linspace(0, duration, int(sample_rate * duration), endpoint=False), cut_times)\n",
    "    tone = _cut_tone(tone, cut_inds)\n",
    "    return tone"
   ]
  },
  {
   "cell_type": "code",
   "execution_count": 21,
   "metadata": {},
   "outputs": [
    {
     "name": "stdout",
     "output_type": "stream",
     "text": [
      "(132300,)\n",
      "(117426,)\n"
     ]
    }
   ],
   "source": [
    "# MAIN\n",
    "auth_tone = gen_auth_tone(DURATION, FREQUENCY, SAMPLE_RATE, SEED)\n",
    "tamp_tone = gen_tamp_tone(DURATION, FREQUENCY, SAMPLE_RATE, 1, SEED)\n",
    "\n",
    "print(auth_tone.shape)\n",
    "print(tamp_tone.shape)"
   ]
  },
  {
   "cell_type": "code",
   "execution_count": null,
   "metadata": {},
   "outputs": [],
   "source": []
  }
 ],
 "metadata": {
  "kernelspec": {
   "display_name": "enfify",
   "language": "python",
   "name": "python3"
  },
  "language_info": {
   "codemirror_mode": {
    "name": "ipython",
    "version": 3
   },
   "file_extension": ".py",
   "mimetype": "text/x-python",
   "name": "python",
   "nbconvert_exporter": "python",
   "pygments_lexer": "ipython3",
   "version": "3.10.14"
  }
 },
 "nbformat": 4,
 "nbformat_minor": 2
}
