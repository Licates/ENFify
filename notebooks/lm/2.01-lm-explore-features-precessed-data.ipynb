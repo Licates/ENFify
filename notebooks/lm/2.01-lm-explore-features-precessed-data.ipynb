{
 "cells": [
  {
   "cell_type": "code",
   "execution_count": null,
   "metadata": {},
   "outputs": [],
   "source": [
    "from enfify import PROCESSED_DATA_DIR"
   ]
  },
  {
   "cell_type": "code",
   "execution_count": null,
   "metadata": {},
   "outputs": [],
   "source": [
    "dsets = sorted([f for f in PROCESSED_DATA_DIR.iterdir() if f.is_dir()])\n",
    "sample_files = sum([sorted(dset.glob(\"*.npy\"))[:2] for dset in dsets], list())\n"
   ]
  }
 ],
 "metadata": {
  "language_info": {
   "name": "python"
  }
 },
 "nbformat": 4,
 "nbformat_minor": 2
}
