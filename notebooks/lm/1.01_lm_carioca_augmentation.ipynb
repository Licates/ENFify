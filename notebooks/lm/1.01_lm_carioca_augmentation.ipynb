{
 "cells": [
  {
   "cell_type": "code",
   "execution_count": null,
   "metadata": {},
   "outputs": [],
   "source": [
    "%load_ext autoreload\n",
    "%autoreload 2"
   ]
  },
  {
   "cell_type": "code",
   "execution_count": 12,
   "metadata": {},
   "outputs": [],
   "source": [
    "import os\n",
    "import re\n",
    "from glob import glob\n",
    "\n",
    "import matplotlib.pyplot as plt\n",
    "import numpy as np\n",
    "from scipy.io import wavfile\n",
    "from tqdm import tqdm\n",
    "\n",
    "from enfify.config import EXTERNAL_DATA_DIR, INTERIM_DATA_DIR"
   ]
  },
  {
   "cell_type": "code",
   "execution_count": 13,
   "metadata": {},
   "outputs": [],
   "source": [
    "np.random.seed(42)\n",
    "\n",
    "def pad_number_in_filename(filename, n_digits):\n",
    "    def replace_match(match):\n",
    "        number = match.group(0)\n",
    "        return number.zfill(n_digits)\n",
    "\n",
    "    new_filename = re.sub(r\"\\d+\", replace_match, filename)\n",
    "\n",
    "    return new_filename"
   ]
  },
  {
   "cell_type": "code",
   "execution_count": 14,
   "metadata": {},
   "outputs": [
    {
     "name": "stdout",
     "output_type": "stream",
     "text": [
      "50 matching files found: HC1.wav - MC9.wav\n"
     ]
    }
   ],
   "source": [
    "# Carioca 1 original files\n",
    "files_pattern = str(EXTERNAL_DATA_DIR / \"Carioca\" / \"BASE CARIOCA 1\" / \"**\" / \"*.wav\")\n",
    "all_files = sorted(glob(files_pattern, recursive=True))\n",
    "regex_pattern = r\"^(HC|MC)\\d+\\.wav$\"  # Pattern to match filenames like HC1.wav, HC10.wav, HC15.wav\n",
    "pattern = re.compile(regex_pattern)\n",
    "\n",
    "files = [f for f in all_files if pattern.match(os.path.basename(f))]\n",
    "\n",
    "print(f\"{len(files)} matching files found: {os.path.basename(files[0])} - {os.path.basename(files[-1])}\")"
   ]
  },
  {
   "cell_type": "code",
   "execution_count": 15,
   "metadata": {},
   "outputs": [
    {
     "name": "stderr",
     "output_type": "stream",
     "text": [
      "  0%|          | 0/50 [00:00<?, ?it/s]/tmp/ipykernel_228821/2140714932.py:15: WavFileWarning: Chunk (non-data) not understood, skipping it.\n",
      "  rate, data = wavfile.read(file)\n",
      "100%|██████████| 50/50 [00:03<00:00, 13.01it/s]\n"
     ]
    }
   ],
   "source": [
    "NUM_CLIPS = 10\n",
    "CLIP_LENGTH = 10  # seconds\n",
    "\n",
    "interim_dir = INTERIM_DATA_DIR / \"Carioca1\"\n",
    "authentic_dir = interim_dir / \"authentic\"\n",
    "tampered_dir = interim_dir / \"tampered\"\n",
    "\n",
    "os.makedirs(authentic_dir, exist_ok=True)\n",
    "os.makedirs(tampered_dir, exist_ok=True)\n",
    "\n",
    "for file in tqdm(files):\n",
    "    basename = os.path.splitext(os.path.basename(file))[0]\n",
    "    new_basename = pad_number_in_filename(basename, 2)\n",
    "    rate, data = wavfile.read(file)\n",
    "    # Convert stereo to mono by averaging channels\n",
    "    if data.ndim == 2:\n",
    "        data = np.mean(data, axis=1)\n",
    "\n",
    "    # segmenting clips\n",
    "    clip_mlen = round(CLIP_LENGTH * rate)\n",
    "    clip_starts = np.linspace(0, len(data) - clip_mlen, NUM_CLIPS)\n",
    "    overlap = clip_mlen - (clip_starts[1] - clip_starts[0])\n",
    "    clip_starts[1:-1] += np.random.randint(-overlap // 2, overlap // 2, NUM_CLIPS - 2)\n",
    "    clip_starts = np.clip(clip_starts, 0, len(data) - clip_mlen).astype(int)\n",
    "\n",
    "    clips = [data[start:start + clip_mlen].copy() for start in clip_starts]\n",
    "\n",
    "    for i, clip in enumerate(tqdm(clips, leave=False)):\n",
    "        # Save authentic data\n",
    "        filename = f\"{basename}-{i:02}.wav\"\n",
    "        wavfile.write(authentic_dir / filename, rate, clip)\n",
    "\n",
    "        # Save tampered data\n",
    "        filename = f\"{basename}-{i:02}-tamp.wav\"\n",
    "        cutlen = np.random.randint(clip_mlen // 10, clip_mlen // 5)\n",
    "        start = np.random.randint(0, clip_mlen - cutlen)\n",
    "        tampered_clip = np.delete(clip, slice(start, start + cutlen))\n",
    "        wavfile.write(tampered_dir / filename, rate, tampered_clip)\n",
    "\n",
    "    "
   ]
  },
  {
   "cell_type": "code",
   "execution_count": 16,
   "metadata": {},
   "outputs": [
    {
     "name": "stdout",
     "output_type": "stream",
     "text": [
      "500\n"
     ]
    }
   ],
   "source": [
    "print(len(glob(str(authentic_dir / \"*.wav\"))))"
   ]
  }
 ],
 "metadata": {
  "kernelspec": {
   "display_name": "enfify",
   "language": "python",
   "name": "python3"
  },
  "language_info": {
   "codemirror_mode": {
    "name": "ipython",
    "version": 3
   },
   "file_extension": ".py",
   "mimetype": "text/x-python",
   "name": "python",
   "nbconvert_exporter": "python",
   "pygments_lexer": "ipython3",
   "version": "3.10.14"
  }
 },
 "nbformat": 4,
 "nbformat_minor": 2
}
